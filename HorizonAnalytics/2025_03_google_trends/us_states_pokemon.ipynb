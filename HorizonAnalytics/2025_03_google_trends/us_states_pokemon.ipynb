{
 "cells": [
  {
   "cell_type": "markdown",
   "metadata": {},
   "source": [
    "### Plotly"
   ]
  },
  {
   "cell_type": "code",
   "execution_count": 7,
   "metadata": {},
   "outputs": [],
   "source": [
    "import plotly.graph_objects as go\n",
    "import plotly.io as pio\n",
    "\n",
    "# Define the updated HorizonAnalytics template\n",
    "HorizonAnalytics = go.layout.Template(\n",
    "    layout=go.Layout(\n",
    "        paper_bgcolor='#0d1b2a',  # Background color\n",
    "        plot_bgcolor='#0d1b2a',  # Background color\n",
    "        height=800,\n",
    "        width=800 * 1.618,\n",
    "        xaxis=dict(\n",
    "            anchor='y',\n",
    "            showgrid=True,\n",
    "            gridcolor='rgba(255, 255, 255, 0.2)',  # Softer grid lines for contrast\n",
    "            tickfont=dict(\n",
    "                size=36,  # Consistent with other elements\n",
    "                family='Montserrat, sans-serif',\n",
    "                color='#ffffff',\n",
    "                weight=\"bold\"\n",
    "            ),\n",
    "            title=dict(\n",
    "                text='',\n",
    "                font=dict(\n",
    "                    size=48,  # Increase to match other elements\n",
    "                    family='Montserrat, sans-serif',\n",
    "                    color='#ffffff',\n",
    "                    weight=\"bold\"\n",
    "                )\n",
    "            ),\n",
    "            linecolor='#ffffff',  # White axis lines for contrast\n",
    "            linewidth=2\n",
    "        ),\n",
    "        yaxis=dict(\n",
    "            anchor='x',\n",
    "            showgrid=True,\n",
    "            gridcolor='rgba(255, 255, 255, 0.2)',  # Softer grid lines\n",
    "            tickfont=dict(\n",
    "                size=36,  # Consistent with x-axis\n",
    "                family='Montserrat, sans-serif',\n",
    "                color='#ffffff',\n",
    "                weight=\"bold\"\n",
    "            ),\n",
    "            title=dict(\n",
    "                text='',\n",
    "                font=dict(\n",
    "                    size=48,  # Increase to match x-axis\n",
    "                    family='Montserrat, sans-serif',\n",
    "                    color='#ffffff',\n",
    "                    weight=\"bold\"\n",
    "                )\n",
    "            ),\n",
    "            linecolor='#ffffff',  # White axis lines\n",
    "            linewidth=2\n",
    "        ),\n",
    "        font=dict(\n",
    "            color='#ffffff',  # White font for all text\n",
    "            size=36,  # Uniform font size\n",
    "            family='Montserrat, sans-serif',\n",
    "            weight=\"bold\"\n",
    "        ),\n",
    "        # Refined colorway for better visibility and differentiation\n",
    "        colorway=[\"#FFFF00\", \"#33D7FF\", \"#A463FF\", \"#FFD700\", \n",
    "                  \"#ff4081\", \"#ffc107\", \"#00c4a0\", \"#a0aec0\"],\n",
    "        title=dict(\n",
    "            text='',\n",
    "            font=dict(\n",
    "                size=64,  # **Big Boost in Title Size**\n",
    "                color='#ffffff',\n",
    "                family='Montserrat, sans-serif',\n",
    "                weight=\"bold\"\n",
    "            ),\n",
    "            x=0.5,  # Center title\n",
    "            y=0.97  # Push title higher\n",
    "        )\n",
    "    ),\n",
    "    data=dict(\n",
    "        scatter=[\n",
    "            go.Scatter(\n",
    "                line=dict(width=5)  # Increased line width for better visibility\n",
    "            )\n",
    "        ]\n",
    "    )\n",
    ")\n",
    "\n",
    "# Register the updated HorizonAnalytics template\n",
    "pio.templates['HorizonAnalytics'] = HorizonAnalytics\n",
    "pio.templates.default = 'HorizonAnalytics'"
   ]
  },
  {
   "cell_type": "markdown",
   "metadata": {},
   "source": [
    "## Search Terms"
   ]
  },
  {
   "cell_type": "code",
   "execution_count": 8,
   "metadata": {},
   "outputs": [
    {
     "data": {
      "text/plain": [
       "'d_pokemon.csv'"
      ]
     },
     "execution_count": 8,
     "metadata": {},
     "output_type": "execute_result"
    }
   ],
   "source": [
    "import pandas as pd\n",
    "\n",
    "def expand_pokemon_data(input_file=\"d_pokemon_raw.csv\", output_file=\"d_pokemon.csv\", min_year=2000, max_year=2025):\n",
    "    # Load the Pokémon data\n",
    "    df = pd.read_csv(input_file)\n",
    "    \n",
    "    # Create a list of years\n",
    "    years = list(range(min_year, max_year + 1))\n",
    "    \n",
    "    # Expand the data by duplicating it for each year\n",
    "    expanded_df = pd.concat([df.assign(year=year) for year in years], ignore_index=True)\n",
    "    \n",
    "    # Reorder columns\n",
    "    expanded_df = expanded_df[['year', 'id', 'name']]\n",
    "    \n",
    "    # Save to the output file\n",
    "    expanded_df.to_csv(output_file, index=False)\n",
    "\n",
    "    return output_file\n",
    "\n",
    "# Example usage:\n",
    "expand_pokemon_data(min_year=2024, max_year=2025)"
   ]
  },
  {
   "cell_type": "markdown",
   "metadata": {},
   "source": [
    "## Weekly Interest"
   ]
  },
  {
   "cell_type": "code",
   "execution_count": 2,
   "metadata": {},
   "outputs": [
    {
     "name": "stdout",
     "output_type": "stream",
     "text": [
      "✅ Found existing data: 301 name-year combinations already processed.\n",
      "⚠️ No data found for Nidoran♂ (2024) - Skipping.\n",
      "✅ All terms successfully processed! Check f_pokemon_weekly_interest.csv\n"
     ]
    }
   ],
   "source": [
    "import pandas as pd\n",
    "import time\n",
    "import os\n",
    "from pytrends.request import TrendReq\n",
    "\n",
    "def weekly_interest(input_file, output_file):\n",
    "    \"\"\"\n",
    "    Fetches weekly search interest from Google Trends for each 'name' in the input file.\n",
    "    \n",
    "    Args:\n",
    "    - input_file (str): Path to input CSV (must contain columns 'id', 'name', 'year').\n",
    "    - output_file (str): Path to save the processed weekly interest data.\n",
    "    \"\"\"\n",
    "    # Load processed data if it exists\n",
    "    if os.path.exists(output_file):\n",
    "        df_existing = pd.read_csv(output_file)\n",
    "\n",
    "        # Track completed name-year combinations\n",
    "        completed_terms = set(zip(df_existing[\"name\"], df_existing[\"year\"].astype(str)))\n",
    "\n",
    "        print(f\"✅ Found existing data: {len(completed_terms)} name-year combinations already processed.\")\n",
    "    else:\n",
    "        df_existing = pd.DataFrame()\n",
    "        completed_terms = set()\n",
    "\n",
    "    # Load input data\n",
    "    df_data = pd.read_csv(input_file)\n",
    "\n",
    "    # Initialize Pytrends\n",
    "    pytrends = TrendReq(hl='en-US', tz=360, retries=3)\n",
    "\n",
    "    # Prepare storage for results\n",
    "    all_trends = []\n",
    "\n",
    "    # Extract entities that still need to be processed\n",
    "    pending_entities = [\n",
    "        (row[\"id\"], row[\"name\"], str(row[\"year\"])) for _, row in df_data.iterrows()\n",
    "        if (row[\"name\"], str(row[\"year\"])) not in completed_terms  # Ensure it checks BOTH name & year\n",
    "    ]\n",
    "\n",
    "    max_retries = 3  # Maximum retries per entity\n",
    "\n",
    "    while pending_entities:\n",
    "        new_pending = []  # Reset pending terms for the next loop\n",
    "\n",
    "        for entity_id, name, year in pending_entities:\n",
    "            attempt = 0\n",
    "            success = False\n",
    "\n",
    "            while attempt < max_retries and not success:\n",
    "                try:\n",
    "                    # Build payload for a single name\n",
    "                    pytrends.build_payload([name], timeframe=f\"{year}-01-01 {year}-12-31\", geo='US')\n",
    "\n",
    "                    # Get interest over time\n",
    "                    df_trends = pytrends.interest_over_time()\n",
    "\n",
    "                    # Check if the response is empty before processing\n",
    "                    if df_trends.empty:\n",
    "                        print(f\"⚠️ No data found for {name} ({year}) - Skipping.\")\n",
    "                        success = True  # Mark as success so it doesn't keep retrying\n",
    "                        continue  # Skip to next entity\n",
    "\n",
    "                    # Remove 'isPartial' column if present\n",
    "                    if 'isPartial' in df_trends.columns:\n",
    "                        df_trends = df_trends.drop(columns=['isPartial'])\n",
    "\n",
    "                    # Convert data to long format (Tidy Data)\n",
    "                    df_trends = df_trends.reset_index().melt(id_vars=[\"date\"], var_name=\"name\", value_name=\"interest\")\n",
    "\n",
    "                    # Add metadata columns\n",
    "                    df_trends[\"year\"] = year\n",
    "                    df_trends[\"id\"] = entity_id  # Include entity ID\n",
    "\n",
    "                    # Append results\n",
    "                    all_trends.append(df_trends)\n",
    "\n",
    "                    print(f\"✅ Extracted: {name} ({year})\")\n",
    "                    success = True  # Mark as success\n",
    "\n",
    "                    # Merge with existing data\n",
    "                    final_df = pd.concat(all_trends + [df_existing], ignore_index=True)\n",
    "\n",
    "                    # ✅ Fix FutureWarning: Explicitly convert types before filling missing values\n",
    "                    final_df = final_df.astype({\n",
    "                        \"year\": \"int64\",\n",
    "                        \"id\": \"int64\",\n",
    "                        \"name\": \"string\",\n",
    "                        \"interest\": \"float64\"\n",
    "                    }).infer_objects(copy=False)\n",
    "\n",
    "                    # ✅ Fix FutureWarning: Replace .fillna(False) with correct type-based handling\n",
    "                    final_df = final_df.fillna(value={\"interest\": 0.0}, downcast=None)\n",
    "\n",
    "                    # Save progress\n",
    "                    final_df.to_csv(output_file, index=False)\n",
    "\n",
    "                except Exception as e:\n",
    "                    attempt += 1\n",
    "                    print(f\"❌ Attempt {attempt}/{max_retries} failed for {name} ({year}): {e}\")\n",
    "                    time.sleep(5 * attempt)  # Exponential backoff (5s, 10s, 15s)\n",
    "\n",
    "            if not success:  # If all retries failed, add to new_pending list for retrying\n",
    "                new_pending.append((entity_id, name, year))\n",
    "\n",
    "        # Update pending_entities for the next loop (only failed ones)\n",
    "        pending_entities = new_pending\n",
    "\n",
    "        if pending_entities:\n",
    "            print(f\"🔄 Retrying {len(pending_entities)} failed terms...\")\n",
    "\n",
    "    print(f\"✅ All terms successfully processed! Check {output_file}\")\n",
    "\n",
    "# Example usage:\n",
    "weekly_interest(\"d_pokemon.csv\", \"f_pokemon_weekly_interest.csv\")"
   ]
  },
  {
   "cell_type": "code",
   "execution_count": 12,
   "metadata": {},
   "outputs": [
    {
     "name": "stdout",
     "output_type": "stream",
     "text": [
      "✅ Data successfully reordered and saved to f_pokemon_weekly_interest.csv\n"
     ]
    }
   ],
   "source": [
    "import pandas as pd\n",
    "\n",
    "def reorder_weekly_interest(file_path, sort_by=[\"id\", \"year\"]):\n",
    "    \"\"\"\n",
    "    Reorders a weekly interest dataset by sorting it and ensuring correct column order.\n",
    "\n",
    "    Args:\n",
    "    - file_path (str): Path to the input CSV file.\n",
    "    - sort_by (list): Columns to sort by (default: [\"id\", \"year\"]).\n",
    "\n",
    "    Returns:\n",
    "    - Saves the reordered dataset back to the same file.\n",
    "    \"\"\"\n",
    "    # Load the data\n",
    "    df = pd.read_csv(file_path)\n",
    "\n",
    "    # Define the correct column order\n",
    "    required_columns = [\"year\", \"date\", \"id\", \"name\", \"interest\"]\n",
    "\n",
    "    # Check if required columns exist\n",
    "    missing_columns = set(required_columns) - set(df.columns)\n",
    "    if missing_columns:\n",
    "        raise ValueError(f\"❌ Missing required columns: {missing_columns}\")\n",
    "\n",
    "    # Reorder columns\n",
    "    df = df[required_columns]\n",
    "\n",
    "    # Convert 'year' and 'id' to integers for proper sorting\n",
    "    df[\"year\"] = df[\"year\"].astype(int)\n",
    "    df[\"id\"] = df[\"id\"].astype(int)\n",
    "\n",
    "    # Sort by the specified columns\n",
    "    df = df.sort_values(by=sort_by)\n",
    "\n",
    "    # Overwrite the file with sorted data\n",
    "    df.to_csv(file_path, index=False)\n",
    "\n",
    "    print(f\"✅ Data successfully reordered and saved to {file_path}\")\n",
    "\n",
    "# Example usage:\n",
    "reorder_weekly_interest(\"f_pokemon_weekly_interest.csv\", sort_by=[\"year\", \"id\"])\n",
    "# reorder_weekly_interest(\"some_other_dataset.csv\", sort_by=[\"name\", \"year\"])"
   ]
  },
  {
   "cell_type": "markdown",
   "metadata": {},
   "source": [
    "## State interest"
   ]
  },
  {
   "cell_type": "code",
   "execution_count": 13,
   "metadata": {},
   "outputs": [],
   "source": [
    "from pytrends.request import TrendReq\n",
    "import pandas as pd\n",
    "import time\n",
    "import os\n",
    "\n",
    "def state_interest(input_file, output_file):\n",
    "    \"\"\"\n",
    "    Fetches state-level search interest from Google Trends for each name-year in the input file.\n",
    "\n",
    "    Args:\n",
    "    - input_file (str): Path to CSV with columns 'name' and 'year'.\n",
    "    - output_file (str): Path to output CSV with columns 'name', 'year', 'state', 'search_interest'.\n",
    "    \"\"\"\n",
    "    # Load processed data if it exists\n",
    "    if os.path.exists(output_file):\n",
    "        df_existing = pd.read_csv(output_file)\n",
    "        completed_terms = set(zip(df_existing[\"name\"], df_existing[\"year\"].astype(str)))\n",
    "        print(f\"✅ Found existing data: {len(completed_terms)} name-year combinations already processed.\")\n",
    "    else:\n",
    "        df_existing = pd.DataFrame(columns=[\"name\", \"year\", \"state\", \"search_interest\"])\n",
    "        completed_terms = set()\n",
    "\n",
    "    # Load input dataset\n",
    "    df_terms = pd.read_csv(input_file)\n",
    "\n",
    "    # Initialize Pytrends\n",
    "    pytrends = TrendReq(hl='en-US', tz=360, retries=3)\n",
    "\n",
    "    # Filter out already processed terms\n",
    "    pending_terms = [\n",
    "        (row[\"name\"], str(row[\"year\"])) for _, row in df_terms.iterrows()\n",
    "        if (row[\"name\"], str(row[\"year\"])) not in completed_terms\n",
    "    ]\n",
    "\n",
    "    max_retries = 3\n",
    "\n",
    "    while pending_terms:\n",
    "        new_pending_terms = []\n",
    "\n",
    "        for name, year in pending_terms:\n",
    "            attempt = 0\n",
    "            success = False\n",
    "\n",
    "            while attempt < max_retries and not success:\n",
    "                try:\n",
    "                    # Build payload for the current name and year\n",
    "                    pytrends.build_payload([name], timeframe=f\"{year}-01-01 {year}-12-31\", geo='US')\n",
    "\n",
    "                    # Extract state-level search interest\n",
    "                    df_states = pytrends.interest_by_region(resolution='REGION')\n",
    "\n",
    "                    if df_states.empty:\n",
    "                        print(f\"⚠️ No state-level data found for {name} ({year}) - Skipping.\")\n",
    "                        success = True\n",
    "                        continue\n",
    "\n",
    "                    # Prepare dataframe\n",
    "                    df_states.reset_index(inplace=True)\n",
    "                    df_states.rename(columns={\"geoName\": \"state\"}, inplace=True)\n",
    "                    df_states = df_states[[\"state\", name]]\n",
    "                    df_states.rename(columns={name: \"search_interest\"}, inplace=True)\n",
    "                    df_states[\"name\"] = name\n",
    "                    df_states[\"year\"] = year\n",
    "                    df_states = df_states[[\"name\", \"year\", \"state\", \"search_interest\"]]\n",
    "\n",
    "                    # Append to output file\n",
    "                    df_states.to_csv(output_file, mode='a', header=not os.path.exists(output_file), index=False)\n",
    "\n",
    "                    print(f\"✅ Extracted state-level data for: {name} ({year})\")\n",
    "                    success = True\n",
    "\n",
    "                except Exception as e:\n",
    "                    attempt += 1\n",
    "                    print(f\"❌ Attempt {attempt}/{max_retries} failed for {name} ({year}): {e}\")\n",
    "                    time.sleep(5 * attempt)\n",
    "\n",
    "            if not success:\n",
    "                new_pending_terms.append((name, year))\n",
    "\n",
    "        pending_terms = new_pending_terms\n",
    "\n",
    "        if pending_terms:\n",
    "            print(f\"🔄 Retrying {len(pending_terms)} failed terms...\")\n",
    "\n",
    "    print(f\"✅ All state-level data successfully processed! Check {output_file}\")\n",
    "\n",
    "# Example usage:\n",
    "# state_interest(\"d_pokemon.csv\", \"d_pokemon_state_interest.csv\")"
   ]
  },
  {
   "cell_type": "markdown",
   "metadata": {},
   "source": [
    "## rbt_pokemon"
   ]
  },
  {
   "cell_type": "code",
   "execution_count": 168,
   "metadata": {},
   "outputs": [
    {
     "name": "stdout",
     "output_type": "stream",
     "text": [
      "✅ Reporting table saved to rbt_pokemon.csv\n"
     ]
    }
   ],
   "source": [
    "import pandas as pd\n",
    "from IPython.display import display, HTML\n",
    "import us  # For state name-to-code conversion\n",
    "\n",
    "def create_reporting_table(\n",
    "    weekly_file,         # e.g., 'f_pokemon_weekly_interest.csv'\n",
    "    state_file,          # e.g., 'd_pokemon_state_interest.csv'\n",
    "    colour_file,         # e.g., 'd_pokemon_colour.csv'\n",
    "    output_file,         # e.g., 'rbt_pokemon.csv'\n",
    "    join_on=\"name\",      # e.g., 'name' (can be 'search_term' or 'topic')\n",
    "    show_table=True      # Whether to display output in notebook\n",
    "):\n",
    "    \"\"\"\n",
    "    Generates a reporting table showing the top item (e.g., Pokémon) for each US state per week, \n",
    "    including the Pokémon's color.\n",
    "\n",
    "    Args:\n",
    "    - weekly_file (str): Path to CSV with weekly interest data (must have 'date', 'year', 'interest').\n",
    "    - state_file (str): Path to CSV with state-level interest data (must have 'state', 'year', and the join column).\n",
    "    - colour_file (str): Path to CSV with Pokémon colors (must have 'name' and 'hex_code').\n",
    "    - output_file (str): Output path for the resulting reporting table.\n",
    "    - join_on (str): Column to join on (e.g., 'name' or 'search_term').\n",
    "    - show_table (bool): Whether to display the result as a scrollable table (for notebooks).\n",
    "    \"\"\"\n",
    "\n",
    "    # Load input files\n",
    "    df_weekly = pd.read_csv(weekly_file, parse_dates=[\"date\"])\n",
    "    df_state = pd.read_csv(state_file)\n",
    "    df_colour = pd.read_csv(colour_file)  # Load color dataset\n",
    "\n",
    "    # Convert state names to state codes\n",
    "    def get_state_code(state_name):\n",
    "        if state_name == \"District of Columbia\":\n",
    "            return \"DC\"\n",
    "        state = us.states.lookup(state_name)\n",
    "        return state.abbr if state else None\n",
    "\n",
    "    df_state[\"state_code\"] = df_state[\"state\"].map(get_state_code)\n",
    "    df_state = df_state.dropna(subset=[\"state_code\"])\n",
    "\n",
    "    # Merge on join_on column and year\n",
    "    merged_df = df_weekly.merge(df_state, on=[join_on, \"year\"], how=\"inner\")\n",
    "\n",
    "    # Compute weighted interest\n",
    "    merged_df[\"weighted_interest\"] = merged_df[\"interest\"] * merged_df[\"search_interest\"]\n",
    "\n",
    "    # Identify the top item per state and week\n",
    "    result = merged_df.loc[\n",
    "        merged_df.groupby([\"date\", \"year\", \"state_code\"])[\"weighted_interest\"].idxmax(),\n",
    "        [\"date\", \"year\", \"state_code\", join_on]\n",
    "    ]\n",
    "\n",
    "    # Rename columns\n",
    "    result.rename(columns={join_on: \"top_item\", \"state_code\": \"state\"}, inplace=True)\n",
    "\n",
    "    # Merge with color data\n",
    "    result = result.merge(df_colour, left_on=\"top_item\", right_on=\"name\", how=\"left\")\n",
    "\n",
    "    # Drop redundant 'name' column (since 'top_item' is already present)\n",
    "    result.drop(columns=[\"name\"], inplace=True)\n",
    "\n",
    "    # Save to CSV\n",
    "    result.to_csv(output_file, index=False)\n",
    "    print(f\"✅ Reporting table saved to {output_file}\")\n",
    "\n",
    "    # Display in notebook\n",
    "    if show_table:\n",
    "        def display_scrollable_dataframe(df):\n",
    "            html = df.to_html(classes='scrollable', escape=False)\n",
    "            style = \"\"\"\n",
    "            <style>\n",
    "                .scrollable {\n",
    "                    display: block;\n",
    "                    overflow-x: auto;\n",
    "                    white-space: nowrap;\n",
    "                    max-height: 400px;\n",
    "                    overflow-y: auto;\n",
    "                }\n",
    "            </style>\n",
    "            \"\"\"\n",
    "            display(HTML(style + html))\n",
    "\n",
    "        display_scrollable_dataframe(result)\n",
    "\n",
    "# Example usage:\n",
    "create_reporting_table(\n",
    "    weekly_file=\"f_pokemon_weekly_interest.csv\",\n",
    "    state_file=\"d_pokemon_state_interest.csv\",\n",
    "    colour_file=\"d_pokemon_colour.csv\",\n",
    "    output_file=\"rbt_pokemon.csv\",\n",
    "    join_on=\"name\",\n",
    "    show_table=False\n",
    ")"
   ]
  },
  {
   "cell_type": "markdown",
   "metadata": {},
   "source": [
    "## Visualisation"
   ]
  },
  {
   "cell_type": "markdown",
   "metadata": {},
   "source": [
    "### Pictures"
   ]
  },
  {
   "cell_type": "code",
   "execution_count": 14,
   "metadata": {},
   "outputs": [
    {
     "name": "stdout",
     "output_type": "stream",
     "text": [
      "Downloaded: Mewtwo (ID: 150)\n",
      "Downloaded: Mew (ID: 151)\n",
      "Download completed!\n"
     ]
    }
   ],
   "source": [
    "import os\n",
    "import requests\n",
    "\n",
    "# Define the target directory\n",
    "base_dir = \"/Users/arya/Documents/Adobe/Premiere Pro/Horizon Analytics/2025-03_pokemon\"\n",
    "save_dir = os.path.join(base_dir, \"pokemon_pictures\")\n",
    "\n",
    "# Ensure the folder exists\n",
    "os.makedirs(save_dir, exist_ok=True)\n",
    "\n",
    "# Base URL for fetching Pokémon data\n",
    "pokeapi_url = \"https://pokeapi.co/api/v2/pokemon/\"\n",
    "\n",
    "# Download the first 150 Pokémon images\n",
    "for pokemon_id in range(1, 152):  # Pokémon 1 to 151\n",
    "    try:\n",
    "        # Fetch Pokémon data\n",
    "        response = requests.get(f\"{pokeapi_url}{pokemon_id}/\")\n",
    "        response.raise_for_status()\n",
    "        data = response.json()\n",
    "\n",
    "        # Get Pokémon name and image URL\n",
    "        pokemon_name = data[\"name\"].capitalize()  # Capitalize first letter\n",
    "        image_url = data[\"sprites\"][\"other\"][\"official-artwork\"][\"front_default\"]\n",
    "\n",
    "        if image_url:\n",
    "            # Download the image\n",
    "            img_response = requests.get(image_url)\n",
    "            img_response.raise_for_status()\n",
    "\n",
    "            # Save image as {id}.png\n",
    "            file_path = os.path.join(save_dir, f\"{pokemon_id}.png\")\n",
    "            with open(file_path, \"wb\") as file:\n",
    "                file.write(img_response.content)\n",
    "\n",
    "            print(f\"Downloaded: {pokemon_name} (ID: {pokemon_id})\")\n",
    "\n",
    "    except Exception as e:\n",
    "        print(f\"Failed to download ID {pokemon_id}: {e}\")\n",
    "\n",
    "print(\"Download completed!\")"
   ]
  },
  {
   "cell_type": "markdown",
   "metadata": {},
   "source": [
    "## Frames"
   ]
  },
  {
   "cell_type": "code",
   "execution_count": 175,
   "metadata": {},
   "outputs": [],
   "source": [
    "offset_states = {\n",
    "        \"TX\": (-1.25, 0), \"NM\": (0.2, -0.9), \"OK\": (-0.2, -0.6), \"NV\": (0.4, 0.9),\n",
    "        \"UT\": (0.2, -1.2), \"CO\": (0, -0.5), \"KS\": (-1.7, -0.5), \"MO\": (-0.2, -0.3),\n",
    "        \"TN\": (0, -0.4), \"MS\": (0, -0.3), \"ML\": (0, -0.3), \"GA\": (0, -0.3),\n",
    "        \"LA\": (-0.7, 0), \"SC\": (0, -0.3), \"NC\": (0.5, -0.5), \"VA\": (0, -1.2),\n",
    "        \"KY\": (0, -0.5), \"OR\": (1.5, -1.2), \"WA\": (1.2, -0.8), \"ID\": (0, -1), \n",
    "        \"MT\": (0.8, -0.4), \"ND\": (-0.5, -0.5), \"SD\": (-0.7, -0.4), \"NE\": (-1.6, 0),\n",
    "        \"AR\": (0, -0.5), \"IA\": (-0.3, -0.3), \"MN\": (-0.5, 0), \"WI\": (-0.5, 0),\n",
    "        \"IN\": (0, -0.5), \"IL\": (-0.3, 0), \"WV\": (0, -0.5), \"OH\": (0, -0.5),\n",
    "        \"PA\": (-0.7, -0.2), \"MI\": (0, -0.3), \"NY\": (-0.5, 0.3), \"AK\": (0.3, 1.8),\n",
    "        \"HI\": (0, -0.5)\n",
    "    }"
   ]
  },
  {
   "cell_type": "code",
   "execution_count": 214,
   "metadata": {},
   "outputs": [],
   "source": [
    "import pandas as pd\n",
    "import plotly.graph_objects as go\n",
    "\n",
    "# External dictionary: offsets for better label placement\n",
    "offset_states = {\n",
    "    \"TX\": (-1.25, 0), \"NM\": (0.2, -0.9), \"OK\": (-0.2, -0.6), \"NV\": (0.4, 0.9),\n",
    "    \"UT\": (0.2, -1.2), \"CO\": (0, -0.5), \"KS\": (-1.7, -0.5), \"MO\": (-0.2, -0.3),\n",
    "    \"TN\": (0, -0.4), \"MS\": (0, -0.3), \"ML\": (0, -0.3), \"GA\": (0, -0.3),\n",
    "    \"LA\": (-0.7, 0), \"SC\": (0, -0.3), \"NC\": (0.5, -0.5), \"VA\": (0, -0.8),\n",
    "    \"KY\": (0, -0.5), \"OR\": (1.5, -1.2), \"WA\": (1.2, -0.8), \"ID\": (0, -1), \n",
    "    \"MT\": (0.8, -0.4), \"ND\": (-0.5, -0.5), \"SD\": (-0.7, -0.4), \"NE\": (-1.6, 0),\n",
    "    \"AR\": (0, -0.5), \"IA\": (-0.3, -0.3), \"MN\": (-0.5, 0), \"WI\": (-0.5, 0),\n",
    "    \"IN\": (0, -0.5), \"IL\": (-0.3, 0), \"WV\": (0, -0.5), \"OH\": (0, -0.5),\n",
    "    \"PA\": (-0.7, -0.2), \"MI\": (0, -0.3), \"NY\": (-0.5, 0.3), \"AK\": (0.3, 1.8),\n",
    "    \"HI\": (0, -0.5)\n",
    "}\n",
    "\n",
    "def plot_weekly_choropleth(\n",
    "    reporting_file=\"rbt_pokemon.csv\",\n",
    "    date_str=\"2023-12-31\",\n",
    "    width=1000,\n",
    "    height=600,\n",
    "    font_size=10,\n",
    "    font_family='Arial'\n",
    "):\n",
    "    \"\"\"\n",
    "    Plots a choropleth map of the U.S. showing the top Pokémon per state for a given week,\n",
    "    with transparent background and white-outlined labels.\n",
    "    \"\"\"\n",
    "\n",
    "    # Load weekly Pokémon data\n",
    "    df = pd.read_csv(reporting_file, parse_dates=[\"date\"])\n",
    "    df_week = df[df[\"date\"] == pd.to_datetime(date_str)]\n",
    "\n",
    "    if df_week.empty:\n",
    "        print(f\"❌ No data found for {date_str}\")\n",
    "        return\n",
    "\n",
    "    # Load lat/lon\n",
    "    lat_longs = pd.read_csv(\"lat_longs.csv\")\n",
    "    df_plot = df_week.merge(lat_longs, on=\"state\", how=\"left\")\n",
    "\n",
    "    # Exclude small states from label text\n",
    "    exclude_text_states = {\"CT\", \"RI\", \"DE\", \"MD\", \"DC\", \"MA\", \"NJ\", \"NH\", \"VT\"}\n",
    "    df_labels = df_plot[~df_plot[\"state\"].isin(exclude_text_states)].copy()\n",
    "\n",
    "    # Apply manual label offsets\n",
    "    df_labels[\"lon\"] += df_labels[\"state\"].map(lambda x: offset_states.get(x, (0, 0))[0])\n",
    "    df_labels[\"lat\"] += df_labels[\"state\"].map(lambda x: offset_states.get(x, (0, 0))[1])\n",
    "\n",
    "    # Assign numeric values to Pokémon\n",
    "    unique_pokemon = df_plot[\"top_item\"].unique()\n",
    "    pokemon_mapping = {pokemon: idx for idx, pokemon in enumerate(unique_pokemon)}\n",
    "    df_plot[\"color_value\"] = df_plot[\"top_item\"].map(pokemon_mapping)\n",
    "\n",
    "    # Build colorscale from hex codes\n",
    "    hex_codes = df_plot.drop_duplicates(\"top_item\")[[\"top_item\", \"hex_code\"]]\n",
    "    hex_codes = hex_codes.set_index(\"top_item\").loc[unique_pokemon]\n",
    "    colorscale = [\n",
    "        [i / (len(unique_pokemon) - 1), hex_code]\n",
    "        for i, hex_code in enumerate(hex_codes[\"hex_code\"])\n",
    "    ]\n",
    "\n",
    "    # Base choropleth layer\n",
    "    choropleth = go.Choropleth(\n",
    "        locations=df_plot[\"state\"],\n",
    "        locationmode=\"USA-states\",\n",
    "        z=df_plot[\"color_value\"],\n",
    "        colorscale=colorscale,\n",
    "        showscale=False,\n",
    "        marker_line_color=\"white\"\n",
    "    )\n",
    "\n",
    "    # Outline text helper\n",
    "    def create_text_outline_traces(df, font_size, font_family, offset=0.03):\n",
    "        outlines = []\n",
    "        directions = [(-offset, 0), (offset, 0), (0, -offset), (0, offset)]\n",
    "        for dx, dy in directions:\n",
    "            outlines.append(go.Scattergeo(\n",
    "                locationmode=\"USA-states\",\n",
    "                lon=df[\"lon\"] + dx,\n",
    "                lat=df[\"lat\"] + dy,\n",
    "                text=df[\"top_item\"],\n",
    "                mode=\"text\",\n",
    "                textposition=\"top center\",\n",
    "                textfont=dict(size=font_size, color=\"white\", family=font_family),\n",
    "                showlegend=False,\n",
    "                hoverinfo=\"skip\"\n",
    "            ))\n",
    "        return outlines\n",
    "\n",
    "    # Main label layer\n",
    "    main_text = go.Scattergeo(\n",
    "        locationmode=\"USA-states\",\n",
    "        lon=df_labels[\"lon\"],\n",
    "        lat=df_labels[\"lat\"],\n",
    "        text=df_labels[\"top_item\"],\n",
    "        mode=\"text\",\n",
    "        textposition=\"top center\",\n",
    "        textfont=dict(size=font_size, color=\"black\", family=font_family),\n",
    "        showlegend=False\n",
    "    )\n",
    "\n",
    "    # Combine and render\n",
    "    fig = go.Figure(data=[choropleth] + create_text_outline_traces(df_labels, font_size, font_family) + [main_text])\n",
    "\n",
    "    fig.update_layout(\n",
    "        title=None,\n",
    "        geo=dict(\n",
    "            scope=\"usa\",\n",
    "            showlakes=False,  # Hides the Great Lakes\n",
    "            lakecolor=\"rgba(0,0,0,0)\",  # Ensures transparency if lakes show\n",
    "            showcoastlines=False,  # Removes unwanted coastlines\n",
    "            bgcolor=\"rgba(0,0,0,0)\"  # Ensures the whole map is transparent)\n",
    "        ),\n",
    "        paper_bgcolor='rgba(0,0,0,0)',\n",
    "        plot_bgcolor='rgba(0,0,0,0)',\n",
    "        width=width,\n",
    "        height=height,\n",
    "        margin=dict(l=20, r=20, t=20, b=20)\n",
    "    )\n",
    "\n",
    "    fig.show()"
   ]
  },
  {
   "cell_type": "code",
   "execution_count": 215,
   "metadata": {},
   "outputs": [
    {
     "data": {
      "application/vnd.plotly.v1+json": {
       "config": {
        "plotlyServerURL": "https://plot.ly"
       },
       "data": [
        {
         "colorscale": [
          [
           0,
           "#F8D030"
          ],
          [
           0.09090909090909091,
           "#F8A8B8"
          ],
          [
           0.18181818181818182,
           "#B8A038"
          ],
          [
           0.2727272727272727,
           "#B8B8D0"
          ],
          [
           0.36363636363636365,
           "#A89078"
          ],
          [
           0.45454545454545453,
           "#A89078"
          ],
          [
           0.5454545454545454,
           "#A89078"
          ],
          [
           0.6363636363636364,
           "#78C850"
          ],
          [
           0.7272727272727273,
           "#B8A038"
          ],
          [
           0.8181818181818182,
           "#F8D030"
          ],
          [
           0.9090909090909091,
           "#B8A038"
          ],
          [
           1,
           "#F8A8B8"
          ]
         ],
         "locationmode": "USA-states",
         "locations": [
          "AK",
          "AL",
          "AR",
          "AZ",
          "CA",
          "CO",
          "CT",
          "DC",
          "DE",
          "FL",
          "GA",
          "HI",
          "IA",
          "ID",
          "IL",
          "IN",
          "KS",
          "KY",
          "LA",
          "MA",
          "MD",
          "ME",
          "MI",
          "MN",
          "MO",
          "MS",
          "MT",
          "NC",
          "ND",
          "NE",
          "NH",
          "NJ",
          "NM",
          "NV",
          "NY",
          "OH",
          "OK",
          "OR",
          "PA",
          "RI",
          "SC",
          "SD",
          "TN",
          "TX",
          "UT",
          "VA",
          "VT",
          "WA",
          "WI",
          "WV",
          "WY"
         ],
         "marker": {
          "line": {
           "color": "white"
          }
         },
         "showscale": false,
         "type": "choropleth",
         "z": {
          "bdata": "AAECAwQDAwUGAwcFBQUFBQEBAQUIBQMFAwEDAwAFAAMJBQMDCgUFBQMFAwkFBQMFBQsJ",
          "dtype": "i1"
         }
        },
        {
         "hoverinfo": "skip",
         "lat": {
          "bdata": "tHOaBdqVT0DZ0M3+QGdAQHNmu0IfPEFAGHsvvmjdQEA6WWq93w5CQHV4COOnR0NAkZxM3CrEO0Dr5XeazF5AQJRsdTklmDRADmq/tRPbRECyg0pcx55FQNwtyQG7LERAoS+9/bmsQ0BsCfmgZwNDQCGTjJyFlUJA6SrdXWcrP0AjFFtB01hGQBO+9zdog0VAx0lh3uPYRkC2MuGX+hNDQGI0K9uHOEBAf/s6cM5CR0AoKbAAppBBQCE7b2Ozg0dAI/PIHwyQREDgMqfLYvhAQEwao3VUm0NAzXLZ6Jw7RUDRHi+kw/FDQEW6n1OQe0FAbTZWYp6vRUBdbFopBDJEQLizrzxIx0BAxsN7DizzRUDfiVkvhqxBQKIOK9zyDT9ApRMJppp5Q0DB5hw8E3xCQO4MU1vqTEdA7Uj1nV8iRkDyeFp+4P5CQKhxb37DYEVA",
          "dtype": "f8"
         },
         "locationmode": "USA-states",
         "lon": {
          "bdata": "wB4TKU0EY8Dt8NdkjbRVwP1QacTMGVfAns4VpYTdW8CzQLtDiu1dwDoi36XUVVrAC9XNxd9tVMBtcvikE+tUwIkI/yLosGPA0Chd+pdiV8CA0lCjkKBcwI4Dr5Y7VFbAAYqRJXOSVcA9RQ4RN51YwJGA0eXNLFXAqRjnb0ImV8C5VRADXVpRwHfbheY6JFXADsAGRIibV8DA0vnwLCFXwJazd0ZbbVbA2XqGcMxrW8AysI7jh9VTwE2jycUYFFnAFcjsLHr5WMDH1F3ZBYVawNbh6CrdK13AfbQ4Y5jeUsBkBirj37JUwNJxNbIrSljAHTuoxHUmXsAp0CfyJHxTwMCXwoNmPlTAi6n0E84KWcB324XmOq5VwOWc2EP7tVjA3Ciy1lDsW8DHD5VGzIxTwBwkRPmCFF7AjSYXY2CJVsDbp+MxAz9UwNAPI4RH1VrA",
          "dtype": "f8"
         },
         "mode": "text",
         "showlegend": false,
         "text": [
          "Electabuzz",
          "Ditto",
          "Rhyhorn",
          "Seel",
          "Persian",
          "Seel",
          "Seel",
          "Tangela",
          "Primeape",
          "Primeape",
          "Primeape",
          "Primeape",
          "Primeape",
          "Ditto",
          "Ditto",
          "Ditto",
          "Primeape",
          "Seel",
          "Primeape",
          "Seel",
          "Ditto",
          "Seel",
          "Seel",
          "Electabuzz",
          "Primeape",
          "Electrode",
          "Primeape",
          "Seel",
          "Seel",
          "Rhydon",
          "Primeape",
          "Primeape",
          "Seel",
          "Primeape",
          "Seel",
          "Electrode",
          "Primeape",
          "Primeape",
          "Primeape",
          "Primeape",
          "Mr. Mime",
          "Electrode"
         ],
         "textfont": {
          "color": "white",
          "family": "Impact",
          "size": 26
         },
         "textposition": "top center",
         "type": "scattergeo"
        },
        {
         "hoverinfo": "skip",
         "lat": {
          "bdata": "tHOaBdqVT0DZ0M3+QGdAQHNmu0IfPEFAGHsvvmjdQEA6WWq93w5CQHV4COOnR0NAkZxM3CrEO0Dr5XeazF5AQJRsdTklmDRADmq/tRPbRECyg0pcx55FQNwtyQG7LERAoS+9/bmsQ0BsCfmgZwNDQCGTjJyFlUJA6SrdXWcrP0AjFFtB01hGQBO+9zdog0VAx0lh3uPYRkC2MuGX+hNDQGI0K9uHOEBAf/s6cM5CR0AoKbAAppBBQCE7b2Ozg0dAI/PIHwyQREDgMqfLYvhAQEwao3VUm0NAzXLZ6Jw7RUDRHi+kw/FDQEW6n1OQe0FAbTZWYp6vRUBdbFopBDJEQLizrzxIx0BAxsN7DizzRUDfiVkvhqxBQKIOK9zyDT9ApRMJppp5Q0DB5hw8E3xCQO4MU1vqTEdA7Uj1nV8iRkDyeFp+4P5CQKhxb37DYEVA",
          "dtype": "f8"
         },
         "locationmode": "USA-states",
         "lon": {
          "bdata": "bmb0o2ECY8BJgJpatrBVwFngK7r1FVfA+l3Ymq3ZW8AP0H05s+ldwJaxoZv9UVrAZ2SQuwhqVMDJAbuaPOdUwDdQ4J38rmPALLgf8MBeV8DcYROZuZxcwOqScYxkUFbAXRlUG5yOVcCZ1NAGYJlYwO0PlNv2KFXABaipZWsiV8AV5dL4hVZRwNNqSNxjIFXAak/JObGXV8AcYrzmVR1XwPJCOjyEaVbANQpJZvVnW8COP1HZsNFTwKkyjLtBEFnAcVevIqP1WMAjZCDPLoFawDJxqyAGKF3A2UP7WMHaUsDAlezYCK9UwC4B+KdURljAecpqup4iXsCFX+rnTXhTwBwnhXmPOlTA5zi3CfcGWcDTakjcY6pVwEEsmzkksljAOLh0zHnoW8Ajn1c89YhTwHizBu+rEF7A6bXZWImFVsA3N6YnLDtUwCyf5Xlw0VrA",
          "dtype": "f8"
         },
         "mode": "text",
         "showlegend": false,
         "text": [
          "Electabuzz",
          "Ditto",
          "Rhyhorn",
          "Seel",
          "Persian",
          "Seel",
          "Seel",
          "Tangela",
          "Primeape",
          "Primeape",
          "Primeape",
          "Primeape",
          "Primeape",
          "Ditto",
          "Ditto",
          "Ditto",
          "Primeape",
          "Seel",
          "Primeape",
          "Seel",
          "Ditto",
          "Seel",
          "Seel",
          "Electabuzz",
          "Primeape",
          "Electrode",
          "Primeape",
          "Seel",
          "Seel",
          "Rhydon",
          "Primeape",
          "Primeape",
          "Seel",
          "Primeape",
          "Seel",
          "Electrode",
          "Primeape",
          "Primeape",
          "Primeape",
          "Primeape",
          "Mr. Mime",
          "Electrode"
         ],
         "textfont": {
          "color": "white",
          "family": "Impact",
          "size": 26
         },
         "textposition": "top center",
         "type": "scattergeo"
        },
        {
         "hoverinfo": "skip",
         "lat": {
          "bdata": "EANd+wKST0A1YJD0aWNAQM/1fThIOEFAdArys5HZQECW6CyzCAtCQNEHy9jQQ0NASbvRx3y8O0BHdTqQ9VpAQEyL+iR3kDRAavmBqzzXREAOEw1S8JpFQDi9i/fjKERA/b5/8+KoQ0DImLuWkP9CQH0iT5KukUJAoUliSbkjP0B/ox03/FRGQG9Nui2Rf0VAI9kj1AzVRkASwqONIxBDQL7D7dCwNEBA24r9Zfc+R0CEuHL2zoxBQH3KMVncf0dAf4KLFTWMREA8wmnBi/RAQKipZWt9l0NAKQKc3sU3RUAtrvGZ7O1DQKFJYkm5d0FAycUYWMerRUC5+xwfLS5EQBRDcjJxw0BAIlM+BFXvRUA7GRwlr6hBQFotsMdEBj9AAaPLm8N1Q0Addt8xPHhCQEqcFVETSUdASdi3k4geRkBOCB10CftCQAQBMnTsXEVA",
          "dtype": "f8"
         },
         "locationmode": "USA-states",
         "lon": {
          "bdata": "l8KDZlcDY8CbOLnfobJVwKuYSj/hF1fATBb3H5nbW8BhiJy+nutdwOhpwCDpU1rAuRyvQPRrVMAbutkfKOlUwGCsb2Dyr2PAfnA+daxgV8AuGjIepZ5cwDxLkBFQUlbAr9FyoIeQVcDrjO+LS5tYwD/IsmDiKlXAV2DI6lYkV8BnnfF9cVhRwCUjZ2FPIlXAvAfovpyZV8BuGttrQR9XwET7WMFva1bAh8Jn6+BpW8Dg929enNNTwPvqqkAtElnAww/Op473WMB1HD9UGoNawIQpyqXxKV3AK/wZ3qzcUsASTgte9LBUwIC5Fi1ASFjAy4KJP4okXsDXFwltOXpTwG7fo/56PFTAOfHVjuIIWcAlI2dhT6xVwJPkub4PtFjAinCTUWXqW8B1V3bB4IpTwMprJXSXEl7AO2743XSHVsCJ78SsFz1UwH5XBP9b01rA",
          "dtype": "f8"
         },
         "mode": "text",
         "showlegend": false,
         "text": [
          "Electabuzz",
          "Ditto",
          "Rhyhorn",
          "Seel",
          "Persian",
          "Seel",
          "Seel",
          "Tangela",
          "Primeape",
          "Primeape",
          "Primeape",
          "Primeape",
          "Primeape",
          "Ditto",
          "Ditto",
          "Ditto",
          "Primeape",
          "Seel",
          "Primeape",
          "Seel",
          "Ditto",
          "Seel",
          "Seel",
          "Electabuzz",
          "Primeape",
          "Electrode",
          "Primeape",
          "Seel",
          "Seel",
          "Rhydon",
          "Primeape",
          "Primeape",
          "Seel",
          "Primeape",
          "Seel",
          "Electrode",
          "Primeape",
          "Primeape",
          "Primeape",
          "Primeape",
          "Mr. Mime",
          "Electrode"
         ],
         "textfont": {
          "color": "white",
          "family": "Impact",
          "size": 26
         },
         "textposition": "top center",
         "type": "scattergeo"
        },
        {
         "hoverinfo": "skip",
         "lat": {
          "bdata": "WOTXD7GZT0B9QQsJGGtAQBfX+Ez2P0FAvOtsyD/hQEDeyafHthJCQBnpRe1+S0NA2X3H8NjLO0CPVrWko2JAQNxN8E3TnzRAstr8v+reREBW9IdmnqJFQICeBgySMERARaD6B5GwQ0AQejarPgdDQMUDyqZcmUJAMQxYchUzP0DHhJhLqlxGQLcuNUI/h0VAa7qe6LrcRkBaox6i0RdDQAalaOVePEBAI2x4eqVGR0DMme0KfZRBQMWrrG2Kh0dAx2MGKuOTRECEo+TVOfxAQPCK4H8rn0NAceMW83M/RUB1j2yumvVDQOkq3V1nf0FAEaeTbHWzRUAB3Zcz2zVEQFwk7UYfy0BAajS5GAP3RUCD+pY5XbBBQOrvpfCgFT9ASYRGsHF9Q0BlV1pG6n9CQJJ9kGXBUEdAkbkyqDYmRkCW6ZeItwJDQEzirIiaZEVA",
          "dtype": "f8"
         },
         "locationmode": "USA-states",
         "lon": {
          "bdata": "l8KDZlcDY8CbOLnfobJVwKuYSj/hF1fATBb3H5nbW8BhiJy+nutdwOhpwCDpU1rAuRyvQPRrVMAbutkfKOlUwGCsb2Dyr2PAfnA+daxgV8AuGjIepZ5cwDxLkBFQUlbAr9FyoIeQVcDrjO+LS5tYwD/IsmDiKlXAV2DI6lYkV8BnnfF9cVhRwCUjZ2FPIlXAvAfovpyZV8BuGttrQR9XwET7WMFva1bAh8Jn6+BpW8Dg929enNNTwPvqqkAtElnAww/Op473WMB1HD9UGoNawIQpyqXxKV3AK/wZ3qzcUsASTgte9LBUwIC5Fi1ASFjAy4KJP4okXsDXFwltOXpTwG7fo/56PFTAOfHVjuIIWcAlI2dhT6xVwJPkub4PtFjAinCTUWXqW8B1V3bB4IpTwMprJXSXEl7AO2743XSHVsCJ78SsFz1UwH5XBP9b01rA",
          "dtype": "f8"
         },
         "mode": "text",
         "showlegend": false,
         "text": [
          "Electabuzz",
          "Ditto",
          "Rhyhorn",
          "Seel",
          "Persian",
          "Seel",
          "Seel",
          "Tangela",
          "Primeape",
          "Primeape",
          "Primeape",
          "Primeape",
          "Primeape",
          "Ditto",
          "Ditto",
          "Ditto",
          "Primeape",
          "Seel",
          "Primeape",
          "Seel",
          "Ditto",
          "Seel",
          "Seel",
          "Electabuzz",
          "Primeape",
          "Electrode",
          "Primeape",
          "Seel",
          "Seel",
          "Rhydon",
          "Primeape",
          "Primeape",
          "Seel",
          "Primeape",
          "Seel",
          "Electrode",
          "Primeape",
          "Primeape",
          "Primeape",
          "Primeape",
          "Mr. Mime",
          "Electrode"
         ],
         "textfont": {
          "color": "white",
          "family": "Impact",
          "size": 26
         },
         "textposition": "top center",
         "type": "scattergeo"
        },
        {
         "lat": {
          "bdata": "tHOaBdqVT0DZ0M3+QGdAQHNmu0IfPEFAGHsvvmjdQEA6WWq93w5CQHV4COOnR0NAkZxM3CrEO0Dr5XeazF5AQJRsdTklmDRADmq/tRPbRECyg0pcx55FQNwtyQG7LERAoS+9/bmsQ0BsCfmgZwNDQCGTjJyFlUJA6SrdXWcrP0AjFFtB01hGQBO+9zdog0VAx0lh3uPYRkC2MuGX+hNDQGI0K9uHOEBAf/s6cM5CR0AoKbAAppBBQCE7b2Ozg0dAI/PIHwyQREDgMqfLYvhAQEwao3VUm0NAzXLZ6Jw7RUDRHi+kw/FDQEW6n1OQe0FAbTZWYp6vRUBdbFopBDJEQLizrzxIx0BAxsN7DizzRUDfiVkvhqxBQKIOK9zyDT9ApRMJppp5Q0DB5hw8E3xCQO4MU1vqTEdA7Uj1nV8iRkDyeFp+4P5CQKhxb37DYEVA",
          "dtype": "f8"
         },
         "locationmode": "USA-states",
         "lon": {
          "bdata": "l8KDZlcDY8CbOLnfobJVwKuYSj/hF1fATBb3H5nbW8BhiJy+nutdwOhpwCDpU1rAuRyvQPRrVMAbutkfKOlUwGCsb2Dyr2PAfnA+daxgV8AuGjIepZ5cwDxLkBFQUlbAr9FyoIeQVcDrjO+LS5tYwD/IsmDiKlXAV2DI6lYkV8BnnfF9cVhRwCUjZ2FPIlXAvAfovpyZV8BuGttrQR9XwET7WMFva1bAh8Jn6+BpW8Dg929enNNTwPvqqkAtElnAww/Op473WMB1HD9UGoNawIQpyqXxKV3AK/wZ3qzcUsASTgte9LBUwIC5Fi1ASFjAy4KJP4okXsDXFwltOXpTwG7fo/56PFTAOfHVjuIIWcAlI2dhT6xVwJPkub4PtFjAinCTUWXqW8B1V3bB4IpTwMprJXSXEl7AO2743XSHVsCJ78SsFz1UwH5XBP9b01rA",
          "dtype": "f8"
         },
         "mode": "text",
         "showlegend": false,
         "text": [
          "Electabuzz",
          "Ditto",
          "Rhyhorn",
          "Seel",
          "Persian",
          "Seel",
          "Seel",
          "Tangela",
          "Primeape",
          "Primeape",
          "Primeape",
          "Primeape",
          "Primeape",
          "Ditto",
          "Ditto",
          "Ditto",
          "Primeape",
          "Seel",
          "Primeape",
          "Seel",
          "Ditto",
          "Seel",
          "Seel",
          "Electabuzz",
          "Primeape",
          "Electrode",
          "Primeape",
          "Seel",
          "Seel",
          "Rhydon",
          "Primeape",
          "Primeape",
          "Seel",
          "Primeape",
          "Seel",
          "Electrode",
          "Primeape",
          "Primeape",
          "Primeape",
          "Primeape",
          "Mr. Mime",
          "Electrode"
         ],
         "textfont": {
          "color": "black",
          "family": "Impact",
          "size": 26
         },
         "textposition": "top center",
         "type": "scattergeo"
        }
       ],
       "layout": {
        "geo": {
         "bgcolor": "rgba(0,0,0,0)",
         "lakecolor": "rgba(0,0,0,0)",
         "scope": "usa",
         "showcoastlines": false,
         "showlakes": false
        },
        "height": 1080,
        "margin": {
         "b": 20,
         "l": 20,
         "r": 20,
         "t": 20
        },
        "paper_bgcolor": "rgba(0,0,0,0)",
        "plot_bgcolor": "rgba(0,0,0,0)",
        "template": {
         "data": {
          "bar": [
           {
            "error_x": {
             "color": "#2a3f5f"
            },
            "error_y": {
             "color": "#2a3f5f"
            },
            "marker": {
             "line": {
              "color": "#E5ECF6",
              "width": 0.5
             },
             "pattern": {
              "fillmode": "overlay",
              "size": 10,
              "solidity": 0.2
             }
            },
            "type": "bar"
           }
          ],
          "barpolar": [
           {
            "marker": {
             "line": {
              "color": "#E5ECF6",
              "width": 0.5
             },
             "pattern": {
              "fillmode": "overlay",
              "size": 10,
              "solidity": 0.2
             }
            },
            "type": "barpolar"
           }
          ],
          "carpet": [
           {
            "aaxis": {
             "endlinecolor": "#2a3f5f",
             "gridcolor": "white",
             "linecolor": "white",
             "minorgridcolor": "white",
             "startlinecolor": "#2a3f5f"
            },
            "baxis": {
             "endlinecolor": "#2a3f5f",
             "gridcolor": "white",
             "linecolor": "white",
             "minorgridcolor": "white",
             "startlinecolor": "#2a3f5f"
            },
            "type": "carpet"
           }
          ],
          "choropleth": [
           {
            "colorbar": {
             "outlinewidth": 0,
             "ticks": ""
            },
            "type": "choropleth"
           }
          ],
          "contour": [
           {
            "colorbar": {
             "outlinewidth": 0,
             "ticks": ""
            },
            "colorscale": [
             [
              0,
              "#0d0887"
             ],
             [
              0.1111111111111111,
              "#46039f"
             ],
             [
              0.2222222222222222,
              "#7201a8"
             ],
             [
              0.3333333333333333,
              "#9c179e"
             ],
             [
              0.4444444444444444,
              "#bd3786"
             ],
             [
              0.5555555555555556,
              "#d8576b"
             ],
             [
              0.6666666666666666,
              "#ed7953"
             ],
             [
              0.7777777777777778,
              "#fb9f3a"
             ],
             [
              0.8888888888888888,
              "#fdca26"
             ],
             [
              1,
              "#f0f921"
             ]
            ],
            "type": "contour"
           }
          ],
          "contourcarpet": [
           {
            "colorbar": {
             "outlinewidth": 0,
             "ticks": ""
            },
            "type": "contourcarpet"
           }
          ],
          "heatmap": [
           {
            "colorbar": {
             "outlinewidth": 0,
             "ticks": ""
            },
            "colorscale": [
             [
              0,
              "#0d0887"
             ],
             [
              0.1111111111111111,
              "#46039f"
             ],
             [
              0.2222222222222222,
              "#7201a8"
             ],
             [
              0.3333333333333333,
              "#9c179e"
             ],
             [
              0.4444444444444444,
              "#bd3786"
             ],
             [
              0.5555555555555556,
              "#d8576b"
             ],
             [
              0.6666666666666666,
              "#ed7953"
             ],
             [
              0.7777777777777778,
              "#fb9f3a"
             ],
             [
              0.8888888888888888,
              "#fdca26"
             ],
             [
              1,
              "#f0f921"
             ]
            ],
            "type": "heatmap"
           }
          ],
          "histogram": [
           {
            "marker": {
             "pattern": {
              "fillmode": "overlay",
              "size": 10,
              "solidity": 0.2
             }
            },
            "type": "histogram"
           }
          ],
          "histogram2d": [
           {
            "colorbar": {
             "outlinewidth": 0,
             "ticks": ""
            },
            "colorscale": [
             [
              0,
              "#0d0887"
             ],
             [
              0.1111111111111111,
              "#46039f"
             ],
             [
              0.2222222222222222,
              "#7201a8"
             ],
             [
              0.3333333333333333,
              "#9c179e"
             ],
             [
              0.4444444444444444,
              "#bd3786"
             ],
             [
              0.5555555555555556,
              "#d8576b"
             ],
             [
              0.6666666666666666,
              "#ed7953"
             ],
             [
              0.7777777777777778,
              "#fb9f3a"
             ],
             [
              0.8888888888888888,
              "#fdca26"
             ],
             [
              1,
              "#f0f921"
             ]
            ],
            "type": "histogram2d"
           }
          ],
          "histogram2dcontour": [
           {
            "colorbar": {
             "outlinewidth": 0,
             "ticks": ""
            },
            "colorscale": [
             [
              0,
              "#0d0887"
             ],
             [
              0.1111111111111111,
              "#46039f"
             ],
             [
              0.2222222222222222,
              "#7201a8"
             ],
             [
              0.3333333333333333,
              "#9c179e"
             ],
             [
              0.4444444444444444,
              "#bd3786"
             ],
             [
              0.5555555555555556,
              "#d8576b"
             ],
             [
              0.6666666666666666,
              "#ed7953"
             ],
             [
              0.7777777777777778,
              "#fb9f3a"
             ],
             [
              0.8888888888888888,
              "#fdca26"
             ],
             [
              1,
              "#f0f921"
             ]
            ],
            "type": "histogram2dcontour"
           }
          ],
          "mesh3d": [
           {
            "colorbar": {
             "outlinewidth": 0,
             "ticks": ""
            },
            "type": "mesh3d"
           }
          ],
          "parcoords": [
           {
            "line": {
             "colorbar": {
              "outlinewidth": 0,
              "ticks": ""
             }
            },
            "type": "parcoords"
           }
          ],
          "pie": [
           {
            "automargin": true,
            "type": "pie"
           }
          ],
          "scatter": [
           {
            "fillpattern": {
             "fillmode": "overlay",
             "size": 10,
             "solidity": 0.2
            },
            "type": "scatter"
           }
          ],
          "scatter3d": [
           {
            "line": {
             "colorbar": {
              "outlinewidth": 0,
              "ticks": ""
             }
            },
            "marker": {
             "colorbar": {
              "outlinewidth": 0,
              "ticks": ""
             }
            },
            "type": "scatter3d"
           }
          ],
          "scattercarpet": [
           {
            "marker": {
             "colorbar": {
              "outlinewidth": 0,
              "ticks": ""
             }
            },
            "type": "scattercarpet"
           }
          ],
          "scattergeo": [
           {
            "marker": {
             "colorbar": {
              "outlinewidth": 0,
              "ticks": ""
             }
            },
            "type": "scattergeo"
           }
          ],
          "scattergl": [
           {
            "marker": {
             "colorbar": {
              "outlinewidth": 0,
              "ticks": ""
             }
            },
            "type": "scattergl"
           }
          ],
          "scattermap": [
           {
            "marker": {
             "colorbar": {
              "outlinewidth": 0,
              "ticks": ""
             }
            },
            "type": "scattermap"
           }
          ],
          "scattermapbox": [
           {
            "marker": {
             "colorbar": {
              "outlinewidth": 0,
              "ticks": ""
             }
            },
            "type": "scattermapbox"
           }
          ],
          "scatterpolar": [
           {
            "marker": {
             "colorbar": {
              "outlinewidth": 0,
              "ticks": ""
             }
            },
            "type": "scatterpolar"
           }
          ],
          "scatterpolargl": [
           {
            "marker": {
             "colorbar": {
              "outlinewidth": 0,
              "ticks": ""
             }
            },
            "type": "scatterpolargl"
           }
          ],
          "scatterternary": [
           {
            "marker": {
             "colorbar": {
              "outlinewidth": 0,
              "ticks": ""
             }
            },
            "type": "scatterternary"
           }
          ],
          "surface": [
           {
            "colorbar": {
             "outlinewidth": 0,
             "ticks": ""
            },
            "colorscale": [
             [
              0,
              "#0d0887"
             ],
             [
              0.1111111111111111,
              "#46039f"
             ],
             [
              0.2222222222222222,
              "#7201a8"
             ],
             [
              0.3333333333333333,
              "#9c179e"
             ],
             [
              0.4444444444444444,
              "#bd3786"
             ],
             [
              0.5555555555555556,
              "#d8576b"
             ],
             [
              0.6666666666666666,
              "#ed7953"
             ],
             [
              0.7777777777777778,
              "#fb9f3a"
             ],
             [
              0.8888888888888888,
              "#fdca26"
             ],
             [
              1,
              "#f0f921"
             ]
            ],
            "type": "surface"
           }
          ],
          "table": [
           {
            "cells": {
             "fill": {
              "color": "#EBF0F8"
             },
             "line": {
              "color": "white"
             }
            },
            "header": {
             "fill": {
              "color": "#C8D4E3"
             },
             "line": {
              "color": "white"
             }
            },
            "type": "table"
           }
          ]
         },
         "layout": {
          "annotationdefaults": {
           "arrowcolor": "#2a3f5f",
           "arrowhead": 0,
           "arrowwidth": 1
          },
          "autotypenumbers": "strict",
          "coloraxis": {
           "colorbar": {
            "outlinewidth": 0,
            "ticks": ""
           }
          },
          "colorscale": {
           "diverging": [
            [
             0,
             "#8e0152"
            ],
            [
             0.1,
             "#c51b7d"
            ],
            [
             0.2,
             "#de77ae"
            ],
            [
             0.3,
             "#f1b6da"
            ],
            [
             0.4,
             "#fde0ef"
            ],
            [
             0.5,
             "#f7f7f7"
            ],
            [
             0.6,
             "#e6f5d0"
            ],
            [
             0.7,
             "#b8e186"
            ],
            [
             0.8,
             "#7fbc41"
            ],
            [
             0.9,
             "#4d9221"
            ],
            [
             1,
             "#276419"
            ]
           ],
           "sequential": [
            [
             0,
             "#0d0887"
            ],
            [
             0.1111111111111111,
             "#46039f"
            ],
            [
             0.2222222222222222,
             "#7201a8"
            ],
            [
             0.3333333333333333,
             "#9c179e"
            ],
            [
             0.4444444444444444,
             "#bd3786"
            ],
            [
             0.5555555555555556,
             "#d8576b"
            ],
            [
             0.6666666666666666,
             "#ed7953"
            ],
            [
             0.7777777777777778,
             "#fb9f3a"
            ],
            [
             0.8888888888888888,
             "#fdca26"
            ],
            [
             1,
             "#f0f921"
            ]
           ],
           "sequentialminus": [
            [
             0,
             "#0d0887"
            ],
            [
             0.1111111111111111,
             "#46039f"
            ],
            [
             0.2222222222222222,
             "#7201a8"
            ],
            [
             0.3333333333333333,
             "#9c179e"
            ],
            [
             0.4444444444444444,
             "#bd3786"
            ],
            [
             0.5555555555555556,
             "#d8576b"
            ],
            [
             0.6666666666666666,
             "#ed7953"
            ],
            [
             0.7777777777777778,
             "#fb9f3a"
            ],
            [
             0.8888888888888888,
             "#fdca26"
            ],
            [
             1,
             "#f0f921"
            ]
           ]
          },
          "colorway": [
           "#636efa",
           "#EF553B",
           "#00cc96",
           "#ab63fa",
           "#FFA15A",
           "#19d3f3",
           "#FF6692",
           "#B6E880",
           "#FF97FF",
           "#FECB52"
          ],
          "font": {
           "color": "#2a3f5f"
          },
          "geo": {
           "bgcolor": "white",
           "lakecolor": "white",
           "landcolor": "#E5ECF6",
           "showlakes": true,
           "showland": true,
           "subunitcolor": "white"
          },
          "hoverlabel": {
           "align": "left"
          },
          "hovermode": "closest",
          "mapbox": {
           "style": "light"
          },
          "paper_bgcolor": "white",
          "plot_bgcolor": "#E5ECF6",
          "polar": {
           "angularaxis": {
            "gridcolor": "white",
            "linecolor": "white",
            "ticks": ""
           },
           "bgcolor": "#E5ECF6",
           "radialaxis": {
            "gridcolor": "white",
            "linecolor": "white",
            "ticks": ""
           }
          },
          "scene": {
           "xaxis": {
            "backgroundcolor": "#E5ECF6",
            "gridcolor": "white",
            "gridwidth": 2,
            "linecolor": "white",
            "showbackground": true,
            "ticks": "",
            "zerolinecolor": "white"
           },
           "yaxis": {
            "backgroundcolor": "#E5ECF6",
            "gridcolor": "white",
            "gridwidth": 2,
            "linecolor": "white",
            "showbackground": true,
            "ticks": "",
            "zerolinecolor": "white"
           },
           "zaxis": {
            "backgroundcolor": "#E5ECF6",
            "gridcolor": "white",
            "gridwidth": 2,
            "linecolor": "white",
            "showbackground": true,
            "ticks": "",
            "zerolinecolor": "white"
           }
          },
          "shapedefaults": {
           "line": {
            "color": "#2a3f5f"
           }
          },
          "ternary": {
           "aaxis": {
            "gridcolor": "white",
            "linecolor": "white",
            "ticks": ""
           },
           "baxis": {
            "gridcolor": "white",
            "linecolor": "white",
            "ticks": ""
           },
           "bgcolor": "#E5ECF6",
           "caxis": {
            "gridcolor": "white",
            "linecolor": "white",
            "ticks": ""
           }
          },
          "title": {
           "x": 0.05
          },
          "xaxis": {
           "automargin": true,
           "gridcolor": "white",
           "linecolor": "white",
           "ticks": "",
           "title": {
            "standoff": 15
           },
           "zerolinecolor": "white",
           "zerolinewidth": 2
          },
          "yaxis": {
           "automargin": true,
           "gridcolor": "white",
           "linecolor": "white",
           "ticks": "",
           "title": {
            "standoff": 15
           },
           "zerolinecolor": "white",
           "zerolinewidth": 2
          }
         }
        },
        "title": {},
        "width": 1920
       }
      }
     },
     "metadata": {},
     "output_type": "display_data"
    }
   ],
   "source": [
    "plot_weekly_choropleth(\n",
    "    reporting_file=\"rbt_pokemon.csv\",\n",
    "    date_str=\"2024-01-21\",\n",
    "    width=1920,\n",
    "    height=1080,\n",
    "    font_size=26,\n",
    "    font_family=\"Impact\"\n",
    ")"
   ]
  }
 ],
 "metadata": {
  "kernelspec": {
   "display_name": "base",
   "language": "python",
   "name": "python3"
  },
  "language_info": {
   "codemirror_mode": {
    "name": "ipython",
    "version": 3
   },
   "file_extension": ".py",
   "mimetype": "text/x-python",
   "name": "python",
   "nbconvert_exporter": "python",
   "pygments_lexer": "ipython3",
   "version": "3.12.2"
  }
 },
 "nbformat": 4,
 "nbformat_minor": 2
}
