{
 "cells": [
  {
   "cell_type": "markdown",
   "metadata": {},
   "source": [
    "## Plotly"
   ]
  },
  {
   "cell_type": "code",
   "execution_count": 2,
   "metadata": {},
   "outputs": [],
   "source": [
    "import plotly.graph_objects as go\n",
    "import plotly.io as pio\n",
    "\n",
    "# Define the updated HorizonAnalytics template\n",
    "HorizonAnalytics = go.layout.Template(\n",
    "    layout=go.Layout(\n",
    "        paper_bgcolor='#0d1b2a',  # Background color\n",
    "        plot_bgcolor='#0d1b2a',  # Background color\n",
    "        height=800,\n",
    "        width=800 * 1.618,\n",
    "        xaxis=dict(\n",
    "            anchor='y',\n",
    "            showgrid=True,\n",
    "            gridcolor='rgba(255, 255, 255, 0.2)',  # Softer grid lines for contrast\n",
    "            tickfont=dict(\n",
    "                size=36,  # Consistent with other elements\n",
    "                family='Montserrat, sans-serif',\n",
    "                color='#ffffff',\n",
    "                weight=\"bold\"\n",
    "            ),\n",
    "            title=dict(\n",
    "                text='',\n",
    "                font=dict(\n",
    "                    size=48,  # Increase to match other elements\n",
    "                    family='Montserrat, sans-serif',\n",
    "                    color='#ffffff',\n",
    "                    weight=\"bold\"\n",
    "                )\n",
    "            ),\n",
    "            linecolor='#ffffff',  # White axis lines for contrast\n",
    "            linewidth=2\n",
    "        ),\n",
    "        yaxis=dict(\n",
    "            anchor='x',\n",
    "            showgrid=True,\n",
    "            gridcolor='rgba(255, 255, 255, 0.2)',  # Softer grid lines\n",
    "            tickfont=dict(\n",
    "                size=36,  # Consistent with x-axis\n",
    "                family='Montserrat, sans-serif',\n",
    "                color='#ffffff',\n",
    "                weight=\"bold\"\n",
    "            ),\n",
    "            title=dict(\n",
    "                text='',\n",
    "                font=dict(\n",
    "                    size=48,  # Increase to match x-axis\n",
    "                    family='Montserrat, sans-serif',\n",
    "                    color='#ffffff',\n",
    "                    weight=\"bold\"\n",
    "                )\n",
    "            ),\n",
    "            linecolor='#ffffff',  # White axis lines\n",
    "            linewidth=2\n",
    "        ),\n",
    "        font=dict(\n",
    "            color='#ffffff',  # White font for all text\n",
    "            size=36,  # Uniform font size\n",
    "            family='Montserrat, sans-serif',\n",
    "            weight=\"bold\"\n",
    "        ),\n",
    "        # Refined colorway for better visibility and differentiation\n",
    "        colorway=[\"#FFFF00\", \"#33D7FF\", \"#A463FF\", \"#FFD700\", \n",
    "                  \"#ff4081\", \"#ffc107\", \"#00c4a0\", \"#a0aec0\"],\n",
    "        title=dict(\n",
    "            text='',\n",
    "            font=dict(\n",
    "                size=64,  # **Big Boost in Title Size**\n",
    "                color='#ffffff',\n",
    "                family='Montserrat, sans-serif',\n",
    "                weight=\"bold\"\n",
    "            ),\n",
    "            x=0.5,  # Center title\n",
    "            y=0.97  # Push title higher\n",
    "        )\n",
    "    ),\n",
    "    data=dict(\n",
    "        scatter=[\n",
    "            go.Scatter(\n",
    "                line=dict(width=5)  # Increased line width for better visibility\n",
    "            )\n",
    "        ]\n",
    "    )\n",
    ")\n",
    "\n",
    "# Register the updated HorizonAnalytics template\n",
    "pio.templates['HorizonAnalytics'] = HorizonAnalytics\n",
    "pio.templates.default = 'HorizonAnalytics'"
   ]
  },
  {
   "cell_type": "markdown",
   "metadata": {},
   "source": [
    "## Extraction"
   ]
  },
  {
   "cell_type": "markdown",
   "metadata": {},
   "source": [
    "d_inauguration: president, term, party, start_date, end_date, order_number_range (link)\n",
    "d_exec_orders_dates: president, term, exec_order_signed_date (missing 1950 - Truman)\n",
    "d_exec_orders: president, term, days_in_office (<100), cum_exec_orders"
   ]
  },
  {
   "cell_type": "markdown",
   "metadata": {},
   "source": [
    "### d_inauguration"
   ]
  },
  {
   "cell_type": "code",
   "execution_count": 34,
   "metadata": {},
   "outputs": [
    {
     "name": "stderr",
     "output_type": "stream",
     "text": [
      "/var/folders/r0/4vr5j1517ggd5nvq86w27hhm0000gn/T/ipykernel_12622/4208618267.py:4: DeprecationWarning:\n",
      "\n",
      "Importing display from IPython.core.display is deprecated since IPython 7.14, please import from IPython.display\n",
      "\n"
     ]
    },
    {
     "name": "stdout",
     "output_type": "stream",
     "text": [
      "Data extraction complete. File saved as 'd_inauguration.csv'.\n"
     ]
    },
    {
     "name": "stderr",
     "output_type": "stream",
     "text": [
      "/var/folders/r0/4vr5j1517ggd5nvq86w27hhm0000gn/T/ipykernel_12622/4208618267.py:21: FutureWarning:\n",
      "\n",
      "Passing literal html to 'read_html' is deprecated and will be removed in a future version. To read from a literal string, wrap it in a 'StringIO' object.\n",
      "\n"
     ]
    }
   ],
   "source": [
    "import requests\n",
    "import pandas as pd\n",
    "from bs4 import BeautifulSoup\n",
    "from IPython.core.display import display, HTML\n",
    "\n",
    "# Wikipedia URL\n",
    "url = \"https://en.wikipedia.org/wiki/List_of_United_States_federal_executive_orders\"\n",
    "\n",
    "# Request the page\n",
    "response = requests.get(url)\n",
    "if response.status_code != 200:\n",
    "    raise Exception(f\"Failed to retrieve page: {response.status_code}\")\n",
    "\n",
    "# Parse HTML\n",
    "soup = BeautifulSoup(response.text, 'html.parser')\n",
    "\n",
    "# Find the target table (first 'wikitable' on the page)\n",
    "table = soup.find('table', {'class': 'wikitable'})\n",
    "\n",
    "# Convert table to DataFrame\n",
    "d_inauguration = pd.read_html(str(table))[0]\n",
    "\n",
    "# Rename columns for clarity\n",
    "d_inauguration.columns = [\"#\", \"president\", \"party\", \"total_executive_orders\", \"order_number_range\", \"years_in_office\", \"exec_orders_per_year\", \"period\"]\n",
    "\n",
    "# Replace 'term' with 'num' based on the '#' column\n",
    "d_inauguration[\"num\"] = d_inauguration[\"#\"]\n",
    "\n",
    "# Extract start and end dates\n",
    "d_inauguration[[\"start_date\", \"end_date\"]] = d_inauguration[\"period\"].str.split(\" – \", expand=True)\n",
    "\n",
    "# Extract links for order_number_range\n",
    "order_links = []\n",
    "for row in table.find_all(\"tr\")[1:]:  # Skip header\n",
    "    cells = row.find_all(\"td\")\n",
    "    if len(cells) > 4 and cells[4].find(\"a\"):\n",
    "        order_links.append(\"https://en.wikipedia.org\" + cells[4].find(\"a\")[\"href\"])\n",
    "    else:\n",
    "        order_links.append(None)\n",
    "d_inauguration[\"order_number_range\"] = order_links\n",
    "\n",
    "# Select required columns\n",
    "d_inauguration = d_inauguration[[\"president\", \"num\", \"party\", \"start_date\", \"end_date\", \"order_number_range\"]]\n",
    "\n",
    "# Convert 'start_date' and 'end_date' to datetime format\n",
    "d_inauguration['start_date'] = pd.to_datetime(d_inauguration['start_date'], errors='coerce')\n",
    "d_inauguration['end_date'] = pd.to_datetime(d_inauguration['end_date'], errors='coerce')\n",
    "\n",
    "# Save as CSV\n",
    "d_inauguration.to_csv(\"d_inauguration.csv\", index=False)\n",
    "\n",
    "# Display as a scrollable table in Jupyter Notebook\n",
    "# display(HTML(d_inauguration.to_html(index=False, escape=False)))\n",
    "\n",
    "print(\"Data extraction complete. File saved as 'd_inauguration.csv'.\")"
   ]
  },
  {
   "cell_type": "markdown",
   "metadata": {},
   "source": [
    "### d_exec_order_dates"
   ]
  },
  {
   "cell_type": "code",
   "execution_count": 13,
   "metadata": {},
   "outputs": [
    {
     "name": "stderr",
     "output_type": "stream",
     "text": [
      "/var/folders/r0/4vr5j1517ggd5nvq86w27hhm0000gn/T/ipykernel_45438/1962160502.py:6: DeprecationWarning: Importing display from IPython.core.display is deprecated since IPython 7.14, please import from IPython.display\n",
      "  from IPython.core.display import display, HTML\n"
     ]
    },
    {
     "name": "stdout",
     "output_type": "stream",
     "text": [
      "Scraping executive orders for William McKinley...\n",
      "Scraping William McKinley's page: https://en.wikipedia.org/wiki/List_of_executive_actions_by_William_McKinley\n",
      "Scraping executive orders for Theodore Roosevelt...\n",
      "Scraping Theodore Roosevelt's page: https://en.wikipedia.org/wiki/List_of_executive_actions_by_Theodore_Roosevelt\n",
      "Stopping extraction for Theodore Roosevelt: num_rel reset to 1.\n",
      "Scraping executive orders for William Howard Taft...\n",
      "Scraping William Howard Taft's page: https://en.wikipedia.org/wiki/List_of_executive_actions_by_William_Howard_Taft\n",
      "Stopping extraction for William Howard Taft: num_rel reset to 1.\n",
      "Scraping executive orders for Woodrow Wilson...\n",
      "Scraping Woodrow Wilson's page: https://en.wikipedia.org/wiki/List_of_executive_actions_by_Woodrow_Wilson\n",
      "Stopping extraction for Woodrow Wilson: num_rel reset to 1.\n",
      "Scraping executive orders for Warren G. Harding...\n",
      "Scraping Warren G. Harding's page: https://en.wikipedia.org/wiki/List_of_executive_actions_by_Warren_G._Harding\n",
      "Stopping extraction for Warren G. Harding: num_rel reset to 1.\n",
      "Scraping executive orders for Calvin Coolidge...\n",
      "Scraping Calvin Coolidge's page: https://en.wikipedia.org/wiki/List_of_executive_actions_by_Calvin_Coolidge\n",
      "Stopping extraction for Calvin Coolidge: num_rel reset to 1.\n",
      "Scraping executive orders for Herbert Hoover...\n",
      "Scraping Herbert Hoover's page: https://en.wikipedia.org/wiki/List_of_executive_actions_by_Herbert_Hoover\n",
      "No table found for 1929. Skipping.\n",
      "No table found for 1930. Skipping.\n",
      "No table found for 1931. Skipping.\n",
      "No table found for 1932. Skipping.\n",
      "No table found for 1933. Skipping.\n",
      "Scraping executive orders for Franklin D. Roosevelt...\n",
      "Scraping Franklin D. Roosevelt's page: https://en.wikipedia.org/wiki/List_of_executive_actions_by_Franklin_D._Roosevelt\n",
      "Stopping extraction for Franklin D. Roosevelt: num_rel reset to 1.\n",
      "Scraping executive orders for Harry S. Truman...\n",
      "Scraping Harry S. Truman's page: https://en.wikipedia.org/wiki/List_of_executive_actions_by_Harry_S._Truman\n",
      "Table for 1950 is empty. Skipping.\n",
      "Scraping executive orders for Dwight D. Eisenhower...\n",
      "Scraping Dwight D. Eisenhower's page: https://en.wikipedia.org/wiki/List_of_executive_actions_by_Dwight_D._Eisenhower\n",
      "Scraping executive orders for John F. Kennedy...\n",
      "Scraping John F. Kennedy's page: https://en.wikipedia.org/wiki/List_of_executive_actions_by_John_F._Kennedy\n",
      "Scraping executive orders for Lyndon B. Johnson...\n",
      "Scraping Lyndon B. Johnson's page: https://en.wikipedia.org/wiki/List_of_executive_actions_by_Lyndon_B._Johnson\n",
      "Scraping executive orders for Richard Nixon...\n",
      "Scraping Richard Nixon's page: https://en.wikipedia.org/wiki/List_of_executive_actions_by_Richard_Nixon\n",
      "Scraping executive orders for Gerald Ford...\n",
      "Scraping Gerald Ford's page: https://en.wikipedia.org/wiki/List_of_executive_actions_by_Gerald_Ford\n",
      "Scraping executive orders for Jimmy Carter...\n",
      "Scraping Jimmy Carter's page: https://en.wikipedia.org/wiki/List_of_executive_actions_by_Jimmy_Carter\n",
      "Scraping executive orders for Ronald Reagan...\n",
      "Scraping Ronald Reagan's page: https://en.wikipedia.org/wiki/List_of_executive_actions_by_Ronald_Reagan\n",
      "Scraping executive orders for George H. W. Bush...\n",
      "Scraping George H. W. Bush's page: https://en.wikipedia.org/wiki/List_of_executive_actions_by_George_H._W._Bush\n",
      "Scraping executive orders for Bill Clinton...\n",
      "Scraping Bill Clinton's page: https://en.wikipedia.org/wiki/List_of_executive_actions_by_Bill_Clinton\n",
      "Table for 1993 is empty. Skipping.\n",
      "Table for 1994 is empty. Skipping.\n",
      "Table for 1995 is empty. Skipping.\n",
      "Table for 1996 is empty. Skipping.\n",
      "Table for 1997 is empty. Skipping.\n",
      "Table for 1998 is empty. Skipping.\n",
      "Table for 1999 is empty. Skipping.\n",
      "Table for 2000 is empty. Skipping.\n",
      "Table for 2001 is empty. Skipping.\n",
      "Table for 1993 is empty. Skipping.\n",
      "Table for 1994 is empty. Skipping.\n",
      "Table for 1995 is empty. Skipping.\n",
      "Table for 1996 is empty. Skipping.\n",
      "Table for 1997 is empty. Skipping.\n",
      "Table for 1998 is empty. Skipping.\n",
      "Table for 1999 is empty. Skipping.\n",
      "Table for 2000 is empty. Skipping.\n",
      "Table for 2001 is empty. Skipping.\n",
      "Scraping executive orders for George W. Bush...\n",
      "Scraping George W. Bush's page: https://en.wikipedia.org/wiki/List_of_executive_actions_by_George_W._Bush\n",
      "Stopping extraction for George W. Bush: num_rel reset to 1.\n",
      "Scraping executive orders for Barack Obama...\n",
      "Scraping Barack Obama's page: https://en.wikipedia.org/wiki/List_of_executive_actions_by_Barack_Obama\n",
      "Scraping executive orders for Donald Trump – I...\n",
      "Scraping Donald Trump – I's page: https://en.wikipedia.org/wiki/List_of_executive_orders_in_the_first_presidency_of_Donald_Trump\n",
      "Scraping executive orders for Joe Biden...\n",
      "Scraping Joe Biden's page: https://en.wikipedia.org/wiki/List_of_executive_actions_by_Joe_Biden\n",
      "Stopping extraction for Joe Biden: num_rel reset to 1.\n",
      "Scraping executive orders for Donald Trump – II...\n",
      "Scraping Donald Trump – II's page: https://en.wikipedia.org/wiki/List_of_executive_orders_in_the_second_presidency_of_Donald_Trump\n",
      "Number of executive orders found: 12229\n"
     ]
    }
   ],
   "source": [
    "import requests\n",
    "import pandas as pd\n",
    "from bs4 import BeautifulSoup\n",
    "from time import sleep\n",
    "from io import StringIO\n",
    "from IPython.core.display import display, HTML\n",
    "\n",
    "# Load d_inauguration.csv\n",
    "d_inauguration = pd.read_csv(\"d_inauguration.csv\")\n",
    "\n",
    "# Define filtering criteria\n",
    "filter_column = \"num\"  # Change this to any column you want to filter by\n",
    "filter_values = list(range(24, 48))\n",
    "\n",
    "# Apply filtering\n",
    "d_inauguration = d_inauguration[d_inauguration[filter_column].isin(filter_values)].reset_index(drop=True)\n",
    "\n",
    "# List to store executive orders\n",
    "executive_orders = []\n",
    "\n",
    "# Function to scrape executive orders\n",
    "def scrape_executive_orders(url, president):\n",
    "    if not isinstance(url, str) or pd.isna(url):\n",
    "        return []\n",
    "    \n",
    "    response = requests.get(url)\n",
    "    if response.status_code != 200:\n",
    "        print(f\"Failed to retrieve page: {url}\")\n",
    "        return []\n",
    "\n",
    "    soup = BeautifulSoup(response.text, 'html.parser')\n",
    "    \n",
    "    # Debug: print out the response title to confirm correct page\n",
    "    print(f\"Scraping {president}'s page: {url}\")\n",
    "    \n",
    "    # Determine whether to look for h3 or h2 tags based on the president\n",
    "    if president in [\"Donald Trump – I\", \"Donald Trump – II\"]:\n",
    "        # print(f\"Using <h2> tags for {president} years.\")\n",
    "        years = soup.find_all(\"h2\")  # For Trump, years are under h2\n",
    "    else:\n",
    "        # print(f\"Using <h3> tags for {president} years.\")\n",
    "        years = soup.find_all(\"h3\")  # For other presidents, years are under h3\n",
    "\n",
    "    if not years:\n",
    "        print(f\"No year headings found for {president}.\")\n",
    "    \n",
    "    orders_list = []\n",
    "    last_num_rel = None  # Track last num_rel\n",
    "\n",
    "    for year_tag in years:\n",
    "        year_text = year_tag.get_text(strip=True)  # Extract year text\n",
    "        # print(f\"Found year: {year_text}\")  # Debug: show the year being processed\n",
    "        \n",
    "        # Only keep valid year headings (e.g., 2017, 2018, etc.)\n",
    "        if not year_text.isdigit():\n",
    "            # print(f\"Skipping invalid year: {year_text}\")\n",
    "            continue\n",
    "\n",
    "        year = year_text  # Only process valid years\n",
    "        table = year_tag.find_next(\"table\", {\"class\": \"wikitable\"})\n",
    "        \n",
    "        if not table:\n",
    "            print(f\"No table found for {year}. Skipping.\")\n",
    "            continue\n",
    "\n",
    "        df_orders = pd.read_html(StringIO(str(table)))[0]  # Read table\n",
    "\n",
    "        # Skip empty tables\n",
    "        if df_orders.empty:\n",
    "            print(f\"Table for {year} is empty. Skipping.\")\n",
    "            continue\n",
    "\n",
    "        # Ensure table has necessary columns\n",
    "        if df_orders.shape[1] < 4:\n",
    "            print(f\"Table for {year} doesn't have enough columns. Skipping.\")\n",
    "            continue\n",
    "\n",
    "        # Identify \"Date signed\" column\n",
    "        date_col = next((col for col in df_orders.columns if \"Date signed\" in col or \"Date\" in col), None)\n",
    "        if not date_col:\n",
    "            print(f\"No 'Date signed' column found for {year}. Skipping.\")\n",
    "            continue\n",
    "\n",
    "        # Forward-fill missing dates and rename columns\n",
    "        df_orders = df_orders.ffill().rename(columns={date_col: \"exec_order_signed_date\"})\n",
    "        df_orders = df_orders.iloc[:, :4]  # Keep first 4 columns\n",
    "        df_orders.columns = [\"num_rel\", \"num_abs\", \"title\", \"exec_order_signed_date\"]\n",
    "\n",
    "        # Convert num_rel to integer\n",
    "        df_orders[\"num_rel\"] = pd.to_numeric(df_orders[\"num_rel\"], errors=\"coerce\").fillna(0).astype(int)\n",
    "\n",
    "        # Clean num_abs: Only take the leftmost 5 digits and filter non-numeric entries\n",
    "        df_orders[\"num_abs\"] = df_orders[\"num_abs\"].astype(str).str[:5]\n",
    "        # df_orders[\"num_abs\"] = pd.to_numeric(df_orders[\"num_abs\"], errors=\"coerce\")  # Convert valid numeric values\n",
    "        # df_orders[\"num_abs\"] = df_orders[\"num_abs\"].fillna(0).astype(int)  # Replace NaN with 0\n",
    "\n",
    "        # Stop if num_rel resets to 1 (indicating a new section)\n",
    "        if last_num_rel and df_orders[\"num_rel\"].iloc[0] == 1 and last_num_rel > 1:\n",
    "            print(f\"Stopping extraction for {president}: num_rel reset to 1.\")\n",
    "            break\n",
    "\n",
    "        last_num_rel = df_orders[\"num_rel\"].iloc[-1]  # Update last num_rel\n",
    "\n",
    "        # Add president and year, reorder columns\n",
    "        df_orders[\"president\"] = president\n",
    "        df_orders[\"year\"] = year\n",
    "        df_orders = df_orders[[\"president\", \"num_rel\", \"num_abs\", \"year\", \"exec_order_signed_date\", \"title\"]]\n",
    "\n",
    "        orders_list.extend(df_orders.to_dict(\"records\"))\n",
    "\n",
    "    return orders_list\n",
    "\n",
    "# Scrape executive orders for each president\n",
    "for _, row in d_inauguration.iterrows():\n",
    "    if isinstance(row[\"order_number_range\"], str):\n",
    "        print(f\"Scraping executive orders for {row['president']}...\")\n",
    "        orders = scrape_executive_orders(row[\"order_number_range\"], row[\"president\"])\n",
    "        executive_orders.extend(orders)\n",
    "        sleep(2)  # Avoid getting blocked\n",
    "\n",
    "# Convert results to DataFrame and save\n",
    "d_exec_orders_dates = pd.DataFrame(executive_orders)\n",
    "\n",
    "# Debug: Print out the number of records found\n",
    "print(f\"Number of executive orders found: {len(executive_orders)}\")\n",
    "\n",
    "# Save to CSV\n",
    "d_exec_orders_dates.to_csv(\"d_exec_orders_dates.csv\", index=False)\n",
    "\n",
    "# # Display results\n",
    "# display(HTML(d_exec_orders_dates.to_html(index=False, escape=False)))\n",
    "# print(\"Data extraction complete. File saved as 'd_exec_orders_dates.csv'.\")"
   ]
  },
  {
   "cell_type": "markdown",
   "metadata": {},
   "source": [
    "### d_exec_orders"
   ]
  },
  {
   "cell_type": "code",
   "execution_count": 15,
   "metadata": {},
   "outputs": [
    {
     "name": "stdout",
     "output_type": "stream",
     "text": [
      "Date format standardization complete. Processed file saved as 'd_exec_orders.csv'.\n"
     ]
    }
   ],
   "source": [
    "import pandas as pd\n",
    "from IPython.display import display, HTML\n",
    "\n",
    "# Load the CSV file\n",
    "d_exec_order_dates = pd.read_csv(\"d_exec_orders_dates.csv\")\n",
    "\n",
    "# Check if there are any rows with missing dates\n",
    "missing_date_rows = d_exec_order_dates[d_exec_order_dates['exec_order_signed_date'].isna()]\n",
    "if not missing_date_rows.empty:\n",
    "    print(\"Rows with missing dates:\")\n",
    "    display(HTML(missing_date_rows.to_html(index=False, escape=False)))\n",
    "\n",
    "# Handle Herbert Hoover's dates\n",
    "def handle_hoover_dates(row):\n",
    "    if row['president'] == \"Herbert Hoover\":\n",
    "        # Remove periods from month abbreviations if present\n",
    "        cleaned_date = row['exec_order_signed_date'].replace('.', '')  # Remove periods\n",
    "\n",
    "        # Handle cases where the date format is something like 'Mar 07', 'May 1', 'Jan. 03'\n",
    "        parts = cleaned_date.split()\n",
    "        if len(parts) == 2:  # If the date is in format \"Month Day\"\n",
    "            month, day = parts\n",
    "\n",
    "            # Add leading zero to single digit day\n",
    "            if len(day) == 1:\n",
    "                day = '0' + day\n",
    "\n",
    "            # Normalize \"June\", \"July\", and \"Sept\" to their proper abbreviations\n",
    "            if month.lower() == \"june\":\n",
    "                month = \"Jun\"  # Normalize \"June\" to \"Jun\"\n",
    "            elif month.lower() == \"july\":\n",
    "                month = \"Jul\"  # Normalize \"July\" to \"Jul\"\n",
    "            elif month.lower() == \"september\" or month.lower() == \"sept\":\n",
    "                month = \"Sep\"  # Normalize \"September\" and \"Sept\" to \"Sep\"\n",
    "            \n",
    "            # Return the cleaned date\n",
    "            cleaned_date = f'{month} {day}'\n",
    "\n",
    "        # Concatenate the year with the cleaned date\n",
    "        try:\n",
    "            date_string = str(row['year']) + ' ' + cleaned_date\n",
    "            # Handle potential inconsistent formats, ensuring we get a valid date string\n",
    "            return pd.to_datetime(date_string, errors='coerce', format='%Y %b %d')  # E.g., '1930 Jun 03'\n",
    "        except Exception as e:\n",
    "            print(f\"Error processing date for {row['president']} {row['exec_order_signed_date']}: {e}\")\n",
    "            return pd.NaT\n",
    "    else:\n",
    "        return row['exec_order_signed_date']  # No change for other presidents\n",
    "\n",
    "# Apply the date handling function to Herbert Hoover's rows\n",
    "d_exec_order_dates['exec_order_signed_date'] = d_exec_order_dates.apply(handle_hoover_dates, axis=1)\n",
    "\n",
    "# Explicitly check for the date format in YYYY-MM-DD and avoid reprocessing\n",
    "def process_fdr_dates(row):\n",
    "    # Check if the date is already in 'YYYY-MM-DD' format (if it's valid and correctly formatted)\n",
    "    if isinstance(row['exec_order_signed_date'], str) and '-' in row['exec_order_signed_date']:\n",
    "        try:\n",
    "            # Try parsing the date with the expected format (YYYY-MM-DD)\n",
    "            pd.to_datetime(row['exec_order_signed_date'], format='%Y-%m-%d', errors='raise')\n",
    "            return row['exec_order_signed_date']  # If valid, return as is\n",
    "        except:\n",
    "            pass  # Continue to the next check if not valid\n",
    "    \n",
    "    # For other dates, apply pd.to_datetime()\n",
    "    return pd.to_datetime(row['exec_order_signed_date'], errors='coerce')\n",
    "\n",
    "# Apply the special function to Franklin D. Roosevelt's rows\n",
    "d_exec_order_dates['exec_order_signed_date'] = d_exec_order_dates.apply(process_fdr_dates, axis=1)\n",
    "\n",
    "# Convert to datetime (now all rows should be consistently in datetime format)\n",
    "d_exec_order_dates[\"exec_order_signed_date\"] = pd.to_datetime(d_exec_order_dates[\"exec_order_signed_date\"], errors='coerce')\n",
    "\n",
    "# After conversion, check if there are any invalid or NaT values\n",
    "invalid_dates = d_exec_order_dates[d_exec_order_dates[\"exec_order_signed_date\"].isna()]\n",
    "\n",
    "# Display invalid rows as a scrollable HTML table in Jupyter\n",
    "if not invalid_dates.empty:\n",
    "    html_table = invalid_dates.to_html(index=False, escape=False)\n",
    "    display(HTML(f'<div style=\"height:400px; overflow:auto;\">{html_table}</div>'))\n",
    "\n",
    "# Convert to the final format YYYY-MM-DD\n",
    "d_exec_order_dates[\"exec_order_signed_date\"] = d_exec_order_dates[\"exec_order_signed_date\"].dt.strftime('%Y-%m-%d')\n",
    "\n",
    "# Optionally, fill invalid dates with a default value (e.g., today's date or NaN)\n",
    "# d_exec_order_dates[\"exec_order_signed_date\"].fillna(pd.to_datetime('today'), inplace=True)\n",
    "\n",
    "# Save the processed data to a new CSV file\n",
    "d_exec_order_dates.to_csv(\"d_exec_orders.csv\", index=False)\n",
    "\n",
    "print(\"Date format standardization complete. Processed file saved as 'd_exec_orders.csv'.\")"
   ]
  },
  {
   "cell_type": "code",
   "execution_count": 16,
   "metadata": {},
   "outputs": [
    {
     "name": "stdout",
     "output_type": "stream",
     "text": [
      "Filtered data to include only the first 50 days after each president's start date. 'num' added from d_inauguration. 'days_in_office' calculated and included. File saved as 'd_exec_orders.csv'.\n"
     ]
    }
   ],
   "source": [
    "import pandas as pd\n",
    "from IPython.display import display, HTML\n",
    "\n",
    "# Load d_exec_orders and d_inauguration CSV files\n",
    "d_exec_orders = pd.read_csv(\"d_exec_orders.csv\")\n",
    "d_inauguration = pd.read_csv(\"d_inauguration.csv\")\n",
    "\n",
    "# Convert 'start_date' and 'exec_order_signed_date' to datetime format\n",
    "d_inauguration['start_date'] = pd.to_datetime(d_inauguration['start_date'], errors='coerce')\n",
    "d_exec_orders['exec_order_signed_date'] = pd.to_datetime(d_exec_orders['exec_order_signed_date'], errors='coerce')\n",
    "\n",
    "# Left join d_exec_orders with d_inauguration on the 'president' column\n",
    "d_exec_orders = pd.merge(d_exec_orders, d_inauguration[['president', 'start_date', 'num']], on='president', how='left')\n",
    "\n",
    "# Drop the extra 'start_date_y' column if it exists\n",
    "if 'start_date_y' in d_exec_orders.columns:\n",
    "    d_exec_orders = d_exec_orders.drop(columns=['start_date_y'])\n",
    "\n",
    "# Ensure we are using 'start_date_x' as the correct start date\n",
    "d_exec_orders = d_exec_orders.rename(columns={'start_date_x': 'start_date'})\n",
    "\n",
    "# Convert 'exec_order_signed_date' and 'start_date' to datetime format if they are still strings\n",
    "d_exec_orders['exec_order_signed_date'] = pd.to_datetime(d_exec_orders['exec_order_signed_date'], errors='coerce')\n",
    "d_exec_orders['start_date'] = pd.to_datetime(d_exec_orders['start_date'], errors='coerce')\n",
    "\n",
    "# Filter the data to only include the first 50 days after each president's start date\n",
    "d_exec_orders['days_since_start'] = (d_exec_orders['exec_order_signed_date'] - d_exec_orders['start_date']).dt.days\n",
    "\n",
    "# Keep only rows where 'days_since_start' is between 0 and 50\n",
    "# d_exec_orders = d_exec_orders[(d_exec_orders['days_since_start'] >= 0) & (d_exec_orders['days_since_start'] <= 49)]\n",
    "\n",
    "# Calculate 'days_in_office' as the difference between exec_order_signed_date and start_date\n",
    "d_exec_orders['days_in_office'] = (d_exec_orders['exec_order_signed_date'] - d_exec_orders['start_date']).dt.days + 1\n",
    "\n",
    "# Drop the 'days_since_start' column as it's no longer needed\n",
    "d_exec_orders = d_exec_orders.drop(columns=['days_since_start'])\n",
    "\n",
    "# Save the resulting DataFrame as 'd_exec_orders.csv'\n",
    "d_exec_orders.to_csv(\"d_exec_orders.csv\", index=False)\n",
    "\n",
    "# Display the resulting DataFrame\n",
    "# display(HTML(d_exec_orders.to_html(index=False, escape=False)))\n",
    "\n",
    "print(\"Filtered data to include only the first 50 days after each president's start date. 'num' added from d_inauguration. 'days_in_office' calculated and included. File saved as 'd_exec_orders.csv'.\")"
   ]
  },
  {
   "cell_type": "code",
   "execution_count": 17,
   "metadata": {},
   "outputs": [
    {
     "name": "stdout",
     "output_type": "stream",
     "text": [
      "   term         president exec_order_signed_date  start_date  days_in_office  \\\n",
      "0    25  William McKinley             1897-04-24  1897-03-04              52   \n",
      "1    25  William McKinley             1897-05-24  1897-03-04              82   \n",
      "2    25  William McKinley             1897-07-15  1897-03-04             134   \n",
      "3    25  William McKinley             1897-07-27  1897-03-04             146   \n",
      "4    25  William McKinley             1897-07-27  1897-03-04             146   \n",
      "\n",
      "   num_rel num_abs  \n",
      "0        1      97  \n",
      "1        2      98  \n",
      "2        3      99  \n",
      "3        4     100  \n",
      "4        5     101  \n",
      "Data saved as 'd_exec_orders_processed.csv'.\n"
     ]
    }
   ],
   "source": [
    "import pandas as pd\n",
    "\n",
    "# Load the d_exec_orders CSV file\n",
    "d_exec_orders = pd.read_csv(\"d_exec_orders.csv\")\n",
    "\n",
    "# Rename the 'num' column to 'term'\n",
    "d_exec_orders = d_exec_orders.rename(columns={'num': 'term'})\n",
    "\n",
    "# Reorder columns to match the specified order and remove the 'title' column\n",
    "d_exec_orders = d_exec_orders[['term', 'president', 'exec_order_signed_date', 'start_date', 'days_in_office', 'num_rel', 'num_abs']]\n",
    "\n",
    "# Optionally, check the data and inspect the columns\n",
    "print(d_exec_orders.head())\n",
    "\n",
    "# Save the DataFrame as d_exec_orders_processed.csv\n",
    "d_exec_orders.to_csv(\"d_exec_orders_processed.csv\", index=False)\n",
    "\n",
    "print(\"Data saved as 'd_exec_orders_processed.csv'.\")"
   ]
  },
  {
   "cell_type": "markdown",
   "metadata": {},
   "source": [
    "### rbt_exec_orders"
   ]
  },
  {
   "cell_type": "code",
   "execution_count": 18,
   "metadata": {},
   "outputs": [
    {
     "name": "stdout",
     "output_type": "stream",
     "text": [
      "  term         president day num_exec_orders\n",
      "0   25  William McKinley   1               0\n",
      "1   25  William McKinley   2               0\n",
      "2   25  William McKinley   3               0\n",
      "3   25  William McKinley   4               0\n",
      "4   25  William McKinley   5               0\n",
      "rbt_exec_orders created and saved as 'rbt_exec_orders.csv'.\n"
     ]
    }
   ],
   "source": [
    "import pandas as pd\n",
    "\n",
    "# Load the d_exec_orders_processed CSV file\n",
    "d_exec_orders = pd.read_csv(\"d_exec_orders_processed.csv\")\n",
    "\n",
    "# Extract 'term' and 'president', and create a 'day' column that goes from 1 to 50 for each president-term combo\n",
    "rbt_exec_orders = pd.DataFrame(columns=['term', 'president', 'day', 'num_exec_orders'])\n",
    "\n",
    "# Loop over each president-term combo and create a day column from 1 to 50\n",
    "for _, group in d_exec_orders.groupby(['term', 'president']):\n",
    "    term = group['term'].iloc[0]  # Get the term\n",
    "    president = group['president'].iloc[0]  # Get the president\n",
    "    days = list(range(1, 51))  # Create days from 1 to 50\n",
    "    \n",
    "    # Create a DataFrame with these days for each president-term combo and initialize 'cum_exec_orders' as 0\n",
    "    temp_df = pd.DataFrame({'term': [term] * len(days), \n",
    "                            'president': [president] * len(days),\n",
    "                            'day': days,\n",
    "                            'num_exec_orders': [0] * len(days)})\n",
    "    \n",
    "    # Append the temp_df to rbt_exec_orders\n",
    "    rbt_exec_orders = pd.concat([rbt_exec_orders, temp_df], ignore_index=True)\n",
    "\n",
    "# Display the first few rows to check the result\n",
    "print(rbt_exec_orders.head())\n",
    "\n",
    "# Save the resulting DataFrame as 'rbt_exec_orders.csv'\n",
    "rbt_exec_orders.to_csv(\"rbt_exec_orders.csv\", index=False)\n",
    "\n",
    "print(\"rbt_exec_orders created and saved as 'rbt_exec_orders.csv'.\")\n"
   ]
  },
  {
   "cell_type": "code",
   "execution_count": 19,
   "metadata": {},
   "outputs": [
    {
     "name": "stdout",
     "output_type": "stream",
     "text": [
      "   term            president  day  num_exec_orders  cum_exec_orders\n",
      "0    25     William McKinley    0                0                0\n",
      "1    26   Theodore Roosevelt    0                0                0\n",
      "2    27  William Howard Taft    0                0                0\n",
      "3    28       Woodrow Wilson    0                0                0\n",
      "4    29    Warren G. Harding    0                0                0\n",
      "rbt_exec_orders with day 0 included and cumulative sum saved as 'rbt_exec_orders.csv'.\n"
     ]
    }
   ],
   "source": [
    "import pandas as pd\n",
    "\n",
    "# Load the d_exec_orders_processed CSV file\n",
    "d_exec_orders_processed = pd.read_csv(\"d_exec_orders_processed.csv\")\n",
    "\n",
    "# Load the rbt_exec_orders DataFrame (the one we created earlier)\n",
    "rbt_exec_orders = pd.read_csv(\"rbt_exec_orders.csv\")\n",
    "\n",
    "# Merge rbt_exec_orders with d_exec_orders_processed on president, term, and day (which corresponds to days_in_office)\n",
    "merged_df = pd.merge(rbt_exec_orders, d_exec_orders_processed, \n",
    "                     left_on=['president', 'term', 'day'], \n",
    "                     right_on=['president', 'term', 'days_in_office'], \n",
    "                     how='left')\n",
    "\n",
    "# Count distinct num_abs for each group\n",
    "# Group by term, president, and day (from rbt_exec_orders) and calculate the count of distinct num_abs\n",
    "merged_df['num_exec_orders'] = merged_df.groupby(['term', 'president', 'day'])['num_abs'].transform('nunique')\n",
    "\n",
    "# Drop the unnecessary columns from the merge\n",
    "merged_df = merged_df[['term', 'president', 'day', 'num_exec_orders']]\n",
    "\n",
    "# Deduplicate the final table by removing duplicate rows\n",
    "merged_df = merged_df.drop_duplicates()\n",
    "\n",
    "# Calculate the cumulative sum of num_exec_orders for each president and term\n",
    "merged_df['cum_exec_orders'] = merged_df.groupby(['term', 'president'])['num_exec_orders'].cumsum()\n",
    "\n",
    "# Add a row for day 0 with num_exec_orders 0 and cum_exec_orders 0 for each president\n",
    "day_0_df = merged_df.groupby(['term', 'president']).first().reset_index()\n",
    "day_0_df['day'] = 0\n",
    "day_0_df['num_exec_orders'] = 0\n",
    "day_0_df['cum_exec_orders'] = 0\n",
    "\n",
    "# Concatenate the day 0 rows with the merged data\n",
    "final_df = pd.concat([day_0_df, merged_df], ignore_index=True)\n",
    "\n",
    "# Sort by term, president, and day\n",
    "rbt_exec_orders = final_df.sort_values(by=['term', 'president', 'day']).reset_index(drop=True)\n",
    "\n",
    "# Display the first few rows to verify the result\n",
    "print(final_df.head())\n",
    "\n",
    "# Save the resulting DataFrame as 'rbt_exec_orders.csv'\n",
    "final_df.to_csv(\"rbt_exec_orders.csv\", index=False)\n",
    "\n",
    "print(\"rbt_exec_orders with day 0 included and cumulative sum saved as 'rbt_exec_orders.csv'.\")\n"
   ]
  },
  {
   "cell_type": "markdown",
   "metadata": {},
   "source": [
    "## Visualisation"
   ]
  },
  {
   "cell_type": "code",
   "execution_count": 7,
   "metadata": {},
   "outputs": [],
   "source": [
    "# import plotly.express as px\n",
    "# import pandas as pd\n",
    "\n",
    "# # Function to generate 50 trend charts for a given president\n",
    "# def generate_trend_charts(president_name, rbt_exec_orders, height=600, width=800):\n",
    "#     # Filter the data for the selected president\n",
    "#     president_data = rbt_exec_orders[rbt_exec_orders['president'] == president_name]\n",
    "    \n",
    "#     # Check if the president exists in the data\n",
    "#     if president_data.empty:\n",
    "#         print(f\"No data available for {president_name}\")\n",
    "#         return\n",
    "    \n",
    "#     # Loop through each day from 1 to 50\n",
    "#     for day in range(1, 51):\n",
    "#         # Filter the data up to the current day\n",
    "#         chart_data = president_data[president_data['day'] <= day]\n",
    "\n",
    "#         # Get the dynamic y-axis maximum based on the current day's data\n",
    "#         y_max = chart_data['cum_exec_orders'].max() * 1.05  # Slightly above the max value\n",
    "\n",
    "#         # Create the trend chart\n",
    "#         fig = px.line(chart_data, \n",
    "#                       x='day', \n",
    "#                       y='cum_exec_orders', \n",
    "#                       color='president', \n",
    "#                       template='HorizonAnalytics')\n",
    "        \n",
    "#         # Fix x-axis from 0 to 50 and set dynamic y-axis\n",
    "#         fig.update_layout(\n",
    "#             xaxis=dict(range=[0, 50]),\n",
    "#             yaxis=dict(range=[0, y_max]),  # Set y-axis min to 0, max dynamically updated\n",
    "#             xaxis_title=None,\n",
    "#             yaxis_title=None,\n",
    "#             showlegend=False,  # Hide the legend\n",
    "#             height=height,  # Set custom height\n",
    "#             width=width     # Set custom width\n",
    "#         )\n",
    "        \n",
    "#         # Show the plot\n",
    "#         fig.show()\n",
    "\n",
    "# # Example of calling the function\n",
    "# generate_trend_charts(\"Donald Trump – II\", rbt_exec_orders)"
   ]
  },
  {
   "cell_type": "markdown",
   "metadata": {},
   "source": [
    "Frame by frame\n",
    "Remove y axis and x axis titles"
   ]
  },
  {
   "cell_type": "code",
   "execution_count": 13,
   "metadata": {},
   "outputs": [
    {
     "name": "stdout",
     "output_type": "stream",
     "text": [
      "Charts saved in the directory: output_images\n"
     ]
    }
   ],
   "source": [
    "import plotly.express as px\n",
    "import pandas as pd\n",
    "import os\n",
    "\n",
    "# Function to generate and save 50 trend charts for each president with a global y-axis maximum\n",
    "def generate_global_trend_charts(rbt_exec_orders, height=600, width=800, output_dir='output_images'):\n",
    "    global_max = 0  # Initialize the global maximum for y-axis\n",
    "\n",
    "    # Create the output directory if it doesn't exist\n",
    "    if not os.path.exists(output_dir):\n",
    "        os.makedirs(output_dir)\n",
    "\n",
    "    # Get unique presidents\n",
    "    presidents = rbt_exec_orders['president'].unique()\n",
    "\n",
    "    # Initialize chart index\n",
    "    chart_index = 1\n",
    "\n",
    "    # To track the lines plotted so far\n",
    "    all_previous_lines = []\n",
    "\n",
    "    # Loop through each president\n",
    "    for president_name in presidents:\n",
    "        # Filter the data for the current president\n",
    "        president_data = rbt_exec_orders[rbt_exec_orders['president'] == president_name]\n",
    "        \n",
    "        # Check if the president exists in the data\n",
    "        if president_data.empty:\n",
    "            print(f\"No data available for {president_name}\")\n",
    "            continue\n",
    "\n",
    "        # Loop through each day from 1 to 50 for the current president\n",
    "        for day in range(1, 51):\n",
    "            # Filter the data up to the current day\n",
    "            chart_data = president_data[president_data['day'] <= day]\n",
    "\n",
    "            # Update the global maximum based on the current chart data\n",
    "            global_max = max(global_max, chart_data['cum_exec_orders'].max())  # Update global max\n",
    "\n",
    "            # Create the trend chart\n",
    "            fig = px.line(chart_data, \n",
    "                          x='day', \n",
    "                          y='cum_exec_orders', \n",
    "                          color='president', \n",
    "                          template='HorizonAnalytics')\n",
    "            \n",
    "            # Add previous lines (in grey/transparent color)\n",
    "            for prev_line in all_previous_lines:\n",
    "                fig.add_trace(prev_line)\n",
    "\n",
    "            # Add current president's line\n",
    "            fig.add_trace(px.line(chart_data, x='day', y='cum_exec_orders').data[0])\n",
    "            \n",
    "            # Fix x-axis from 0 to 50 and set global y-axis maximum, ensuring y-axis starts from 0 and adding 5 units\n",
    "            fig.update_layout(\n",
    "                xaxis=dict(range=[0, 50]),\n",
    "                yaxis=dict(\n",
    "                    range=[0, global_max + 5]  # Always add 5 units to the max y-axis value\n",
    "                ),\n",
    "                xaxis_title=None,\n",
    "                yaxis_title=None,\n",
    "                showlegend=False,  # Hide the legend\n",
    "                height=height,     # Set custom height\n",
    "                width=width,       # Set custom width\n",
    "                # Set transparent background\n",
    "                plot_bgcolor='rgba(0, 0, 0, 0)',  # Transparent background for plot area\n",
    "                paper_bgcolor='rgba(0, 0, 0, 0)'  # Transparent background for the overall paper\n",
    "            )\n",
    "\n",
    "            # Construct the file name with zero-padding for 4 digits (e.g., 0001.png, 0002.png)\n",
    "            file_name = f\"{chart_index:04d}.png\"\n",
    "            file_path = os.path.join(output_dir, file_name)\n",
    "\n",
    "            # Save the chart as a .png file\n",
    "            fig.write_image(file_path)\n",
    "\n",
    "            # Increment the chart index\n",
    "            chart_index += 1\n",
    "\n",
    "        # After finishing plotting for this president, save the lines for future plots\n",
    "        # Add the current president's line in grey to all_previous_lines\n",
    "        fig_data = px.line(president_data, x='day', y='cum_exec_orders', color_discrete_sequence=['grey']).data[0]\n",
    "        all_previous_lines.append(fig_data)\n",
    "\n",
    "    print(f\"Charts saved in the directory: {output_dir}\")\n",
    "\n",
    "# Example of calling the function\n",
    "generate_global_trend_charts(rbt_exec_orders, height=1080, width=1280, output_dir='output_images')"
   ]
  },
  {
   "cell_type": "code",
   "execution_count": 4,
   "metadata": {},
   "outputs": [
    {
     "name": "stderr",
     "output_type": "stream",
     "text": [
      "/var/folders/r0/4vr5j1517ggd5nvq86w27hhm0000gn/T/ipykernel_69974/1772986762.py:5: DeprecationWarning:\n",
      "\n",
      "Importing display from IPython.core.display is deprecated since IPython 7.14, please import from IPython.display\n",
      "\n"
     ]
    },
    {
     "data": {
      "application/vnd.plotly.v1+json": {
       "config": {
        "plotlyServerURL": "https://plot.ly"
       },
       "data": [
        {
         "hovertemplate": "day=%{x}<br>cum_exec_orders=%{y}<extra></extra>",
         "legendgroup": "",
         "line": {
          "color": "yellow",
          "dash": "solid",
          "width": 9
         },
         "marker": {
          "symbol": "circle"
         },
         "mode": "lines",
         "name": "",
         "orientation": "v",
         "showlegend": false,
         "type": "scatter",
         "x": {
          "bdata": "AAABAgMEBQYHCAkKCwwNDg8QERITFBUWFxgZGhscHR4fICEiIyQlJicoKSorLC0uLzAxMg==",
          "dtype": "i1"
         },
         "xaxis": "x",
         "y": {
          "bdata": "AAAaHB0hJCQkKCktLS4xMTQ1Nzk8PDw/QEFCQ0REREZJSUlJSUlLTExMT1FSU1NXWVlZWQ==",
          "dtype": "i1"
         },
         "yaxis": "y"
        },
        {
         "hovertemplate": "day=%{x}<br>cum_exec_orders=%{y}<extra></extra>",
         "legendgroup": "",
         "line": {
          "color": "lightgrey",
          "dash": "solid",
          "width": 9
         },
         "marker": {
          "symbol": "circle"
         },
         "mode": "lines",
         "name": "",
         "orientation": "v",
         "showlegend": false,
         "type": "scatter",
         "x": {
          "bdata": "AAABAgMEBQYHCAkKCwwNDg8QERITFBUWFxgZGhscHR4fICEiIyQlJicoKSorLC0uLzAxMg==",
          "dtype": "i1"
         },
         "xaxis": "x",
         "y": {
          "bdata": "AAAJERMTExUWGBkZGRkZHBwdHR0dHR0dHh4eHx8fICAgICAgICIiIiIiIiIiIiIiIyUlJQ==",
          "dtype": "i1"
         },
         "yaxis": "y"
        },
        {
         "hovertemplate": "day=%{x}<br>cum_exec_orders=%{y}<extra></extra>",
         "legendgroup": "",
         "line": {
          "color": "lightgrey",
          "dash": "solid",
          "width": 9
         },
         "marker": {
          "symbol": "circle"
         },
         "mode": "lines",
         "name": "",
         "orientation": "v",
         "showlegend": false,
         "type": "scatter",
         "x": {
          "bdata": "AAABAgMEBQYHCAkKCwwNDg8QERITFBUWFxgZGhscHR4fICEiIyQlJicoKSorLC0uLzAxMg==",
          "dtype": "i1"
         },
         "xaxis": "x",
         "y": {
          "bdata": "AAABAQEBAgQEBQYGBwcHBwgICAgICAwMDAwMDAwMDAwMDAwMDA0NDQ0PDw8PDw8QEBAQEA==",
          "dtype": "i1"
         },
         "yaxis": "y"
        },
        {
         "hovertemplate": "day=%{x}<br>cum_exec_orders=%{y}<extra></extra>",
         "legendgroup": "",
         "line": {
          "color": "lightgrey",
          "dash": "solid",
          "width": 9
         },
         "marker": {
          "symbol": "circle"
         },
         "mode": "lines",
         "name": "",
         "orientation": "v",
         "showlegend": false,
         "type": "scatter",
         "x": {
          "bdata": "AAABAgMEBQYHCAkKCwwNDg8QERITFBUWFxgZGhscHR4fICEiIyQlJicoKSorLC0uLzAxMg==",
          "dtype": "i1"
         },
         "xaxis": "x",
         "y": {
          "bdata": "AAAAAgUFBQUFBQUFCQkJCQkJDA4ODg4ODg4ODg4ODg4PEBAQEBAQEBAQEBAQEBAQEBAREQ==",
          "dtype": "i1"
         },
         "yaxis": "y"
        },
        {
         "hovertemplate": "day=%{x}<br>cum_exec_orders=%{y}<extra></extra>",
         "legendgroup": "",
         "line": {
          "color": "lightgrey",
          "dash": "solid",
          "width": 9
         },
         "marker": {
          "symbol": "circle"
         },
         "mode": "lines",
         "name": "",
         "orientation": "v",
         "showlegend": false,
         "type": "scatter",
         "x": {
          "bdata": "AAABAgMEBQYHCAkKCwwNDg8QERITFBUWFxgZGhscHR4fICEiIyQlJicoKSorLC0uLzAxMg==",
          "dtype": "i1"
         },
         "xaxis": "x",
         "y": {
          "bdata": "AAAAAAAAAAAAAAACAgICAgICAgICAgICAwMDAwMDBwcHBwcHBwcHBwcHBwcHBwcHBwcICA==",
          "dtype": "i1"
         },
         "yaxis": "y"
        },
        {
         "hovertemplate": "day=%{x}<br>cum_exec_orders=%{y}<extra></extra>",
         "legendgroup": "",
         "line": {
          "color": "lightgrey",
          "dash": "solid",
          "width": 9
         },
         "marker": {
          "symbol": "circle"
         },
         "mode": "lines",
         "name": "",
         "orientation": "v",
         "showlegend": false,
         "type": "scatter",
         "x": {
          "bdata": "AAABAgMEBQYHCAkKCwwNDg8QERITFBUWFxgZGhscHR4fICEiIyQlJicoKSorLC0uLzAxMg==",
          "dtype": "i1"
         },
         "xaxis": "x",
         "y": {
          "bdata": "AAABAQEBAQICAgICAgIDAwMDAwMDAwMGBgYGBgYGBgYGBgYGBgYGBgYGBgYGBgYGBgYICA==",
          "dtype": "i1"
         },
         "yaxis": "y"
        },
        {
         "hovertemplate": "day=%{x}<br>cum_exec_orders=%{y}<extra></extra>",
         "legendgroup": "",
         "line": {
          "color": "lightgrey",
          "dash": "solid",
          "width": 9
         },
         "marker": {
          "symbol": "circle"
         },
         "mode": "lines",
         "name": "",
         "orientation": "v",
         "showlegend": false,
         "type": "scatter",
         "x": {
          "bdata": "AAABAgMEBQYHCAkKCwwNDg8QERITFBUWFxgZGhscHR4fICEiIyQlJicoKSorLC0uLzAxMg==",
          "dtype": "i1"
         },
         "xaxis": "x",
         "y": {
          "bdata": "AAAAAAAAAAEBAQEBAQEBAQEBAQEBAQEBAQEBAQEBAQEBAgICAgICAgICAgICAgICAgIDAw==",
          "dtype": "i1"
         },
         "yaxis": "y"
        },
        {
         "hovertemplate": "day=%{x}<br>cum_exec_orders=%{y}<extra></extra>",
         "legendgroup": "",
         "line": {
          "color": "lightgrey",
          "dash": "solid",
          "width": 9
         },
         "marker": {
          "symbol": "circle"
         },
         "mode": "lines",
         "name": "",
         "orientation": "v",
         "showlegend": false,
         "type": "scatter",
         "x": {
          "bdata": "AAABAgMEBQYHCAkKCwwNDg8QERITFBUWFxgZGhscHR4fICEiIyQlJicoKSorLC0uLzAxMg==",
          "dtype": "i1"
         },
         "xaxis": "x",
         "y": {
          "bdata": "AAAAAAAAAAAAAAECAgICAgICAgICAgICAgICAwMDBQUFBQUFBwkJCQkJCQoKCgoKCgoKCg==",
          "dtype": "i1"
         },
         "yaxis": "y"
        },
        {
         "hovertemplate": "day=%{x}<br>cum_exec_orders=%{y}<extra></extra>",
         "legendgroup": "",
         "line": {
          "color": "lightgrey",
          "dash": "solid",
          "width": 9
         },
         "marker": {
          "symbol": "circle"
         },
         "mode": "lines",
         "name": "",
         "orientation": "v",
         "showlegend": false,
         "type": "scatter",
         "x": {
          "bdata": "AAABAgMEBQYHCAkKCwwNDg8QERITFBUWFxgZGhscHR4fICEiIyQlJicoKSorLC0uLzAxMg==",
          "dtype": "i1"
         },
         "xaxis": "x",
         "y": {
          "bdata": "AAAAAQEBAQEBAQEBAQICAwMDBAQEBAQEBQUFBgYGBwcHBwcHBwcICAgICAgICAgICQkJCQ==",
          "dtype": "i1"
         },
         "yaxis": "y"
        },
        {
         "hovertemplate": "day=%{x}<br>cum_exec_orders=%{y}<extra></extra>",
         "legendgroup": "",
         "line": {
          "color": "lightgrey",
          "dash": "solid",
          "width": 9
         },
         "marker": {
          "symbol": "circle"
         },
         "mode": "lines",
         "name": "",
         "orientation": "v",
         "showlegend": false,
         "type": "scatter",
         "x": {
          "bdata": "AAABAgMEBQYHCAkKCwwNDg8QERITFBUWFxgZGhscHR4fICEiIyQlJicoKSorLC0uLzAxMg==",
          "dtype": "i1"
         },
         "xaxis": "x",
         "y": {
          "bdata": "AAAAAAAAAAEBAQMDAwMEBAQEBAQEBAQEBAQEBAUFBQUFBQUFBQUFBQcHBwcICAgICAkJCQ==",
          "dtype": "i1"
         },
         "yaxis": "y"
        },
        {
         "hovertemplate": "day=%{x}<br>cum_exec_orders=%{y}<extra></extra>",
         "legendgroup": "",
         "line": {
          "color": "lightgrey",
          "dash": "solid",
          "width": 9
         },
         "marker": {
          "symbol": "circle"
         },
         "mode": "lines",
         "name": "",
         "orientation": "v",
         "showlegend": false,
         "type": "scatter",
         "x": {
          "bdata": "AAABAgMEBQYHCAkKCwwNDg8QERITFBUWFxgZGhscHR4fICEiIyQlJicoKSorLC0uLzAxMg==",
          "dtype": "i1"
         },
         "xaxis": "x",
         "y": {
          "bdata": "AAAAAAABAgICAgICAgICAgICAgIDAwMDAwMDBQUFBQUFBQUFBQUFBQUFBQUFBgcHCAgICA==",
          "dtype": "i1"
         },
         "yaxis": "y"
        },
        {
         "hovertemplate": "day=%{x}<br>cum_exec_orders=%{y}<extra></extra>",
         "legendgroup": "",
         "line": {
          "color": "lightgrey",
          "dash": "solid",
          "width": 9
         },
         "marker": {
          "symbol": "circle"
         },
         "mode": "lines",
         "name": "",
         "orientation": "v",
         "showlegend": false,
         "type": "scatter",
         "x": {
          "bdata": "AAABAgMEBQYHCAkKCwwNDg8QERITFBUWFxgZGhscHR4fICEiIyQlJicoKSorLC0uLzAxMg==",
          "dtype": "i1"
         },
         "xaxis": "x",
         "y": {
          "bdata": "AAAAAQEBAQEBAwMDAwMDAwMDAwMDBAUFBQUFBgYGBwcHBwcHBwcHBwcHBwcJCQkJDAwMDA==",
          "dtype": "i1"
         },
         "yaxis": "y"
        },
        {
         "hovertemplate": "day=%{x}<br>cum_exec_orders=%{y}<extra></extra>",
         "legendgroup": "",
         "line": {
          "color": "lightgrey",
          "dash": "solid",
          "width": 9
         },
         "marker": {
          "symbol": "circle"
         },
         "mode": "lines",
         "name": "",
         "orientation": "v",
         "showlegend": false,
         "type": "scatter",
         "x": {
          "bdata": "AAABAgMEBQYHCAkKCwwNDg8QERITFBUWFxgZGhscHR4fICEiIyQlJicoKSorLC0uLzAxMg==",
          "dtype": "i1"
         },
         "xaxis": "x",
         "y": {
          "bdata": "AAAAAQEBAwMDAwMDAwMDAwMDAwMDAwMEBAQEBAQFBgcHBwgICQoKCgoKCwsLCwsMDAwMDA==",
          "dtype": "i1"
         },
         "yaxis": "y"
        },
        {
         "hovertemplate": "day=%{x}<br>cum_exec_orders=%{y}<extra></extra>",
         "legendgroup": "",
         "line": {
          "color": "lightgrey",
          "dash": "solid",
          "width": 9
         },
         "marker": {
          "symbol": "circle"
         },
         "mode": "lines",
         "name": "",
         "orientation": "v",
         "showlegend": false,
         "type": "scatter",
         "x": {
          "bdata": "AAABAgMEBQYHCAkKCwwNDg8QERITFBUWFxgZGhscHR4fICEiIyQlJicoKSorLC0uLzAxMg==",
          "dtype": "i1"
         },
         "xaxis": "x",
         "y": {
          "bdata": "AAAAAAAAAQEBAQEBAQEBAQECAgQEBAQEBAQEBAQEBAQEBgYGBgYGBgYGBgYGBgYGBgYGBg==",
          "dtype": "i1"
         },
         "yaxis": "y"
        },
        {
         "hovertemplate": "day=%{x}<br>cum_exec_orders=%{y}<extra></extra>",
         "legendgroup": "",
         "line": {
          "color": "lightgrey",
          "dash": "solid",
          "width": 9
         },
         "marker": {
          "symbol": "circle"
         },
         "mode": "lines",
         "name": "",
         "orientation": "v",
         "showlegend": false,
         "type": "scatter",
         "x": {
          "bdata": "AAABAgMEBQYHCAkKCwwNDg8QERITFBUWFxgZGhscHR4fICEiIyQlJicoKSorLC0uLzAxMg==",
          "dtype": "i1"
         },
         "xaxis": "x",
         "y": {
          "bdata": "AAAAAgICAgMDBAQEBAYGBwcICAgICQoLCwsLCwwMDQ0NDQ0NDg4ODw8PEBESEhUVFhYWFg==",
          "dtype": "i1"
         },
         "yaxis": "y"
        },
        {
         "hovertemplate": "day=%{x}<br>cum_exec_orders=%{y}<extra></extra>",
         "legendgroup": "",
         "line": {
          "color": "lightgrey",
          "dash": "solid",
          "width": 9
         },
         "marker": {
          "symbol": "circle"
         },
         "mode": "lines",
         "name": "",
         "orientation": "v",
         "showlegend": false,
         "type": "scatter",
         "x": {
          "bdata": "AAABAgMEBQYHCAkKCwwNDg8QERITFBUWFxgZGhscHR4fICEiIyQlJicoKSorLC0uLzAxMg==",
          "dtype": "i1"
         },
         "xaxis": "x",
         "y": {
          "bdata": "AAAAAAAAAgIDAwMEBAcHBwoKCgoKCgsNDQ4REhIeHh4eHiEjIyMjJSYoKCgpKSkpKSoqLQ==",
          "dtype": "i1"
         },
         "yaxis": "y"
        },
        {
         "hovertemplate": "day=%{x}<br>cum_exec_orders=%{y}<extra></extra>",
         "legendgroup": "",
         "line": {
          "color": "lightgrey",
          "dash": "solid",
          "width": 9
         },
         "marker": {
          "symbol": "circle"
         },
         "mode": "lines",
         "name": "",
         "orientation": "v",
         "showlegend": false,
         "type": "scatter",
         "x": {
          "bdata": "AAABAgMEBQYHCAkKCwwNDg8QERITFBUWFxgZGhscHR4fICEiIyQlJicoKSorLC0uLzAxMg==",
          "dtype": "i1"
         },
         "xaxis": "x",
         "y": {
          "bdata": "AAAAAAACAgICAgMDBAQEBAQFBQUICQkJCQkKCgsLDAwMDAwMDA0SEhITExMUFBQUFRYWFg==",
          "dtype": "i1"
         },
         "yaxis": "y"
        },
        {
         "hovertemplate": "day=%{x}<br>cum_exec_orders=%{y}<extra></extra>",
         "legendgroup": "",
         "line": {
          "color": "lightgrey",
          "dash": "solid",
          "width": 9
         },
         "marker": {
          "symbol": "circle"
         },
         "mode": "lines",
         "name": "",
         "orientation": "v",
         "showlegend": false,
         "type": "scatter",
         "x": {
          "bdata": "AAABAgMEBQYHCAkKCwwNDg8QERITFBUWFxgZGhscHR4fICEiIyQlJicoKSorLC0uLzAxMg==",
          "dtype": "i1"
         },
         "xaxis": "x",
         "y": {
          "bdata": "AAAAAAMDBAQEBAQEBAUFBQUGBgYGBgYGBgYGBgYGBgYGBgYGBwcHBwcHBwcHBwcHBwcHBw==",
          "dtype": "i1"
         },
         "yaxis": "y"
        },
        {
         "hovertemplate": "day=%{x}<br>cum_exec_orders=%{y}<extra></extra>",
         "legendgroup": "",
         "line": {
          "color": "lightgrey",
          "dash": "solid",
          "width": 9
         },
         "marker": {
          "symbol": "circle"
         },
         "mode": "lines",
         "name": "",
         "orientation": "v",
         "showlegend": false,
         "type": "scatter",
         "x": {
          "bdata": "AAABAgMEBQYHCAkKCwwNDg8QERITFBUWFxgZGhscHR4fICEiIyQlJicoKSorLC0uLzAxMg==",
          "dtype": "i1"
         },
         "xaxis": "x",
         "y": {
          "bdata": "AAABAQEBAQEBAQEBAQEBAQEBAQEBAQEBAQEBAQEBAQEBAQEBAQICAgICAgMEBAQEBAQEBA==",
          "dtype": "i1"
         },
         "yaxis": "y"
        },
        {
         "hovertemplate": "day=%{x}<br>cum_exec_orders=%{y}<extra></extra>",
         "legendgroup": "",
         "line": {
          "color": "lightgrey",
          "dash": "solid",
          "width": 9
         },
         "marker": {
          "symbol": "circle"
         },
         "mode": "lines",
         "name": "",
         "orientation": "v",
         "showlegend": false,
         "type": "scatter",
         "x": {
          "bdata": "AAABAgMEBQYHCAkKCwwNDg8QERITFBUWFxgZGhscHR4fICEiIyQlJicoKSorLC0uLzAxMg==",
          "dtype": "i1"
         },
         "xaxis": "x",
         "y": {
          "bdata": "AAAAAAAAAAABAgICAwMDBAUHCQoMDA4ODw8PDw8QEBAQEBAQEBAQEBAQEBATExMUFBQYGA==",
          "dtype": "i1"
         },
         "yaxis": "y"
        },
        {
         "hovertemplate": "day=%{x}<br>cum_exec_orders=%{y}<extra></extra>",
         "legendgroup": "",
         "line": {
          "color": "lightgrey",
          "dash": "solid",
          "width": 9
         },
         "marker": {
          "symbol": "circle"
         },
         "mode": "lines",
         "name": "",
         "orientation": "v",
         "showlegend": false,
         "type": "scatter",
         "x": {
          "bdata": "AAABAgMEBQYHCAkKCwwNDg8QERITFBUWFxgZGhscHR4fICEiIyQlJicoKSorLC0uLzAxMg==",
          "dtype": "i1"
         },
         "xaxis": "x",
         "y": {
          "bdata": "AAAAAAAAAAAAAAAAAAABAQEBAQEBAgMDAwMDAwYGBgcHBwcICgsLCwsLCwwMDg4ODg4PDw==",
          "dtype": "i1"
         },
         "yaxis": "y"
        },
        {
         "hovertemplate": "day=%{x}<br>cum_exec_orders=%{y}<extra></extra>",
         "legendgroup": "",
         "line": {
          "color": "lightgrey",
          "dash": "solid",
          "width": 9
         },
         "marker": {
          "symbol": "circle"
         },
         "mode": "lines",
         "name": "",
         "orientation": "v",
         "showlegend": false,
         "type": "scatter",
         "x": {
          "bdata": "AAABAgMEBQYHCAkKCwwNDg8QERITFBUWFxgZGhscHR4fICEiIyQlJicoKSorLC0uLzAxMg==",
          "dtype": "i1"
         },
         "xaxis": "x",
         "y": {
          "bdata": "AAAAAAAAAAAAAAAAAAAAAAAAAAAAAAAAAAAAAAAAAAAAAAAAAAAAAAAAAAAAAAAAAAECAg==",
          "dtype": "i1"
         },
         "yaxis": "y"
        },
        {
         "hovertemplate": "day=%{x}<br>cum_exec_orders=%{y}<extra></extra>",
         "legendgroup": "",
         "line": {
          "color": "lightgrey",
          "dash": "solid",
          "width": 9
         },
         "marker": {
          "symbol": "circle"
         },
         "mode": "lines",
         "name": "",
         "orientation": "v",
         "showlegend": false,
         "type": "scatter",
         "x": {
          "bdata": "AAABAgMEBQYHCAkKCwwNDg8QERITFBUWFxgZGhscHR4fICEiIyQlJicoKSorLC0uLzAxMg==",
          "dtype": "i1"
         },
         "xaxis": "x",
         "y": {
          "bdata": "AAAAAAAAAAAAAAAAAAAAAAAAAAAAAAAAAAAAAAAAAAAAAAAAAAAAAAAAAAAAAAAAAAAAAA==",
          "dtype": "i1"
         },
         "yaxis": "y"
        }
       ],
       "layout": {
        "height": 1080,
        "margin": {
         "b": 140,
         "l": 180,
         "r": 40,
         "t": 40
        },
        "paper_bgcolor": "rgba(0, 0, 0, 0)",
        "plot_bgcolor": "rgba(0, 0, 0, 0)",
        "showlegend": false,
        "template": {
         "data": {
          "scatter": [
           {
            "line": {
             "width": 5
            },
            "type": "scatter"
           }
          ]
         },
         "layout": {
          "colorway": [
           "#FFFF00",
           "#33D7FF",
           "#A463FF",
           "#FFD700",
           "#ff4081",
           "#ffc107",
           "#00c4a0",
           "#a0aec0"
          ],
          "font": {
           "color": "#ffffff",
           "family": "Montserrat, sans-serif",
           "size": 36,
           "weight": "bold"
          },
          "height": 800,
          "paper_bgcolor": "#0d1b2a",
          "plot_bgcolor": "#0d1b2a",
          "title": {
           "font": {
            "color": "#ffffff",
            "family": "Montserrat, sans-serif",
            "size": 64,
            "weight": "bold"
           },
           "text": "",
           "x": 0.5,
           "y": 0.97
          },
          "width": 1294.4,
          "xaxis": {
           "anchor": "y",
           "gridcolor": "rgba(255, 255, 255, 0.2)",
           "linecolor": "#ffffff",
           "linewidth": 2,
           "showgrid": true,
           "tickfont": {
            "color": "#ffffff",
            "family": "Montserrat, sans-serif",
            "size": 36,
            "weight": "bold"
           },
           "title": {
            "font": {
             "color": "#ffffff",
             "family": "Montserrat, sans-serif",
             "size": 48,
             "weight": "bold"
            },
            "text": ""
           }
          },
          "yaxis": {
           "anchor": "x",
           "gridcolor": "rgba(255, 255, 255, 0.2)",
           "linecolor": "#ffffff",
           "linewidth": 2,
           "showgrid": true,
           "tickfont": {
            "color": "#ffffff",
            "family": "Montserrat, sans-serif",
            "size": 36,
            "weight": "bold"
           },
           "title": {
            "font": {
             "color": "#ffffff",
             "family": "Montserrat, sans-serif",
             "size": 48,
             "weight": "bold"
            },
            "text": ""
           }
          }
         }
        },
        "width": 1920,
        "xaxis": {
         "dtick": 5,
         "showticklabels": true,
         "ticklabelposition": "outside",
         "tickmode": "linear",
         "title": {}
        },
        "yaxis": {
         "showticklabels": true,
         "ticklabelposition": "outside",
         "title": {}
        }
       }
      }
     },
     "metadata": {},
     "output_type": "display_data"
    }
   ],
   "source": [
    "import pandas as pd\n",
    "import plotly.graph_objects as go\n",
    "import plotly.express as px\n",
    "import os\n",
    "from IPython.core.display import display\n",
    "\n",
    "# Function to display the final cumulative executive order trend chart\n",
    "def display_final_exec_orders_chart(file_path=\"rbt_exec_orders.csv\", height=600, width=800, line_width=2):\n",
    "    \"\"\"\n",
    "    Reads rbt_exec_orders.csv and generates the final cumulative executive orders trend chart.\n",
    "    \n",
    "    Displays the chart in Jupyter Notebook (does not save it as a file).\n",
    "\n",
    "    Parameters:\n",
    "        file_path (str): Path to rbt_exec_orders.csv.\n",
    "        height (int): Chart height in pixels.\n",
    "        width (int): Chart width in pixels.\n",
    "        line_width (int): Thickness of the lines in the plot.\n",
    "\n",
    "    Returns:\n",
    "        None (displays the figure).\n",
    "    \"\"\"\n",
    "    # Load data\n",
    "    if not os.path.exists(file_path):\n",
    "        print(f\"Error: {file_path} not found.\")\n",
    "        return\n",
    "    \n",
    "    rbt_exec_orders = pd.read_csv(file_path)\n",
    "\n",
    "    # Ensure required columns exist\n",
    "    required_cols = {\"president\", \"term\", \"day\", \"cum_exec_orders\"}\n",
    "    if not required_cols.issubset(rbt_exec_orders.columns):\n",
    "        print(f\"Error: The file must contain {required_cols} columns.\")\n",
    "        return\n",
    "\n",
    "    # Ensure all presidents start at Day 0 (0 executive orders)\n",
    "    adjusted_data = []\n",
    "\n",
    "    for president_name, group in rbt_exec_orders.groupby(\"president\"):\n",
    "        day_0 = {\n",
    "            \"president\": president_name,\n",
    "            \"term\": group[\"term\"].iloc[0],\n",
    "            \"day\": 0,\n",
    "            \"cum_exec_orders\": 0\n",
    "        }\n",
    "        adjusted_data.append(day_0)\n",
    "        adjusted_data.extend(group.to_dict(orient=\"records\"))\n",
    "\n",
    "    # Convert adjusted data back to DataFrame and ensure correct sorting\n",
    "    rbt_exec_orders = pd.DataFrame(adjusted_data).sort_values([\"term\", \"day\"], ascending=[False, True])\n",
    "\n",
    "    # Get unique presidents ordered from **last to first** term\n",
    "    presidents = rbt_exec_orders[\"president\"].unique()\n",
    "\n",
    "    # Initialize list to store traces\n",
    "    traces = []\n",
    "\n",
    "    # Loop through each president\n",
    "    for president_name in presidents:\n",
    "        # Filter the data for the current president\n",
    "        president_data = rbt_exec_orders[rbt_exec_orders['president'] == president_name]\n",
    "\n",
    "        if president_data.empty:\n",
    "            print(f\"No data available for {president_name}\")\n",
    "            continue\n",
    "\n",
    "        # Highlight **Donald Trump – II** in **red**, all others in grey\n",
    "        line_color = \"yellow\" if president_name == \"Donald Trump – II\" else \"lightgrey\"\n",
    "\n",
    "        # Create line trace\n",
    "        trace = px.line(\n",
    "            president_data,\n",
    "            x=\"day\",\n",
    "            y=\"cum_exec_orders\",\n",
    "            color_discrete_sequence=[line_color]\n",
    "        ).data[0]\n",
    "        \n",
    "        # Set line width\n",
    "        trace.line.width = line_width\n",
    "        traces.append(trace)\n",
    "\n",
    "    # Create the final figure with all traces\n",
    "    fig = go.Figure(layout_template=\"HorizonAnalytics\")\n",
    "    for trace in traces:\n",
    "        fig.add_trace(trace)\n",
    "\n",
    "    # Configure layout settings\n",
    "    fig.update_layout(\n",
    "        xaxis=dict(\n",
    "            title=None,\n",
    "            showticklabels=True,\n",
    "            ticklabelposition=\"outside\",\n",
    "            tickmode=\"linear\",\n",
    "            dtick=5  # Only show every 5th day\n",
    "        ),\n",
    "        yaxis=dict(\n",
    "            title=None,\n",
    "            showticklabels=True,\n",
    "            ticklabelposition=\"outside\",\n",
    "        ),\n",
    "        margin=dict(l=180, r=40, t=40, b=140),  # Prevent axis label cutoff\n",
    "        showlegend=False,\n",
    "        height=height,\n",
    "        width=width,\n",
    "        plot_bgcolor='rgba(0, 0, 0, 0)',  # Transparent background\n",
    "        paper_bgcolor='rgba(0, 0, 0, 0)'\n",
    "    )\n",
    "\n",
    "    # Display the final chart\n",
    "    display(fig)\n",
    "\n",
    "# Run the function to display the last frame\n",
    "display_final_exec_orders_chart(file_path=\"rbt_exec_orders.csv\", height=1080, width=1920, line_width=9)"
   ]
  },
  {
   "cell_type": "code",
   "execution_count": 14,
   "metadata": {},
   "outputs": [
    {
     "name": "stdout",
     "output_type": "stream",
     "text": [
      "Available font types: Black, BlackItalic, Bold, BoldItalic, ExtraBold, ExtraBoldItalic, ExtraLight, ExtraLightItalic, Italic, Light, LightItalic, Medium, MediumItalic, Regular, SemiBold, SemiBoldItalic, Thin, ThinItalic\n",
      "Frames saved in the directory: value_frames\n"
     ]
    }
   ],
   "source": [
    "from PIL import Image, ImageDraw, ImageFont\n",
    "import pandas as pd\n",
    "import os\n",
    "\n",
    "# Function to generate and save individual frames displaying president, day, cumulative exec orders, and global total\n",
    "def generate_value_frames(rbt_exec_orders, height=200, width=400, output_dir='output_images', font_size=42, font_type=\"Regular\", \n",
    "                          font_color=(255, 255, 255), font_outline_width=2, font_outline_color=(0, 0, 0)):\n",
    "    # Available font types (from the Montserrat font family):\n",
    "    font_types = [\n",
    "        \"Black\",\n",
    "        \"BlackItalic\",\n",
    "        \"Bold\",\n",
    "        \"BoldItalic\",\n",
    "        \"ExtraBold\",\n",
    "        \"ExtraBoldItalic\",\n",
    "        \"ExtraLight\",\n",
    "        \"ExtraLightItalic\",\n",
    "        \"Italic\",\n",
    "        \"Light\",\n",
    "        \"LightItalic\",\n",
    "        \"Medium\",\n",
    "        \"MediumItalic\",\n",
    "        \"Regular\",\n",
    "        \"SemiBold\",\n",
    "        \"SemiBoldItalic\",\n",
    "        \"Thin\",\n",
    "        \"ThinItalic\"\n",
    "    ]\n",
    "    \n",
    "    # Print the available font types for easy reference\n",
    "    print(f\"Available font types: {', '.join(font_types)}\")\n",
    "    \n",
    "    # Create the output directory if it doesn't exist\n",
    "    if not os.path.exists(output_dir):\n",
    "        os.makedirs(output_dir)\n",
    "\n",
    "    # Get unique presidents\n",
    "    presidents = rbt_exec_orders['president'].unique()\n",
    "\n",
    "    # Initialize frame index\n",
    "    frame_index = 1\n",
    "\n",
    "    # Path to the Montserrat font, allowing font type to be chosen\n",
    "    font_path = f'Montserrat/Montserrat-{font_type}.ttf'  # Use the selected font type\n",
    "\n",
    "    # Try to load the Montserrat font, fallback to default font if fails\n",
    "    try:\n",
    "        font = ImageFont.truetype(font_path, font_size)  # Adjust font and size\n",
    "    except IOError:\n",
    "        print(f\"Montserrat font {font_type} not found. Using default font.\")\n",
    "        font = ImageFont.load_default()\n",
    "\n",
    "    # Initialize the global total for all presidents\n",
    "    global_total_val = 0\n",
    "\n",
    "    # Loop through each president\n",
    "    for president_name in presidents:\n",
    "        # Filter the data for the current president\n",
    "        president_data = rbt_exec_orders[rbt_exec_orders['president'] == president_name]\n",
    "\n",
    "        # Check if the president exists in the data\n",
    "        if president_data.empty:\n",
    "            print(f\"No data available for {president_name}\")\n",
    "            continue\n",
    "\n",
    "        # Loop through each day from 1 to 50 for the current president\n",
    "        for day in range(1, 51):\n",
    "            # Filter the data for the current day\n",
    "            chart_data = president_data[president_data['day'] == day]\n",
    "\n",
    "            # Extract the president, day, cumulative executive orders for the current day\n",
    "            president_val = chart_data['president'].iloc[0]\n",
    "            day_val = chart_data['day'].iloc[0]\n",
    "            cum_exec_orders_val = chart_data['cum_exec_orders'].iloc[0]\n",
    "\n",
    "            # Update the global total only if there is a change in cumulative executive orders\n",
    "            if cum_exec_orders_val > global_total_val:\n",
    "                global_total_val = cum_exec_orders_val\n",
    "\n",
    "            # Create an empty image with transparent background\n",
    "            img = Image.new('RGBA', (width, height), color=(0, 0, 0, 0))  # 'RGBA' for transparency\n",
    "            draw = ImageDraw.Draw(img)\n",
    "\n",
    "            # Define the text to be displayed (with space between lines)\n",
    "            text = f\"President: {president_val}\\n\\nDay: {day_val}\\n\\nExec Orders: {cum_exec_orders_val}\\n\\nMaximum: {global_total_val}\"\n",
    "\n",
    "            # Position the text in the left side (no centering)\n",
    "            text_bbox = draw.textbbox((0, 0), text, font=font)  # Use textbbox to get the text size\n",
    "            text_width, text_height = text_bbox[2] - text_bbox[0], text_bbox[3] - text_bbox[1]\n",
    "            text_position = (10, (height - text_height) // 2)  # Align to the left with some padding (10 pixels)\n",
    "\n",
    "            # Add outline to the text (by drawing the text multiple times with a small offset)\n",
    "            if font_outline_width > 0:\n",
    "                # Draw the outline by offsetting the position\n",
    "                for dx in range(-font_outline_width, font_outline_width + 1):\n",
    "                    for dy in range(-font_outline_width, font_outline_width + 1):\n",
    "                        if dx != 0 or dy != 0:  # Skip the center position\n",
    "                            draw.text((text_position[0] + dx, text_position[1] + dy), text, font=font, fill=font_outline_color)\n",
    "\n",
    "            # Add the actual text in the specified font color\n",
    "            draw.text(text_position, text, font=font, fill=font_color)\n",
    "\n",
    "            # Construct the file name with zero-padding for 4 digits (e.g., 0001.png, 0002.png)\n",
    "            file_name = f\"{frame_index:04d}.png\"\n",
    "            file_path = os.path.join(output_dir, file_name)\n",
    "\n",
    "            # Save the image as a .png file\n",
    "            img.save(file_path, 'PNG')  # Ensure the image is saved with a .png format\n",
    "\n",
    "            # Increment the frame index\n",
    "            frame_index += 1\n",
    "\n",
    "    print(f\"Frames saved in the directory: {output_dir}\")\n",
    "\n",
    "# Example of calling the function with the font type set to 'Bold', font size 42, and custom font color and outline\n",
    "generate_value_frames(rbt_exec_orders, height=720, width=1280, output_dir='value_frames', font_size=51, font_type=\"ExtraBold\", \n",
    "                      font_color=(255, 255, 255), font_outline_width=3, font_outline_color=(0, 0, 0))"
   ]
  },
  {
   "cell_type": "code",
   "execution_count": 21,
   "metadata": {},
   "outputs": [
    {
     "name": "stdout",
     "output_type": "stream",
     "text": [
      "Available font types: Black, BlackItalic, Bold, BoldItalic, ExtraBold, ExtraBoldItalic, ExtraLight, ExtraLightItalic, Italic, Light, LightItalic, Medium, MediumItalic, Regular, SemiBold, SemiBoldItalic, Thin, ThinItalic\n",
      "Frames saved in the directory: name_frames\n"
     ]
    }
   ],
   "source": [
    "from PIL import Image, ImageDraw, ImageFont\n",
    "import pandas as pd\n",
    "import os\n",
    "\n",
    "# Function to generate and save individual frames displaying only the name of the president\n",
    "def generate_name_frames(rbt_exec_orders, height=200, width=400, output_dir='name_frames', font_size=42, font_type=\"Regular\", \n",
    "                          font_color=(255, 255, 255), font_outline_width=2, font_outline_color=(0, 0, 0)):\n",
    "    # Available font types (from the Montserrat font family):\n",
    "    font_types = [\n",
    "        \"Black\",\n",
    "        \"BlackItalic\",\n",
    "        \"Bold\",\n",
    "        \"BoldItalic\",\n",
    "        \"ExtraBold\",\n",
    "        \"ExtraBoldItalic\",\n",
    "        \"ExtraLight\",\n",
    "        \"ExtraLightItalic\",\n",
    "        \"Italic\",\n",
    "        \"Light\",\n",
    "        \"LightItalic\",\n",
    "        \"Medium\",\n",
    "        \"MediumItalic\",\n",
    "        \"Regular\",\n",
    "        \"SemiBold\",\n",
    "        \"SemiBoldItalic\",\n",
    "        \"Thin\",\n",
    "        \"ThinItalic\"\n",
    "    ]\n",
    "    \n",
    "    # Print the available font types for easy reference\n",
    "    print(f\"Available font types: {', '.join(font_types)}\")\n",
    "    \n",
    "    # Create the output directory if it doesn't exist\n",
    "    if not os.path.exists(output_dir):\n",
    "        os.makedirs(output_dir)\n",
    "\n",
    "    # Get unique presidents\n",
    "    presidents = rbt_exec_orders['president'].unique()\n",
    "\n",
    "    # Initialize frame index\n",
    "    frame_index = 1\n",
    "\n",
    "    # Path to the Montserrat font, allowing font type to be chosen (the font folder is in the parent directory)\n",
    "    font_path = os.path.join('..', 'Montserrat', f'Montserrat-{font_type}.ttf')  # Use the selected font type from the parent folder\n",
    "\n",
    "    # Try to load the Montserrat font, fallback to default font if fails\n",
    "    try:\n",
    "        font = ImageFont.truetype(font_path, font_size)  # Adjust font and size\n",
    "    except IOError:\n",
    "        print(f\"Montserrat font {font_type} not found. Using default font.\")\n",
    "        font = ImageFont.load_default()\n",
    "\n",
    "    # Loop through each president\n",
    "    for president_name in presidents:\n",
    "        # Filter the data for the current president\n",
    "        president_data = rbt_exec_orders[rbt_exec_orders['president'] == president_name]\n",
    "\n",
    "        # Check if the president exists in the data\n",
    "        if president_data.empty:\n",
    "            print(f\"No data available for {president_name}\")\n",
    "            continue\n",
    "\n",
    "        # Adjust for \"Donald Trump – I\" and \"Donald Trump – II\"\n",
    "        if  president_name == \"Donald Trump – I\":\n",
    "            president_name = \"Donald Trump (1st)\"\n",
    "        elif president_name == \"Donald Trump – II\":\n",
    "            president_name = \"Donald Trump (2nd)\"\n",
    "\n",
    "        # Convert the president's name to uppercase\n",
    "        president_name = president_name.upper()\n",
    "\n",
    "        # Loop through each day (up to 50 days for each president)\n",
    "        for day in range(1, 51):\n",
    "            # Extract the president name for each day\n",
    "            president_val = president_name\n",
    "\n",
    "            # Create an empty image with transparent background\n",
    "            img = Image.new('RGBA', (width, height), color=(0, 0, 0, 0))  # 'RGBA' for transparency\n",
    "            draw = ImageDraw.Draw(img)\n",
    "\n",
    "            # Define the text to be displayed (just the president's name)\n",
    "            text = f\"{president_val}\"\n",
    "\n",
    "            # Position the text at the top (leave some space between top and text)\n",
    "            text_bbox = draw.textbbox((0, 0), text, font=font)  # Use textbbox to get the text size\n",
    "            text_width, text_height = text_bbox[2] - text_bbox[0], text_bbox[3] - text_bbox[1]\n",
    "            text_position = ((width - text_width) // 2, 10)  # Align to the top with a small padding (10 pixels)\n",
    "\n",
    "            # Add outline to the text (by drawing the text multiple times with a small offset)\n",
    "            if font_outline_width > 0:\n",
    "                # Draw the outline by offsetting the position\n",
    "                for dx in range(-font_outline_width, font_outline_width + 1):\n",
    "                    for dy in range(-font_outline_width, font_outline_width + 1):\n",
    "                        if dx != 0 or dy != 0:  # Skip the center position\n",
    "                            draw.text((text_position[0] + dx, text_position[1] + dy), text, font=font, fill=font_outline_color)\n",
    "\n",
    "            # Add the actual text in the specified font color (white)\n",
    "            draw.text(text_position, text, font=font, fill=font_color)\n",
    "\n",
    "            # Construct the file name with zero-padding for 4 digits (e.g., 0001.png, 0002.png)\n",
    "            file_name = f\"{frame_index:04d}.png\"\n",
    "            file_path = os.path.join(output_dir, file_name)\n",
    "\n",
    "            # Save the image as a .png file\n",
    "            img.save(file_path, 'PNG')  # Ensure the image is saved with a .png format\n",
    "\n",
    "            # Increment the frame index\n",
    "            frame_index += 1\n",
    "\n",
    "    print(f\"Frames saved in the directory: {output_dir}\")\n",
    "\n",
    "# Example of calling the function with the font type set to 'ExtraBold', font size 51, and custom font color and outline\n",
    "generate_name_frames(rbt_exec_orders, height=720, width=1280, output_dir='name_frames', font_size=51, font_type=\"ExtraBold\", \n",
    "                      font_color=(255, 255, 255), font_outline_width=3, font_outline_color=(0, 0, 0))"
   ]
  },
  {
   "cell_type": "markdown",
   "metadata": {},
   "source": [
    "### Presidential Photos"
   ]
  },
  {
   "cell_type": "code",
   "execution_count": 13,
   "metadata": {},
   "outputs": [
    {
     "name": "stdout",
     "output_type": "stream",
     "text": [
      "50 copies of each image saved in the directory: images/presidents_frames\n"
     ]
    }
   ],
   "source": [
    "import os\n",
    "import shutil\n",
    "\n",
    "# Define the source and destination directories\n",
    "source_dir = 'images/processed'\n",
    "destination_dir = 'images/presidents_frames'\n",
    "\n",
    "# Create the destination directory if it doesn't exist\n",
    "if not os.path.exists(destination_dir):\n",
    "    os.makedirs(destination_dir)\n",
    "\n",
    "# Get the list of image files in the source directory, sorted to maintain order\n",
    "image_files = sorted(os.listdir(source_dir))\n",
    "\n",
    "# Initialize the file counter\n",
    "file_counter = 1\n",
    "\n",
    "# Loop over each image and create 50 copies\n",
    "for image_file in image_files:\n",
    "    # Make sure we're only working with .jpg or .png files\n",
    "    if image_file.endswith('.jpg') or image_file.endswith('.png'):\n",
    "        for i in range(50):\n",
    "            # Create the new file name, e.g., 0001.png, 0002.png, ...\n",
    "            new_file_name = f\"{file_counter:04d}.png\"\n",
    "            \n",
    "            # Define the full source and destination paths\n",
    "            source_path = os.path.join(source_dir, image_file)\n",
    "            destination_path = os.path.join(destination_dir, new_file_name)\n",
    "            \n",
    "            # Copy the image to the new location\n",
    "            shutil.copy(source_path, destination_path)\n",
    "            \n",
    "            # Increment the counter for the next file\n",
    "            file_counter += 1\n",
    "\n",
    "print(f\"50 copies of each image saved in the directory: {destination_dir}\")"
   ]
  },
  {
   "cell_type": "code",
   "execution_count": null,
   "metadata": {},
   "outputs": [],
   "source": []
  }
 ],
 "metadata": {
  "kernelspec": {
   "display_name": "base",
   "language": "python",
   "name": "python3"
  },
  "language_info": {
   "codemirror_mode": {
    "name": "ipython",
    "version": 3
   },
   "file_extension": ".py",
   "mimetype": "text/x-python",
   "name": "python",
   "nbconvert_exporter": "python",
   "pygments_lexer": "ipython3",
   "version": "3.12.2"
  }
 },
 "nbformat": 4,
 "nbformat_minor": 2
}
