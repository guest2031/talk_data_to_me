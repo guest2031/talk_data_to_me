{
 "cells": [
  {
   "cell_type": "markdown",
   "metadata": {},
   "source": [
    "### Setup"
   ]
  },
  {
   "cell_type": "code",
   "execution_count": 1,
   "metadata": {},
   "outputs": [],
   "source": [
    "import plotly.graph_objects as go\n",
    "import plotly.io as pio\n",
    "\n",
    "# Define the updated base template\n",
    "base = go.layout.Template(\n",
    "    layout=go.Layout(\n",
    "        paper_bgcolor='#FFF5CC',\n",
    "        plot_bgcolor='#FFF5CC',\n",
    "        height=800,\n",
    "        width=800 * 1.618,\n",
    "        xaxis=dict(\n",
    "            anchor='y',\n",
    "            showgrid=True,\n",
    "            gridcolor='#888888',  # Darker grid lines\n",
    "            tickfont=dict(\n",
    "                size=24,\n",
    "                family='Open Sans, sans-serif'  # Use Open Sans font\n",
    "            ),\n",
    "            titlefont=dict(\n",
    "                size=26,\n",
    "                family='Open Sans, sans-serif'  # Use Open Sans font\n",
    "            ),\n",
    "            linecolor='#333333',\n",
    "            linewidth=2  # Adjust the thickness of the x-axis line\n",
    "        ),\n",
    "        yaxis=dict(\n",
    "            anchor='x',\n",
    "            showgrid=True,\n",
    "            gridcolor='#888888',  # Darker grid lines\n",
    "            tickfont=dict(\n",
    "                size=24,\n",
    "                family='Open Sans, sans-serif'\n",
    "            ),\n",
    "            titlefont=dict(\n",
    "                size=26,\n",
    "                family='Open Sans, sans-serif'\n",
    "            ),\n",
    "            linecolor='#333333',\n",
    "            linewidth=2  # Adjust the thickness of the y-axis line\n",
    "        ),\n",
    "        font=dict(\n",
    "            color='#333333',\n",
    "            size=28,\n",
    "            family='Open Sans, sans-serif'\n",
    "        ),\n",
    "        # Updated colorway to ensure more distinguishable colors\n",
    "        colorway=[\"#470945\", # H: Violet\n",
    "                  \"#E67E5A\", # H: Orange (Sienna)\n",
    "                  \"#297FB9\", # H: Blue (Steel)\n",
    "                  \"#163748\", # D: Charcoal\n",
    "                  \"#4F1787\", # H: Purple\n",
    "                  \"#EFE04E\", # H: Yellow (Maize)\n",
    "                  \"#214F70\", # D: Indigo\n",
    "                  \"#DF14AA\", # H: Pink (Cerise)\n",
    "                  \"#100B1A\", # D: Black\n",
    "                  \"#12C4CF\", # H: Teal\n",
    "                  \"#14193D\", # D: Space\n",
    "                  \"#CC5500\"],# H: Cream\n",
    "        title=go.layout.Title(\n",
    "            text='',\n",
    "            font=dict(\n",
    "                size=34,\n",
    "                color='#333333',\n",
    "                family='Open Sans, sans-serif'\n",
    "            ),\n",
    "            x=0.05,\n",
    "        )\n",
    "    ),\n",
    "    data=dict(\n",
    "        scatter=[\n",
    "            go.Scatter(\n",
    "                line=dict(width=3)  # Set the line width for scatter plots\n",
    "            )\n",
    "        ]\n",
    "    )\n",
    ")\n",
    "\n",
    "# Register the updated base template\n",
    "pio.templates['base'] = base\n",
    "pio.templates.default = 'base'"
   ]
  },
  {
   "cell_type": "code",
   "execution_count": 2,
   "metadata": {},
   "outputs": [
    {
     "name": "stderr",
     "output_type": "stream",
     "text": [
      "/Users/arya/Library/Python/3.9/lib/python/site-packages/urllib3/__init__.py:35: NotOpenSSLWarning: urllib3 v2 only supports OpenSSL 1.1.1+, currently the 'ssl' module is compiled with 'LibreSSL 2.8.3'. See: https://github.com/urllib3/urllib3/issues/3020\n",
      "  warnings.warn(\n"
     ]
    },
    {
     "name": "stdout",
     "output_type": "stream",
     "text": [
      "         country  population  yearly_change_perc  net_change  density  \\\n",
      "0          India  1450935791                0.89    12866195      488   \n",
      "1          China  1419321278               -0.23    -3263655      151   \n",
      "2  United States   345426571                0.57     1949236       38   \n",
      "3      Indonesia   283487931                0.82     2297864      156   \n",
      "4       Pakistan   251269164                1.52     3764669      326   \n",
      "\n",
      "   land_area    migrants fert_rate med_age  urban_pop_perc  world_share_perc  \n",
      "0    2973190    -630,830       2.0      28            37.0             17.78  \n",
      "1    9388211    -318,992       1.0      40            66.0             17.39  \n",
      "2    9147420   1,286,132       1.6      38            82.0              4.23  \n",
      "3    1811570     -38,469       2.1      30            59.0              3.47  \n",
      "4     770880  -1,401,173       3.5      20            34.0              3.08  \n"
     ]
    }
   ],
   "source": [
    "import requests\n",
    "from bs4 import BeautifulSoup\n",
    "import pandas as pd\n",
    "\n",
    "def fetch_population_data(url=\"https://www.worldometers.info/world-population/population-by-country/\"):\n",
    "    \"\"\"\n",
    "    Fetch population data and additional statistics from Worldometer and return it as a pandas DataFrame.\n",
    "\n",
    "    Args:\n",
    "        url (str): URL of the Worldometer population page.\n",
    "\n",
    "    Returns:\n",
    "        pd.DataFrame: DataFrame with columns ['country', 'population', 'yearly_change', 'net_change',\n",
    "                                               'density', 'land_area', 'migrants', 'fert_rate', \n",
    "                                               'med_age', 'urban_pop_perc', 'world_share'].\n",
    "    \"\"\"\n",
    "    # Send a request to the website\n",
    "    response = requests.get(url)\n",
    "    response.raise_for_status()  # Raise an exception for HTTP errors\n",
    "\n",
    "    # Parse the webpage content\n",
    "    soup = BeautifulSoup(response.text, 'html.parser')\n",
    "\n",
    "    # Find the table containing the population data\n",
    "    table = soup.find('table', {'id': 'example2'})\n",
    "\n",
    "    # Extract table rows\n",
    "    rows = table.find_all('tr')\n",
    "\n",
    "    # Extract header and data\n",
    "    data = []\n",
    "    for row in rows[1:]:  # Skip the header row\n",
    "        cols = row.find_all('td')\n",
    "        country = cols[1].text.strip()\n",
    "        population = int(cols[2].text.strip().replace(',', ''))\n",
    "        yearly_change_perc = cols[3].text.strip().replace(' %', '')  # Remove space and % symbol\n",
    "        net_change = int(cols[4].text.strip().replace(',', ''))  # Net Change\n",
    "        density = int(cols[5].text.strip().replace(',', ''))  # Density (P/Km²)\n",
    "        land_area = int(cols[6].text.strip().replace(',', ''))  # Land Area (Km²)\n",
    "        migrants = cols[7].text.strip()  # Migrants (net)\n",
    "        fert_rate = cols[8].text.strip()  # Fertility Rate\n",
    "        med_age = cols[9].text.strip()  # Median Age\n",
    "        urban_pop_perc = cols[10].text.strip().replace(' %', '')  # Remove space and % symbol\n",
    "        world_share_perc = cols[11].text.strip().replace(' %', '')  # Remove space and % symbol\n",
    "        data.append([country, population, yearly_change_perc, net_change, density, land_area, \n",
    "                     migrants, fert_rate, med_age, urban_pop_perc, world_share_perc])\n",
    "\n",
    "    # Create a DataFrame\n",
    "    df = pd.DataFrame(data, columns=['country', 'population', 'yearly_change_perc', 'net_change', 'density',\n",
    "                                     'land_area', 'migrants', 'fert_rate', 'med_age', \n",
    "                                     'urban_pop_perc', 'world_share_perc'])\n",
    "\n",
    "    # Convert cleaned percentage columns to float, handling 'N.A.' gracefully\n",
    "    df['yearly_change_perc'] = pd.to_numeric(df['yearly_change_perc'], errors='coerce')\n",
    "    df['urban_pop_perc'] = pd.to_numeric(df['urban_pop_perc'], errors='coerce')\n",
    "    df['world_share_perc'] = pd.to_numeric(df['world_share_perc'], errors='coerce')\n",
    "\n",
    "    return df\n",
    "\n",
    "# Fetch the population data with additional columns\n",
    "population_data = fetch_population_data()\n",
    "\n",
    "# Display the first few rows\n",
    "print(population_data.head())\n",
    "\n",
    "# Save to a CSV if needed\n",
    "population_data.to_csv(\"d_country_population_raw.csv\", index=False)\n"
   ]
  },
  {
   "cell_type": "code",
   "execution_count": 3,
   "metadata": {},
   "outputs": [],
   "source": [
    "import requests\n",
    "from bs4 import BeautifulSoup\n",
    "import pandas as pd\n",
    "import unicodedata\n",
    "\n",
    "def fetch_iso_country_codes(url=\"https://en.wikipedia.org/wiki/List_of_ISO_3166_country_codes\"):\n",
    "    \"\"\"\n",
    "    Fetch ISO country codes from Wikipedia and return them as a pandas DataFrame, removing any notes in square brackets.\n",
    "\n",
    "    Args:\n",
    "        url (str): URL of the Wikipedia page for ISO 3166 country codes.\n",
    "\n",
    "    Returns:\n",
    "        pd.DataFrame: DataFrame with columns ['country_name', 'official_name', 'iso_alpha2', 'iso_alpha3', 'numeric_code', 'tld'].\n",
    "    \"\"\"\n",
    "    # Send a request to the website\n",
    "    response = requests.get(url)\n",
    "    response.raise_for_status()  # Raise an exception for HTTP errors\n",
    "\n",
    "    # Parse the webpage content\n",
    "    soup = BeautifulSoup(response.text, 'html.parser')\n",
    "\n",
    "    # Find all tables on the page\n",
    "    tables = soup.find_all('table')\n",
    "\n",
    "    # Locate the correct table by inspecting its position or content\n",
    "    target_table = None\n",
    "    for table in tables:\n",
    "        if \"ISO 3166\" in table.text:  # Check if the table contains relevant text\n",
    "            target_table = table\n",
    "            break\n",
    "\n",
    "    if target_table is None:\n",
    "        raise ValueError(\"Unable to find the ISO 3166 country codes table.\")\n",
    "\n",
    "    # Extract table rows\n",
    "    rows = target_table.find_all('tr')\n",
    "\n",
    "    # Extract header and data\n",
    "    data = []\n",
    "    for row in rows[1:]:  # Skip the header row\n",
    "        cols = row.find_all('td')\n",
    "        if len(cols) >= 6:  # Ensure the row has enough columns\n",
    "            country_name = cols[0].text.strip().replace('\\n', '')\n",
    "            official_name = cols[1].text.strip().replace('\\n', '')\n",
    "            iso_alpha2 = cols[3].text.strip()\n",
    "            iso_alpha3 = cols[4].text.strip()\n",
    "            numeric_code = cols[5].text.strip()\n",
    "            tld = cols[6].text.strip()\n",
    "\n",
    "            # Remove notes (e.g., [f], [b], [c][d]) and clean special characters\n",
    "            country_name = pd.Series([country_name]).str.replace(r'\\[.*?\\]', '', regex=True).str.strip().values[0]\n",
    "            official_name = pd.Series([official_name]).str.replace(r'\\[.*?\\]', '', regex=True).str.strip().values[0]\n",
    "\n",
    "            # Normalize text to remove any hidden special characters\n",
    "            country_name = unicodedata.normalize('NFKC', country_name)\n",
    "            official_name = unicodedata.normalize('NFKC', official_name)\n",
    "\n",
    "            data.append([country_name, official_name, iso_alpha2, iso_alpha3, numeric_code, tld])\n",
    "\n",
    "    # Create a DataFrame\n",
    "    df = pd.DataFrame(data, columns=['country_name', 'official_name', 'iso_alpha2', 'iso_alpha3', 'numeric_code', 'tld'])\n",
    "\n",
    "    return df\n",
    "\n",
    "iso_country_codes = fetch_iso_country_codes()\n",
    "\n",
    "# Save to a CSV if needed\n",
    "iso_country_codes.to_csv(\"d_country_codes.csv\", index=False)\n"
   ]
  },
  {
   "cell_type": "markdown",
   "metadata": {},
   "source": [
    "### Miss Universe"
   ]
  },
  {
   "cell_type": "code",
   "execution_count": 44,
   "metadata": {},
   "outputs": [
    {
     "name": "stderr",
     "output_type": "stream",
     "text": [
      "/var/folders/r0/4vr5j1517ggd5nvq86w27hhm0000gn/T/ipykernel_2090/3648987695.py:36: SettingWithCopyWarning:\n",
      "\n",
      "\n",
      "A value is trying to be set on a copy of a slice from a DataFrame.\n",
      "Try using .loc[row_indexer,col_indexer] = value instead\n",
      "\n",
      "See the caveats in the documentation: https://pandas.pydata.org/pandas-docs/stable/user_guide/indexing.html#returning-a-view-versus-a-copy\n",
      "\n"
     ]
    },
    {
     "data": {
      "application/vnd.plotly.v1+json": {
       "config": {
        "plotlyServerURL": "https://plot.ly"
       },
       "data": [
        {
         "text": [
          33,
          28,
          16,
          15,
          15,
          13,
          13,
          12,
          12,
          11,
          10
         ],
         "textfont": {
          "size": 40
         },
         "textposition": "outside",
         "type": "bar",
         "x": [
          "🇺🇸",
          "🇻🇪",
          "🇧🇷",
          "🇨🇴",
          "🇬🇧",
          "🇸🇪",
          "🇵🇭",
          "🇫🇮",
          "🇵🇷",
          "🇦🇺",
          "🇲🇽"
         ],
         "y": [
          33,
          28,
          16,
          15,
          15,
          13,
          13,
          12,
          12,
          11,
          10
         ]
        }
       ],
       "layout": {
        "height": 720,
        "showlegend": false,
        "template": {
         "data": {
          "scatter": [
           {
            "line": {
             "width": 3
            },
            "type": "scatter"
           }
          ]
         },
         "layout": {
          "colorway": [
           "#470945",
           "#E67E5A",
           "#297FB9",
           "#163748",
           "#4F1787",
           "#EFE04E",
           "#214F70",
           "#DF14AA",
           "#100B1A",
           "#12C4CF",
           "#14193D",
           "#CC5500"
          ],
          "font": {
           "color": "#333333",
           "family": "Open Sans, sans-serif",
           "size": 28
          },
          "height": 800,
          "paper_bgcolor": "#FFF5CC",
          "plot_bgcolor": "#FFF5CC",
          "title": {
           "font": {
            "color": "#333333",
            "family": "Open Sans, sans-serif",
            "size": 34
           },
           "text": "",
           "x": 0.05
          },
          "width": 1294.4,
          "xaxis": {
           "anchor": "y",
           "gridcolor": "#888888",
           "linecolor": "#333333",
           "linewidth": 2,
           "showgrid": true,
           "tickfont": {
            "family": "Open Sans, sans-serif",
            "size": 24
           },
           "title": {
            "font": {
             "family": "Open Sans, sans-serif",
             "size": 26
            }
           }
          },
          "yaxis": {
           "anchor": "x",
           "gridcolor": "#888888",
           "linecolor": "#333333",
           "linewidth": 2,
           "showgrid": true,
           "tickfont": {
            "family": "Open Sans, sans-serif",
            "size": 24
           },
           "title": {
            "font": {
             "family": "Open Sans, sans-serif",
             "size": 26
            }
           }
          }
         }
        },
        "title": {},
        "width": 1280,
        "xaxis": {
         "showgrid": false,
         "showticklabels": true,
         "tickfont": {
          "size": 50
         },
         "title": {}
        },
        "yaxis": {
         "range": [
          0,
          38
         ],
         "showgrid": false,
         "showticklabels": false,
         "tickfont": {
          "size": 30
         },
         "title": {}
        }
       }
      }
     },
     "metadata": {},
     "output_type": "display_data"
    }
   ],
   "source": [
    "import pandas as pd\n",
    "import plotly.graph_objects as go\n",
    "\n",
    "def plot_top_five_finishes(min_top_five=1):\n",
    "    \"\"\"\n",
    "    Plot the number of Top Five Finishes by Country in Miss Universe with country flags.\n",
    "\n",
    "    Args:\n",
    "        min_top_five (int): Minimum number of top-five finishes to include in the chart.\n",
    "        \n",
    "    Returns:\n",
    "        pd.DataFrame: A dataframe containing the filtered results.\n",
    "    \"\"\"\n",
    "    # Load the dataset, handling varying column counts\n",
    "    df = pd.read_csv(\"d_miss_universe.csv\", header=0, names=['year', 'first', 'second', 'third', 'fourth', 'fifth'], engine='python')\n",
    "\n",
    "    # Combine all the top-five columns into one list, excluding \"-\"\n",
    "    top_five_countries = pd.concat([\n",
    "        df['first'], df['second'], df['third'], df['fourth'], df['fifth']\n",
    "    ]).dropna()\n",
    "    top_five_countries = top_five_countries[top_five_countries != \"-\"]\n",
    "\n",
    "    # Count the occurrences of each country\n",
    "    top_five_counts = top_five_countries.value_counts().reset_index()\n",
    "    top_five_counts.columns = ['country', 'count']\n",
    "\n",
    "    # Filter by minimum number of top-five finishes\n",
    "    filtered_counts = top_five_counts[top_five_counts['count'] >= min_top_five]\n",
    "\n",
    "    # Replace country codes with flag emojis\n",
    "    country_flags = {\n",
    "        \"USA\": \"🇺🇸\", \"VEN\": \"🇻🇪\", \"BRA\": \"🇧🇷\", \"COL\": \"🇨🇴\", \"GBR\": \"🇬🇧\",\n",
    "        \"SWE\": \"🇸🇪\", \"PHL\": \"🇵🇭\", \"FIN\": \"🇫🇮\", \"PRI\": \"🇵🇷\", \"AUS\": \"🇦🇺\",\n",
    "        \"MEX\": \"🇲🇽\"  # Add other codes and flags as necessary\n",
    "    }\n",
    "    filtered_counts['country'] = filtered_counts['country'].map(lambda x: country_flags.get(x, x))\n",
    "\n",
    "    # Create the bar chart using Plotly\n",
    "    fig = go.Figure()\n",
    "\n",
    "    fig.add_trace(go.Bar(\n",
    "        x=filtered_counts['country'],\n",
    "        y=filtered_counts['count'],\n",
    "        text=filtered_counts['count'],  # Show counts on bars\n",
    "        textposition='outside',  # Place text outside the bars\n",
    "        textfont=dict(size=40)  # Make the numbers on top of bars larger\n",
    "    ))\n",
    "\n",
    "    # Update layout\n",
    "    fig.update_layout(\n",
    "        template='base',  # Ensure the 'base' template is registered\n",
    "        title=None,\n",
    "        xaxis=dict(\n",
    "            showticklabels=True,\n",
    "            tickfont=dict(size=50),  # Make axis values bigger\n",
    "        ),\n",
    "        yaxis=dict(\n",
    "            showticklabels=False,\n",
    "            tickfont=dict(size=30),  # Make axis values bigger\n",
    "            range=[0, filtered_counts['count'].max() + 5]  # Add padding above the bars\n",
    "        ),\n",
    "        showlegend=False,\n",
    "        xaxis_showgrid=False,  # Remove vertical gridlines\n",
    "        yaxis_showgrid=False,   # Remove horizontal gridlines\n",
    "        width=1280,  # Set width for 16:9 ratio\n",
    "        height=720   # Set height for 16:9 ratio\n",
    "    )\n",
    "\n",
    "    # Hide axis titles\n",
    "    fig.update_xaxes(title=None)\n",
    "    fig.update_yaxes(title=None)\n",
    "\n",
    "    # Show the plot\n",
    "    fig.show()\n",
    "\n",
    "    return filtered_counts\n",
    "\n",
    "# Example usage: Adjust the minimum number of top finishes to include\n",
    "result = plot_top_five_finishes(min_top_five=10)\n"
   ]
  },
  {
   "cell_type": "code",
   "execution_count": 49,
   "metadata": {},
   "outputs": [
    {
     "name": "stderr",
     "output_type": "stream",
     "text": [
      "/var/folders/r0/4vr5j1517ggd5nvq86w27hhm0000gn/T/ipykernel_2090/1447905813.py:43: SettingWithCopyWarning:\n",
      "\n",
      "\n",
      "A value is trying to be set on a copy of a slice from a DataFrame.\n",
      "Try using .loc[row_indexer,col_indexer] = value instead\n",
      "\n",
      "See the caveats in the documentation: https://pandas.pydata.org/pandas-docs/stable/user_guide/indexing.html#returning-a-view-versus-a-copy\n",
      "\n",
      "/var/folders/r0/4vr5j1517ggd5nvq86w27hhm0000gn/T/ipykernel_2090/1447905813.py:47: SettingWithCopyWarning:\n",
      "\n",
      "\n",
      "A value is trying to be set on a copy of a slice from a DataFrame.\n",
      "Try using .loc[row_indexer,col_indexer] = value instead\n",
      "\n",
      "See the caveats in the documentation: https://pandas.pydata.org/pandas-docs/stable/user_guide/indexing.html#returning-a-view-versus-a-copy\n",
      "\n"
     ]
    },
    {
     "data": {
      "application/vnd.plotly.v1+json": {
       "config": {
        "plotlyServerURL": "https://plot.ly"
       },
       "data": [
        {
         "text": [
          0.1,
          0.99,
          0.08,
          0.28,
          0.22,
          1.23,
          0.11,
          2.14,
          3.7,
          0.41,
          0.08
         ],
         "textfont": {
          "size": 45
         },
         "textposition": "outside",
         "type": "bar",
         "x": [
          "🇺🇸",
          "🇻🇪",
          "🇧🇷",
          "🇨🇴",
          "🇬🇧",
          "🇸🇪",
          "🇵🇭",
          "🇫🇮",
          "🇵🇷",
          "🇦🇺",
          "🇲🇽"
         ],
         "y": [
          0.09553405201130287,
          0.9857231034097816,
          0.07547220612659501,
          0.28362699095038924,
          0.2169567870678481,
          1.2256058476106202,
          0.11222020158719073,
          2.1362538296800424,
          3.701185983361935,
          0.41178136431027274,
          0.0764169574210903
         ]
        }
       ],
       "layout": {
        "height": 720,
        "showlegend": false,
        "template": {
         "data": {
          "scatter": [
           {
            "line": {
             "width": 3
            },
            "type": "scatter"
           }
          ]
         },
         "layout": {
          "colorway": [
           "#470945",
           "#E67E5A",
           "#297FB9",
           "#163748",
           "#4F1787",
           "#EFE04E",
           "#214F70",
           "#DF14AA",
           "#100B1A",
           "#12C4CF",
           "#14193D",
           "#CC5500"
          ],
          "font": {
           "color": "#333333",
           "family": "Open Sans, sans-serif",
           "size": 28
          },
          "height": 800,
          "paper_bgcolor": "#FFF5CC",
          "plot_bgcolor": "#FFF5CC",
          "title": {
           "font": {
            "color": "#333333",
            "family": "Open Sans, sans-serif",
            "size": 34
           },
           "text": "",
           "x": 0.05
          },
          "width": 1294.4,
          "xaxis": {
           "anchor": "y",
           "gridcolor": "#888888",
           "linecolor": "#333333",
           "linewidth": 2,
           "showgrid": true,
           "tickfont": {
            "family": "Open Sans, sans-serif",
            "size": 24
           },
           "title": {
            "font": {
             "family": "Open Sans, sans-serif",
             "size": 26
            }
           }
          },
          "yaxis": {
           "anchor": "x",
           "gridcolor": "#888888",
           "linecolor": "#333333",
           "linewidth": 2,
           "showgrid": true,
           "tickfont": {
            "family": "Open Sans, sans-serif",
            "size": 24
           },
           "title": {
            "font": {
             "family": "Open Sans, sans-serif",
             "size": 26
            }
           }
          }
         }
        },
        "title": {},
        "width": 1280,
        "xaxis": {
         "showgrid": false,
         "showticklabels": true,
         "tickfont": {
          "size": 50
         },
         "title": {}
        },
        "yaxis": {
         "range": [
          0,
          4.201185983361935
         ],
         "showgrid": false,
         "showticklabels": false,
         "tickfont": {
          "size": 30
         },
         "title": {}
        }
       }
      }
     },
     "metadata": {},
     "output_type": "display_data"
    }
   ],
   "source": [
    "import pandas as pd\n",
    "import plotly.graph_objects as go\n",
    "\n",
    "def top_five_per_million(min_top_five=1):\n",
    "    \"\"\"\n",
    "    Calculate and plot Top Five Finishes Per 1 Million Inhabitants by Country with consistent formatting and a custom order.\n",
    "    \n",
    "    Args:\n",
    "        min_top_five (int): Minimum number of top-five finishes to include in the chart.\n",
    "        \n",
    "    Returns:\n",
    "        pd.DataFrame: A dataframe containing the filtered results.\n",
    "    \"\"\"\n",
    "    # Load datasets\n",
    "    miss_universe_df = pd.read_csv(\"d_miss_universe.csv\", header=0, names=['year', 'first', 'second', 'third', 'fourth', 'fifth'], engine='python')\n",
    "    population_df = pd.read_csv(\"d_country_population.csv\")  # Ensure it contains columns 'country_code' and 'population'\n",
    "    \n",
    "    # Combine all top-five columns into one list, excluding \"-\"\n",
    "    top_five_countries = pd.concat([\n",
    "        miss_universe_df['first'], miss_universe_df['second'], miss_universe_df['third'], miss_universe_df['fourth'], miss_universe_df['fifth']\n",
    "    ]).dropna()\n",
    "    top_five_countries = top_five_countries[top_five_countries != \"-\"]\n",
    "    \n",
    "    # Count the number of top-five finishes by country\n",
    "    top_five_counts = top_five_countries.value_counts().reset_index()\n",
    "    top_five_counts.columns = ['country_code', 'top_five_count']\n",
    "    \n",
    "    # Merge the top-five counts with the population data\n",
    "    merged_df = pd.merge(top_five_counts, population_df, on='country_code', how='inner')\n",
    "    \n",
    "    # Calculate Top Five Finishes Per 1 Million Inhabitants\n",
    "    merged_df['top_five_per_million'] = (merged_df['top_five_count'] / merged_df['population']) * 1_000_000\n",
    "    \n",
    "    # Filter by minimum number of top-five finishes\n",
    "    filtered_df = merged_df[merged_df['top_five_count'] >= min_top_five]\n",
    "    \n",
    "    # Replace country codes with flag emojis\n",
    "    country_flags = {\n",
    "        \"USA\": \"🇺🇸\", \"VEN\": \"🇻🇪\", \"BRA\": \"🇧🇷\", \"COL\": \"🇨🇴\", \"GBR\": \"🇬🇧\",\n",
    "        \"SWE\": \"🇸🇪\", \"PHL\": \"🇵🇭\", \"FIN\": \"🇫🇮\", \"PRI\": \"🇵🇷\", \"AUS\": \"🇦🇺\",\n",
    "        \"MEX\": \"🇲🇽\"  # Add other codes and flags as necessary\n",
    "    }\n",
    "    filtered_df['country'] = filtered_df['country_code'].map(lambda x: country_flags.get(x, x))\n",
    "\n",
    "    # Enforce custom sort order\n",
    "    custom_order = [\"USA\", \"VEN\", \"BRA\", \"COL\", \"GBR\", \"SWE\", \"PHL\", \"FIN\", \"PRI\", \"AUS\", \"MEX\"]\n",
    "    filtered_df['country_code'] = pd.Categorical(filtered_df['country_code'], categories=custom_order, ordered=True)\n",
    "    filtered_df = filtered_df.sort_values('country_code')\n",
    "\n",
    "    # Plot the results\n",
    "    fig = go.Figure()\n",
    "\n",
    "    fig.add_trace(go.Bar(\n",
    "        x=filtered_df['country'],\n",
    "        y=filtered_df['top_five_per_million'],\n",
    "        text=filtered_df['top_five_per_million'].round(2),  # Show per-million values on bars\n",
    "        textposition='outside',  # Place text outside the bars\n",
    "        textfont=dict(size=45)  # Make the numbers on top of bars larger\n",
    "    ))\n",
    "\n",
    "    # Update layout\n",
    "    fig.update_layout(\n",
    "        template='base',  # Ensure the 'base' template is registered\n",
    "        title=None,\n",
    "        xaxis=dict(\n",
    "            showticklabels=True,\n",
    "            tickfont=dict(size=50),  # Make axis values bigger\n",
    "        ),\n",
    "        yaxis=dict(\n",
    "            showticklabels=False,\n",
    "            tickfont=dict(size=30),  # Make axis values bigger\n",
    "            range=[0, filtered_df['top_five_per_million'].max() + 0.5]  # Add padding above the tallest bar\n",
    "        ),\n",
    "        showlegend=False,\n",
    "        xaxis_showgrid=False,  # Remove vertical gridlines\n",
    "        yaxis_showgrid=False,  # Remove horizontal gridlines\n",
    "        width=1280,  # Set width for 16:9 ratio\n",
    "        height=720   # Set height for 16:9 ratio\n",
    "    )\n",
    "\n",
    "    # Hide axis titles\n",
    "    fig.update_xaxes(title=None)\n",
    "    fig.update_yaxes(title=None)\n",
    "\n",
    "    # Show the plot\n",
    "    fig.show()\n",
    "    \n",
    "    return filtered_df\n",
    "\n",
    "# Example usage: Adjust the minimum number of top finishes to include\n",
    "result = top_five_per_million(min_top_five=10)\n"
   ]
  },
  {
   "cell_type": "markdown",
   "metadata": {},
   "source": [
    "### Models"
   ]
  },
  {
   "cell_type": "code",
   "execution_count": 82,
   "metadata": {},
   "outputs": [
    {
     "data": {
      "application/vnd.plotly.v1+json": {
       "config": {
        "plotlyServerURL": "https://plot.ly"
       },
       "data": [
        {
         "text": [
          108.4,
          74.6,
          64.4,
          44.6
         ],
         "textfont": {
          "size": 45
         },
         "textposition": "outside",
         "type": "bar",
         "x": [
          "🇬🇧",
          "🇧🇷",
          "🇪🇸",
          "🇩🇪"
         ],
         "y": [
          108.4,
          74.60000000000001,
          64.4,
          44.6
         ]
        }
       ],
       "layout": {
        "height": 720,
        "showlegend": false,
        "template": {
         "data": {
          "scatter": [
           {
            "line": {
             "width": 3
            },
            "type": "scatter"
           }
          ]
         },
         "layout": {
          "colorway": [
           "#470945",
           "#E67E5A",
           "#297FB9",
           "#163748",
           "#4F1787",
           "#EFE04E",
           "#214F70",
           "#DF14AA",
           "#100B1A",
           "#12C4CF",
           "#14193D",
           "#CC5500"
          ],
          "font": {
           "color": "#333333",
           "family": "Open Sans, sans-serif",
           "size": 28
          },
          "height": 800,
          "paper_bgcolor": "#FFF5CC",
          "plot_bgcolor": "#FFF5CC",
          "title": {
           "font": {
            "color": "#333333",
            "family": "Open Sans, sans-serif",
            "size": 34
           },
           "text": "",
           "x": 0.05
          },
          "width": 1294.4,
          "xaxis": {
           "anchor": "y",
           "gridcolor": "#888888",
           "linecolor": "#333333",
           "linewidth": 2,
           "showgrid": true,
           "tickfont": {
            "family": "Open Sans, sans-serif",
            "size": 24
           },
           "title": {
            "font": {
             "family": "Open Sans, sans-serif",
             "size": 26
            }
           }
          },
          "yaxis": {
           "anchor": "x",
           "gridcolor": "#888888",
           "linecolor": "#333333",
           "linewidth": 2,
           "showgrid": true,
           "tickfont": {
            "family": "Open Sans, sans-serif",
            "size": 24
           },
           "title": {
            "font": {
             "family": "Open Sans, sans-serif",
             "size": 26
            }
           }
          }
         }
        },
        "title": {},
        "width": 1280,
        "xaxis": {
         "showgrid": false,
         "showticklabels": true,
         "tickfont": {
          "size": 50
         },
         "title": {}
        },
        "yaxis": {
         "range": [
          0,
          119.24000000000001
         ],
         "showgrid": false,
         "showticklabels": false,
         "tickfont": {
          "size": 30
         },
         "title": {}
        }
       }
      }
     },
     "metadata": {},
     "output_type": "display_data"
    },
    {
     "data": {
      "application/vnd.plotly.v1+json": {
       "config": {
        "plotlyServerURL": "https://plot.ly"
       },
       "data": [
        {
         "text": [
          722.1,
          108.4,
          74.6,
          64.4,
          44.6
         ],
         "textfont": {
          "size": 45
         },
         "textposition": "outside",
         "type": "bar",
         "x": [
          "🇺🇸",
          "🇬🇧",
          "🇧🇷",
          "🇪🇸",
          "🇩🇪"
         ],
         "y": [
          722.1,
          108.4,
          74.60000000000001,
          64.4,
          44.6
         ]
        }
       ],
       "layout": {
        "height": 720,
        "showlegend": false,
        "template": {
         "data": {
          "scatter": [
           {
            "line": {
             "width": 3
            },
            "type": "scatter"
           }
          ]
         },
         "layout": {
          "colorway": [
           "#470945",
           "#E67E5A",
           "#297FB9",
           "#163748",
           "#4F1787",
           "#EFE04E",
           "#214F70",
           "#DF14AA",
           "#100B1A",
           "#12C4CF",
           "#14193D",
           "#CC5500"
          ],
          "font": {
           "color": "#333333",
           "family": "Open Sans, sans-serif",
           "size": 28
          },
          "height": 800,
          "paper_bgcolor": "#FFF5CC",
          "plot_bgcolor": "#FFF5CC",
          "title": {
           "font": {
            "color": "#333333",
            "family": "Open Sans, sans-serif",
            "size": 34
           },
           "text": "",
           "x": 0.05
          },
          "width": 1294.4,
          "xaxis": {
           "anchor": "y",
           "gridcolor": "#888888",
           "linecolor": "#333333",
           "linewidth": 2,
           "showgrid": true,
           "tickfont": {
            "family": "Open Sans, sans-serif",
            "size": 24
           },
           "title": {
            "font": {
             "family": "Open Sans, sans-serif",
             "size": 26
            }
           }
          },
          "yaxis": {
           "anchor": "x",
           "gridcolor": "#888888",
           "linecolor": "#333333",
           "linewidth": 2,
           "showgrid": true,
           "tickfont": {
            "family": "Open Sans, sans-serif",
            "size": 24
           },
           "title": {
            "font": {
             "family": "Open Sans, sans-serif",
             "size": 26
            }
           }
          }
         }
        },
        "title": {},
        "width": 1280,
        "xaxis": {
         "showgrid": false,
         "showticklabels": true,
         "tickfont": {
          "size": 50
         },
         "title": {}
        },
        "yaxis": {
         "range": [
          0,
          794.3100000000001
         ],
         "showgrid": false,
         "showticklabels": false,
         "tickfont": {
          "size": 30
         },
         "title": {}
        }
       }
      }
     },
     "metadata": {},
     "output_type": "display_data"
    },
    {
     "data": {
      "application/vnd.plotly.v1+json": {
       "config": {
        "plotlyServerURL": "https://plot.ly"
       },
       "data": [
        {
         "text": [
          873.4,
          260.6,
          83.5,
          64.4,
          32.1
         ],
         "textfont": {
          "size": 45
         },
         "textposition": "outside",
         "type": "bar",
         "x": [
          "Caucasian",
          "Mixed",
          "Black",
          "Hispanic",
          "Asian"
         ],
         "y": [
          873.4,
          260.6,
          83.5,
          64.4,
          32.1
         ]
        }
       ],
       "layout": {
        "height": 720,
        "showlegend": false,
        "template": {
         "data": {
          "scatter": [
           {
            "line": {
             "width": 3
            },
            "type": "scatter"
           }
          ]
         },
         "layout": {
          "colorway": [
           "#470945",
           "#E67E5A",
           "#297FB9",
           "#163748",
           "#4F1787",
           "#EFE04E",
           "#214F70",
           "#DF14AA",
           "#100B1A",
           "#12C4CF",
           "#14193D",
           "#CC5500"
          ],
          "font": {
           "color": "#333333",
           "family": "Open Sans, sans-serif",
           "size": 28
          },
          "height": 800,
          "paper_bgcolor": "#FFF5CC",
          "plot_bgcolor": "#FFF5CC",
          "title": {
           "font": {
            "color": "#333333",
            "family": "Open Sans, sans-serif",
            "size": 34
           },
           "text": "",
           "x": 0.05
          },
          "width": 1294.4,
          "xaxis": {
           "anchor": "y",
           "gridcolor": "#888888",
           "linecolor": "#333333",
           "linewidth": 2,
           "showgrid": true,
           "tickfont": {
            "family": "Open Sans, sans-serif",
            "size": 24
           },
           "title": {
            "font": {
             "family": "Open Sans, sans-serif",
             "size": 26
            }
           }
          },
          "yaxis": {
           "anchor": "x",
           "gridcolor": "#888888",
           "linecolor": "#333333",
           "linewidth": 2,
           "showgrid": true,
           "tickfont": {
            "family": "Open Sans, sans-serif",
            "size": 24
           },
           "title": {
            "font": {
             "family": "Open Sans, sans-serif",
             "size": 26
            }
           }
          }
         }
        },
        "title": {},
        "width": 1280,
        "xaxis": {
         "showgrid": false,
         "showticklabels": true,
         "tickfont": {
          "size": 50
         },
         "title": {}
        },
        "yaxis": {
         "range": [
          0,
          960.74
         ],
         "showgrid": false,
         "showticklabels": false,
         "tickfont": {
          "size": 30
         },
         "title": {}
        }
       }
      }
     },
     "metadata": {},
     "output_type": "display_data"
    }
   ],
   "source": [
    "import pandas as pd\n",
    "import plotly.graph_objects as go\n",
    "\n",
    "def plot_models_social_data(x_axis, y_axis, top_n=None, exclude=None):\n",
    "    \"\"\"\n",
    "    Plots a bar chart for the models' social data based on the selected x_axis and y_axis, with country flags.\n",
    "\n",
    "    Parameters:\n",
    "    - x_axis (str): The column to group by ('nationality' or 'ethnicity').\n",
    "    - y_axis (str): The metric to plot ('count' for number of models or 'sum' for total followers).\n",
    "    - top_n (int, optional): Number of top results to include. If None, includes all results.\n",
    "    - exclude (str, optional): A value to exclude from the results (e.g., \"USA\").\n",
    "    \"\"\"\n",
    "    # Load the dataset\n",
    "    df = pd.read_csv(\"d_models_social.csv\")\n",
    "    \n",
    "    # Filter out the excluded value if specified\n",
    "    if exclude:\n",
    "        df = df[df[x_axis] != exclude]\n",
    "    \n",
    "    # Group by the selected x_axis\n",
    "    if y_axis == 'count':\n",
    "        grouped_data = df.groupby(x_axis).size().reset_index(name='count')\n",
    "    elif y_axis == 'sum':\n",
    "        grouped_data = df.groupby(x_axis)['num_followers (MM)'].sum().reset_index(name='sum')\n",
    "    else:\n",
    "        raise ValueError(\"y_axis must be either 'count' or 'sum'\")\n",
    "    \n",
    "    # Set appropriate y-axis label\n",
    "    y_col = 'count' if y_axis == 'count' else 'sum'\n",
    "    y_label = 'Number of Models' if y_axis == 'count' else 'Total Followers (MM)'\n",
    "    \n",
    "    # Sort the data in descending order\n",
    "    grouped_data = grouped_data.sort_values(by=y_col, ascending=False)\n",
    "    \n",
    "    # Include only the top N results if specified\n",
    "    if top_n:\n",
    "        grouped_data = grouped_data.head(top_n)\n",
    "    \n",
    "    # Replace country names with flags for specific countries\n",
    "    country_flags = {\n",
    "        \"American\": \"🇺🇸\", \n",
    "        \"British\": \"🇬🇧\", \n",
    "        \"Brazilian\": \"🇧🇷\", \n",
    "        \"Spanish\": \"🇪🇸\", \n",
    "        \"German\": \"🇩🇪\",\n",
    "    }\n",
    "    grouped_data[x_axis] = grouped_data[x_axis].map(lambda x: country_flags.get(x, x))\n",
    "    \n",
    "    # Create the bar chart\n",
    "    fig = go.Figure()\n",
    "    fig.add_trace(go.Bar(\n",
    "        x=grouped_data[x_axis],\n",
    "        y=grouped_data[y_col],\n",
    "        text=grouped_data[y_col].round(2) if y_axis == 'sum' else grouped_data[y_col],  # Add text on bars\n",
    "        textposition='outside',  # Position text outside bars\n",
    "        textfont=dict(size=45)  # Make text on bars larger\n",
    "    ))\n",
    "    \n",
    "    # Update layout with consistent formatting\n",
    "    fig.update_layout(\n",
    "        template='base',\n",
    "        title=None,  # No title\n",
    "        xaxis=dict(\n",
    "            showticklabels=True,\n",
    "            tickfont=dict(size=50),  # Make axis values larger\n",
    "        ),\n",
    "        yaxis=dict(\n",
    "            showticklabels=False,  # Hide y-axis tick labels\n",
    "            tickfont=dict(size=30),  # Ensure consistent font size\n",
    "            range=[0, grouped_data[y_col].max() * 1.1]  # Add padding above tallest bar to fit text\n",
    "        ),\n",
    "        showlegend=False,\n",
    "        xaxis_showgrid=False,  # Remove vertical gridlines\n",
    "        yaxis_showgrid=False,  # Remove horizontal gridlines\n",
    "        width=1280,  # Set width for 16:9 aspect ratio\n",
    "        height=720   # Set height for 16:9 aspect ratio\n",
    "    )\n",
    "\n",
    "    # Hide axis titles\n",
    "    fig.update_xaxes(title=None)\n",
    "    fig.update_yaxes(title=None)\n",
    "\n",
    "    # Show the plot\n",
    "    fig.show()\n",
    "\n",
    "# Example usage\n",
    "# Plotting top 5 ethnicities based on total followers, excluding \"USA\n",
    "plot_models_social_data(x_axis='nationality', y_axis='sum', top_n=4, exclude='American')\n",
    "plot_models_social_data(x_axis='nationality', y_axis='sum', top_n=5)\n",
    "plot_models_social_data(x_axis='ethnicity', y_axis='sum', top_n=5)\n"
   ]
  },
  {
   "cell_type": "markdown",
   "metadata": {},
   "source": [
    "### Porn"
   ]
  },
  {
   "cell_type": "code",
   "execution_count": 9,
   "metadata": {},
   "outputs": [
    {
     "data": {
      "application/vnd.plotly.v1+json": {
       "config": {
        "plotlyServerURL": "https://plot.ly"
       },
       "data": [
        {
         "type": "bar",
         "x": [
          "HD Porn",
          "Verified Amateurs",
          "Amateur",
          "Exclusive",
          "Big Ass",
          "Babe",
          "Teen (18+)",
          "Big Tits",
          "Blowjob",
          "Hardcore",
          "Big Dick",
          "Pornstar",
          "Brunette",
          "Solo Female",
          "Cumshot",
          "MILF",
          "POV",
          "Masturbation",
          "Female Orgasm",
          "Fetish",
          "60FPS",
          "Blonde",
          "Small Tits",
          "Anal",
          "Creampie",
          "Toys",
          "Latina",
          "Reality",
          "Rough Sex",
          "Verified Couples",
          "Step Fantasy",
          "Handjob",
          "Pussy Licking",
          "Asian",
          "Tattooed Women",
          "Verified Models",
          "BBW",
          "Squirt",
          "Ebony",
          "Public",
          "Role Play",
          "Threesome",
          "Lesbian",
          "Interracial",
          "Old/Young (18+)",
          "Red Head",
          "Mature",
          "Russian",
          "Transgender",
          "Cartoon",
          "Romantic",
          "Japanese",
          "Feet",
          "College (18+)",
          "Bondage",
          "Compilation",
          "Cosplay",
          "Arab",
          "British",
          "Massage",
          "School (18+)",
          "Brazilian",
          "German",
          "Pissing",
          "Muscular Men",
          "Double Penetration",
          "French",
          "Italian",
          "Indian",
          "Hentai",
          "Babysitter (18+)",
          "Fisting",
          "Orgy",
          "Smoking",
          "Casting",
          "Cuckold",
          "Gangbang",
          "Czech",
          "Celebrity",
          "Behind The Scenes",
          "Fingering",
          "Parody",
          "Music",
          "Popular With Women",
          "Party",
          "Bukkake",
          "Solo Male",
          "Strap On",
          "Euro",
          "Korean",
          "Striptease",
          "Gaming",
          "Vintage",
          "Bisexual Male",
          "SFW",
          "Closed Captions",
          "Funny",
          "Interactive",
          "Podcast",
          "Described Video"
         ],
         "y": [
          1017070,
          693682,
          470773,
          440775,
          307019,
          283135,
          279880,
          272667,
          256411,
          234832,
          217510,
          202162,
          195403,
          192963,
          188769,
          180996,
          165227,
          159775,
          158109,
          145584,
          143196,
          138633,
          130798,
          125572,
          117587,
          115498,
          109289,
          105221,
          102811,
          93112,
          82874,
          81654,
          70729,
          68210,
          67106,
          64244,
          59238,
          55510,
          49317,
          48399,
          47030,
          46013,
          45976,
          44589,
          43444,
          43041,
          41607,
          38416,
          37316,
          37295,
          37124,
          36670,
          35971,
          35243,
          26794,
          23363,
          22800,
          22331,
          21976,
          21832,
          21276,
          20613,
          20310,
          20126,
          19816,
          19597,
          18876,
          18612,
          17181,
          17100,
          16543,
          15674,
          14031,
          13983,
          13697,
          13024,
          12747,
          12034,
          11728,
          11458,
          11306,
          10894,
          10815,
          10178,
          10014,
          8062,
          6734,
          5064,
          5023,
          4959,
          3858,
          3801,
          3253,
          3145,
          1535,
          1347,
          946,
          369,
          176,
          35
         ]
        }
       ],
       "layout": {
        "template": {
         "data": {
          "scatter": [
           {
            "line": {
             "width": 3
            },
            "type": "scatter"
           }
          ]
         },
         "layout": {
          "colorway": [
           "#470945",
           "#E67E5A",
           "#297FB9",
           "#163748",
           "#4F1787",
           "#EFE04E",
           "#214F70",
           "#DF14AA",
           "#100B1A",
           "#12C4CF",
           "#14193D",
           "#CC5500"
          ],
          "font": {
           "color": "#333333",
           "family": "Open Sans, sans-serif",
           "size": 28
          },
          "height": 800,
          "paper_bgcolor": "#FFF5CC",
          "plot_bgcolor": "#FFF5CC",
          "title": {
           "font": {
            "color": "#333333",
            "family": "Open Sans, sans-serif",
            "size": 34
           },
           "text": "",
           "x": 0.05
          },
          "width": 1294.4,
          "xaxis": {
           "anchor": "y",
           "gridcolor": "#888888",
           "linecolor": "#333333",
           "linewidth": 2,
           "showgrid": true,
           "tickfont": {
            "family": "Open Sans, sans-serif",
            "size": 24
           },
           "title": {
            "font": {
             "family": "Open Sans, sans-serif",
             "size": 26
            }
           }
          },
          "yaxis": {
           "anchor": "x",
           "gridcolor": "#888888",
           "linecolor": "#333333",
           "linewidth": 2,
           "showgrid": true,
           "tickfont": {
            "family": "Open Sans, sans-serif",
            "size": 24
           },
           "title": {
            "font": {
             "family": "Open Sans, sans-serif",
             "size": 26
            }
           }
          }
         }
        },
        "title": {
         "text": "Number of Videos by Porn Category"
        },
        "xaxis": {
         "tickangle": -45,
         "title": {
          "text": "Category"
         },
         "type": "category"
        },
        "yaxis": {
         "title": {
          "text": "Number of Videos"
         }
        }
       }
      }
     },
     "metadata": {},
     "output_type": "display_data"
    },
    {
     "data": {
      "application/vnd.plotly.v1+json": {
       "config": {
        "plotlyServerURL": "https://plot.ly"
       },
       "data": [
        {
         "type": "bar",
         "x": [
          "Big Ass",
          "Teen (18+)",
          "Big Tits",
          "Brunette",
          "MILF",
          "Blonde",
          "Latina",
          "Step Fantasy",
          "Asian",
          "Tattooed Women",
          "BBW",
          "Ebony",
          "Red Head",
          "Russian",
          "Japanese",
          "Feet",
          "Arab",
          "British",
          "Brazilian",
          "German",
          "French",
          "Italian",
          "Indian",
          "Czech",
          "Euro",
          "Korean"
         ],
         "y": [
          307019,
          279880,
          272667,
          195403,
          180996,
          138633,
          109289,
          82874,
          68210,
          67106,
          59238,
          49317,
          43041,
          38416,
          36670,
          35971,
          22331,
          21976,
          20613,
          20310,
          18876,
          18612,
          17181,
          12034,
          5023,
          4959
         ]
        }
       ],
       "layout": {
        "template": {
         "data": {
          "scatter": [
           {
            "line": {
             "width": 3
            },
            "type": "scatter"
           }
          ]
         },
         "layout": {
          "colorway": [
           "#470945",
           "#E67E5A",
           "#297FB9",
           "#163748",
           "#4F1787",
           "#EFE04E",
           "#214F70",
           "#DF14AA",
           "#100B1A",
           "#12C4CF",
           "#14193D",
           "#CC5500"
          ],
          "font": {
           "color": "#333333",
           "family": "Open Sans, sans-serif",
           "size": 28
          },
          "height": 800,
          "paper_bgcolor": "#FFF5CC",
          "plot_bgcolor": "#FFF5CC",
          "title": {
           "font": {
            "color": "#333333",
            "family": "Open Sans, sans-serif",
            "size": 34
           },
           "text": "",
           "x": 0.05
          },
          "width": 1294.4,
          "xaxis": {
           "anchor": "y",
           "gridcolor": "#888888",
           "linecolor": "#333333",
           "linewidth": 2,
           "showgrid": true,
           "tickfont": {
            "family": "Open Sans, sans-serif",
            "size": 24
           },
           "title": {
            "font": {
             "family": "Open Sans, sans-serif",
             "size": 26
            }
           }
          },
          "yaxis": {
           "anchor": "x",
           "gridcolor": "#888888",
           "linecolor": "#333333",
           "linewidth": 2,
           "showgrid": true,
           "tickfont": {
            "family": "Open Sans, sans-serif",
            "size": 24
           },
           "title": {
            "font": {
             "family": "Open Sans, sans-serif",
             "size": 26
            }
           }
          }
         }
        },
        "title": {
         "text": "Number of Videos by Porn Category"
        },
        "xaxis": {
         "tickangle": -45,
         "title": {
          "text": "Category"
         },
         "type": "category"
        },
        "yaxis": {
         "title": {
          "text": "Number of Videos"
         }
        }
       }
      }
     },
     "metadata": {},
     "output_type": "display_data"
    },
    {
     "data": {
      "application/vnd.plotly.v1+json": {
       "config": {
        "plotlyServerURL": "https://plot.ly"
       },
       "data": [
        {
         "type": "bar",
         "x": [
          "Brunette",
          "Blonde",
          "Latina",
          "Asian",
          "Tattooed Women",
          "Ebony",
          "Red Head",
          "Russian",
          "Japanese",
          "Arab",
          "British",
          "Brazilian",
          "German",
          "French",
          "Italian",
          "Indian",
          "Czech",
          "Euro",
          "Korean"
         ],
         "y": [
          195403,
          138633,
          109289,
          68210,
          67106,
          49317,
          43041,
          38416,
          36670,
          22331,
          21976,
          20613,
          20310,
          18876,
          18612,
          17181,
          12034,
          5023,
          4959
         ]
        }
       ],
       "layout": {
        "template": {
         "data": {
          "scatter": [
           {
            "line": {
             "width": 3
            },
            "type": "scatter"
           }
          ]
         },
         "layout": {
          "colorway": [
           "#470945",
           "#E67E5A",
           "#297FB9",
           "#163748",
           "#4F1787",
           "#EFE04E",
           "#214F70",
           "#DF14AA",
           "#100B1A",
           "#12C4CF",
           "#14193D",
           "#CC5500"
          ],
          "font": {
           "color": "#333333",
           "family": "Open Sans, sans-serif",
           "size": 28
          },
          "height": 800,
          "paper_bgcolor": "#FFF5CC",
          "plot_bgcolor": "#FFF5CC",
          "title": {
           "font": {
            "color": "#333333",
            "family": "Open Sans, sans-serif",
            "size": 34
           },
           "text": "",
           "x": 0.05
          },
          "width": 1294.4,
          "xaxis": {
           "anchor": "y",
           "gridcolor": "#888888",
           "linecolor": "#333333",
           "linewidth": 2,
           "showgrid": true,
           "tickfont": {
            "family": "Open Sans, sans-serif",
            "size": 24
           },
           "title": {
            "font": {
             "family": "Open Sans, sans-serif",
             "size": 26
            }
           }
          },
          "yaxis": {
           "anchor": "x",
           "gridcolor": "#888888",
           "linecolor": "#333333",
           "linewidth": 2,
           "showgrid": true,
           "tickfont": {
            "family": "Open Sans, sans-serif",
            "size": 24
           },
           "title": {
            "font": {
             "family": "Open Sans, sans-serif",
             "size": 26
            }
           }
          }
         }
        },
        "title": {
         "text": "Number of Videos by Porn Category"
        },
        "xaxis": {
         "tickangle": -45,
         "title": {
          "text": "Category"
         },
         "type": "category"
        },
        "yaxis": {
         "title": {
          "text": "Number of Videos"
         }
        }
       }
      }
     },
     "metadata": {},
     "output_type": "display_data"
    }
   ],
   "source": [
    "import pandas as pd\n",
    "import plotly.graph_objects as go\n",
    "\n",
    "def plot_porn_categories_chart(file_path, included_categories=None):\n",
    "    \"\"\"\n",
    "    Plots a bar chart of porn categories and their number of videos.\n",
    "\n",
    "    Parameters:\n",
    "    - file_path (str): Path to the CSV file containing the data.\n",
    "    - included_categories (list): List of categories to include. Default is None (include all).\n",
    "    \"\"\"\n",
    "    # Load the dataset\n",
    "    df = pd.read_csv(file_path)\n",
    "\n",
    "    # Filter by included categories if provided\n",
    "    if included_categories:\n",
    "        df = df[df['category'].isin(included_categories)]\n",
    "\n",
    "    # Sort the DataFrame by 'num_videos' in descending order\n",
    "    df = df.sort_values(by='num_videos', ascending=False)\n",
    "\n",
    "    # Create the bar chart using Plotly\n",
    "    fig = go.Figure()\n",
    "\n",
    "    fig.add_trace(go.Bar(\n",
    "        x=df['category'],\n",
    "        y=df['num_videos']\n",
    "    ))\n",
    "\n",
    "    # Update layout with the 'base' template and axis labels\n",
    "    fig.update_layout(\n",
    "        template='base',\n",
    "        title='Number of Videos by Porn Category',\n",
    "        xaxis_title='Category',\n",
    "        yaxis_title='Number of Videos',\n",
    "        xaxis=dict(type='category', tickangle=-45),\n",
    "    )\n",
    "\n",
    "    # Show the plot\n",
    "    fig.show()\n",
    "\n",
    "# Example usage:\n",
    "# Plot all categories\n",
    "plot_porn_categories_chart('d_porn_categories.csv')\n",
    "\n",
    "# Plot specific categories\n",
    "plot_porn_categories_chart('d_porn_categories.csv', included_categories=['Arab', \n",
    "                                                                         'Asian', \n",
    "                                                                         'BBW', \n",
    "                                                                         'Babysitter', \n",
    "                                                                         'Big Tits', \n",
    "                                                                         'Big Ass', \n",
    "                                                                         'Blonde',\n",
    "                                                                         'Brazilian',\n",
    "                                                                         'British',\n",
    "                                                                         'Brunette',\n",
    "                                                                         'Celebrity'\n",
    "                                                                         'College (18+)',\n",
    "                                                                         'Czech',\n",
    "                                                                         'Ebony',\n",
    "                                                                         'Euro',\n",
    "                                                                         'Feet',\n",
    "                                                                         'French',\n",
    "                                                                         'German',\n",
    "                                                                         'Indian',\n",
    "                                                                         'Italian',\n",
    "                                                                         'Japanese',\n",
    "                                                                         'Korean',\n",
    "                                                                         'Latina',\n",
    "                                                                         'MILF',\n",
    "                                                                         'Red Head',\n",
    "                                                                         'Russian',\n",
    "                                                                         'School (18+)'\n",
    "                                                                         'Small Tits',\n",
    "                                                                         'Step Fantasy',\n",
    "                                                                         'Tattooed Women',\n",
    "                                                                         'Teen (18+)'\n",
    "                                                                        ])\n",
    "\n",
    "plot_porn_categories_chart('d_porn_categories.csv', included_categories=['Arab', \n",
    "                                                                         'Asian', \n",
    "                                                                         'Blonde',\n",
    "                                                                         'Brazilian',\n",
    "                                                                         'British',\n",
    "                                                                         'Brunette',\n",
    "                                                                         'Czech',\n",
    "                                                                         'Ebony',\n",
    "                                                                         'Euro',\n",
    "                                                                         'French',\n",
    "                                                                         'German',\n",
    "                                                                         'Indian',\n",
    "                                                                         'Italian',\n",
    "                                                                         'Japanese',\n",
    "                                                                         'Korean',\n",
    "                                                                         'Latina',\n",
    "                                                                         'Red Head',\n",
    "                                                                         'Russian',\n",
    "                                                                         'Tattooed Women',\n",
    "                                                                        ])\n"
   ]
  },
  {
   "cell_type": "code",
   "execution_count": 10,
   "metadata": {},
   "outputs": [
    {
     "name": "stdout",
     "output_type": "stream",
     "text": [
      "Total Watch Time: 42133940000.00 minutes\n",
      "Total Watch Time: 702232333.33 hours\n",
      "Total Watch Time: 29259680.56 days\n",
      "Total Watch Time: 4179954.37 weeks\n",
      "Total Watch Time: 961224.72 months\n",
      "Total Watch Time: 80108.64 years\n",
      "Total Views: 4,902,200,000.0 views\n"
     ]
    }
   ],
   "source": [
    "import pandas as pd\n",
    "\n",
    "def calculate_total_watch_time(csv_file, view_percentage):\n",
    "    \"\"\"\n",
    "    Calculate the total watch time and total views from a CSV file.\n",
    "    \n",
    "    Parameters:\n",
    "    - csv_file: str, path to the CSV file.\n",
    "    - view_percentage: float, the average percentage of the video watched (e.g., 0.75 for 75%).\n",
    "    \n",
    "    Returns:\n",
    "    - dict: Total watch time in hours, days, weeks, months, years, and total views.\n",
    "    \"\"\"\n",
    "    # Load the CSV\n",
    "    df = pd.read_csv(csv_file)\n",
    "    \n",
    "    # Ensure no trailing/leading spaces in column names\n",
    "    df.columns = df.columns.str.strip()\n",
    "    \n",
    "    # Check if the 'duration' column exists\n",
    "    if 'duration' not in df.columns:\n",
    "        raise KeyError(\"The 'duration' column is missing in the CSV file.\")\n",
    "    \n",
    "    # Convert duration to seconds\n",
    "    def duration_to_seconds(duration):\n",
    "        parts = duration.split(':')\n",
    "        seconds = int(parts[0]) * 60 + int(parts[1])  # Convert minutes and seconds\n",
    "        return seconds\n",
    "\n",
    "    df['duration_seconds'] = df['duration'].apply(duration_to_seconds)\n",
    "    \n",
    "    # Convert views to total views\n",
    "    if 'views_mm' not in df.columns:\n",
    "        raise KeyError(\"The 'views_mm' column is missing in the CSV file.\")\n",
    "    \n",
    "    df['views'] = df['views_mm'] * 1_000_000\n",
    "    \n",
    "    # Calculate total watch time in seconds\n",
    "    df['watch_time_seconds'] = df['views'] * df['duration_seconds'] * view_percentage\n",
    "    \n",
    "    # Sum the watch time across all videos\n",
    "    total_watch_time_seconds = df['watch_time_seconds'].sum()\n",
    "    \n",
    "    # Convert total watch time to various units\n",
    "    total_watch_time_minutues = total_watch_time_seconds / 60\n",
    "    total_watch_time_hours = total_watch_time_seconds / 3600\n",
    "    total_watch_time_days = total_watch_time_hours / 24\n",
    "    total_watch_time_weeks = total_watch_time_days / 7\n",
    "    total_watch_time_months = total_watch_time_days / 30.44  # Average days in a month\n",
    "    total_watch_time_years = total_watch_time_days / 365.25  # Including leap years\n",
    "    \n",
    "    # Calculate total views\n",
    "    total_views = df['views'].sum()\n",
    "    \n",
    "    return {\n",
    "        \"minutes\": total_watch_time_minutues,\n",
    "        \"hours\": total_watch_time_hours,\n",
    "        \"days\": total_watch_time_days,\n",
    "        \"weeks\": total_watch_time_weeks,\n",
    "        \"months\": total_watch_time_months,\n",
    "        \"years\": total_watch_time_years,\n",
    "        \"total_views\": total_views\n",
    "    }\n",
    "\n",
    "# Example usage\n",
    "csv_file = \"d_porn_top50.csv\"  # Path to your CSV file\n",
    "view_percentage = 0.5  # 75% of each video is watched on average\n",
    "\n",
    "try:\n",
    "    total_watch_time = calculate_total_watch_time(csv_file, view_percentage)\n",
    "    print(f\"Total Watch Time: {total_watch_time['minutes']:.2f} minutes\")\n",
    "    print(f\"Total Watch Time: {total_watch_time['hours']:.2f} hours\")\n",
    "    print(f\"Total Watch Time: {total_watch_time['days']:.2f} days\")\n",
    "    print(f\"Total Watch Time: {total_watch_time['weeks']:.2f} weeks\")\n",
    "    print(f\"Total Watch Time: {total_watch_time['months']:.2f} months\")\n",
    "    print(f\"Total Watch Time: {total_watch_time['years']:.2f} years\")\n",
    "    print(f\"Total Views: {total_watch_time['total_views']:,} views\")\n",
    "except KeyError as e:\n",
    "    print(e)"
   ]
  },
  {
   "cell_type": "code",
   "execution_count": null,
   "metadata": {},
   "outputs": [],
   "source": []
  }
 ],
 "metadata": {
  "kernelspec": {
   "display_name": "Python 3",
   "language": "python",
   "name": "python3"
  },
  "language_info": {
   "codemirror_mode": {
    "name": "ipython",
    "version": 3
   },
   "file_extension": ".py",
   "mimetype": "text/x-python",
   "name": "python",
   "nbconvert_exporter": "python",
   "pygments_lexer": "ipython3",
   "version": "3.9.6"
  }
 },
 "nbformat": 4,
 "nbformat_minor": 2
}
