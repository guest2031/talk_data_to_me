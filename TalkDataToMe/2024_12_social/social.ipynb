{
 "cells": [
  {
   "cell_type": "code",
   "execution_count": 4,
   "metadata": {},
   "outputs": [],
   "source": [
    "import plotly.graph_objects as go\n",
    "import plotly.io as pio\n",
    "\n",
    "# Define the updated base template\n",
    "base = go.layout.Template(\n",
    "    layout=go.Layout(\n",
    "        paper_bgcolor='#FFF5CC',\n",
    "        plot_bgcolor='#FFF5CC',\n",
    "        height=800,\n",
    "        width=800 * 1.618,\n",
    "        xaxis=dict(\n",
    "            anchor='y',\n",
    "            showgrid=True,\n",
    "            gridcolor='#888888',  # Darker grid lines\n",
    "            tickfont=dict(\n",
    "                size=24,\n",
    "                family='Open Sans, sans-serif'  # Use Open Sans font\n",
    "            ),\n",
    "            titlefont=dict(\n",
    "                size=26,\n",
    "                family='Open Sans, sans-serif'  # Use Open Sans font\n",
    "            ),\n",
    "            linecolor='#333333',\n",
    "            linewidth=2  # Adjust the thickness of the x-axis line\n",
    "        ),\n",
    "        yaxis=dict(\n",
    "            anchor='x',\n",
    "            showgrid=True,\n",
    "            gridcolor='#888888',  # Darker grid lines\n",
    "            tickfont=dict(\n",
    "                size=24,\n",
    "                family='Open Sans, sans-serif'\n",
    "            ),\n",
    "            titlefont=dict(\n",
    "                size=26,\n",
    "                family='Open Sans, sans-serif'\n",
    "            ),\n",
    "            linecolor='#333333',\n",
    "            linewidth=2  # Adjust the thickness of the y-axis line\n",
    "        ),\n",
    "        font=dict(\n",
    "            color='#333333',\n",
    "            size=28,\n",
    "            family='Open Sans, sans-serif'\n",
    "        ),\n",
    "        # Updated colorway to ensure more distinguishable colors\n",
    "        colorway=[\"#470945\", # H: Violet\n",
    "                  \"#E67E5A\", # H: Orange (Sienna)\n",
    "                  \"#297FB9\", # H: Blue (Steel)\n",
    "                  \"#163748\", # D: Charcoal\n",
    "                  \"#4F1787\", # H: Purple\n",
    "                  \"#EFE04E\", # H: Yellow (Maize)\n",
    "                  \"#214F70\", # D: Indigo\n",
    "                  \"#DF14AA\", # H: Pink (Cerise)\n",
    "                  \"#100B1A\", # D: Black\n",
    "                  \"#12C4CF\", # H: Teal\n",
    "                  \"#14193D\", # D: Space\n",
    "                  \"#CC5500\"],# H: Cream\n",
    "        title=go.layout.Title(\n",
    "            text='',\n",
    "            font=dict(\n",
    "                size=34,\n",
    "                color='#333333',\n",
    "                family='Open Sans, sans-serif'\n",
    "            ),\n",
    "            x=0.05,\n",
    "        )\n",
    "    ),\n",
    "    data=dict(\n",
    "        scatter=[\n",
    "            go.Scatter(\n",
    "                line=dict(width=3)  # Set the line width for scatter plots\n",
    "            )\n",
    "        ]\n",
    "    )\n",
    ")\n",
    "\n",
    "# Register the updated base template\n",
    "pio.templates['base'] = base\n",
    "pio.templates.default = 'base'"
   ]
  },
  {
   "cell_type": "code",
   "execution_count": 5,
   "metadata": {},
   "outputs": [
    {
     "name": "stdout",
     "output_type": "stream",
     "text": [
      "     sex age_group  year  suicide_rate age_group_grouped\n",
      "0  Males     15-19  1907           3.3               <20\n",
      "1  Males     20-24  1907           9.1               20s\n",
      "2  Males     25-29  1907          18.3               20s\n",
      "3  Males     30-34  1907          18.7               30s\n",
      "4  Males     35-39  1907          24.2               30s\n"
     ]
    }
   ],
   "source": [
    "import pandas as pd\n",
    "\n",
    "# Load the CSV data\n",
    "file_name = \"d_aus_suicide.csv\"  # Replace with your file path\n",
    "data = pd.read_csv(file_name)\n",
    "\n",
    "# Function to group age ranges\n",
    "def group_age(age_group):\n",
    "    if age_group in [\"15-19\"]:\n",
    "        return \"<20\"\n",
    "    elif age_group in [\"20-24\", \"25-29\"]:\n",
    "        return \"20s\"\n",
    "    elif age_group in [\"30-34\", \"35-39\"]:\n",
    "        return \"30s\"\n",
    "    elif age_group in [\"40-44\", \"45-49\"]:\n",
    "        return \"40s\"\n",
    "    elif age_group in [\"50-54\", \"55-59\"]:\n",
    "        return \"50s\"\n",
    "    elif age_group in [\"60-64\", \"65-69\"]:\n",
    "        return \"60s\"\n",
    "    elif age_group in [\"70-74\", \"75-79\"]:\n",
    "        return \"70s\"\n",
    "    elif age_group in [\"80-84\", \"85+\"]:\n",
    "        return \"80+\"\n",
    "    else:\n",
    "        return \"Unknown\"\n",
    "\n",
    "# Add a new column for grouped age ranges\n",
    "data[\"age_group_grouped\"] = data[\"age_group\"].apply(group_age)\n",
    "\n",
    "# Save the updated dataset to a new CSV (optional)\n",
    "output_file_name = \"d_aus_suicide_grouped.csv\"\n",
    "data.to_csv(output_file_name, index=False)\n",
    "\n",
    "# Display the first few rows of the updated data\n",
    "print(data.head())\n"
   ]
  },
  {
   "cell_type": "code",
   "execution_count": 101,
   "metadata": {},
   "outputs": [],
   "source": [
    "import pandas as pd\n",
    "import plotly.graph_objects as go\n",
    "\n",
    "def plot_normalized_suicide_trends(file_name, min_year, max_year, age_groups=None, split_by_gender=True, split_by_age_group=True, template=\"base\", rolling_window=None, highlight_lines=None, show_legend=True, width=1920, height=1080):\n",
    "    \"\"\"\n",
    "    Plots normalized suicide rate trends with options to group or split by gender and age groups, apply a rolling window average, and highlight specific lines.\n",
    "\n",
    "    Parameters:\n",
    "        file_name (str): Path to the CSV file.\n",
    "        min_year (int): Minimum year for filtering data.\n",
    "        max_year (int): Maximum year for filtering data.\n",
    "        age_groups (list or None): List of age groups to include (e.g., [\"<20\", \"20s\"]). If None, include all age groups.\n",
    "        split_by_gender (bool): Whether to split trends by gender.\n",
    "        split_by_age_group (bool): Whether to split trends by age groups.\n",
    "        template (str): Plotly template to apply (default: \"base\").\n",
    "        rolling_window (int or None): Size of the rolling window for smoothing. If None, no smoothing is applied.\n",
    "        highlight_lines (list of str or None): List of specific combinations to highlight (e.g., [\"Males_<20\", \"Females_20s\"]). If None, no highlighting is applied.\n",
    "        show_legend (bool): Whether to include the legend in the plot.\n",
    "        width (int): Width of the plot (default: 1920 for widescreen).\n",
    "        height (int): Height of the plot (default: 1080 for widescreen).\n",
    "    \"\"\"\n",
    "    # Load the data\n",
    "    data = pd.read_csv(file_name)\n",
    "\n",
    "    # Filter data for relevant years and age groups (if specified)\n",
    "    filtered_data = data[\n",
    "        (data[\"year\"] >= min_year) &\n",
    "        (data[\"year\"] <= max_year)\n",
    "    ]\n",
    "    if age_groups is not None:\n",
    "        filtered_data = filtered_data[filtered_data[\"age_group_grouped\"].isin(age_groups)]\n",
    "\n",
    "    # Handle grouping based on user input\n",
    "    group_columns = []\n",
    "    if split_by_gender:\n",
    "        group_columns.append(\"sex\")\n",
    "    if split_by_age_group:\n",
    "        group_columns.append(\"age_group_grouped\")\n",
    "\n",
    "    # Pivot data\n",
    "    pivot_data = filtered_data.pivot_table(\n",
    "        index=\"year\", \n",
    "        columns=group_columns, \n",
    "        values=\"suicide_rate\", \n",
    "        aggfunc=\"mean\"\n",
    "    )\n",
    "\n",
    "    # Normalize data to min_year = 100\n",
    "    normalized_data = pivot_data.div(pivot_data.loc[min_year]).mul(100)\n",
    "\n",
    "    # Apply rolling window if specified\n",
    "    if rolling_window:\n",
    "        normalized_data = normalized_data.rolling(window=rolling_window, min_periods=1).mean()\n",
    "\n",
    "    # Flatten the column MultiIndex for easier access\n",
    "    if group_columns:\n",
    "        normalized_data.columns = [\n",
    "            \"_\".join(map(str, col)) for col in normalized_data.columns\n",
    "        ]\n",
    "    else:\n",
    "        normalized_data.columns = [\"Overall\"]\n",
    "\n",
    "    # Define color mapping for each gender\n",
    "    gender_colors = {\n",
    "        \"Males\": '#297fb9',\n",
    "        \"Females\": \"#4f1787\"\n",
    "    }\n",
    "\n",
    "    # Initialize Plotly figure\n",
    "    fig = go.Figure()\n",
    "\n",
    "    # Add traces for each cohort\n",
    "    for column in normalized_data.columns:\n",
    "        gender = \"Males\" if \"Males\" in column else \"Females\"\n",
    "        is_highlighted = highlight_lines and column in highlight_lines\n",
    "\n",
    "        # Add white border (only for highlighted lines)\n",
    "        if is_highlighted:\n",
    "            fig.add_trace(\n",
    "                go.Scatter(\n",
    "                    x=normalized_data.index,\n",
    "                    y=normalized_data[column],\n",
    "                    mode=\"lines\",\n",
    "                    name=None,  # No legend entry for the border\n",
    "                    line=dict(\n",
    "                        color=\"white\",  # Border color\n",
    "                        width=14         # Border width\n",
    "                    ),\n",
    "                    showlegend=False  # Don't show border in legend\n",
    "                )\n",
    "            )\n",
    "\n",
    "        # Add the actual line\n",
    "        fig.add_trace(\n",
    "            go.Scatter(\n",
    "                x=normalized_data.index,\n",
    "                y=normalized_data[column],\n",
    "                mode=\"lines\",\n",
    "                name=column.replace(\"_\", \" \"),\n",
    "                line=dict(\n",
    "                    color=gender_colors[gender],\n",
    "                    width=10 if is_highlighted else 4\n",
    "                ),\n",
    "                opacity=1.0 if is_highlighted else 0.15  # Set opacity based on highlight\n",
    "            )\n",
    "        )\n",
    "\n",
    "    # Apply the template and customize layout\n",
    "        fig.update_layout(\n",
    "            title=dict(\n",
    "                text=\"Suicide Rate Australia (Normalised)\",\n",
    "                font=dict(size=50)  # Adjust the size here (e.g., 28)\n",
    "            ),\n",
    "        xaxis_title=None,  # Remove x-axis title\n",
    "        yaxis_title=None, #\"Suicide Rate (Normalized)\",\n",
    "        template=template,\n",
    "        legend_title=\"Group\",\n",
    "        showlegend=show_legend,  # Control legend visibility\n",
    "        width=width,            # Set plot width\n",
    "        height=height,          # Set plot height\n",
    "        xaxis=dict(\n",
    "            tickfont=dict(size=35)     # X-axis tick label font size\n",
    "        ),\n",
    "        yaxis=dict(\n",
    "            # title_font=dict(size=30),  # Y-axis title font size\n",
    "            tickfont=dict(size=35)     # Y-axis tick label font size\n",
    "        )\n",
    "    )\n",
    "\n",
    "    # Show the plot\n",
    "    fig.show()\n"
   ]
  },
  {
   "cell_type": "code",
   "execution_count": 97,
   "metadata": {},
   "outputs": [
    {
     "data": {
      "application/vnd.plotly.v1+json": {
       "config": {
        "plotlyServerURL": "https://plot.ly"
       },
       "data": [
        {
         "line": {
          "color": "#4f1787",
          "width": 4
         },
         "mode": "lines",
         "name": "Females 20s",
         "opacity": 0.5,
         "type": "scatter",
         "x": [
          2006,
          2007,
          2008,
          2009,
          2010,
          2011,
          2012,
          2013,
          2014,
          2015,
          2016,
          2017,
          2018,
          2019,
          2020
         ],
         "y": [
          100,
          99.52830188679246,
          96.8553459119497,
          99.29245283018868,
          104.71698113207549,
          107.73584905660377,
          109.43396226415095,
          114.33962264150944,
          119.0566037735849,
          118.86792452830188,
          125.09433962264151,
          130.75471698113208,
          132.26415094339623,
          138.1132075471698,
          142.45283018867926
         ]
        },
        {
         "line": {
          "color": "#4f1787",
          "width": 4
         },
         "mode": "lines",
         "name": "Females 30s",
         "opacity": 0.5,
         "type": "scatter",
         "x": [
          2006,
          2007,
          2008,
          2009,
          2010,
          2011,
          2012,
          2013,
          2014,
          2015,
          2016,
          2017,
          2018,
          2019,
          2020
         ],
         "y": [
          100,
          103.2,
          109.33333333333333,
          110.6,
          110.24000000000001,
          111.36000000000001,
          114.40000000000002,
          112.32000000000001,
          117.12000000000003,
          120.16,
          124.64000000000001,
          123.84,
          124.16,
          121.44000000000001,
          122.08
         ]
        },
        {
         "line": {
          "color": "#4f1787",
          "width": 4
         },
         "mode": "lines",
         "name": "Females 40s",
         "opacity": 0.5,
         "type": "scatter",
         "x": [
          2006,
          2007,
          2008,
          2009,
          2010,
          2011,
          2012,
          2013,
          2014,
          2015,
          2016,
          2017,
          2018,
          2019,
          2020
         ],
         "y": [
          100,
          109.20000000000002,
          110.40000000000002,
          107.80000000000001,
          110.56000000000002,
          115.2,
          115.84,
          121.91999999999999,
          127.67999999999999,
          134.88,
          136.8,
          146.56,
          147.2,
          150.24,
          147.52
         ]
        },
        {
         "line": {
          "color": "#4f1787",
          "width": 4
         },
         "mode": "lines",
         "name": "Females 50s",
         "opacity": 0.5,
         "type": "scatter",
         "x": [
          2006,
          2007,
          2008,
          2009,
          2010,
          2011,
          2012,
          2013,
          2014,
          2015,
          2016,
          2017,
          2018,
          2019,
          2020
         ],
         "y": [
          100,
          106.25,
          106.61764705882354,
          110.66176470588236,
          109.55882352941178,
          110.73529411764707,
          111.32352941176471,
          113.23529411764707,
          113.67647058823529,
          121.0294117647059,
          125.73529411764707,
          133.97058823529412,
          136.91176470588238,
          139.26470588235296,
          129.8529411764706
         ]
        },
        {
         "line": {
          "color": "#4f1787",
          "width": 4
         },
         "mode": "lines",
         "name": "Females 60s",
         "opacity": 0.5,
         "type": "scatter",
         "x": [
          2006,
          2007,
          2008,
          2009,
          2010,
          2011,
          2012,
          2013,
          2014,
          2015,
          2016,
          2017,
          2018,
          2019,
          2020
         ],
         "y": [
          100,
          104.0909090909091,
          92.42424242424242,
          93.4090909090909,
          89.81818181818183,
          83.81818181818183,
          81.27272727272728,
          90.18181818181819,
          92.72727272727272,
          96.54545454545453,
          102.18181818181819,
          108,
          109.45454545454545,
          109.63636363636365,
          111.27272727272728
         ]
        },
        {
         "line": {
          "color": "#4f1787",
          "width": 4
         },
         "mode": "lines",
         "name": "Females 70s",
         "opacity": 0.5,
         "type": "scatter",
         "x": [
          2006,
          2007,
          2008,
          2009,
          2010,
          2011,
          2012,
          2013,
          2014,
          2015,
          2016,
          2017,
          2018,
          2019,
          2020
         ],
         "y": [
          100,
          89.6,
          88.8,
          85.4,
          83.52000000000001,
          79.36,
          78.88000000000001,
          79.36000000000001,
          80.47999999999999,
          85.76,
          92,
          98.72,
          96.8,
          99.84,
          98.4
         ]
        },
        {
         "line": {
          "color": "#4f1787",
          "width": 4
         },
         "mode": "lines",
         "name": "Females 80+",
         "opacity": 0.5,
         "type": "scatter",
         "x": [
          2006,
          2007,
          2008,
          2009,
          2010,
          2011,
          2012,
          2013,
          2014,
          2015,
          2016,
          2017,
          2018,
          2019,
          2020
         ],
         "y": [
          100,
          83.94495412844037,
          72.4770642201835,
          79.58715596330276,
          84.77064220183487,
          87.88990825688074,
          100.55045871559635,
          111.74311926605506,
          115.22935779816517,
          117.79816513761469,
          118.53211009174315,
          115.77981651376149,
          121.4678899082569,
          126.7889908256881,
          128.6238532110092
         ]
        },
        {
         "line": {
          "color": "#4f1787",
          "width": 4
         },
         "mode": "lines",
         "name": "Females <20",
         "opacity": 0.5,
         "type": "scatter",
         "x": [
          2006,
          2007,
          2008,
          2009,
          2010,
          2011,
          2012,
          2013,
          2014,
          2015,
          2016,
          2017,
          2018,
          2019,
          2020
         ],
         "y": [
          100,
          103.48837209302326,
          96.89922480620156,
          95.34883720930233,
          93.48837209302326,
          97.20930232558139,
          114.41860465116278,
          124.18604651162791,
          131.16279069767444,
          150.69767441860466,
          150.69767441860466,
          145.11627906976747,
          151.16279069767444,
          156.74418604651163,
          148.37209302325581
         ]
        },
        {
         "line": {
          "color": "#297fb9",
          "width": 4
         },
         "mode": "lines",
         "name": "Males 20s",
         "opacity": 0.5,
         "type": "scatter",
         "x": [
          2006,
          2007,
          2008,
          2009,
          2010,
          2011,
          2012,
          2013,
          2014,
          2015,
          2016,
          2017,
          2018,
          2019,
          2020
         ],
         "y": [
          100,
          105.13157894736844,
          106.49122807017545,
          104.27631578947368,
          101.21052631578948,
          102.57894736842104,
          100.10526315789473,
          97.84210526315789,
          100,
          106.21052631578948,
          108.52631578947368,
          113.73684210526315,
          118.99999999999997,
          123.26315789473684,
          124.89473684210525
         ]
        },
        {
         "line": {
          "color": "#297fb9",
          "width": 4
         },
         "mode": "lines",
         "name": "Males 30s",
         "opacity": 0.5,
         "type": "scatter",
         "x": [
          2006,
          2007,
          2008,
          2009,
          2010,
          2011,
          2012,
          2013,
          2014,
          2015,
          2016,
          2017,
          2018,
          2019,
          2020
         ],
         "y": [
          100,
          107.14285714285714,
          109.67032967032968,
          108.68131868131869,
          109.75824175824175,
          109.14285714285715,
          107.6923076923077,
          103.12087912087911,
          105.01098901098901,
          105.6263736263736,
          109.36263736263736,
          112.3076923076923,
          116.61538461538461,
          117.53846153846152,
          115.12087912087914
         ]
        },
        {
         "line": {
          "color": "#297fb9",
          "width": 4
         },
         "mode": "lines",
         "name": "Males 40s",
         "opacity": 0.5,
         "type": "scatter",
         "x": [
          2006,
          2007,
          2008,
          2009,
          2010,
          2011,
          2012,
          2013,
          2014,
          2015,
          2016,
          2017,
          2018,
          2019,
          2020
         ],
         "y": [
          100,
          95.57613168724279,
          101.09739368998629,
          102.36625514403293,
          105.8024691358025,
          106.0905349794239,
          109.62962962962965,
          108.18930041152267,
          110.32921810699591,
          112.51028806584364,
          113.29218106995886,
          118.68312757201647,
          120.53497942386832,
          122.59259259259261,
          118.27160493827162
         ]
        },
        {
         "line": {
          "color": "#297fb9",
          "width": 4
         },
         "mode": "lines",
         "name": "Males 50s",
         "opacity": 0.5,
         "type": "scatter",
         "x": [
          2006,
          2007,
          2008,
          2009,
          2010,
          2011,
          2012,
          2013,
          2014,
          2015,
          2016,
          2017,
          2018,
          2019,
          2020
         ],
         "y": [
          100,
          99.23664122137406,
          101.69635284139103,
          102.6081424936387,
          104.32569974554708,
          104.73282442748094,
          108.24427480916033,
          110.38167938931299,
          118.42239185750637,
          123.40966921119593,
          126.81933842239187,
          128.85496183206106,
          134.70737913486005,
          132.87531806615777,
          131.09414758269722
         ]
        },
        {
         "line": {
          "color": "#297fb9",
          "width": 4
         },
         "mode": "lines",
         "name": "Males 60s",
         "opacity": 0.5,
         "type": "scatter",
         "x": [
          2006,
          2007,
          2008,
          2009,
          2010,
          2011,
          2012,
          2013,
          2014,
          2015,
          2016,
          2017,
          2018,
          2019,
          2020
         ],
         "y": [
          100,
          102.88461538461539,
          106.73076923076924,
          108.17307692307693,
          107.6923076923077,
          109.35897435897436,
          109.23076923076924,
          109.23076923076924,
          111.2820512820513,
          115.06410256410257,
          117.56410256410257,
          123.97435897435898,
          126.92307692307693,
          129.4871794871795,
          131.2179487179487
         ]
        },
        {
         "line": {
          "color": "#297fb9",
          "width": 4
         },
         "mode": "lines",
         "name": "Males 70s",
         "opacity": 0.5,
         "type": "scatter",
         "x": [
          2006,
          2007,
          2008,
          2009,
          2010,
          2011,
          2012,
          2013,
          2014,
          2015,
          2016,
          2017,
          2018,
          2019,
          2020
         ],
         "y": [
          100,
          95.76719576719577,
          96.47266313932982,
          97.94973544973546,
          101.6931216931217,
          99.47089947089948,
          100.26455026455027,
          101.42857142857143,
          101.4814814814815,
          98.94179894179895,
          101.00529100529101,
          100.74074074074075,
          98.78306878306879,
          98.25396825396827,
          96.82539682539684
         ]
        },
        {
         "line": {
          "color": "#297fb9",
          "width": 4
         },
         "mode": "lines",
         "name": "Males 80+",
         "opacity": 0.5,
         "type": "scatter",
         "x": [
          2006,
          2007,
          2008,
          2009,
          2010,
          2011,
          2012,
          2013,
          2014,
          2015,
          2016,
          2017,
          2018,
          2019,
          2020
         ],
         "y": [
          100,
          98.01801801801801,
          95.85585585585585,
          95.13513513513513,
          95.27927927927928,
          97.04504504504504,
          102.05405405405406,
          105.83783783783785,
          108.64864864864867,
          114.01801801801803,
          113.33333333333333,
          109.5135135135135,
          108.21621621621621,
          106.73873873873875,
          103.67567567567566
         ]
        },
        {
         "line": {
          "color": "#297fb9",
          "width": 4
         },
         "mode": "lines",
         "name": "Males <20",
         "opacity": 0.5,
         "type": "scatter",
         "x": [
          2006,
          2007,
          2008,
          2009,
          2010,
          2011,
          2012,
          2013,
          2014,
          2015,
          2016,
          2017,
          2018,
          2019,
          2020
         ],
         "y": [
          100,
          100.88495575221239,
          96.16519174041298,
          94.69026548672566,
          97.16814159292035,
          96.28318584070796,
          92.92035398230088,
          102.47787610619469,
          106.72566371681414,
          107.25663716814158,
          112.03539823008848,
          121.5929203539823,
          126.19469026548673,
          132.92035398230087,
          141.76991150442478
         ]
        }
       ],
       "layout": {
        "height": 1080,
        "legend": {
         "title": {
          "text": "Group"
         }
        },
        "showlegend": false,
        "template": {
         "data": {
          "scatter": [
           {
            "line": {
             "width": 3
            },
            "type": "scatter"
           }
          ]
         },
         "layout": {
          "colorway": [
           "#470945",
           "#E67E5A",
           "#297FB9",
           "#163748",
           "#4F1787",
           "#EFE04E",
           "#214F70",
           "#DF14AA",
           "#100B1A",
           "#12C4CF",
           "#14193D",
           "#CC5500"
          ],
          "font": {
           "color": "#333333",
           "family": "Open Sans, sans-serif",
           "size": 28
          },
          "height": 800,
          "paper_bgcolor": "#FFF5CC",
          "plot_bgcolor": "#FFF5CC",
          "title": {
           "font": {
            "color": "#333333",
            "family": "Open Sans, sans-serif",
            "size": 34
           },
           "text": "",
           "x": 0.05
          },
          "width": 1294.4,
          "xaxis": {
           "anchor": "y",
           "gridcolor": "#888888",
           "linecolor": "#333333",
           "linewidth": 2,
           "showgrid": true,
           "tickfont": {
            "family": "Open Sans, sans-serif",
            "size": 24
           },
           "title": {
            "font": {
             "family": "Open Sans, sans-serif",
             "size": 26
            }
           }
          },
          "yaxis": {
           "anchor": "x",
           "gridcolor": "#888888",
           "linecolor": "#333333",
           "linewidth": 2,
           "showgrid": true,
           "tickfont": {
            "family": "Open Sans, sans-serif",
            "size": 24
           },
           "title": {
            "font": {
             "family": "Open Sans, sans-serif",
             "size": 26
            }
           }
          }
         }
        },
        "title": {
         "font": {
          "size": 50
         },
         "text": "Suicide Rate Australia (Normalised)"
        },
        "width": 1920,
        "xaxis": {
         "tickfont": {
          "size": 35
         },
         "title": {}
        },
        "yaxis": {
         "tickfont": {
          "size": 35
         },
         "title": {}
        }
       }
      }
     },
     "metadata": {},
     "output_type": "display_data"
    }
   ],
   "source": [
    "plot_normalized_suicide_trends(\n",
    "    file_name=\"d_aus_suicide_grouped.csv\",\n",
    "    min_year=2006,\n",
    "    max_year=2020,\n",
    "    # age_groups=[\"<20\", \"20s\", \"30s\"],\n",
    "    split_by_gender=True,\n",
    "    split_by_age_group=True,\n",
    "    template=\"base\",\n",
    "    rolling_window=5,\n",
    "    # highlight_lines=[\"Females_<20\", \"Females_20s\", \"Females_40s\"],\n",
    "    show_legend=False\n",
    ")\n"
   ]
  },
  {
   "cell_type": "code",
   "execution_count": 102,
   "metadata": {},
   "outputs": [
    {
     "data": {
      "application/vnd.plotly.v1+json": {
       "config": {
        "plotlyServerURL": "https://plot.ly"
       },
       "data": [
        {
         "line": {
          "color": "#4f1787",
          "width": 4
         },
         "mode": "lines",
         "name": "Females 20s",
         "opacity": 0.15,
         "type": "scatter",
         "x": [
          2006,
          2007,
          2008,
          2009,
          2010,
          2011,
          2012,
          2013,
          2014,
          2015,
          2016,
          2017,
          2018,
          2019,
          2020
         ],
         "y": [
          100,
          99.52830188679246,
          96.8553459119497,
          99.29245283018868,
          104.71698113207549,
          107.73584905660377,
          109.43396226415095,
          114.33962264150944,
          119.0566037735849,
          118.86792452830188,
          125.09433962264151,
          130.75471698113208,
          132.26415094339623,
          138.1132075471698,
          142.45283018867926
         ]
        },
        {
         "line": {
          "color": "#4f1787",
          "width": 4
         },
         "mode": "lines",
         "name": "Females 30s",
         "opacity": 0.15,
         "type": "scatter",
         "x": [
          2006,
          2007,
          2008,
          2009,
          2010,
          2011,
          2012,
          2013,
          2014,
          2015,
          2016,
          2017,
          2018,
          2019,
          2020
         ],
         "y": [
          100,
          103.2,
          109.33333333333333,
          110.6,
          110.24000000000001,
          111.36000000000001,
          114.40000000000002,
          112.32000000000001,
          117.12000000000003,
          120.16,
          124.64000000000001,
          123.84,
          124.16,
          121.44000000000001,
          122.08
         ]
        },
        {
         "line": {
          "color": "#4f1787",
          "width": 4
         },
         "mode": "lines",
         "name": "Females 40s",
         "opacity": 0.15,
         "type": "scatter",
         "x": [
          2006,
          2007,
          2008,
          2009,
          2010,
          2011,
          2012,
          2013,
          2014,
          2015,
          2016,
          2017,
          2018,
          2019,
          2020
         ],
         "y": [
          100,
          109.20000000000002,
          110.40000000000002,
          107.80000000000001,
          110.56000000000002,
          115.2,
          115.84,
          121.91999999999999,
          127.67999999999999,
          134.88,
          136.8,
          146.56,
          147.2,
          150.24,
          147.52
         ]
        },
        {
         "line": {
          "color": "#4f1787",
          "width": 4
         },
         "mode": "lines",
         "name": "Females 50s",
         "opacity": 0.15,
         "type": "scatter",
         "x": [
          2006,
          2007,
          2008,
          2009,
          2010,
          2011,
          2012,
          2013,
          2014,
          2015,
          2016,
          2017,
          2018,
          2019,
          2020
         ],
         "y": [
          100,
          106.25,
          106.61764705882354,
          110.66176470588236,
          109.55882352941178,
          110.73529411764707,
          111.32352941176471,
          113.23529411764707,
          113.67647058823529,
          121.0294117647059,
          125.73529411764707,
          133.97058823529412,
          136.91176470588238,
          139.26470588235296,
          129.8529411764706
         ]
        },
        {
         "line": {
          "color": "#4f1787",
          "width": 4
         },
         "mode": "lines",
         "name": "Females 60s",
         "opacity": 0.15,
         "type": "scatter",
         "x": [
          2006,
          2007,
          2008,
          2009,
          2010,
          2011,
          2012,
          2013,
          2014,
          2015,
          2016,
          2017,
          2018,
          2019,
          2020
         ],
         "y": [
          100,
          104.0909090909091,
          92.42424242424242,
          93.4090909090909,
          89.81818181818183,
          83.81818181818183,
          81.27272727272728,
          90.18181818181819,
          92.72727272727272,
          96.54545454545453,
          102.18181818181819,
          108,
          109.45454545454545,
          109.63636363636365,
          111.27272727272728
         ]
        },
        {
         "line": {
          "color": "white",
          "width": 14
         },
         "mode": "lines",
         "showlegend": false,
         "type": "scatter",
         "x": [
          2006,
          2007,
          2008,
          2009,
          2010,
          2011,
          2012,
          2013,
          2014,
          2015,
          2016,
          2017,
          2018,
          2019,
          2020
         ],
         "y": [
          100,
          89.6,
          88.8,
          85.4,
          83.52000000000001,
          79.36,
          78.88000000000001,
          79.36000000000001,
          80.47999999999999,
          85.76,
          92,
          98.72,
          96.8,
          99.84,
          98.4
         ]
        },
        {
         "line": {
          "color": "#4f1787",
          "width": 10
         },
         "mode": "lines",
         "name": "Females 70s",
         "opacity": 1,
         "type": "scatter",
         "x": [
          2006,
          2007,
          2008,
          2009,
          2010,
          2011,
          2012,
          2013,
          2014,
          2015,
          2016,
          2017,
          2018,
          2019,
          2020
         ],
         "y": [
          100,
          89.6,
          88.8,
          85.4,
          83.52000000000001,
          79.36,
          78.88000000000001,
          79.36000000000001,
          80.47999999999999,
          85.76,
          92,
          98.72,
          96.8,
          99.84,
          98.4
         ]
        },
        {
         "line": {
          "color": "#4f1787",
          "width": 4
         },
         "mode": "lines",
         "name": "Females 80+",
         "opacity": 0.15,
         "type": "scatter",
         "x": [
          2006,
          2007,
          2008,
          2009,
          2010,
          2011,
          2012,
          2013,
          2014,
          2015,
          2016,
          2017,
          2018,
          2019,
          2020
         ],
         "y": [
          100,
          83.94495412844037,
          72.4770642201835,
          79.58715596330276,
          84.77064220183487,
          87.88990825688074,
          100.55045871559635,
          111.74311926605506,
          115.22935779816517,
          117.79816513761469,
          118.53211009174315,
          115.77981651376149,
          121.4678899082569,
          126.7889908256881,
          128.6238532110092
         ]
        },
        {
         "line": {
          "color": "#4f1787",
          "width": 4
         },
         "mode": "lines",
         "name": "Females <20",
         "opacity": 0.15,
         "type": "scatter",
         "x": [
          2006,
          2007,
          2008,
          2009,
          2010,
          2011,
          2012,
          2013,
          2014,
          2015,
          2016,
          2017,
          2018,
          2019,
          2020
         ],
         "y": [
          100,
          103.48837209302326,
          96.89922480620156,
          95.34883720930233,
          93.48837209302326,
          97.20930232558139,
          114.41860465116278,
          124.18604651162791,
          131.16279069767444,
          150.69767441860466,
          150.69767441860466,
          145.11627906976747,
          151.16279069767444,
          156.74418604651163,
          148.37209302325581
         ]
        },
        {
         "line": {
          "color": "#297fb9",
          "width": 4
         },
         "mode": "lines",
         "name": "Males 20s",
         "opacity": 0.15,
         "type": "scatter",
         "x": [
          2006,
          2007,
          2008,
          2009,
          2010,
          2011,
          2012,
          2013,
          2014,
          2015,
          2016,
          2017,
          2018,
          2019,
          2020
         ],
         "y": [
          100,
          105.13157894736844,
          106.49122807017545,
          104.27631578947368,
          101.21052631578948,
          102.57894736842104,
          100.10526315789473,
          97.84210526315789,
          100,
          106.21052631578948,
          108.52631578947368,
          113.73684210526315,
          118.99999999999997,
          123.26315789473684,
          124.89473684210525
         ]
        },
        {
         "line": {
          "color": "#297fb9",
          "width": 4
         },
         "mode": "lines",
         "name": "Males 30s",
         "opacity": 0.15,
         "type": "scatter",
         "x": [
          2006,
          2007,
          2008,
          2009,
          2010,
          2011,
          2012,
          2013,
          2014,
          2015,
          2016,
          2017,
          2018,
          2019,
          2020
         ],
         "y": [
          100,
          107.14285714285714,
          109.67032967032968,
          108.68131868131869,
          109.75824175824175,
          109.14285714285715,
          107.6923076923077,
          103.12087912087911,
          105.01098901098901,
          105.6263736263736,
          109.36263736263736,
          112.3076923076923,
          116.61538461538461,
          117.53846153846152,
          115.12087912087914
         ]
        },
        {
         "line": {
          "color": "#297fb9",
          "width": 4
         },
         "mode": "lines",
         "name": "Males 40s",
         "opacity": 0.15,
         "type": "scatter",
         "x": [
          2006,
          2007,
          2008,
          2009,
          2010,
          2011,
          2012,
          2013,
          2014,
          2015,
          2016,
          2017,
          2018,
          2019,
          2020
         ],
         "y": [
          100,
          95.57613168724279,
          101.09739368998629,
          102.36625514403293,
          105.8024691358025,
          106.0905349794239,
          109.62962962962965,
          108.18930041152267,
          110.32921810699591,
          112.51028806584364,
          113.29218106995886,
          118.68312757201647,
          120.53497942386832,
          122.59259259259261,
          118.27160493827162
         ]
        },
        {
         "line": {
          "color": "#297fb9",
          "width": 4
         },
         "mode": "lines",
         "name": "Males 50s",
         "opacity": 0.15,
         "type": "scatter",
         "x": [
          2006,
          2007,
          2008,
          2009,
          2010,
          2011,
          2012,
          2013,
          2014,
          2015,
          2016,
          2017,
          2018,
          2019,
          2020
         ],
         "y": [
          100,
          99.23664122137406,
          101.69635284139103,
          102.6081424936387,
          104.32569974554708,
          104.73282442748094,
          108.24427480916033,
          110.38167938931299,
          118.42239185750637,
          123.40966921119593,
          126.81933842239187,
          128.85496183206106,
          134.70737913486005,
          132.87531806615777,
          131.09414758269722
         ]
        },
        {
         "line": {
          "color": "#297fb9",
          "width": 4
         },
         "mode": "lines",
         "name": "Males 60s",
         "opacity": 0.15,
         "type": "scatter",
         "x": [
          2006,
          2007,
          2008,
          2009,
          2010,
          2011,
          2012,
          2013,
          2014,
          2015,
          2016,
          2017,
          2018,
          2019,
          2020
         ],
         "y": [
          100,
          102.88461538461539,
          106.73076923076924,
          108.17307692307693,
          107.6923076923077,
          109.35897435897436,
          109.23076923076924,
          109.23076923076924,
          111.2820512820513,
          115.06410256410257,
          117.56410256410257,
          123.97435897435898,
          126.92307692307693,
          129.4871794871795,
          131.2179487179487
         ]
        },
        {
         "line": {
          "color": "white",
          "width": 14
         },
         "mode": "lines",
         "showlegend": false,
         "type": "scatter",
         "x": [
          2006,
          2007,
          2008,
          2009,
          2010,
          2011,
          2012,
          2013,
          2014,
          2015,
          2016,
          2017,
          2018,
          2019,
          2020
         ],
         "y": [
          100,
          95.76719576719577,
          96.47266313932982,
          97.94973544973546,
          101.6931216931217,
          99.47089947089948,
          100.26455026455027,
          101.42857142857143,
          101.4814814814815,
          98.94179894179895,
          101.00529100529101,
          100.74074074074075,
          98.78306878306879,
          98.25396825396827,
          96.82539682539684
         ]
        },
        {
         "line": {
          "color": "#297fb9",
          "width": 10
         },
         "mode": "lines",
         "name": "Males 70s",
         "opacity": 1,
         "type": "scatter",
         "x": [
          2006,
          2007,
          2008,
          2009,
          2010,
          2011,
          2012,
          2013,
          2014,
          2015,
          2016,
          2017,
          2018,
          2019,
          2020
         ],
         "y": [
          100,
          95.76719576719577,
          96.47266313932982,
          97.94973544973546,
          101.6931216931217,
          99.47089947089948,
          100.26455026455027,
          101.42857142857143,
          101.4814814814815,
          98.94179894179895,
          101.00529100529101,
          100.74074074074075,
          98.78306878306879,
          98.25396825396827,
          96.82539682539684
         ]
        },
        {
         "line": {
          "color": "#297fb9",
          "width": 4
         },
         "mode": "lines",
         "name": "Males 80+",
         "opacity": 0.15,
         "type": "scatter",
         "x": [
          2006,
          2007,
          2008,
          2009,
          2010,
          2011,
          2012,
          2013,
          2014,
          2015,
          2016,
          2017,
          2018,
          2019,
          2020
         ],
         "y": [
          100,
          98.01801801801801,
          95.85585585585585,
          95.13513513513513,
          95.27927927927928,
          97.04504504504504,
          102.05405405405406,
          105.83783783783785,
          108.64864864864867,
          114.01801801801803,
          113.33333333333333,
          109.5135135135135,
          108.21621621621621,
          106.73873873873875,
          103.67567567567566
         ]
        },
        {
         "line": {
          "color": "#297fb9",
          "width": 4
         },
         "mode": "lines",
         "name": "Males <20",
         "opacity": 0.15,
         "type": "scatter",
         "x": [
          2006,
          2007,
          2008,
          2009,
          2010,
          2011,
          2012,
          2013,
          2014,
          2015,
          2016,
          2017,
          2018,
          2019,
          2020
         ],
         "y": [
          100,
          100.88495575221239,
          96.16519174041298,
          94.69026548672566,
          97.16814159292035,
          96.28318584070796,
          92.92035398230088,
          102.47787610619469,
          106.72566371681414,
          107.25663716814158,
          112.03539823008848,
          121.5929203539823,
          126.19469026548673,
          132.92035398230087,
          141.76991150442478
         ]
        }
       ],
       "layout": {
        "height": 1080,
        "legend": {
         "title": {
          "text": "Group"
         }
        },
        "showlegend": false,
        "template": {
         "data": {
          "scatter": [
           {
            "line": {
             "width": 3
            },
            "type": "scatter"
           }
          ]
         },
         "layout": {
          "colorway": [
           "#470945",
           "#E67E5A",
           "#297FB9",
           "#163748",
           "#4F1787",
           "#EFE04E",
           "#214F70",
           "#DF14AA",
           "#100B1A",
           "#12C4CF",
           "#14193D",
           "#CC5500"
          ],
          "font": {
           "color": "#333333",
           "family": "Open Sans, sans-serif",
           "size": 28
          },
          "height": 800,
          "paper_bgcolor": "#FFF5CC",
          "plot_bgcolor": "#FFF5CC",
          "title": {
           "font": {
            "color": "#333333",
            "family": "Open Sans, sans-serif",
            "size": 34
           },
           "text": "",
           "x": 0.05
          },
          "width": 1294.4,
          "xaxis": {
           "anchor": "y",
           "gridcolor": "#888888",
           "linecolor": "#333333",
           "linewidth": 2,
           "showgrid": true,
           "tickfont": {
            "family": "Open Sans, sans-serif",
            "size": 24
           },
           "title": {
            "font": {
             "family": "Open Sans, sans-serif",
             "size": 26
            }
           }
          },
          "yaxis": {
           "anchor": "x",
           "gridcolor": "#888888",
           "linecolor": "#333333",
           "linewidth": 2,
           "showgrid": true,
           "tickfont": {
            "family": "Open Sans, sans-serif",
            "size": 24
           },
           "title": {
            "font": {
             "family": "Open Sans, sans-serif",
             "size": 26
            }
           }
          }
         }
        },
        "title": {
         "font": {
          "size": 50
         },
         "text": "Suicide Rate Australia (Normalised)"
        },
        "width": 1920,
        "xaxis": {
         "tickfont": {
          "size": 35
         },
         "title": {}
        },
        "yaxis": {
         "tickfont": {
          "size": 35
         },
         "title": {}
        }
       }
      }
     },
     "metadata": {},
     "output_type": "display_data"
    }
   ],
   "source": [
    "plot_normalized_suicide_trends(\n",
    "    file_name=\"d_aus_suicide_grouped.csv\",\n",
    "    min_year=2006,\n",
    "    max_year=2020,\n",
    "    # age_groups=[\"<20\", \"20s\", \"30s\"],\n",
    "    split_by_gender=True,\n",
    "    split_by_age_group=True,\n",
    "    template=\"base\",\n",
    "    rolling_window=5,\n",
    "    highlight_lines=[\"Males_70s\", \"Females_70s\"],\n",
    "    show_legend=False\n",
    ")"
   ]
  },
  {
   "cell_type": "code",
   "execution_count": 103,
   "metadata": {},
   "outputs": [
    {
     "data": {
      "application/vnd.plotly.v1+json": {
       "config": {
        "plotlyServerURL": "https://plot.ly"
       },
       "data": [
        {
         "line": {
          "color": "white",
          "width": 14
         },
         "mode": "lines",
         "showlegend": false,
         "type": "scatter",
         "x": [
          2006,
          2007,
          2008,
          2009,
          2010,
          2011,
          2012,
          2013,
          2014,
          2015,
          2016,
          2017,
          2018,
          2019,
          2020
         ],
         "y": [
          100,
          99.52830188679246,
          96.8553459119497,
          99.29245283018868,
          104.71698113207549,
          107.73584905660377,
          109.43396226415095,
          114.33962264150944,
          119.0566037735849,
          118.86792452830188,
          125.09433962264151,
          130.75471698113208,
          132.26415094339623,
          138.1132075471698,
          142.45283018867926
         ]
        },
        {
         "line": {
          "color": "#4f1787",
          "width": 10
         },
         "mode": "lines",
         "name": "Females 20s",
         "opacity": 1,
         "type": "scatter",
         "x": [
          2006,
          2007,
          2008,
          2009,
          2010,
          2011,
          2012,
          2013,
          2014,
          2015,
          2016,
          2017,
          2018,
          2019,
          2020
         ],
         "y": [
          100,
          99.52830188679246,
          96.8553459119497,
          99.29245283018868,
          104.71698113207549,
          107.73584905660377,
          109.43396226415095,
          114.33962264150944,
          119.0566037735849,
          118.86792452830188,
          125.09433962264151,
          130.75471698113208,
          132.26415094339623,
          138.1132075471698,
          142.45283018867926
         ]
        },
        {
         "line": {
          "color": "#4f1787",
          "width": 4
         },
         "mode": "lines",
         "name": "Females 30s",
         "opacity": 0.15,
         "type": "scatter",
         "x": [
          2006,
          2007,
          2008,
          2009,
          2010,
          2011,
          2012,
          2013,
          2014,
          2015,
          2016,
          2017,
          2018,
          2019,
          2020
         ],
         "y": [
          100,
          103.2,
          109.33333333333333,
          110.6,
          110.24000000000001,
          111.36000000000001,
          114.40000000000002,
          112.32000000000001,
          117.12000000000003,
          120.16,
          124.64000000000001,
          123.84,
          124.16,
          121.44000000000001,
          122.08
         ]
        },
        {
         "line": {
          "color": "white",
          "width": 14
         },
         "mode": "lines",
         "showlegend": false,
         "type": "scatter",
         "x": [
          2006,
          2007,
          2008,
          2009,
          2010,
          2011,
          2012,
          2013,
          2014,
          2015,
          2016,
          2017,
          2018,
          2019,
          2020
         ],
         "y": [
          100,
          109.20000000000002,
          110.40000000000002,
          107.80000000000001,
          110.56000000000002,
          115.2,
          115.84,
          121.91999999999999,
          127.67999999999999,
          134.88,
          136.8,
          146.56,
          147.2,
          150.24,
          147.52
         ]
        },
        {
         "line": {
          "color": "#4f1787",
          "width": 10
         },
         "mode": "lines",
         "name": "Females 40s",
         "opacity": 1,
         "type": "scatter",
         "x": [
          2006,
          2007,
          2008,
          2009,
          2010,
          2011,
          2012,
          2013,
          2014,
          2015,
          2016,
          2017,
          2018,
          2019,
          2020
         ],
         "y": [
          100,
          109.20000000000002,
          110.40000000000002,
          107.80000000000001,
          110.56000000000002,
          115.2,
          115.84,
          121.91999999999999,
          127.67999999999999,
          134.88,
          136.8,
          146.56,
          147.2,
          150.24,
          147.52
         ]
        },
        {
         "line": {
          "color": "#4f1787",
          "width": 4
         },
         "mode": "lines",
         "name": "Females 50s",
         "opacity": 0.15,
         "type": "scatter",
         "x": [
          2006,
          2007,
          2008,
          2009,
          2010,
          2011,
          2012,
          2013,
          2014,
          2015,
          2016,
          2017,
          2018,
          2019,
          2020
         ],
         "y": [
          100,
          106.25,
          106.61764705882354,
          110.66176470588236,
          109.55882352941178,
          110.73529411764707,
          111.32352941176471,
          113.23529411764707,
          113.67647058823529,
          121.0294117647059,
          125.73529411764707,
          133.97058823529412,
          136.91176470588238,
          139.26470588235296,
          129.8529411764706
         ]
        },
        {
         "line": {
          "color": "#4f1787",
          "width": 4
         },
         "mode": "lines",
         "name": "Females 60s",
         "opacity": 0.15,
         "type": "scatter",
         "x": [
          2006,
          2007,
          2008,
          2009,
          2010,
          2011,
          2012,
          2013,
          2014,
          2015,
          2016,
          2017,
          2018,
          2019,
          2020
         ],
         "y": [
          100,
          104.0909090909091,
          92.42424242424242,
          93.4090909090909,
          89.81818181818183,
          83.81818181818183,
          81.27272727272728,
          90.18181818181819,
          92.72727272727272,
          96.54545454545453,
          102.18181818181819,
          108,
          109.45454545454545,
          109.63636363636365,
          111.27272727272728
         ]
        },
        {
         "line": {
          "color": "#4f1787",
          "width": 4
         },
         "mode": "lines",
         "name": "Females 70s",
         "opacity": 0.15,
         "type": "scatter",
         "x": [
          2006,
          2007,
          2008,
          2009,
          2010,
          2011,
          2012,
          2013,
          2014,
          2015,
          2016,
          2017,
          2018,
          2019,
          2020
         ],
         "y": [
          100,
          89.6,
          88.8,
          85.4,
          83.52000000000001,
          79.36,
          78.88000000000001,
          79.36000000000001,
          80.47999999999999,
          85.76,
          92,
          98.72,
          96.8,
          99.84,
          98.4
         ]
        },
        {
         "line": {
          "color": "#4f1787",
          "width": 4
         },
         "mode": "lines",
         "name": "Females 80+",
         "opacity": 0.15,
         "type": "scatter",
         "x": [
          2006,
          2007,
          2008,
          2009,
          2010,
          2011,
          2012,
          2013,
          2014,
          2015,
          2016,
          2017,
          2018,
          2019,
          2020
         ],
         "y": [
          100,
          83.94495412844037,
          72.4770642201835,
          79.58715596330276,
          84.77064220183487,
          87.88990825688074,
          100.55045871559635,
          111.74311926605506,
          115.22935779816517,
          117.79816513761469,
          118.53211009174315,
          115.77981651376149,
          121.4678899082569,
          126.7889908256881,
          128.6238532110092
         ]
        },
        {
         "line": {
          "color": "white",
          "width": 14
         },
         "mode": "lines",
         "showlegend": false,
         "type": "scatter",
         "x": [
          2006,
          2007,
          2008,
          2009,
          2010,
          2011,
          2012,
          2013,
          2014,
          2015,
          2016,
          2017,
          2018,
          2019,
          2020
         ],
         "y": [
          100,
          103.48837209302326,
          96.89922480620156,
          95.34883720930233,
          93.48837209302326,
          97.20930232558139,
          114.41860465116278,
          124.18604651162791,
          131.16279069767444,
          150.69767441860466,
          150.69767441860466,
          145.11627906976747,
          151.16279069767444,
          156.74418604651163,
          148.37209302325581
         ]
        },
        {
         "line": {
          "color": "#4f1787",
          "width": 10
         },
         "mode": "lines",
         "name": "Females <20",
         "opacity": 1,
         "type": "scatter",
         "x": [
          2006,
          2007,
          2008,
          2009,
          2010,
          2011,
          2012,
          2013,
          2014,
          2015,
          2016,
          2017,
          2018,
          2019,
          2020
         ],
         "y": [
          100,
          103.48837209302326,
          96.89922480620156,
          95.34883720930233,
          93.48837209302326,
          97.20930232558139,
          114.41860465116278,
          124.18604651162791,
          131.16279069767444,
          150.69767441860466,
          150.69767441860466,
          145.11627906976747,
          151.16279069767444,
          156.74418604651163,
          148.37209302325581
         ]
        },
        {
         "line": {
          "color": "#297fb9",
          "width": 4
         },
         "mode": "lines",
         "name": "Males 20s",
         "opacity": 0.15,
         "type": "scatter",
         "x": [
          2006,
          2007,
          2008,
          2009,
          2010,
          2011,
          2012,
          2013,
          2014,
          2015,
          2016,
          2017,
          2018,
          2019,
          2020
         ],
         "y": [
          100,
          105.13157894736844,
          106.49122807017545,
          104.27631578947368,
          101.21052631578948,
          102.57894736842104,
          100.10526315789473,
          97.84210526315789,
          100,
          106.21052631578948,
          108.52631578947368,
          113.73684210526315,
          118.99999999999997,
          123.26315789473684,
          124.89473684210525
         ]
        },
        {
         "line": {
          "color": "#297fb9",
          "width": 4
         },
         "mode": "lines",
         "name": "Males 30s",
         "opacity": 0.15,
         "type": "scatter",
         "x": [
          2006,
          2007,
          2008,
          2009,
          2010,
          2011,
          2012,
          2013,
          2014,
          2015,
          2016,
          2017,
          2018,
          2019,
          2020
         ],
         "y": [
          100,
          107.14285714285714,
          109.67032967032968,
          108.68131868131869,
          109.75824175824175,
          109.14285714285715,
          107.6923076923077,
          103.12087912087911,
          105.01098901098901,
          105.6263736263736,
          109.36263736263736,
          112.3076923076923,
          116.61538461538461,
          117.53846153846152,
          115.12087912087914
         ]
        },
        {
         "line": {
          "color": "#297fb9",
          "width": 4
         },
         "mode": "lines",
         "name": "Males 40s",
         "opacity": 0.15,
         "type": "scatter",
         "x": [
          2006,
          2007,
          2008,
          2009,
          2010,
          2011,
          2012,
          2013,
          2014,
          2015,
          2016,
          2017,
          2018,
          2019,
          2020
         ],
         "y": [
          100,
          95.57613168724279,
          101.09739368998629,
          102.36625514403293,
          105.8024691358025,
          106.0905349794239,
          109.62962962962965,
          108.18930041152267,
          110.32921810699591,
          112.51028806584364,
          113.29218106995886,
          118.68312757201647,
          120.53497942386832,
          122.59259259259261,
          118.27160493827162
         ]
        },
        {
         "line": {
          "color": "#297fb9",
          "width": 4
         },
         "mode": "lines",
         "name": "Males 50s",
         "opacity": 0.15,
         "type": "scatter",
         "x": [
          2006,
          2007,
          2008,
          2009,
          2010,
          2011,
          2012,
          2013,
          2014,
          2015,
          2016,
          2017,
          2018,
          2019,
          2020
         ],
         "y": [
          100,
          99.23664122137406,
          101.69635284139103,
          102.6081424936387,
          104.32569974554708,
          104.73282442748094,
          108.24427480916033,
          110.38167938931299,
          118.42239185750637,
          123.40966921119593,
          126.81933842239187,
          128.85496183206106,
          134.70737913486005,
          132.87531806615777,
          131.09414758269722
         ]
        },
        {
         "line": {
          "color": "#297fb9",
          "width": 4
         },
         "mode": "lines",
         "name": "Males 60s",
         "opacity": 0.15,
         "type": "scatter",
         "x": [
          2006,
          2007,
          2008,
          2009,
          2010,
          2011,
          2012,
          2013,
          2014,
          2015,
          2016,
          2017,
          2018,
          2019,
          2020
         ],
         "y": [
          100,
          102.88461538461539,
          106.73076923076924,
          108.17307692307693,
          107.6923076923077,
          109.35897435897436,
          109.23076923076924,
          109.23076923076924,
          111.2820512820513,
          115.06410256410257,
          117.56410256410257,
          123.97435897435898,
          126.92307692307693,
          129.4871794871795,
          131.2179487179487
         ]
        },
        {
         "line": {
          "color": "#297fb9",
          "width": 4
         },
         "mode": "lines",
         "name": "Males 70s",
         "opacity": 0.15,
         "type": "scatter",
         "x": [
          2006,
          2007,
          2008,
          2009,
          2010,
          2011,
          2012,
          2013,
          2014,
          2015,
          2016,
          2017,
          2018,
          2019,
          2020
         ],
         "y": [
          100,
          95.76719576719577,
          96.47266313932982,
          97.94973544973546,
          101.6931216931217,
          99.47089947089948,
          100.26455026455027,
          101.42857142857143,
          101.4814814814815,
          98.94179894179895,
          101.00529100529101,
          100.74074074074075,
          98.78306878306879,
          98.25396825396827,
          96.82539682539684
         ]
        },
        {
         "line": {
          "color": "#297fb9",
          "width": 4
         },
         "mode": "lines",
         "name": "Males 80+",
         "opacity": 0.15,
         "type": "scatter",
         "x": [
          2006,
          2007,
          2008,
          2009,
          2010,
          2011,
          2012,
          2013,
          2014,
          2015,
          2016,
          2017,
          2018,
          2019,
          2020
         ],
         "y": [
          100,
          98.01801801801801,
          95.85585585585585,
          95.13513513513513,
          95.27927927927928,
          97.04504504504504,
          102.05405405405406,
          105.83783783783785,
          108.64864864864867,
          114.01801801801803,
          113.33333333333333,
          109.5135135135135,
          108.21621621621621,
          106.73873873873875,
          103.67567567567566
         ]
        },
        {
         "line": {
          "color": "#297fb9",
          "width": 4
         },
         "mode": "lines",
         "name": "Males <20",
         "opacity": 0.15,
         "type": "scatter",
         "x": [
          2006,
          2007,
          2008,
          2009,
          2010,
          2011,
          2012,
          2013,
          2014,
          2015,
          2016,
          2017,
          2018,
          2019,
          2020
         ],
         "y": [
          100,
          100.88495575221239,
          96.16519174041298,
          94.69026548672566,
          97.16814159292035,
          96.28318584070796,
          92.92035398230088,
          102.47787610619469,
          106.72566371681414,
          107.25663716814158,
          112.03539823008848,
          121.5929203539823,
          126.19469026548673,
          132.92035398230087,
          141.76991150442478
         ]
        }
       ],
       "layout": {
        "height": 1080,
        "legend": {
         "title": {
          "text": "Group"
         }
        },
        "showlegend": false,
        "template": {
         "data": {
          "scatter": [
           {
            "line": {
             "width": 3
            },
            "type": "scatter"
           }
          ]
         },
         "layout": {
          "colorway": [
           "#470945",
           "#E67E5A",
           "#297FB9",
           "#163748",
           "#4F1787",
           "#EFE04E",
           "#214F70",
           "#DF14AA",
           "#100B1A",
           "#12C4CF",
           "#14193D",
           "#CC5500"
          ],
          "font": {
           "color": "#333333",
           "family": "Open Sans, sans-serif",
           "size": 28
          },
          "height": 800,
          "paper_bgcolor": "#FFF5CC",
          "plot_bgcolor": "#FFF5CC",
          "title": {
           "font": {
            "color": "#333333",
            "family": "Open Sans, sans-serif",
            "size": 34
           },
           "text": "",
           "x": 0.05
          },
          "width": 1294.4,
          "xaxis": {
           "anchor": "y",
           "gridcolor": "#888888",
           "linecolor": "#333333",
           "linewidth": 2,
           "showgrid": true,
           "tickfont": {
            "family": "Open Sans, sans-serif",
            "size": 24
           },
           "title": {
            "font": {
             "family": "Open Sans, sans-serif",
             "size": 26
            }
           }
          },
          "yaxis": {
           "anchor": "x",
           "gridcolor": "#888888",
           "linecolor": "#333333",
           "linewidth": 2,
           "showgrid": true,
           "tickfont": {
            "family": "Open Sans, sans-serif",
            "size": 24
           },
           "title": {
            "font": {
             "family": "Open Sans, sans-serif",
             "size": 26
            }
           }
          }
         }
        },
        "title": {
         "font": {
          "size": 50
         },
         "text": "Suicide Rate Australia (Normalised)"
        },
        "width": 1920,
        "xaxis": {
         "tickfont": {
          "size": 35
         },
         "title": {}
        },
        "yaxis": {
         "tickfont": {
          "size": 35
         },
         "title": {}
        }
       }
      }
     },
     "metadata": {},
     "output_type": "display_data"
    }
   ],
   "source": [
    "plot_normalized_suicide_trends(\n",
    "    file_name=\"d_aus_suicide_grouped.csv\",\n",
    "    min_year=2006,\n",
    "    max_year=2020,\n",
    "    # age_groups=[\"<20\", \"20s\", \"30s\"],\n",
    "    split_by_gender=True,\n",
    "    split_by_age_group=True,\n",
    "    template=\"base\",\n",
    "    rolling_window=5,\n",
    "    highlight_lines=[\"Females_<20\", \"Females_20s\", \"Females_40s\"],\n",
    "    show_legend=False\n",
    ")\n"
   ]
  },
  {
   "cell_type": "code",
   "execution_count": null,
   "metadata": {},
   "outputs": [],
   "source": []
  }
 ],
 "metadata": {
  "kernelspec": {
   "display_name": "Python 3",
   "language": "python",
   "name": "python3"
  },
  "language_info": {
   "codemirror_mode": {
    "name": "ipython",
    "version": 3
   },
   "file_extension": ".py",
   "mimetype": "text/x-python",
   "name": "python",
   "nbconvert_exporter": "python",
   "pygments_lexer": "ipython3",
   "version": "3.9.6"
  }
 },
 "nbformat": 4,
 "nbformat_minor": 2
}
