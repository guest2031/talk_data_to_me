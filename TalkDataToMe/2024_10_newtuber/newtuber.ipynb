{
 "cells": [
  {
   "cell_type": "code",
   "execution_count": 1,
   "metadata": {},
   "outputs": [],
   "source": [
    "import plotly.graph_objects as go\n",
    "import plotly.io as pio\n",
    "\n",
    "# Define the updated base template\n",
    "base = go.layout.Template(\n",
    "    layout=go.Layout(\n",
    "        paper_bgcolor='#FFF5CC',\n",
    "        plot_bgcolor='#FFF5CC',\n",
    "        height=800,\n",
    "        width=800 * 1.618,\n",
    "        xaxis=dict(\n",
    "            anchor='y',\n",
    "            showgrid=True,\n",
    "            gridcolor='#888888',  # Darker grid lines\n",
    "            tickfont=dict(\n",
    "                size=24,\n",
    "                family='Open Sans, sans-serif'  # Use Open Sans font\n",
    "            ),\n",
    "            titlefont=dict(\n",
    "                size=26,\n",
    "                family='Open Sans, sans-serif'  # Use Open Sans font\n",
    "            ),\n",
    "            linecolor='#333333',\n",
    "            linewidth=2  # Adjust the thickness of the x-axis line\n",
    "        ),\n",
    "        yaxis=dict(\n",
    "            anchor='x',\n",
    "            showgrid=True,\n",
    "            gridcolor='#888888',  # Darker grid lines\n",
    "            tickfont=dict(\n",
    "                size=24,\n",
    "                family='Open Sans, sans-serif'\n",
    "            ),\n",
    "            titlefont=dict(\n",
    "                size=26,\n",
    "                family='Open Sans, sans-serif'\n",
    "            ),\n",
    "            linecolor='#333333',\n",
    "            linewidth=2  # Adjust the thickness of the y-axis line\n",
    "        ),\n",
    "        font=dict(\n",
    "            color='#333333',\n",
    "            size=28,\n",
    "            family='Open Sans, sans-serif'\n",
    "        ),\n",
    "        # Updated colorway to ensure more distinguishable colors\n",
    "        colorway=[\"#470945\", # H: Violet\n",
    "                  \"#E67E5A\", # H: Orange (Sienna)\n",
    "                  \"#297FB9\", # H: Blue (Steel)\n",
    "                  \"#163748\", # D: Charcoal\n",
    "                  \"#4F1787\", # H: Purple\n",
    "                  \"#EFE04E\", # H: Yellow (Maize)\n",
    "                  \"#214F70\", # D: Indigo\n",
    "                  \"#DF14AA\", # H: Pink (Cerise)\n",
    "                  \"#100B1A\", # D: Black\n",
    "                  \"#12C4CF\", # H: Teal\n",
    "                  \"#14193D\", # D: Space\n",
    "                  \"#CC5500\"],# H: Cream\n",
    "        title=go.layout.Title(\n",
    "            text='',\n",
    "            font=dict(\n",
    "                size=34,\n",
    "                color='#333333',\n",
    "                family='Open Sans, sans-serif'\n",
    "            ),\n",
    "            x=0.05,\n",
    "        )\n",
    "    ),\n",
    "    data=dict(\n",
    "        scatter=[\n",
    "            go.Scatter(\n",
    "                line=dict(width=6)  # Set the line width for scatter plots\n",
    "            )\n",
    "        ]\n",
    "    )\n",
    ")\n",
    "\n",
    "# Register the updated base template\n",
    "pio.templates['base'] = base\n",
    "pio.templates.default = 'base'"
   ]
  },
  {
   "cell_type": "code",
   "execution_count": 2,
   "metadata": {},
   "outputs": [
    {
     "name": "stdout",
     "output_type": "stream",
     "text": [
      "         Date  Subscribers_raw  Subcribers\n",
      "0  2024-07-12                0           0\n",
      "1  2024-07-13                0           0\n",
      "2  2024-07-14                4           4\n",
      "3  2024-07-15                6          10\n",
      "4  2024-07-16                1          11\n"
     ]
    },
    {
     "data": {
      "application/vnd.plotly.v1+json": {
       "config": {
        "plotlyServerURL": "https://plot.ly"
       },
       "data": [
        {
         "line": {
          "width": 10
         },
         "mode": "lines",
         "name": "Cumulative Subscribers",
         "type": "scatter",
         "x": [
          "2024-07-12",
          "2024-07-13",
          "2024-07-14",
          "2024-07-15",
          "2024-07-16",
          "2024-07-17",
          "2024-07-18",
          "2024-07-19",
          "2024-07-20",
          "2024-07-21",
          "2024-07-22",
          "2024-07-23",
          "2024-07-24",
          "2024-07-25",
          "2024-07-26",
          "2024-07-27",
          "2024-07-28",
          "2024-07-29",
          "2024-07-30",
          "2024-07-31",
          "2024-08-01",
          "2024-08-02",
          "2024-08-03",
          "2024-08-04",
          "2024-08-05",
          "2024-08-06",
          "2024-08-07",
          "2024-08-08",
          "2024-08-09",
          "2024-08-10",
          "2024-08-11",
          "2024-08-12",
          "2024-08-13",
          "2024-08-14",
          "2024-08-15",
          "2024-08-16",
          "2024-08-17",
          "2024-08-18",
          "2024-08-19",
          "2024-08-20",
          "2024-08-21",
          "2024-08-22",
          "2024-08-23",
          "2024-08-24",
          "2024-08-25",
          "2024-08-26",
          "2024-08-27",
          "2024-08-28",
          "2024-08-29",
          "2024-08-30",
          "2024-08-31",
          "2024-09-01",
          "2024-09-02",
          "2024-09-03",
          "2024-09-04",
          "2024-09-05",
          "2024-09-06",
          "2024-09-07",
          "2024-09-08",
          "2024-09-09",
          "2024-09-10",
          "2024-09-11",
          "2024-09-12",
          "2024-09-13",
          "2024-09-14",
          "2024-09-15",
          "2024-09-16",
          "2024-09-17",
          "2024-09-18",
          "2024-09-19",
          "2024-09-20",
          "2024-09-21",
          "2024-09-22",
          "2024-09-23",
          "2024-09-24",
          "2024-09-25",
          "2024-09-26",
          "2024-09-27",
          "2024-09-28",
          "2024-09-29"
         ],
         "y": [
          0,
          0,
          4,
          10,
          11,
          12,
          12,
          12,
          12,
          13,
          13,
          13,
          14,
          14,
          14,
          14,
          14,
          14,
          14,
          14,
          14,
          14,
          14,
          14,
          14,
          14,
          14,
          14,
          14,
          14,
          14,
          14,
          14,
          14,
          14,
          14,
          14,
          14,
          14,
          15,
          22,
          23,
          24,
          25,
          27,
          27,
          27,
          27,
          27,
          28,
          28,
          28,
          28,
          28,
          28,
          28,
          28,
          28,
          28,
          28,
          28,
          28,
          28,
          28,
          29,
          52,
          55,
          55,
          56,
          62,
          64,
          66,
          68,
          68,
          68,
          69,
          76,
          86,
          94,
          100
         ]
        }
       ],
       "layout": {
        "height": 600,
        "template": {
         "data": {
          "scatter": [
           {
            "line": {
             "width": 6
            },
            "type": "scatter"
           }
          ]
         },
         "layout": {
          "colorway": [
           "#470945",
           "#E67E5A",
           "#297FB9",
           "#163748",
           "#4F1787",
           "#EFE04E",
           "#214F70",
           "#DF14AA",
           "#100B1A",
           "#12C4CF",
           "#14193D",
           "#CC5500"
          ],
          "font": {
           "color": "#333333",
           "family": "Open Sans, sans-serif",
           "size": 28
          },
          "height": 800,
          "paper_bgcolor": "#FFF5CC",
          "plot_bgcolor": "#FFF5CC",
          "title": {
           "font": {
            "color": "#333333",
            "family": "Open Sans, sans-serif",
            "size": 34
           },
           "text": "",
           "x": 0.05
          },
          "width": 1294.4,
          "xaxis": {
           "anchor": "y",
           "gridcolor": "#888888",
           "linecolor": "#333333",
           "linewidth": 2,
           "showgrid": true,
           "tickfont": {
            "family": "Open Sans, sans-serif",
            "size": 24
           },
           "title": {
            "font": {
             "family": "Open Sans, sans-serif",
             "size": 26
            }
           }
          },
          "yaxis": {
           "anchor": "x",
           "gridcolor": "#888888",
           "linecolor": "#333333",
           "linewidth": 2,
           "showgrid": true,
           "tickfont": {
            "family": "Open Sans, sans-serif",
            "size": 24
           },
           "title": {
            "font": {
             "family": "Open Sans, sans-serif",
             "size": 26
            }
           }
          }
         }
        },
        "title": {
         "text": ""
        },
        "width": 1200,
        "xaxis": {
         "gridcolor": "lightgrey",
         "showgrid": false,
         "showticklabels": false,
         "title": {
          "text": ""
         }
        },
        "yaxis": {
         "gridcolor": "lightgrey",
         "showgrid": false,
         "showticklabels": false,
         "title": {
          "text": ""
         }
        }
       }
      }
     },
     "metadata": {},
     "output_type": "display_data"
    }
   ],
   "source": [
    "import pandas as pd\n",
    "import plotly.graph_objects as go\n",
    "\n",
    "# Load the CSV file\n",
    "df = pd.read_csv('Newtuber.csv')\n",
    "\n",
    "# Check the first few rows to ensure the data is loaded correctly\n",
    "print(df.head())\n",
    "\n",
    "# Create the line chart\n",
    "fig = go.Figure()\n",
    "\n",
    "# Add a line trace for cumulative subscribers with customizable line width\n",
    "fig.add_trace(go.Scatter(\n",
    "    x=df['Date'], \n",
    "    y=df['Subcribers'], \n",
    "    mode='lines', \n",
    "    name='Cumulative Subscribers',\n",
    "    line=dict(width=10)  # Control the thickness of the line here\n",
    "))\n",
    "\n",
    "# Update the layout with customizable height, width, gridlines, axis labels, and tick labels\n",
    "fig.update_layout(\n",
    "    title='',\n",
    "    xaxis=dict(\n",
    "        title='Date' if False else '',  # Control whether x-axis label is displayed\n",
    "        showgrid=False,                 # Control x-axis gridlines visibility\n",
    "        gridcolor='lightgrey',     \n",
    "        showticklabels=False  # Set to False to hide actual date values on the x-\n",
    "        \n",
    "    ),\n",
    "    yaxis=dict(\n",
    "        title='Cumulative Subscribers' if False else '',  # Control whether y-axis label is displayed\n",
    "        showgrid=False,                                  # Control y-axis gridlines visibility\n",
    "        gridcolor='lightgrey',     \n",
    "        showticklabels=False  # Set to False to hide actual subscriber values on the y-axis\n",
    "    ),\n",
    "    template='base',  # Using the base template\n",
    "    width=1200,        # Set your desired width here\n",
    "    height=600        # Set your desired height here\n",
    ")\n",
    "\n",
    "# Show the plot\n",
    "fig.show()\n"
   ]
  }
 ],
 "metadata": {
  "kernelspec": {
   "display_name": "Python 3",
   "language": "python",
   "name": "python3"
  },
  "language_info": {
   "codemirror_mode": {
    "name": "ipython",
    "version": 3
   },
   "file_extension": ".py",
   "mimetype": "text/x-python",
   "name": "python",
   "nbconvert_exporter": "python",
   "pygments_lexer": "ipython3",
   "version": "3.9.6"
  }
 },
 "nbformat": 4,
 "nbformat_minor": 2
}
