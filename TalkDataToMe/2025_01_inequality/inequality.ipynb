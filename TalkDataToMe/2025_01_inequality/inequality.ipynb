{
 "cells": [
  {
   "cell_type": "code",
   "execution_count": 10,
   "metadata": {},
   "outputs": [],
   "source": [
    "import plotly.graph_objects as go\n",
    "import plotly.io as pio\n",
    "\n",
    "# Define the updated base template\n",
    "base = go.layout.Template(\n",
    "    layout=go.Layout(\n",
    "        paper_bgcolor='#FFF5CC',\n",
    "        plot_bgcolor='#FFF5CC',\n",
    "        height=800,\n",
    "        width=800 * 1.618,\n",
    "        xaxis=dict(\n",
    "            anchor='y',\n",
    "            showgrid=True,\n",
    "            gridcolor='#888888',  # Darker grid lines\n",
    "            tickfont=dict(\n",
    "                size=24,\n",
    "                family='Open Sans, sans-serif'  # Use Open Sans font\n",
    "            ),\n",
    "            titlefont=dict(\n",
    "                size=26,\n",
    "                family='Open Sans, sans-serif'  # Use Open Sans font\n",
    "            ),\n",
    "            linecolor='#333333',\n",
    "            linewidth=2  # Adjust the thickness of the x-axis line\n",
    "        ),\n",
    "        yaxis=dict(\n",
    "            anchor='x',\n",
    "            showgrid=True,\n",
    "            gridcolor='#888888',  # Darker grid lines\n",
    "            tickfont=dict(\n",
    "                size=24,\n",
    "                family='Open Sans, sans-serif'\n",
    "            ),\n",
    "            titlefont=dict(\n",
    "                size=26,\n",
    "                family='Open Sans, sans-serif'\n",
    "            ),\n",
    "            linecolor='#333333',\n",
    "            linewidth=2  # Adjust the thickness of the y-axis line\n",
    "        ),\n",
    "        font=dict(\n",
    "            color='#333333',\n",
    "            size=28,\n",
    "            family='Open Sans, sans-serif'\n",
    "        ),\n",
    "        # Updated colorway to ensure more distinguishable colors\n",
    "        colorway=[\"#470945\", # H: Violet\n",
    "                  \"#E67E5A\", # H: Orange (Sienna)\n",
    "                  \"#297FB9\", # H: Blue (Steel)\n",
    "                  \"#163748\", # D: Charcoal\n",
    "                  \"#4F1787\", # H: Purple\n",
    "                  \"#EFE04E\", # H: Yellow (Maize)\n",
    "                  \"#214F70\", # D: Indigo\n",
    "                  \"#DF14AA\", # H: Pink (Cerise)\n",
    "                  \"#100B1A\", # D: Black\n",
    "                  \"#12C4CF\", # H: Teal\n",
    "                  \"#14193D\", # D: Space\n",
    "                  \"#CC5500\"],# H: Cream\n",
    "        title=go.layout.Title(\n",
    "            text='',\n",
    "            font=dict(\n",
    "                size=34,\n",
    "                color='#333333',\n",
    "                family='Open Sans, sans-serif'\n",
    "            ),\n",
    "            x=0.05,\n",
    "        )\n",
    "    ),\n",
    "    data=dict(\n",
    "        scatter=[\n",
    "            go.Scatter(\n",
    "                line=dict(width=3)  # Set the line width for scatter plots\n",
    "            )\n",
    "        ]\n",
    "    )\n",
    ")\n",
    "\n",
    "# Register the updated base template\n",
    "pio.templates['base'] = base\n",
    "pio.templates.default = 'base'"
   ]
  },
  {
   "cell_type": "code",
   "execution_count": 11,
   "metadata": {},
   "outputs": [
    {
     "data": {
      "text/plain": [
       "13000"
      ]
     },
     "execution_count": 11,
     "metadata": {},
     "output_type": "execute_result"
    }
   ],
   "source": [
    "global_gdp = 106000000000000\n",
    "global_pop = 8200000000\n",
    "global_gdp_per_capita = int(global_gdp / global_pop)\n",
    "round(global_gdp_per_capita, -3)"
   ]
  },
  {
   "cell_type": "code",
   "execution_count": 12,
   "metadata": {},
   "outputs": [],
   "source": [
    "# import pandas as pd\n",
    "\n",
    "# # Extracted data reformatted for CSV export\n",
    "# gdp_per_capita = {\n",
    "#     \"Country\": [\n",
    "#         \"Monaco\", \"Liechtenstein\", \"Luxembourg\", \"Bermuda\", \"Switzerland\", \"Ireland\",\n",
    "#         \"Cayman Islands\", \"Isle of Man\", \"Norway\", \"Singapore\", \"United States\",\n",
    "#         \"Iceland\", \"Macau\", \"Qatar\", \"Denmark\", \"Netherlands\", \"Faroe Islands\",\n",
    "#         \"Australia\", \"Channel Islands\", \"San Marino\", \"Austria\", \"Sweden\", \"Belgium\",\n",
    "#         \"Germany\", \"Finland\", \"Canada\", \"Hong Kong\", \"Israel\", \"United Kingdom\",\n",
    "#         \"Greenland\", \"United Arab Emirates\", \"France\", \"New Zealand\",\n",
    "#         \"British Virgin Islands\", \"Andorra\", \"Malta\", \"European Union\",\n",
    "#         \"U.S. Virgin Islands\", \"Italy\", \"Guam\", \"Aruba\", \"Sint Maarten (Dutch part)\",\n",
    "#         \"Puerto Rico\", \"Cyprus\", \"Bahamas\", \"South Korea\", \"Spain\", \"New Caledonia\",\n",
    "#         \"Brunei\", \"Slovenia\", \"Taiwan\", \"Saudi Arabia\", \"Japan\", \"Kuwait\", \"Estonia\",\n",
    "#         \"Czech Republic\", \"Turks and Caicos Islands\", \"Bahrain\", \"Portugal\", \"Guyana\",\n",
    "#         \"Lithuania\", \"Anguilla\", \"Slovakia\", \"Barbados\", \"Greece\", \"Latvia\",\n",
    "#         \"Saint Kitts and Nevis\", \"Hungary\", \"Poland\", \"Croatia\", \"Uruguay\",\n",
    "#         \"Antigua and Barbuda\", \"Seychelles\", \"Oman\", \"Curaçao\", \"Romania\",\n",
    "#         \"Trinidad and Tobago\", \"American Samoa\", \"Panama\", \"French Polynesia\",\n",
    "#         \"Palau\", \"Costa Rica\", \"Northern Mariana Islands\", \"Maldives\", \"Bulgaria\",\n",
    "#         \"Cook Islands\", \"Montserrat\", \"Chile\", \"Saint Martin (French part)\", \"Turkey\",\n",
    "#         \"Russia\", \"Kazakhstan\", \"Saint Lucia\", \"Mexico\", \"World\", \"Malaysia\", \"Cuba\",\n",
    "#         \"China\", \"Argentina\", \"Montenegro\", \"Turkmenistan\", \"Mauritius\", \"Serbia\",\n",
    "#         \"Nauru\", \"Grenada\", \"Dominican Republic\", \"Saint Vincent and the Grenadines\",\n",
    "#         \"Brazil\", \"Albania\", \"Dominica\", \"Gabon\", \"Georgia\", \"North Macedonia\",\n",
    "#         \"Armenia\", \"Peru\", \"Bosnia and Herzegovina\", \"Belize\", \"Equatorial Guinea\",\n",
    "#         \"Belarus\", \"Colombia\", \"Suriname\", \"Thailand\", \"Jamaica\", \"Azerbaijan\",\n",
    "#         \"Moldova\", \"Botswana\", \"Tuvalu\", \"Marshall Islands\", \"Ecuador\", \"Mongolia\",\n",
    "#         \"Libya\", \"South Africa\", \"Kosovo\", \"Guatemala\", \"Fiji\", \"Iraq\", \"Paraguay\",\n",
    "#         \"El Salvador\", \"Algeria\", \"Ukraine\", \"Iran\", \"Micronesia\", \"Samoa\",\n",
    "#         \"Indonesia\", \"Tonga\", \"Cape Verde\", \"Jordan\", \"Vietnam\", \"Lebanon\",\n",
    "#         \"Namibia\", \"Eswatini\", \"Tunisia\", \"Morocco\", \"Djibouti\", \"Philippines\",\n",
    "#         \"Bhutan\", \"Venezuela\", \"Bolivia\", \"Sri Lanka\", \"Egypt\", \"Honduras\",\n",
    "#         \"São Tomé and Príncipe\", \"Vanuatu\", \"Palestine\", \"Uzbekistan\", \"Angola\",\n",
    "#         \"Nicaragua\", \"Cambodia\", \"Ivory Coast\", \"India\", \"Bangladesh\", \"Papua New Guinea\",\n",
    "#         \"Kiribati\", \"Congo\", \"Mauritania\", \"Ghana\", \"Kyrgyzstan\", \"Kenya\",\n",
    "#         \"Solomon Islands\", \"Haiti\", \"Zimbabwe\", \"Laos\", \"Cameroon\", \"Senegal\",\n",
    "#         \"Guinea\", \"Comoros\", \"Pakistan\", \"Benin\", \"East Timor\", \"Nepal\", \"Ethiopia\",\n",
    "#         \"Tajikistan\", \"Zambia\", \"Tanzania\", \"Zanzibar\", \"Uganda\", \"Myanmar\",\n",
    "#         \"Guinea-Bissau\", \"Lesotho\", \"Togo\", \"Chad\", \"Gambia\", \"Rwanda\", \"Burkina Faso\",\n",
    "#         \"Mali\", \"Nigeria\", \"Sierra Leone\", \"Liberia\", \"Syria\", \"Somalia\", \"DR Congo\",\n",
    "#         \"Niger\", \"Eritrea\", \"Mozambique\", \"Sudan\", \"North Korea\", \"Madagascar\",\n",
    "#         \"Central African Republic\", \"Yemen\", \"Malawi\", \"Afghanistan\", \"South Sudan\",\n",
    "#         \"Burundi\"\n",
    "#     ],\n",
    "#     \"gdp_per_capita\": [\n",
    "#         None, None, 135321, None, 106098, 103500, None, None, 90434, 89370, 86601,\n",
    "#         85787, 77186, 71568, 69273, 67984, None, 65966, None, 59841, 58669, 57213,\n",
    "#         56129, 55521, 54774, 53834, 53165, 53111, 52423, None, 49550, 48012, 47072,\n",
    "#         None, 45279, 44140, 43350, None, 40287, None, 39697, None, 37926, 37767,\n",
    "#         36322, 36132, 35789, None, 34872, 34544, 33234, 32881, 32859, 32290, 31531,\n",
    "#         31366, None, 29573, 29341, 28921, 28713, None, 26290, 24759, 24342, 24223,\n",
    "#         24203, 23881, 23563, 23380, 23053, 22118, 21290, 20631, None, 20089, 19703,\n",
    "#         None, 19369, None, 17978, 17860, None, 17287, 17069, None, None, 16365, None,\n",
    "#         15666, 14953, 14570, 14034, 13972, 13900, 13142, None, 12969, 12814, 12802,\n",
    "#         12713, 12601, 12514, 12285, 12050, 11692, 10558, 10296, 9598, 9392, 9257,\n",
    "#         8883, 8659, 8518, 8316, 8221, 8133, 8102, 8008, 7917, 7600, 7527, 7487, 7381,\n",
    "#         7368, 7341, 7190, 6850, 6758, 6666, 6482, 6377, 6334, 6295, 6257, 5947, 5869,\n",
    "#         5607, 5579, 5505, 5300, 5120, 5048, 4981, 4858, 4790, 4682, 4649, 4487, 4410,\n",
    "#         4375, 4267, 4204, 4155, 4154, 4068, 4019, 3920, None, 3542, 3446, 3425, 3387,\n",
    "#         None, 3051, 2961, 2878, 2744, 2720, 2698, 2625, 2544, 2455, 2384, 2376, 2232,\n",
    "#         2229, 2218, 2209, 2120, 2114, 1945, 1821, 1805, 1652, 1630, 1588, 1510, 1454,\n",
    "#         1381, 1350, 1276, 1226, 1224, None, 1187, 1179, 1106, 1062, 1051, 1013, 989,\n",
    "#         986, 908, 898, 877, 856, 855, None, 771, 702, 698, None, 645, 606, None, 563,\n",
    "#         529, 465, 464, None, 341, 321\n",
    "#     ]\n",
    "# }\n",
    "\n",
    "# # Convert to DataFrame\n",
    "# d_gdp_per_capita = pd.DataFrame(gdp_per_capita).dropna()\n",
    "# file_path = \"d_gdp_per_capita.csv\"\n",
    "\n",
    "# # Save to CSV\n",
    "# d_gdp_per_capita.to_csv(file_path, index=False)"
   ]
  },
  {
   "cell_type": "code",
   "execution_count": 13,
   "metadata": {},
   "outputs": [
    {
     "data": {
      "text/html": [
       "\n",
       "    <div style=\"overflow-y: scroll; max-height: 500px; border: 1px solid #ccc; padding: 10px;\">\n",
       "        <table border=\"1\" class=\"dataframe\">\n",
       "  <thead>\n",
       "    <tr style=\"text-align: right;\">\n",
       "      <th>Country</th>\n",
       "      <th>gdp_per_capita</th>\n",
       "      <th>Continent</th>\n",
       "      <th>is_west</th>\n",
       "      <th>Flag</th>\n",
       "      <th>Population</th>\n",
       "      <th>1980</th>\n",
       "      <th>1981</th>\n",
       "      <th>1982</th>\n",
       "      <th>1983</th>\n",
       "      <th>1984</th>\n",
       "      <th>1985</th>\n",
       "      <th>1986</th>\n",
       "      <th>1987</th>\n",
       "      <th>1988</th>\n",
       "      <th>1989</th>\n",
       "    </tr>\n",
       "  </thead>\n",
       "  <tbody>\n",
       "    <tr>\n",
       "      <td>Luxembourg</td>\n",
       "      <td>135321.0</td>\n",
       "      <td>Europe</td>\n",
       "      <td>True</td>\n",
       "      <td>🇱🇺</td>\n",
       "      <td>645397</td>\n",
       "      <td>17667.0</td>\n",
       "      <td>15190.0</td>\n",
       "      <td>12464.0</td>\n",
       "      <td>12235.0</td>\n",
       "      <td>11984.0</td>\n",
       "      <td>12394.0</td>\n",
       "      <td>17950.0</td>\n",
       "      <td>22150.0</td>\n",
       "      <td>24876.0</td>\n",
       "      <td>26227.0</td>\n",
       "    </tr>\n",
       "    <tr>\n",
       "      <td>Switzerland</td>\n",
       "      <td>106098.0</td>\n",
       "      <td>Europe</td>\n",
       "      <td>True</td>\n",
       "      <td>🇨🇭</td>\n",
       "      <td>8758971</td>\n",
       "      <td>19427.0</td>\n",
       "      <td>17700.0</td>\n",
       "      <td>18028.0</td>\n",
       "      <td>17865.0</td>\n",
       "      <td>17019.0</td>\n",
       "      <td>17188.0</td>\n",
       "      <td>24530.0</td>\n",
       "      <td>30521.0</td>\n",
       "      <td>32794.0</td>\n",
       "      <td>31440.0</td>\n",
       "    </tr>\n",
       "    <tr>\n",
       "      <td>Ireland</td>\n",
       "      <td>103500.0</td>\n",
       "      <td>Europe</td>\n",
       "      <td>True</td>\n",
       "      <td>🇮🇪</td>\n",
       "      <td>5093520</td>\n",
       "      <td>6254.0</td>\n",
       "      <td>5888.0</td>\n",
       "      <td>6080.0</td>\n",
       "      <td>5842.0</td>\n",
       "      <td>5593.0</td>\n",
       "      <td>5936.0</td>\n",
       "      <td>7996.0</td>\n",
       "      <td>9422.0</td>\n",
       "      <td>10368.0</td>\n",
       "      <td>10758.0</td>\n",
       "    </tr>\n",
       "    <tr>\n",
       "      <td>Norway</td>\n",
       "      <td>90434.0</td>\n",
       "      <td>Europe</td>\n",
       "      <td>True</td>\n",
       "      <td>🇳🇴</td>\n",
       "      <td>5432701</td>\n",
       "      <td>15746.0</td>\n",
       "      <td>15485.0</td>\n",
       "      <td>15196.0</td>\n",
       "      <td>14906.0</td>\n",
       "      <td>14969.0</td>\n",
       "      <td>15728.0</td>\n",
       "      <td>18853.0</td>\n",
       "      <td>22445.0</td>\n",
       "      <td>24143.0</td>\n",
       "      <td>24246.0</td>\n",
       "    </tr>\n",
       "    <tr>\n",
       "      <td>Singapore</td>\n",
       "      <td>89370.0</td>\n",
       "      <td>Asia</td>\n",
       "      <td>False</td>\n",
       "      <td>🇸🇬</td>\n",
       "      <td>5847649</td>\n",
       "      <td>5005.0</td>\n",
       "      <td>5672.0</td>\n",
       "      <td>6000.0</td>\n",
       "      <td>6718.0</td>\n",
       "      <td>7160.0</td>\n",
       "      <td>6788.0</td>\n",
       "      <td>6871.0</td>\n",
       "      <td>7795.0</td>\n",
       "      <td>9329.0</td>\n",
       "      <td>10726.0</td>\n",
       "    </tr>\n",
       "    <tr>\n",
       "      <td>United States</td>\n",
       "      <td>86601.0</td>\n",
       "      <td>North America</td>\n",
       "      <td>True</td>\n",
       "      <td>🇺🇸</td>\n",
       "      <td>332403650</td>\n",
       "      <td>12553.0</td>\n",
       "      <td>13949.0</td>\n",
       "      <td>14405.0</td>\n",
       "      <td>15514.0</td>\n",
       "      <td>17086.0</td>\n",
       "      <td>18199.0</td>\n",
       "      <td>19035.0</td>\n",
       "      <td>20001.0</td>\n",
       "      <td>21376.0</td>\n",
       "      <td>22814.0</td>\n",
       "    </tr>\n",
       "    <tr>\n",
       "      <td>Iceland</td>\n",
       "      <td>85787.0</td>\n",
       "      <td>Europe</td>\n",
       "      <td>True</td>\n",
       "      <td>🇮🇸</td>\n",
       "      <td>375318</td>\n",
       "      <td>15129.0</td>\n",
       "      <td>15449.0</td>\n",
       "      <td>14003.0</td>\n",
       "      <td>11857.0</td>\n",
       "      <td>12130.0</td>\n",
       "      <td>12506.0</td>\n",
       "      <td>16572.0</td>\n",
       "      <td>22777.0</td>\n",
       "      <td>24820.0</td>\n",
       "      <td>22627.0</td>\n",
       "    </tr>\n",
       "    <tr>\n",
       "      <td>Macau</td>\n",
       "      <td>77186.0</td>\n",
       "      <td>Asia</td>\n",
       "      <td>False</td>\n",
       "      <td>🇲🇴</td>\n",
       "      <td>682100</td>\n",
       "      <td>NaN</td>\n",
       "      <td>NaN</td>\n",
       "      <td>NaN</td>\n",
       "      <td>NaN</td>\n",
       "      <td>NaN</td>\n",
       "      <td>NaN</td>\n",
       "      <td>NaN</td>\n",
       "      <td>NaN</td>\n",
       "      <td>NaN</td>\n",
       "      <td>NaN</td>\n",
       "    </tr>\n",
       "    <tr>\n",
       "      <td>Qatar</td>\n",
       "      <td>71568.0</td>\n",
       "      <td>Asia</td>\n",
       "      <td>False</td>\n",
       "      <td>🇶🇦</td>\n",
       "      <td>2889287</td>\n",
       "      <td>27242.0</td>\n",
       "      <td>27820.0</td>\n",
       "      <td>22657.0</td>\n",
       "      <td>18004.0</td>\n",
       "      <td>17497.0</td>\n",
       "      <td>15496.0</td>\n",
       "      <td>11644.0</td>\n",
       "      <td>11773.0</td>\n",
       "      <td>10854.0</td>\n",
       "      <td>11040.0</td>\n",
       "    </tr>\n",
       "    <tr>\n",
       "      <td>Denmark</td>\n",
       "      <td>69273.0</td>\n",
       "      <td>Europe</td>\n",
       "      <td>True</td>\n",
       "      <td>🇩🇰</td>\n",
       "      <td>5860707</td>\n",
       "      <td>13825.0</td>\n",
       "      <td>11995.0</td>\n",
       "      <td>11737.0</td>\n",
       "      <td>11792.0</td>\n",
       "      <td>11516.0</td>\n",
       "      <td>12219.0</td>\n",
       "      <td>17151.0</td>\n",
       "      <td>21305.0</td>\n",
       "      <td>22526.0</td>\n",
       "      <td>21894.0</td>\n",
       "    </tr>\n",
       "    <tr>\n",
       "      <td>Netherlands</td>\n",
       "      <td>67984.0</td>\n",
       "      <td>Europe</td>\n",
       "      <td>True</td>\n",
       "      <td>🇳🇱</td>\n",
       "      <td>17665602</td>\n",
       "      <td>13770.0</td>\n",
       "      <td>11446.0</td>\n",
       "      <td>11029.0</td>\n",
       "      <td>10697.0</td>\n",
       "      <td>9919.0</td>\n",
       "      <td>10022.0</td>\n",
       "      <td>13895.0</td>\n",
       "      <td>16919.0</td>\n",
       "      <td>17981.0</td>\n",
       "      <td>17622.0</td>\n",
       "    </tr>\n",
       "    <tr>\n",
       "      <td>Australia</td>\n",
       "      <td>65966.0</td>\n",
       "      <td>Oceania</td>\n",
       "      <td>True</td>\n",
       "      <td>🇦🇺</td>\n",
       "      <td>26160180</td>\n",
       "      <td>11008.0</td>\n",
       "      <td>12529.0</td>\n",
       "      <td>12235.0</td>\n",
       "      <td>11592.0</td>\n",
       "      <td>12576.0</td>\n",
       "      <td>10968.0</td>\n",
       "      <td>11246.0</td>\n",
       "      <td>12999.0</td>\n",
       "      <td>16247.0</td>\n",
       "      <td>18209.0</td>\n",
       "    </tr>\n",
       "    <tr>\n",
       "      <td>San Marino</td>\n",
       "      <td>59841.0</td>\n",
       "      <td>Europe</td>\n",
       "      <td>True</td>\n",
       "      <td>🇸🇲</td>\n",
       "      <td>34471</td>\n",
       "      <td>NaN</td>\n",
       "      <td>NaN</td>\n",
       "      <td>NaN</td>\n",
       "      <td>NaN</td>\n",
       "      <td>NaN</td>\n",
       "      <td>NaN</td>\n",
       "      <td>NaN</td>\n",
       "      <td>NaN</td>\n",
       "      <td>NaN</td>\n",
       "      <td>NaN</td>\n",
       "    </tr>\n",
       "    <tr>\n",
       "      <td>Austria</td>\n",
       "      <td>58669.0</td>\n",
       "      <td>Europe</td>\n",
       "      <td>True</td>\n",
       "      <td>🇦🇹</td>\n",
       "      <td>9093950</td>\n",
       "      <td>10732.0</td>\n",
       "      <td>9281.0</td>\n",
       "      <td>9268.0</td>\n",
       "      <td>9417.0</td>\n",
       "      <td>8883.0</td>\n",
       "      <td>9091.0</td>\n",
       "      <td>12886.0</td>\n",
       "      <td>16093.0</td>\n",
       "      <td>17633.0</td>\n",
       "      <td>17548.0</td>\n",
       "    </tr>\n",
       "    <tr>\n",
       "      <td>Sweden</td>\n",
       "      <td>57213.0</td>\n",
       "      <td>Europe</td>\n",
       "      <td>True</td>\n",
       "      <td>🇸🇪</td>\n",
       "      <td>10468138</td>\n",
       "      <td>16780.0</td>\n",
       "      <td>15308.0</td>\n",
       "      <td>13498.0</td>\n",
       "      <td>12399.0</td>\n",
       "      <td>12901.0</td>\n",
       "      <td>13471.0</td>\n",
       "      <td>17749.0</td>\n",
       "      <td>21504.0</td>\n",
       "      <td>24198.0</td>\n",
       "      <td>25265.0</td>\n",
       "    </tr>\n",
       "    <tr>\n",
       "      <td>Belgium</td>\n",
       "      <td>56129.0</td>\n",
       "      <td>Europe</td>\n",
       "      <td>True</td>\n",
       "      <td>🇧🇪</td>\n",
       "      <td>11592625</td>\n",
       "      <td>12529.0</td>\n",
       "      <td>10366.0</td>\n",
       "      <td>9129.0</td>\n",
       "      <td>8626.0</td>\n",
       "      <td>8245.0</td>\n",
       "      <td>8569.0</td>\n",
       "      <td>11874.0</td>\n",
       "      <td>14740.0</td>\n",
       "      <td>16009.0</td>\n",
       "      <td>16098.0</td>\n",
       "    </tr>\n",
       "    <tr>\n",
       "      <td>Germany</td>\n",
       "      <td>55521.0</td>\n",
       "      <td>Europe</td>\n",
       "      <td>True</td>\n",
       "      <td>🇩🇪</td>\n",
       "      <td>83149300</td>\n",
       "      <td>11150.0</td>\n",
       "      <td>9364.0</td>\n",
       "      <td>9048.0</td>\n",
       "      <td>9058.0</td>\n",
       "      <td>8569.0</td>\n",
       "      <td>8711.0</td>\n",
       "      <td>12432.0</td>\n",
       "      <td>15468.0</td>\n",
       "      <td>16575.0</td>\n",
       "      <td>16292.0</td>\n",
       "    </tr>\n",
       "    <tr>\n",
       "      <td>Finland</td>\n",
       "      <td>54774.0</td>\n",
       "      <td>Europe</td>\n",
       "      <td>True</td>\n",
       "      <td>🇫🇮</td>\n",
       "      <td>5536190</td>\n",
       "      <td>11258.0</td>\n",
       "      <td>10990.0</td>\n",
       "      <td>11037.0</td>\n",
       "      <td>10545.0</td>\n",
       "      <td>10890.0</td>\n",
       "      <td>11489.0</td>\n",
       "      <td>14998.0</td>\n",
       "      <td>18632.0</td>\n",
       "      <td>22123.0</td>\n",
       "      <td>24041.0</td>\n",
       "    </tr>\n",
       "    <tr>\n",
       "      <td>Canada</td>\n",
       "      <td>53834.0</td>\n",
       "      <td>North America</td>\n",
       "      <td>True</td>\n",
       "      <td>🇨🇦</td>\n",
       "      <td>38418619</td>\n",
       "      <td>11281.0</td>\n",
       "      <td>12397.0</td>\n",
       "      <td>12544.0</td>\n",
       "      <td>13493.0</td>\n",
       "      <td>13947.0</td>\n",
       "      <td>14186.0</td>\n",
       "      <td>14540.0</td>\n",
       "      <td>16408.0</td>\n",
       "      <td>19041.0</td>\n",
       "      <td>20842.0</td>\n",
       "    </tr>\n",
       "    <tr>\n",
       "      <td>Hong Kong</td>\n",
       "      <td>53165.0</td>\n",
       "      <td>Asia</td>\n",
       "      <td>False</td>\n",
       "      <td>🇭🇰</td>\n",
       "      <td>7431021</td>\n",
       "      <td>5704.0</td>\n",
       "      <td>5995.0</td>\n",
       "      <td>6139.0</td>\n",
       "      <td>5590.0</td>\n",
       "      <td>6171.0</td>\n",
       "      <td>6490.0</td>\n",
       "      <td>7380.0</td>\n",
       "      <td>9015.0</td>\n",
       "      <td>10527.0</td>\n",
       "      <td>12013.0</td>\n",
       "    </tr>\n",
       "    <tr>\n",
       "      <td>Israel</td>\n",
       "      <td>53111.0</td>\n",
       "      <td>Asia</td>\n",
       "      <td>True</td>\n",
       "      <td>🇮🇱</td>\n",
       "      <td>9845500</td>\n",
       "      <td>6397.0</td>\n",
       "      <td>6729.0</td>\n",
       "      <td>7085.0</td>\n",
       "      <td>7737.0</td>\n",
       "      <td>7231.0</td>\n",
       "      <td>6604.0</td>\n",
       "      <td>8005.0</td>\n",
       "      <td>9408.0</td>\n",
       "      <td>11463.0</td>\n",
       "      <td>11466.0</td>\n",
       "    </tr>\n",
       "    <tr>\n",
       "      <td>United Kingdom</td>\n",
       "      <td>52423.0</td>\n",
       "      <td>Europe</td>\n",
       "      <td>True</td>\n",
       "      <td>🇬🇧</td>\n",
       "      <td>67322169</td>\n",
       "      <td>10735.0</td>\n",
       "      <td>10439.0</td>\n",
       "      <td>9936.0</td>\n",
       "      <td>9463.0</td>\n",
       "      <td>8951.0</td>\n",
       "      <td>9499.0</td>\n",
       "      <td>11556.0</td>\n",
       "      <td>14332.0</td>\n",
       "      <td>17389.0</td>\n",
       "      <td>17654.0</td>\n",
       "    </tr>\n",
       "    <tr>\n",
       "      <td>United Arab Emirates</td>\n",
       "      <td>49550.0</td>\n",
       "      <td>Asia</td>\n",
       "      <td>False</td>\n",
       "      <td>🇦🇪</td>\n",
       "      <td>9948395</td>\n",
       "      <td>41312.0</td>\n",
       "      <td>42237.0</td>\n",
       "      <td>36927.0</td>\n",
       "      <td>32717.0</td>\n",
       "      <td>29958.0</td>\n",
       "      <td>27913.0</td>\n",
       "      <td>21199.0</td>\n",
       "      <td>22346.0</td>\n",
       "      <td>19033.0</td>\n",
       "      <td>21142.0</td>\n",
       "    </tr>\n",
       "    <tr>\n",
       "      <td>France</td>\n",
       "      <td>48012.0</td>\n",
       "      <td>Europe</td>\n",
       "      <td>True</td>\n",
       "      <td>🇫🇷</td>\n",
       "      <td>65468855</td>\n",
       "      <td>12944.0</td>\n",
       "      <td>11338.0</td>\n",
       "      <td>10698.0</td>\n",
       "      <td>10173.0</td>\n",
       "      <td>9594.0</td>\n",
       "      <td>10000.0</td>\n",
       "      <td>13829.0</td>\n",
       "      <td>16653.0</td>\n",
       "      <td>18097.0</td>\n",
       "      <td>18086.0</td>\n",
       "    </tr>\n",
       "    <tr>\n",
       "      <td>New Zealand</td>\n",
       "      <td>47072.0</td>\n",
       "      <td>Oceania</td>\n",
       "      <td>True</td>\n",
       "      <td>🇳🇿</td>\n",
       "      <td>5254610</td>\n",
       "      <td>7258.0</td>\n",
       "      <td>7515.0</td>\n",
       "      <td>7382.0</td>\n",
       "      <td>7075.0</td>\n",
       "      <td>6971.0</td>\n",
       "      <td>6954.0</td>\n",
       "      <td>8386.0</td>\n",
       "      <td>11207.0</td>\n",
       "      <td>13665.0</td>\n",
       "      <td>13080.0</td>\n",
       "    </tr>\n",
       "    <tr>\n",
       "      <td>Andorra</td>\n",
       "      <td>45279.0</td>\n",
       "      <td>Europe</td>\n",
       "      <td>True</td>\n",
       "      <td>🇦🇩</td>\n",
       "      <td>79245</td>\n",
       "      <td>NaN</td>\n",
       "      <td>NaN</td>\n",
       "      <td>NaN</td>\n",
       "      <td>NaN</td>\n",
       "      <td>NaN</td>\n",
       "      <td>NaN</td>\n",
       "      <td>NaN</td>\n",
       "      <td>NaN</td>\n",
       "      <td>NaN</td>\n",
       "      <td>NaN</td>\n",
       "    </tr>\n",
       "    <tr>\n",
       "      <td>Malta</td>\n",
       "      <td>44140.0</td>\n",
       "      <td>Europe</td>\n",
       "      <td>True</td>\n",
       "      <td>🇲🇹</td>\n",
       "      <td>535800</td>\n",
       "      <td>NaN</td>\n",
       "      <td>NaN</td>\n",
       "      <td>NaN</td>\n",
       "      <td>NaN</td>\n",
       "      <td>NaN</td>\n",
       "      <td>NaN</td>\n",
       "      <td>NaN</td>\n",
       "      <td>NaN</td>\n",
       "      <td>NaN</td>\n",
       "      <td>NaN</td>\n",
       "    </tr>\n",
       "    <tr>\n",
       "      <td>Italy</td>\n",
       "      <td>40287.0</td>\n",
       "      <td>Europe</td>\n",
       "      <td>True</td>\n",
       "      <td>🇮🇹</td>\n",
       "      <td>58871980</td>\n",
       "      <td>8512.0</td>\n",
       "      <td>7707.0</td>\n",
       "      <td>7610.0</td>\n",
       "      <td>7892.0</td>\n",
       "      <td>7797.0</td>\n",
       "      <td>8049.0</td>\n",
       "      <td>11397.0</td>\n",
       "      <td>14306.0</td>\n",
       "      <td>15846.0</td>\n",
       "      <td>16469.0</td>\n",
       "    </tr>\n",
       "    <tr>\n",
       "      <td>Aruba</td>\n",
       "      <td>39697.0</td>\n",
       "      <td>North America</td>\n",
       "      <td>True</td>\n",
       "      <td>🇦🇼</td>\n",
       "      <td>107609</td>\n",
       "      <td>NaN</td>\n",
       "      <td>NaN</td>\n",
       "      <td>NaN</td>\n",
       "      <td>NaN</td>\n",
       "      <td>NaN</td>\n",
       "      <td>NaN</td>\n",
       "      <td>NaN</td>\n",
       "      <td>NaN</td>\n",
       "      <td>NaN</td>\n",
       "      <td>NaN</td>\n",
       "    </tr>\n",
       "    <tr>\n",
       "      <td>Puerto Rico</td>\n",
       "      <td>37926.0</td>\n",
       "      <td>North America</td>\n",
       "      <td>True</td>\n",
       "      <td>🇵🇷</td>\n",
       "      <td>3193694</td>\n",
       "      <td>4507.0</td>\n",
       "      <td>4941.0</td>\n",
       "      <td>5147.0</td>\n",
       "      <td>5257.0</td>\n",
       "      <td>5777.0</td>\n",
       "      <td>6059.0</td>\n",
       "      <td>6495.0</td>\n",
       "      <td>6987.0</td>\n",
       "      <td>7579.0</td>\n",
       "      <td>8094.0</td>\n",
       "    </tr>\n",
       "    <tr>\n",
       "      <td>Cyprus</td>\n",
       "      <td>37767.0</td>\n",
       "      <td>Asia</td>\n",
       "      <td>True</td>\n",
       "      <td>🇨🇾</td>\n",
       "      <td>1208045</td>\n",
       "      <td>4550.0</td>\n",
       "      <td>4353.0</td>\n",
       "      <td>4453.0</td>\n",
       "      <td>4399.0</td>\n",
       "      <td>4576.0</td>\n",
       "      <td>4825.0</td>\n",
       "      <td>6058.0</td>\n",
       "      <td>7188.0</td>\n",
       "      <td>8204.0</td>\n",
       "      <td>8636.0</td>\n",
       "    </tr>\n",
       "    <tr>\n",
       "      <td>Bahamas</td>\n",
       "      <td>36322.0</td>\n",
       "      <td>North America</td>\n",
       "      <td>True</td>\n",
       "      <td>🇧🇸</td>\n",
       "      <td>409984</td>\n",
       "      <td>12292.0</td>\n",
       "      <td>12496.0</td>\n",
       "      <td>13749.0</td>\n",
       "      <td>14962.0</td>\n",
       "      <td>15630.0</td>\n",
       "      <td>16801.0</td>\n",
       "      <td>17854.0</td>\n",
       "      <td>19330.0</td>\n",
       "      <td>19688.0</td>\n",
       "      <td>21819.0</td>\n",
       "    </tr>\n",
       "    <tr>\n",
       "      <td>South Korea</td>\n",
       "      <td>36132.0</td>\n",
       "      <td>Asia</td>\n",
       "      <td>False</td>\n",
       "      <td>🇰🇷</td>\n",
       "      <td>51835351</td>\n",
       "      <td>1777.0</td>\n",
       "      <td>1951.0</td>\n",
       "      <td>2064.0</td>\n",
       "      <td>2278.0</td>\n",
       "      <td>2500.0</td>\n",
       "      <td>2572.0</td>\n",
       "      <td>2937.0</td>\n",
       "      <td>3683.0</td>\n",
       "      <td>4920.0</td>\n",
       "      <td>6027.0</td>\n",
       "    </tr>\n",
       "    <tr>\n",
       "      <td>Spain</td>\n",
       "      <td>35789.0</td>\n",
       "      <td>Europe</td>\n",
       "      <td>True</td>\n",
       "      <td>🇪🇸</td>\n",
       "      <td>47423841</td>\n",
       "      <td>6136.0</td>\n",
       "      <td>5389.0</td>\n",
       "      <td>5178.0</td>\n",
       "      <td>4507.0</td>\n",
       "      <td>4477.0</td>\n",
       "      <td>4701.0</td>\n",
       "      <td>6485.0</td>\n",
       "      <td>8198.0</td>\n",
       "      <td>9611.0</td>\n",
       "      <td>10579.0</td>\n",
       "    </tr>\n",
       "    <tr>\n",
       "      <td>Brunei</td>\n",
       "      <td>34872.0</td>\n",
       "      <td>Asia</td>\n",
       "      <td>False</td>\n",
       "      <td>🇧🇳</td>\n",
       "      <td>445439</td>\n",
       "      <td>NaN</td>\n",
       "      <td>NaN</td>\n",
       "      <td>NaN</td>\n",
       "      <td>NaN</td>\n",
       "      <td>NaN</td>\n",
       "      <td>21771.0</td>\n",
       "      <td>14544.0</td>\n",
       "      <td>16561.0</td>\n",
       "      <td>15281.0</td>\n",
       "      <td>16683.0</td>\n",
       "    </tr>\n",
       "    <tr>\n",
       "      <td>Slovenia</td>\n",
       "      <td>34544.0</td>\n",
       "      <td>Europe</td>\n",
       "      <td>True</td>\n",
       "      <td>🇸🇮</td>\n",
       "      <td>2117726</td>\n",
       "      <td>NaN</td>\n",
       "      <td>NaN</td>\n",
       "      <td>NaN</td>\n",
       "      <td>NaN</td>\n",
       "      <td>NaN</td>\n",
       "      <td>NaN</td>\n",
       "      <td>NaN</td>\n",
       "      <td>NaN</td>\n",
       "      <td>NaN</td>\n",
       "      <td>NaN</td>\n",
       "    </tr>\n",
       "    <tr>\n",
       "      <td>Taiwan</td>\n",
       "      <td>33234.0</td>\n",
       "      <td>Asia</td>\n",
       "      <td>False</td>\n",
       "      <td>🇹🇼</td>\n",
       "      <td>23894238</td>\n",
       "      <td>2367.0</td>\n",
       "      <td>2691.0</td>\n",
       "      <td>2675.0</td>\n",
       "      <td>2882.0</td>\n",
       "      <td>3203.0</td>\n",
       "      <td>3294.0</td>\n",
       "      <td>4008.0</td>\n",
       "      <td>5325.0</td>\n",
       "      <td>6338.0</td>\n",
       "      <td>7576.0</td>\n",
       "    </tr>\n",
       "    <tr>\n",
       "      <td>Saudi Arabia</td>\n",
       "      <td>32881.0</td>\n",
       "      <td>Asia</td>\n",
       "      <td>False</td>\n",
       "      <td>🇸🇦</td>\n",
       "      <td>35837747</td>\n",
       "      <td>19543.0</td>\n",
       "      <td>20846.0</td>\n",
       "      <td>16508.0</td>\n",
       "      <td>13253.0</td>\n",
       "      <td>11688.0</td>\n",
       "      <td>9667.0</td>\n",
       "      <td>7699.0</td>\n",
       "      <td>7222.0</td>\n",
       "      <td>7083.0</td>\n",
       "      <td>7287.0</td>\n",
       "    </tr>\n",
       "    <tr>\n",
       "      <td>Japan</td>\n",
       "      <td>32859.0</td>\n",
       "      <td>Asia</td>\n",
       "      <td>False</td>\n",
       "      <td>🇯🇵</td>\n",
       "      <td>124214719</td>\n",
       "      <td>9672.0</td>\n",
       "      <td>10587.0</td>\n",
       "      <td>9782.0</td>\n",
       "      <td>10655.0</td>\n",
       "      <td>11211.0</td>\n",
       "      <td>11813.0</td>\n",
       "      <td>17457.0</td>\n",
       "      <td>21148.0</td>\n",
       "      <td>25506.0</td>\n",
       "      <td>25274.0</td>\n",
       "    </tr>\n",
       "    <tr>\n",
       "      <td>Kuwait</td>\n",
       "      <td>32290.0</td>\n",
       "      <td>Asia</td>\n",
       "      <td>False</td>\n",
       "      <td>🇰🇼</td>\n",
       "      <td>4573532</td>\n",
       "      <td>NaN</td>\n",
       "      <td>NaN</td>\n",
       "      <td>NaN</td>\n",
       "      <td>NaN</td>\n",
       "      <td>NaN</td>\n",
       "      <td>NaN</td>\n",
       "      <td>NaN</td>\n",
       "      <td>NaN</td>\n",
       "      <td>NaN</td>\n",
       "      <td>NaN</td>\n",
       "    </tr>\n",
       "    <tr>\n",
       "      <td>Estonia</td>\n",
       "      <td>31531.0</td>\n",
       "      <td>Europe</td>\n",
       "      <td>True</td>\n",
       "      <td>🇪🇪</td>\n",
       "      <td>1327579</td>\n",
       "      <td>NaN</td>\n",
       "      <td>NaN</td>\n",
       "      <td>NaN</td>\n",
       "      <td>NaN</td>\n",
       "      <td>NaN</td>\n",
       "      <td>NaN</td>\n",
       "      <td>NaN</td>\n",
       "      <td>NaN</td>\n",
       "      <td>NaN</td>\n",
       "      <td>NaN</td>\n",
       "    </tr>\n",
       "    <tr>\n",
       "      <td>Czech Republic</td>\n",
       "      <td>31366.0</td>\n",
       "      <td>Europe</td>\n",
       "      <td>True</td>\n",
       "      <td>🇨🇿</td>\n",
       "      <td>10693939</td>\n",
       "      <td>NaN</td>\n",
       "      <td>NaN</td>\n",
       "      <td>NaN</td>\n",
       "      <td>NaN</td>\n",
       "      <td>NaN</td>\n",
       "      <td>NaN</td>\n",
       "      <td>NaN</td>\n",
       "      <td>NaN</td>\n",
       "      <td>NaN</td>\n",
       "      <td>NaN</td>\n",
       "    </tr>\n",
       "    <tr>\n",
       "      <td>Bahrain</td>\n",
       "      <td>29573.0</td>\n",
       "      <td>Asia</td>\n",
       "      <td>False</td>\n",
       "      <td>🇧🇭</td>\n",
       "      <td>1518412</td>\n",
       "      <td>10623.0</td>\n",
       "      <td>11531.0</td>\n",
       "      <td>11699.0</td>\n",
       "      <td>11590.0</td>\n",
       "      <td>11638.0</td>\n",
       "      <td>10615.0</td>\n",
       "      <td>8023.0</td>\n",
       "      <td>8391.0</td>\n",
       "      <td>10011.0</td>\n",
       "      <td>10079.0</td>\n",
       "    </tr>\n",
       "    <tr>\n",
       "      <td>Portugal</td>\n",
       "      <td>29341.0</td>\n",
       "      <td>Europe</td>\n",
       "      <td>True</td>\n",
       "      <td>🇵🇹</td>\n",
       "      <td>10287999</td>\n",
       "      <td>3339.0</td>\n",
       "      <td>3297.0</td>\n",
       "      <td>3095.0</td>\n",
       "      <td>2839.0</td>\n",
       "      <td>2596.0</td>\n",
       "      <td>2717.0</td>\n",
       "      <td>3775.0</td>\n",
       "      <td>4724.0</td>\n",
       "      <td>5533.0</td>\n",
       "      <td>5978.0</td>\n",
       "    </tr>\n",
       "    <tr>\n",
       "      <td>Guyana</td>\n",
       "      <td>28921.0</td>\n",
       "      <td>South America</td>\n",
       "      <td>False</td>\n",
       "      <td>🇬🇾</td>\n",
       "      <td>800584</td>\n",
       "      <td>1102.0</td>\n",
       "      <td>1056.0</td>\n",
       "      <td>905.0</td>\n",
       "      <td>922.0</td>\n",
       "      <td>861.0</td>\n",
       "      <td>924.0</td>\n",
       "      <td>1054.0</td>\n",
       "      <td>982.0</td>\n",
       "      <td>1126.0</td>\n",
       "      <td>1146.0</td>\n",
       "    </tr>\n",
       "    <tr>\n",
       "      <td>Lithuania</td>\n",
       "      <td>28713.0</td>\n",
       "      <td>Europe</td>\n",
       "      <td>True</td>\n",
       "      <td>🇱🇹</td>\n",
       "      <td>2607287</td>\n",
       "      <td>NaN</td>\n",
       "      <td>NaN</td>\n",
       "      <td>NaN</td>\n",
       "      <td>NaN</td>\n",
       "      <td>NaN</td>\n",
       "      <td>NaN</td>\n",
       "      <td>NaN</td>\n",
       "      <td>NaN</td>\n",
       "      <td>NaN</td>\n",
       "      <td>NaN</td>\n",
       "    </tr>\n",
       "    <tr>\n",
       "      <td>Slovakia</td>\n",
       "      <td>26290.0</td>\n",
       "      <td>Europe</td>\n",
       "      <td>True</td>\n",
       "      <td>🇸🇰</td>\n",
       "      <td>5442288</td>\n",
       "      <td>NaN</td>\n",
       "      <td>NaN</td>\n",
       "      <td>NaN</td>\n",
       "      <td>NaN</td>\n",
       "      <td>NaN</td>\n",
       "      <td>NaN</td>\n",
       "      <td>NaN</td>\n",
       "      <td>NaN</td>\n",
       "      <td>NaN</td>\n",
       "      <td>NaN</td>\n",
       "    </tr>\n",
       "    <tr>\n",
       "      <td>Barbados</td>\n",
       "      <td>24759.0</td>\n",
       "      <td>North America</td>\n",
       "      <td>True</td>\n",
       "      <td>🇧🇧</td>\n",
       "      <td>281197</td>\n",
       "      <td>4156.0</td>\n",
       "      <td>4558.0</td>\n",
       "      <td>4748.0</td>\n",
       "      <td>5027.0</td>\n",
       "      <td>5465.0</td>\n",
       "      <td>5703.0</td>\n",
       "      <td>6242.0</td>\n",
       "      <td>6851.0</td>\n",
       "      <td>7261.0</td>\n",
       "      <td>8007.0</td>\n",
       "    </tr>\n",
       "    <tr>\n",
       "      <td>Greece</td>\n",
       "      <td>24342.0</td>\n",
       "      <td>Europe</td>\n",
       "      <td>True</td>\n",
       "      <td>🇬🇷</td>\n",
       "      <td>10228183</td>\n",
       "      <td>5948.0</td>\n",
       "      <td>5423.0</td>\n",
       "      <td>5624.0</td>\n",
       "      <td>5051.0</td>\n",
       "      <td>4896.0</td>\n",
       "      <td>4832.0</td>\n",
       "      <td>5671.0</td>\n",
       "      <td>6578.0</td>\n",
       "      <td>7633.0</td>\n",
       "      <td>7879.0</td>\n",
       "    </tr>\n",
       "    <tr>\n",
       "      <td>Latvia</td>\n",
       "      <td>24223.0</td>\n",
       "      <td>Europe</td>\n",
       "      <td>True</td>\n",
       "      <td>🇱🇻</td>\n",
       "      <td>1830145</td>\n",
       "      <td>NaN</td>\n",
       "      <td>NaN</td>\n",
       "      <td>NaN</td>\n",
       "      <td>NaN</td>\n",
       "      <td>NaN</td>\n",
       "      <td>NaN</td>\n",
       "      <td>NaN</td>\n",
       "      <td>NaN</td>\n",
       "      <td>NaN</td>\n",
       "      <td>NaN</td>\n",
       "    </tr>\n",
       "    <tr>\n",
       "      <td>Saint Kitts and Nevis</td>\n",
       "      <td>24203.0</td>\n",
       "      <td>North America</td>\n",
       "      <td>True</td>\n",
       "      <td>🇰🇳</td>\n",
       "      <td>47800</td>\n",
       "      <td>1342.0</td>\n",
       "      <td>1611.0</td>\n",
       "      <td>1846.0</td>\n",
       "      <td>1827.0</td>\n",
       "      <td>2140.0</td>\n",
       "      <td>2399.0</td>\n",
       "      <td>2838.0</td>\n",
       "      <td>3268.0</td>\n",
       "      <td>3901.0</td>\n",
       "      <td>4378.0</td>\n",
       "    </tr>\n",
       "    <tr>\n",
       "      <td>Hungary</td>\n",
       "      <td>23881.0</td>\n",
       "      <td>Europe</td>\n",
       "      <td>True</td>\n",
       "      <td>🇭🇺</td>\n",
       "      <td>9750440</td>\n",
       "      <td>2151.0</td>\n",
       "      <td>2207.0</td>\n",
       "      <td>2250.0</td>\n",
       "      <td>2046.0</td>\n",
       "      <td>1990.0</td>\n",
       "      <td>2023.0</td>\n",
       "      <td>2339.0</td>\n",
       "      <td>2583.0</td>\n",
       "      <td>2839.0</td>\n",
       "      <td>2910.0</td>\n",
       "    </tr>\n",
       "    <tr>\n",
       "      <td>Poland</td>\n",
       "      <td>23563.0</td>\n",
       "      <td>Europe</td>\n",
       "      <td>True</td>\n",
       "      <td>🇵🇱</td>\n",
       "      <td>37779798</td>\n",
       "      <td>1595.0</td>\n",
       "      <td>1498.0</td>\n",
       "      <td>1803.0</td>\n",
       "      <td>2057.0</td>\n",
       "      <td>2042.0</td>\n",
       "      <td>1900.0</td>\n",
       "      <td>1966.0</td>\n",
       "      <td>1691.0</td>\n",
       "      <td>1819.0</td>\n",
       "      <td>1772.0</td>\n",
       "    </tr>\n",
       "    <tr>\n",
       "      <td>Croatia</td>\n",
       "      <td>23380.0</td>\n",
       "      <td>Europe</td>\n",
       "      <td>True</td>\n",
       "      <td>🇭🇷</td>\n",
       "      <td>3711754</td>\n",
       "      <td>NaN</td>\n",
       "      <td>NaN</td>\n",
       "      <td>NaN</td>\n",
       "      <td>NaN</td>\n",
       "      <td>NaN</td>\n",
       "      <td>NaN</td>\n",
       "      <td>NaN</td>\n",
       "      <td>NaN</td>\n",
       "      <td>NaN</td>\n",
       "      <td>NaN</td>\n",
       "    </tr>\n",
       "    <tr>\n",
       "      <td>Uruguay</td>\n",
       "      <td>23053.0</td>\n",
       "      <td>South America</td>\n",
       "      <td>False</td>\n",
       "      <td>🇺🇾</td>\n",
       "      <td>3438010</td>\n",
       "      <td>4158.0</td>\n",
       "      <td>4609.0</td>\n",
       "      <td>3743.0</td>\n",
       "      <td>2042.0</td>\n",
       "      <td>1929.0</td>\n",
       "      <td>1873.0</td>\n",
       "      <td>2312.0</td>\n",
       "      <td>2877.0</td>\n",
       "      <td>2959.0</td>\n",
       "      <td>3101.0</td>\n",
       "    </tr>\n",
       "    <tr>\n",
       "      <td>Antigua and Barbuda</td>\n",
       "      <td>22118.0</td>\n",
       "      <td>North America</td>\n",
       "      <td>True</td>\n",
       "      <td>🇦🇬</td>\n",
       "      <td>93900</td>\n",
       "      <td>1935.0</td>\n",
       "      <td>2200.0</td>\n",
       "      <td>2479.0</td>\n",
       "      <td>2794.0</td>\n",
       "      <td>3260.0</td>\n",
       "      <td>3849.0</td>\n",
       "      <td>4730.0</td>\n",
       "      <td>5612.0</td>\n",
       "      <td>6756.0</td>\n",
       "      <td>7544.0</td>\n",
       "    </tr>\n",
       "    <tr>\n",
       "      <td>Seychelles</td>\n",
       "      <td>21290.0</td>\n",
       "      <td>Africa</td>\n",
       "      <td>False</td>\n",
       "      <td>🇸🇨</td>\n",
       "      <td>107118</td>\n",
       "      <td>2329.0</td>\n",
       "      <td>2403.0</td>\n",
       "      <td>2294.0</td>\n",
       "      <td>2280.0</td>\n",
       "      <td>2338.0</td>\n",
       "      <td>2589.0</td>\n",
       "      <td>3166.0</td>\n",
       "      <td>3639.0</td>\n",
       "      <td>4128.0</td>\n",
       "      <td>4407.0</td>\n",
       "    </tr>\n",
       "    <tr>\n",
       "      <td>Oman</td>\n",
       "      <td>20631.0</td>\n",
       "      <td>Asia</td>\n",
       "      <td>False</td>\n",
       "      <td>🇴🇲</td>\n",
       "      <td>4765815</td>\n",
       "      <td>5358.0</td>\n",
       "      <td>6020.0</td>\n",
       "      <td>6317.0</td>\n",
       "      <td>6148.0</td>\n",
       "      <td>6324.0</td>\n",
       "      <td>7026.0</td>\n",
       "      <td>5214.0</td>\n",
       "      <td>5145.0</td>\n",
       "      <td>5001.0</td>\n",
       "      <td>5279.0</td>\n",
       "    </tr>\n",
       "    <tr>\n",
       "      <td>Romania</td>\n",
       "      <td>20089.0</td>\n",
       "      <td>Europe</td>\n",
       "      <td>True</td>\n",
       "      <td>🇷🇴</td>\n",
       "      <td>19186270</td>\n",
       "      <td>2052.0</td>\n",
       "      <td>2450.0</td>\n",
       "      <td>2441.0</td>\n",
       "      <td>2125.0</td>\n",
       "      <td>1710.0</td>\n",
       "      <td>2102.0</td>\n",
       "      <td>2264.0</td>\n",
       "      <td>2518.0</td>\n",
       "      <td>2593.0</td>\n",
       "      <td>2315.0</td>\n",
       "    </tr>\n",
       "    <tr>\n",
       "      <td>Trinidad and Tobago</td>\n",
       "      <td>19703.0</td>\n",
       "      <td>North America</td>\n",
       "      <td>True</td>\n",
       "      <td>🇹🇹</td>\n",
       "      <td>1443800</td>\n",
       "      <td>5848.0</td>\n",
       "      <td>6454.0</td>\n",
       "      <td>7393.0</td>\n",
       "      <td>6939.0</td>\n",
       "      <td>6831.0</td>\n",
       "      <td>6411.0</td>\n",
       "      <td>4121.0</td>\n",
       "      <td>4086.0</td>\n",
       "      <td>3799.0</td>\n",
       "      <td>3626.0</td>\n",
       "    </tr>\n",
       "    <tr>\n",
       "      <td>Panama</td>\n",
       "      <td>19369.0</td>\n",
       "      <td>North America</td>\n",
       "      <td>False</td>\n",
       "      <td>🇵🇦</td>\n",
       "      <td>4538489</td>\n",
       "      <td>2146.0</td>\n",
       "      <td>2372.0</td>\n",
       "      <td>2559.0</td>\n",
       "      <td>2567.0</td>\n",
       "      <td>2620.0</td>\n",
       "      <td>2710.0</td>\n",
       "      <td>2755.0</td>\n",
       "      <td>2708.0</td>\n",
       "      <td>2292.0</td>\n",
       "      <td>2251.0</td>\n",
       "    </tr>\n",
       "    <tr>\n",
       "      <td>Palau</td>\n",
       "      <td>17978.0</td>\n",
       "      <td>Oceania</td>\n",
       "      <td>False</td>\n",
       "      <td>🇵🇼</td>\n",
       "      <td>18300</td>\n",
       "      <td>NaN</td>\n",
       "      <td>NaN</td>\n",
       "      <td>NaN</td>\n",
       "      <td>NaN</td>\n",
       "      <td>NaN</td>\n",
       "      <td>NaN</td>\n",
       "      <td>NaN</td>\n",
       "      <td>NaN</td>\n",
       "      <td>NaN</td>\n",
       "      <td>NaN</td>\n",
       "    </tr>\n",
       "    <tr>\n",
       "      <td>Costa Rica</td>\n",
       "      <td>17860.0</td>\n",
       "      <td>North America</td>\n",
       "      <td>False</td>\n",
       "      <td>🇨🇷</td>\n",
       "      <td>5247597</td>\n",
       "      <td>2109.0</td>\n",
       "      <td>1111.0</td>\n",
       "      <td>1072.0</td>\n",
       "      <td>1257.0</td>\n",
       "      <td>1421.0</td>\n",
       "      <td>1478.0</td>\n",
       "      <td>1611.0</td>\n",
       "      <td>1613.0</td>\n",
       "      <td>1598.0</td>\n",
       "      <td>1763.0</td>\n",
       "    </tr>\n",
       "    <tr>\n",
       "      <td>Maldives</td>\n",
       "      <td>17287.0</td>\n",
       "      <td>Asia</td>\n",
       "      <td>False</td>\n",
       "      <td>🇲🇻</td>\n",
       "      <td>521021</td>\n",
       "      <td>413.0</td>\n",
       "      <td>465.0</td>\n",
       "      <td>535.0</td>\n",
       "      <td>560.0</td>\n",
       "      <td>646.0</td>\n",
       "      <td>738.0</td>\n",
       "      <td>836.0</td>\n",
       "      <td>770.0</td>\n",
       "      <td>898.0</td>\n",
       "      <td>988.0</td>\n",
       "    </tr>\n",
       "    <tr>\n",
       "      <td>Bulgaria</td>\n",
       "      <td>17069.0</td>\n",
       "      <td>Europe</td>\n",
       "      <td>True</td>\n",
       "      <td>🇧🇬</td>\n",
       "      <td>6831547</td>\n",
       "      <td>4286.0</td>\n",
       "      <td>4609.0</td>\n",
       "      <td>4794.0</td>\n",
       "      <td>4914.0</td>\n",
       "      <td>5211.0</td>\n",
       "      <td>4458.0</td>\n",
       "      <td>3947.0</td>\n",
       "      <td>4581.0</td>\n",
       "      <td>7507.0</td>\n",
       "      <td>7679.0</td>\n",
       "    </tr>\n",
       "    <tr>\n",
       "      <td>Chile</td>\n",
       "      <td>16365.0</td>\n",
       "      <td>South America</td>\n",
       "      <td>False</td>\n",
       "      <td>🇨🇱</td>\n",
       "      <td>19493653</td>\n",
       "      <td>2598.0</td>\n",
       "      <td>3026.0</td>\n",
       "      <td>2220.0</td>\n",
       "      <td>1775.0</td>\n",
       "      <td>1699.0</td>\n",
       "      <td>1434.0</td>\n",
       "      <td>1515.0</td>\n",
       "      <td>1756.0</td>\n",
       "      <td>2035.0</td>\n",
       "      <td>2306.0</td>\n",
       "    </tr>\n",
       "    <tr>\n",
       "      <td>Turkey</td>\n",
       "      <td>15666.0</td>\n",
       "      <td>Asia</td>\n",
       "      <td>False</td>\n",
       "      <td>🇹🇷</td>\n",
       "      <td>86381148</td>\n",
       "      <td>2134.0</td>\n",
       "      <td>2113.0</td>\n",
       "      <td>1877.0</td>\n",
       "      <td>1753.0</td>\n",
       "      <td>1668.0</td>\n",
       "      <td>1835.0</td>\n",
       "      <td>1983.0</td>\n",
       "      <td>2261.0</td>\n",
       "      <td>2333.0</td>\n",
       "      <td>2708.0</td>\n",
       "    </tr>\n",
       "    <tr>\n",
       "      <td>Russia</td>\n",
       "      <td>14953.0</td>\n",
       "      <td>Europe</td>\n",
       "      <td>False</td>\n",
       "      <td>🇷🇺</td>\n",
       "      <td>143377713</td>\n",
       "      <td>NaN</td>\n",
       "      <td>NaN</td>\n",
       "      <td>NaN</td>\n",
       "      <td>NaN</td>\n",
       "      <td>NaN</td>\n",
       "      <td>NaN</td>\n",
       "      <td>NaN</td>\n",
       "      <td>NaN</td>\n",
       "      <td>NaN</td>\n",
       "      <td>NaN</td>\n",
       "    </tr>\n",
       "    <tr>\n",
       "      <td>Kazakhstan</td>\n",
       "      <td>14570.0</td>\n",
       "      <td>Asia</td>\n",
       "      <td>False</td>\n",
       "      <td>🇰🇿</td>\n",
       "      <td>19414835</td>\n",
       "      <td>NaN</td>\n",
       "      <td>NaN</td>\n",
       "      <td>NaN</td>\n",
       "      <td>NaN</td>\n",
       "      <td>NaN</td>\n",
       "      <td>NaN</td>\n",
       "      <td>NaN</td>\n",
       "      <td>NaN</td>\n",
       "      <td>NaN</td>\n",
       "      <td>NaN</td>\n",
       "    </tr>\n",
       "    <tr>\n",
       "      <td>Saint Lucia</td>\n",
       "      <td>14034.0</td>\n",
       "      <td>North America</td>\n",
       "      <td>True</td>\n",
       "      <td>🇱🇨</td>\n",
       "      <td>184400</td>\n",
       "      <td>1373.0</td>\n",
       "      <td>1546.0</td>\n",
       "      <td>1439.0</td>\n",
       "      <td>1529.0</td>\n",
       "      <td>1923.0</td>\n",
       "      <td>2141.0</td>\n",
       "      <td>2520.0</td>\n",
       "      <td>2743.0</td>\n",
       "      <td>3097.0</td>\n",
       "      <td>3464.0</td>\n",
       "    </tr>\n",
       "    <tr>\n",
       "      <td>Mexico</td>\n",
       "      <td>13972.0</td>\n",
       "      <td>North America</td>\n",
       "      <td>False</td>\n",
       "      <td>🇲🇽</td>\n",
       "      <td>129259637</td>\n",
       "      <td>3557.0</td>\n",
       "      <td>4461.0</td>\n",
       "      <td>3163.0</td>\n",
       "      <td>2519.0</td>\n",
       "      <td>2905.0</td>\n",
       "      <td>3015.0</td>\n",
       "      <td>2043.0</td>\n",
       "      <td>2195.0</td>\n",
       "      <td>2631.0</td>\n",
       "      <td>3145.0</td>\n",
       "    </tr>\n",
       "    <tr>\n",
       "      <td>Malaysia</td>\n",
       "      <td>13142.0</td>\n",
       "      <td>Asia</td>\n",
       "      <td>False</td>\n",
       "      <td>🇲🇾</td>\n",
       "      <td>33068491</td>\n",
       "      <td>1927.0</td>\n",
       "      <td>1920.0</td>\n",
       "      <td>2006.0</td>\n",
       "      <td>2190.0</td>\n",
       "      <td>2420.0</td>\n",
       "      <td>2154.0</td>\n",
       "      <td>1864.0</td>\n",
       "      <td>2070.0</td>\n",
       "      <td>2214.0</td>\n",
       "      <td>2381.0</td>\n",
       "    </tr>\n",
       "    <tr>\n",
       "      <td>China</td>\n",
       "      <td>12969.0</td>\n",
       "      <td>Asia</td>\n",
       "      <td>False</td>\n",
       "      <td>🇨🇳</td>\n",
       "      <td>1404261667</td>\n",
       "      <td>307.0</td>\n",
       "      <td>288.0</td>\n",
       "      <td>280.0</td>\n",
       "      <td>297.0</td>\n",
       "      <td>301.0</td>\n",
       "      <td>293.0</td>\n",
       "      <td>280.0</td>\n",
       "      <td>300.0</td>\n",
       "      <td>368.0</td>\n",
       "      <td>407.0</td>\n",
       "    </tr>\n",
       "    <tr>\n",
       "      <td>Argentina</td>\n",
       "      <td>12814.0</td>\n",
       "      <td>South America</td>\n",
       "      <td>False</td>\n",
       "      <td>🇦🇷</td>\n",
       "      <td>46674672</td>\n",
       "      <td>8361.0</td>\n",
       "      <td>6671.0</td>\n",
       "      <td>3258.0</td>\n",
       "      <td>3963.0</td>\n",
       "      <td>4375.0</td>\n",
       "      <td>3249.0</td>\n",
       "      <td>3857.0</td>\n",
       "      <td>3910.0</td>\n",
       "      <td>4524.0</td>\n",
       "      <td>2867.0</td>\n",
       "    </tr>\n",
       "    <tr>\n",
       "      <td>Montenegro</td>\n",
       "      <td>12802.0</td>\n",
       "      <td>Europe</td>\n",
       "      <td>True</td>\n",
       "      <td>🇲🇪</td>\n",
       "      <td>617540</td>\n",
       "      <td>NaN</td>\n",
       "      <td>NaN</td>\n",
       "      <td>NaN</td>\n",
       "      <td>NaN</td>\n",
       "      <td>NaN</td>\n",
       "      <td>NaN</td>\n",
       "      <td>NaN</td>\n",
       "      <td>NaN</td>\n",
       "      <td>NaN</td>\n",
       "      <td>NaN</td>\n",
       "    </tr>\n",
       "    <tr>\n",
       "      <td>Turkmenistan</td>\n",
       "      <td>12713.0</td>\n",
       "      <td>Asia</td>\n",
       "      <td>False</td>\n",
       "      <td>🇹🇲</td>\n",
       "      <td>6489600</td>\n",
       "      <td>NaN</td>\n",
       "      <td>NaN</td>\n",
       "      <td>NaN</td>\n",
       "      <td>NaN</td>\n",
       "      <td>NaN</td>\n",
       "      <td>NaN</td>\n",
       "      <td>NaN</td>\n",
       "      <td>NaN</td>\n",
       "      <td>NaN</td>\n",
       "      <td>NaN</td>\n",
       "    </tr>\n",
       "    <tr>\n",
       "      <td>Mauritius</td>\n",
       "      <td>12601.0</td>\n",
       "      <td>Africa</td>\n",
       "      <td>False</td>\n",
       "      <td>🇲🇺</td>\n",
       "      <td>1265984</td>\n",
       "      <td>1285.0</td>\n",
       "      <td>1203.0</td>\n",
       "      <td>1140.0</td>\n",
       "      <td>1196.0</td>\n",
       "      <td>1095.0</td>\n",
       "      <td>1100.0</td>\n",
       "      <td>1474.0</td>\n",
       "      <td>1852.0</td>\n",
       "      <td>2133.0</td>\n",
       "      <td>2175.0</td>\n",
       "    </tr>\n",
       "    <tr>\n",
       "      <td>Serbia</td>\n",
       "      <td>12514.0</td>\n",
       "      <td>Europe</td>\n",
       "      <td>True</td>\n",
       "      <td>🇷🇸</td>\n",
       "      <td>6921270</td>\n",
       "      <td>NaN</td>\n",
       "      <td>NaN</td>\n",
       "      <td>NaN</td>\n",
       "      <td>NaN</td>\n",
       "      <td>NaN</td>\n",
       "      <td>NaN</td>\n",
       "      <td>NaN</td>\n",
       "      <td>NaN</td>\n",
       "      <td>NaN</td>\n",
       "      <td>NaN</td>\n",
       "    </tr>\n",
       "    <tr>\n",
       "      <td>Nauru</td>\n",
       "      <td>12285.0</td>\n",
       "      <td>Oceania</td>\n",
       "      <td>False</td>\n",
       "      <td>🇳🇷</td>\n",
       "      <td>10800</td>\n",
       "      <td>NaN</td>\n",
       "      <td>NaN</td>\n",
       "      <td>NaN</td>\n",
       "      <td>NaN</td>\n",
       "      <td>NaN</td>\n",
       "      <td>NaN</td>\n",
       "      <td>NaN</td>\n",
       "      <td>NaN</td>\n",
       "      <td>NaN</td>\n",
       "      <td>NaN</td>\n",
       "    </tr>\n",
       "    <tr>\n",
       "      <td>Grenada</td>\n",
       "      <td>12050.0</td>\n",
       "      <td>North America</td>\n",
       "      <td>True</td>\n",
       "      <td>🇬🇩</td>\n",
       "      <td>126920</td>\n",
       "      <td>1246.0</td>\n",
       "      <td>1276.0</td>\n",
       "      <td>1347.0</td>\n",
       "      <td>1373.0</td>\n",
       "      <td>1478.0</td>\n",
       "      <td>1678.0</td>\n",
       "      <td>1872.0</td>\n",
       "      <td>2163.0</td>\n",
       "      <td>2409.0</td>\n",
       "      <td>2758.0</td>\n",
       "    </tr>\n",
       "    <tr>\n",
       "      <td>Dominican Republic</td>\n",
       "      <td>11692.0</td>\n",
       "      <td>North America</td>\n",
       "      <td>False</td>\n",
       "      <td>🇩🇴</td>\n",
       "      <td>11006562</td>\n",
       "      <td>1534.0</td>\n",
       "      <td>1677.0</td>\n",
       "      <td>1545.0</td>\n",
       "      <td>1562.0</td>\n",
       "      <td>2398.0</td>\n",
       "      <td>1023.0</td>\n",
       "      <td>1212.0</td>\n",
       "      <td>1245.0</td>\n",
       "      <td>1114.0</td>\n",
       "      <td>1231.0</td>\n",
       "    </tr>\n",
       "    <tr>\n",
       "      <td>Saint Vincent and the Grenadines</td>\n",
       "      <td>10558.0</td>\n",
       "      <td>North America</td>\n",
       "      <td>True</td>\n",
       "      <td>🇻🇨</td>\n",
       "      <td>101296</td>\n",
       "      <td>903.0</td>\n",
       "      <td>1110.0</td>\n",
       "      <td>1227.0</td>\n",
       "      <td>1309.0</td>\n",
       "      <td>1435.0</td>\n",
       "      <td>1537.0</td>\n",
       "      <td>1686.0</td>\n",
       "      <td>1828.0</td>\n",
       "      <td>2078.0</td>\n",
       "      <td>2211.0</td>\n",
       "    </tr>\n",
       "    <tr>\n",
       "      <td>Brazil</td>\n",
       "      <td>10296.0</td>\n",
       "      <td>South America</td>\n",
       "      <td>False</td>\n",
       "      <td>🇧🇷</td>\n",
       "      <td>214349717</td>\n",
       "      <td>1230.0</td>\n",
       "      <td>1383.0</td>\n",
       "      <td>1446.0</td>\n",
       "      <td>1135.0</td>\n",
       "      <td>1106.0</td>\n",
       "      <td>1720.0</td>\n",
       "      <td>1955.0</td>\n",
       "      <td>2087.0</td>\n",
       "      <td>2289.0</td>\n",
       "      <td>3088.0</td>\n",
       "    </tr>\n",
       "    <tr>\n",
       "      <td>Albania</td>\n",
       "      <td>9598.0</td>\n",
       "      <td>Europe</td>\n",
       "      <td>True</td>\n",
       "      <td>🇦🇱</td>\n",
       "      <td>2815800</td>\n",
       "      <td>728.0</td>\n",
       "      <td>818.0</td>\n",
       "      <td>825.0</td>\n",
       "      <td>816.0</td>\n",
       "      <td>788.0</td>\n",
       "      <td>789.0</td>\n",
       "      <td>856.0</td>\n",
       "      <td>832.0</td>\n",
       "      <td>805.0</td>\n",
       "      <td>861.0</td>\n",
       "    </tr>\n",
       "    <tr>\n",
       "      <td>Dominica</td>\n",
       "      <td>9392.0</td>\n",
       "      <td>North America</td>\n",
       "      <td>True</td>\n",
       "      <td>🇩🇲</td>\n",
       "      <td>71991</td>\n",
       "      <td>NaN</td>\n",
       "      <td>1113.0</td>\n",
       "      <td>1218.0</td>\n",
       "      <td>1347.0</td>\n",
       "      <td>1495.0</td>\n",
       "      <td>1643.0</td>\n",
       "      <td>1865.0</td>\n",
       "      <td>2103.0</td>\n",
       "      <td>2378.0</td>\n",
       "      <td>2582.0</td>\n",
       "    </tr>\n",
       "    <tr>\n",
       "      <td>Gabon</td>\n",
       "      <td>9257.0</td>\n",
       "      <td>Africa</td>\n",
       "      <td>False</td>\n",
       "      <td>🇬🇦</td>\n",
       "      <td>2346690</td>\n",
       "      <td>6094.0</td>\n",
       "      <td>5377.0</td>\n",
       "      <td>4931.0</td>\n",
       "      <td>4619.0</td>\n",
       "      <td>4346.0</td>\n",
       "      <td>4478.0</td>\n",
       "      <td>5735.0</td>\n",
       "      <td>4246.0</td>\n",
       "      <td>4581.0</td>\n",
       "      <td>4899.0</td>\n",
       "    </tr>\n",
       "    <tr>\n",
       "      <td>Georgia</td>\n",
       "      <td>8883.0</td>\n",
       "      <td>Europe</td>\n",
       "      <td>False</td>\n",
       "      <td>🇬🇪</td>\n",
       "      <td>3645254</td>\n",
       "      <td>NaN</td>\n",
       "      <td>NaN</td>\n",
       "      <td>NaN</td>\n",
       "      <td>NaN</td>\n",
       "      <td>NaN</td>\n",
       "      <td>NaN</td>\n",
       "      <td>NaN</td>\n",
       "      <td>NaN</td>\n",
       "      <td>NaN</td>\n",
       "      <td>NaN</td>\n",
       "    </tr>\n",
       "    <tr>\n",
       "      <td>North Macedonia</td>\n",
       "      <td>8659.0</td>\n",
       "      <td>Europe</td>\n",
       "      <td>True</td>\n",
       "      <td>🇲🇰</td>\n",
       "      <td>2069200</td>\n",
       "      <td>NaN</td>\n",
       "      <td>NaN</td>\n",
       "      <td>NaN</td>\n",
       "      <td>NaN</td>\n",
       "      <td>NaN</td>\n",
       "      <td>NaN</td>\n",
       "      <td>NaN</td>\n",
       "      <td>NaN</td>\n",
       "      <td>NaN</td>\n",
       "      <td>NaN</td>\n",
       "    </tr>\n",
       "    <tr>\n",
       "      <td>Armenia</td>\n",
       "      <td>8518.0</td>\n",
       "      <td>Asia</td>\n",
       "      <td>False</td>\n",
       "      <td>🇦🇲</td>\n",
       "      <td>2880500</td>\n",
       "      <td>NaN</td>\n",
       "      <td>NaN</td>\n",
       "      <td>NaN</td>\n",
       "      <td>NaN</td>\n",
       "      <td>NaN</td>\n",
       "      <td>NaN</td>\n",
       "      <td>NaN</td>\n",
       "      <td>NaN</td>\n",
       "      <td>NaN</td>\n",
       "      <td>NaN</td>\n",
       "    </tr>\n",
       "    <tr>\n",
       "      <td>Peru</td>\n",
       "      <td>8316.0</td>\n",
       "      <td>South America</td>\n",
       "      <td>False</td>\n",
       "      <td>🇵🇪</td>\n",
       "      <td>33902325</td>\n",
       "      <td>1151.0</td>\n",
       "      <td>1356.0</td>\n",
       "      <td>1316.0</td>\n",
       "      <td>999.0</td>\n",
       "      <td>1006.0</td>\n",
       "      <td>851.0</td>\n",
       "      <td>1248.0</td>\n",
       "      <td>2016.0</td>\n",
       "      <td>1560.0</td>\n",
       "      <td>1885.0</td>\n",
       "    </tr>\n",
       "    <tr>\n",
       "      <td>Bosnia and Herzegovina</td>\n",
       "      <td>8221.0</td>\n",
       "      <td>Europe</td>\n",
       "      <td>True</td>\n",
       "      <td>🇧🇦</td>\n",
       "      <td>3289156</td>\n",
       "      <td>NaN</td>\n",
       "      <td>NaN</td>\n",
       "      <td>NaN</td>\n",
       "      <td>NaN</td>\n",
       "      <td>NaN</td>\n",
       "      <td>NaN</td>\n",
       "      <td>NaN</td>\n",
       "      <td>NaN</td>\n",
       "      <td>NaN</td>\n",
       "      <td>NaN</td>\n",
       "    </tr>\n",
       "    <tr>\n",
       "      <td>Belize</td>\n",
       "      <td>8133.0</td>\n",
       "      <td>North America</td>\n",
       "      <td>False</td>\n",
       "      <td>🇧🇿</td>\n",
       "      <td>438336</td>\n",
       "      <td>1485.0</td>\n",
       "      <td>1544.0</td>\n",
       "      <td>1515.0</td>\n",
       "      <td>1553.0</td>\n",
       "      <td>1687.0</td>\n",
       "      <td>1628.0</td>\n",
       "      <td>1724.0</td>\n",
       "      <td>1964.0</td>\n",
       "      <td>2276.0</td>\n",
       "      <td>2557.0</td>\n",
       "    </tr>\n",
       "    <tr>\n",
       "      <td>Equatorial Guinea</td>\n",
       "      <td>8102.0</td>\n",
       "      <td>Africa</td>\n",
       "      <td>False</td>\n",
       "      <td>🇬🇶</td>\n",
       "      <td>1523344</td>\n",
       "      <td>123.0</td>\n",
       "      <td>110.0</td>\n",
       "      <td>121.0</td>\n",
       "      <td>126.0</td>\n",
       "      <td>130.0</td>\n",
       "      <td>206.0</td>\n",
       "      <td>241.0</td>\n",
       "      <td>284.0</td>\n",
       "      <td>297.0</td>\n",
       "      <td>253.0</td>\n",
       "    </tr>\n",
       "    <tr>\n",
       "      <td>Belarus</td>\n",
       "      <td>8008.0</td>\n",
       "      <td>Europe</td>\n",
       "      <td>False</td>\n",
       "      <td>🇧🇾</td>\n",
       "      <td>9389680</td>\n",
       "      <td>NaN</td>\n",
       "      <td>NaN</td>\n",
       "      <td>NaN</td>\n",
       "      <td>NaN</td>\n",
       "      <td>NaN</td>\n",
       "      <td>NaN</td>\n",
       "      <td>NaN</td>\n",
       "      <td>NaN</td>\n",
       "      <td>NaN</td>\n",
       "      <td>NaN</td>\n",
       "    </tr>\n",
       "    <tr>\n",
       "      <td>Colombia</td>\n",
       "      <td>7917.0</td>\n",
       "      <td>South America</td>\n",
       "      <td>False</td>\n",
       "      <td>🇨🇴</td>\n",
       "      <td>53122953</td>\n",
       "      <td>1682.0</td>\n",
       "      <td>1793.0</td>\n",
       "      <td>1879.0</td>\n",
       "      <td>1828.0</td>\n",
       "      <td>1768.0</td>\n",
       "      <td>1624.0</td>\n",
       "      <td>1593.0</td>\n",
       "      <td>1624.0</td>\n",
       "      <td>1715.0</td>\n",
       "      <td>1694.0</td>\n",
       "    </tr>\n",
       "    <tr>\n",
       "      <td>Suriname</td>\n",
       "      <td>7600.0</td>\n",
       "      <td>South America</td>\n",
       "      <td>False</td>\n",
       "      <td>🇸🇷</td>\n",
       "      <td>618040</td>\n",
       "      <td>NaN</td>\n",
       "      <td>NaN</td>\n",
       "      <td>NaN</td>\n",
       "      <td>NaN</td>\n",
       "      <td>NaN</td>\n",
       "      <td>NaN</td>\n",
       "      <td>NaN</td>\n",
       "      <td>NaN</td>\n",
       "      <td>NaN</td>\n",
       "      <td>NaN</td>\n",
       "    </tr>\n",
       "    <tr>\n",
       "      <td>Thailand</td>\n",
       "      <td>7527.0</td>\n",
       "      <td>Asia</td>\n",
       "      <td>False</td>\n",
       "      <td>🇹🇭</td>\n",
       "      <td>71509344</td>\n",
       "      <td>705.0</td>\n",
       "      <td>745.0</td>\n",
       "      <td>767.0</td>\n",
       "      <td>824.0</td>\n",
       "      <td>845.0</td>\n",
       "      <td>772.0</td>\n",
       "      <td>840.0</td>\n",
       "      <td>968.0</td>\n",
       "      <td>1161.0</td>\n",
       "      <td>1338.0</td>\n",
       "    </tr>\n",
       "    <tr>\n",
       "      <td>Jamaica</td>\n",
       "      <td>7487.0</td>\n",
       "      <td>North America</td>\n",
       "      <td>False</td>\n",
       "      <td>🇯🇲</td>\n",
       "      <td>2826710</td>\n",
       "      <td>1214.0</td>\n",
       "      <td>1311.0</td>\n",
       "      <td>1480.0</td>\n",
       "      <td>1289.0</td>\n",
       "      <td>948.0</td>\n",
       "      <td>878.0</td>\n",
       "      <td>1035.0</td>\n",
       "      <td>1159.0</td>\n",
       "      <td>1373.0</td>\n",
       "      <td>1589.0</td>\n",
       "    </tr>\n",
       "    <tr>\n",
       "      <td>Azerbaijan</td>\n",
       "      <td>7381.0</td>\n",
       "      <td>Asia</td>\n",
       "      <td>False</td>\n",
       "      <td>🇦🇿</td>\n",
       "      <td>10217315</td>\n",
       "      <td>NaN</td>\n",
       "      <td>NaN</td>\n",
       "      <td>NaN</td>\n",
       "      <td>NaN</td>\n",
       "      <td>NaN</td>\n",
       "      <td>NaN</td>\n",
       "      <td>NaN</td>\n",
       "      <td>NaN</td>\n",
       "      <td>NaN</td>\n",
       "      <td>NaN</td>\n",
       "    </tr>\n",
       "    <tr>\n",
       "      <td>Moldova</td>\n",
       "      <td>7368.0</td>\n",
       "      <td>Europe</td>\n",
       "      <td>True</td>\n",
       "      <td>🇲🇩</td>\n",
       "      <td>2618378</td>\n",
       "      <td>NaN</td>\n",
       "      <td>NaN</td>\n",
       "      <td>NaN</td>\n",
       "      <td>NaN</td>\n",
       "      <td>NaN</td>\n",
       "      <td>NaN</td>\n",
       "      <td>NaN</td>\n",
       "      <td>NaN</td>\n",
       "      <td>NaN</td>\n",
       "      <td>NaN</td>\n",
       "    </tr>\n",
       "    <tr>\n",
       "      <td>Botswana</td>\n",
       "      <td>7341.0</td>\n",
       "      <td>Africa</td>\n",
       "      <td>False</td>\n",
       "      <td>🇧🇼</td>\n",
       "      <td>2614187</td>\n",
       "      <td>1220.0</td>\n",
       "      <td>1057.0</td>\n",
       "      <td>1075.0</td>\n",
       "      <td>1146.0</td>\n",
       "      <td>1098.0</td>\n",
       "      <td>985.0</td>\n",
       "      <td>1289.0</td>\n",
       "      <td>1948.0</td>\n",
       "      <td>2439.0</td>\n",
       "      <td>2628.0</td>\n",
       "    </tr>\n",
       "    <tr>\n",
       "      <td>Tuvalu</td>\n",
       "      <td>7190.0</td>\n",
       "      <td>Oceania</td>\n",
       "      <td>False</td>\n",
       "      <td>🇹🇻</td>\n",
       "      <td>11192</td>\n",
       "      <td>NaN</td>\n",
       "      <td>NaN</td>\n",
       "      <td>NaN</td>\n",
       "      <td>NaN</td>\n",
       "      <td>NaN</td>\n",
       "      <td>NaN</td>\n",
       "      <td>NaN</td>\n",
       "      <td>NaN</td>\n",
       "      <td>NaN</td>\n",
       "      <td>NaN</td>\n",
       "    </tr>\n",
       "    <tr>\n",
       "      <td>Marshall Islands</td>\n",
       "      <td>6850.0</td>\n",
       "      <td>Oceania</td>\n",
       "      <td>False</td>\n",
       "      <td>🇲🇭</td>\n",
       "      <td>59543</td>\n",
       "      <td>NaN</td>\n",
       "      <td>NaN</td>\n",
       "      <td>NaN</td>\n",
       "      <td>NaN</td>\n",
       "      <td>NaN</td>\n",
       "      <td>NaN</td>\n",
       "      <td>NaN</td>\n",
       "      <td>NaN</td>\n",
       "      <td>NaN</td>\n",
       "      <td>NaN</td>\n",
       "    </tr>\n",
       "    <tr>\n",
       "      <td>Ecuador</td>\n",
       "      <td>6758.0</td>\n",
       "      <td>South America</td>\n",
       "      <td>False</td>\n",
       "      <td>🇪🇨</td>\n",
       "      <td>18533865</td>\n",
       "      <td>2015.0</td>\n",
       "      <td>2006.0</td>\n",
       "      <td>1947.0</td>\n",
       "      <td>1665.0</td>\n",
       "      <td>1725.0</td>\n",
       "      <td>1964.0</td>\n",
       "      <td>1405.0</td>\n",
       "      <td>1280.0</td>\n",
       "      <td>1186.0</td>\n",
       "      <td>1136.0</td>\n",
       "    </tr>\n",
       "    <tr>\n",
       "      <td>Mongolia</td>\n",
       "      <td>6666.0</td>\n",
       "      <td>Asia</td>\n",
       "      <td>False</td>\n",
       "      <td>🇲🇳</td>\n",
       "      <td>3383266</td>\n",
       "      <td>NaN</td>\n",
       "      <td>NaN</td>\n",
       "      <td>NaN</td>\n",
       "      <td>NaN</td>\n",
       "      <td>NaN</td>\n",
       "      <td>NaN</td>\n",
       "      <td>NaN</td>\n",
       "      <td>NaN</td>\n",
       "      <td>NaN</td>\n",
       "      <td>NaN</td>\n",
       "    </tr>\n",
       "    <tr>\n",
       "      <td>Libya</td>\n",
       "      <td>6482.0</td>\n",
       "      <td>Africa</td>\n",
       "      <td>False</td>\n",
       "      <td>🇱🇾</td>\n",
       "      <td>6998130</td>\n",
       "      <td>13450.0</td>\n",
       "      <td>11108.0</td>\n",
       "      <td>10576.0</td>\n",
       "      <td>9671.0</td>\n",
       "      <td>8681.0</td>\n",
       "      <td>8586.0</td>\n",
       "      <td>6734.0</td>\n",
       "      <td>6002.0</td>\n",
       "      <td>5982.0</td>\n",
       "      <td>6070.0</td>\n",
       "    </tr>\n",
       "    <tr>\n",
       "      <td>South Africa</td>\n",
       "      <td>6377.0</td>\n",
       "      <td>Africa</td>\n",
       "      <td>False</td>\n",
       "      <td>🇿🇦</td>\n",
       "      <td>60142978</td>\n",
       "      <td>3075.0</td>\n",
       "      <td>3123.0</td>\n",
       "      <td>2806.0</td>\n",
       "      <td>3063.0</td>\n",
       "      <td>2634.0</td>\n",
       "      <td>1955.0</td>\n",
       "      <td>2176.0</td>\n",
       "      <td>2801.0</td>\n",
       "      <td>2955.0</td>\n",
       "      <td>3004.0</td>\n",
       "    </tr>\n",
       "    <tr>\n",
       "      <td>Kosovo</td>\n",
       "      <td>6334.0</td>\n",
       "      <td>Europe</td>\n",
       "      <td>True</td>\n",
       "      <td>🇽🇰</td>\n",
       "      <td>1831000</td>\n",
       "      <td>NaN</td>\n",
       "      <td>NaN</td>\n",
       "      <td>NaN</td>\n",
       "      <td>NaN</td>\n",
       "      <td>NaN</td>\n",
       "      <td>NaN</td>\n",
       "      <td>NaN</td>\n",
       "      <td>NaN</td>\n",
       "      <td>NaN</td>\n",
       "      <td>NaN</td>\n",
       "    </tr>\n",
       "    <tr>\n",
       "      <td>Guatemala</td>\n",
       "      <td>6295.0</td>\n",
       "      <td>North America</td>\n",
       "      <td>False</td>\n",
       "      <td>🇬🇹</td>\n",
       "      <td>19544020</td>\n",
       "      <td>1096.0</td>\n",
       "      <td>1167.0</td>\n",
       "      <td>1153.0</td>\n",
       "      <td>1167.0</td>\n",
       "      <td>1191.0</td>\n",
       "      <td>1370.0</td>\n",
       "      <td>722.0</td>\n",
       "      <td>816.0</td>\n",
       "      <td>862.0</td>\n",
       "      <td>969.0</td>\n",
       "    </tr>\n",
       "    <tr>\n",
       "      <td>Fiji</td>\n",
       "      <td>6257.0</td>\n",
       "      <td>Oceania</td>\n",
       "      <td>False</td>\n",
       "      <td>🇫🇯</td>\n",
       "      <td>929460</td>\n",
       "      <td>2056.0</td>\n",
       "      <td>2062.0</td>\n",
       "      <td>1942.0</td>\n",
       "      <td>1781.0</td>\n",
       "      <td>1829.0</td>\n",
       "      <td>1744.0</td>\n",
       "      <td>1954.0</td>\n",
       "      <td>1777.0</td>\n",
       "      <td>1672.0</td>\n",
       "      <td>1747.0</td>\n",
       "    </tr>\n",
       "    <tr>\n",
       "      <td>Iraq</td>\n",
       "      <td>5947.0</td>\n",
       "      <td>Asia</td>\n",
       "      <td>False</td>\n",
       "      <td>🇮🇶</td>\n",
       "      <td>44096020</td>\n",
       "      <td>NaN</td>\n",
       "      <td>NaN</td>\n",
       "      <td>NaN</td>\n",
       "      <td>NaN</td>\n",
       "      <td>NaN</td>\n",
       "      <td>NaN</td>\n",
       "      <td>NaN</td>\n",
       "      <td>NaN</td>\n",
       "      <td>NaN</td>\n",
       "      <td>NaN</td>\n",
       "    </tr>\n",
       "    <tr>\n",
       "      <td>Paraguay</td>\n",
       "      <td>5869.0</td>\n",
       "      <td>South America</td>\n",
       "      <td>False</td>\n",
       "      <td>🇵🇾</td>\n",
       "      <td>7290024</td>\n",
       "      <td>1300.0</td>\n",
       "      <td>1608.0</td>\n",
       "      <td>1637.0</td>\n",
       "      <td>1763.0</td>\n",
       "      <td>1391.0</td>\n",
       "      <td>1154.0</td>\n",
       "      <td>1336.0</td>\n",
       "      <td>1085.0</td>\n",
       "      <td>1392.0</td>\n",
       "      <td>978.0</td>\n",
       "    </tr>\n",
       "    <tr>\n",
       "      <td>El Salvador</td>\n",
       "      <td>5607.0</td>\n",
       "      <td>North America</td>\n",
       "      <td>False</td>\n",
       "      <td>🇸🇻</td>\n",
       "      <td>6499630</td>\n",
       "      <td>807.0</td>\n",
       "      <td>703.0</td>\n",
       "      <td>689.0</td>\n",
       "      <td>656.0</td>\n",
       "      <td>477.0</td>\n",
       "      <td>460.0</td>\n",
       "      <td>458.0</td>\n",
       "      <td>461.0</td>\n",
       "      <td>530.0</td>\n",
       "      <td>597.0</td>\n",
       "    </tr>\n",
       "    <tr>\n",
       "      <td>Algeria</td>\n",
       "      <td>5579.0</td>\n",
       "      <td>Africa</td>\n",
       "      <td>False</td>\n",
       "      <td>🇩🇿</td>\n",
       "      <td>45783440</td>\n",
       "      <td>2462.0</td>\n",
       "      <td>2502.0</td>\n",
       "      <td>2447.0</td>\n",
       "      <td>2514.0</td>\n",
       "      <td>2640.0</td>\n",
       "      <td>2989.0</td>\n",
       "      <td>2929.0</td>\n",
       "      <td>2936.0</td>\n",
       "      <td>2327.0</td>\n",
       "      <td>2309.0</td>\n",
       "    </tr>\n",
       "    <tr>\n",
       "      <td>Ukraine</td>\n",
       "      <td>5505.0</td>\n",
       "      <td>Europe</td>\n",
       "      <td>True</td>\n",
       "      <td>🇺🇦</td>\n",
       "      <td>36740000</td>\n",
       "      <td>NaN</td>\n",
       "      <td>NaN</td>\n",
       "      <td>NaN</td>\n",
       "      <td>NaN</td>\n",
       "      <td>NaN</td>\n",
       "      <td>NaN</td>\n",
       "      <td>NaN</td>\n",
       "      <td>NaN</td>\n",
       "      <td>NaN</td>\n",
       "      <td>NaN</td>\n",
       "    </tr>\n",
       "    <tr>\n",
       "      <td>Iran</td>\n",
       "      <td>5300.0</td>\n",
       "      <td>Asia</td>\n",
       "      <td>False</td>\n",
       "      <td>🇮🇷</td>\n",
       "      <td>88683850</td>\n",
       "      <td>2439.0</td>\n",
       "      <td>2486.0</td>\n",
       "      <td>2966.0</td>\n",
       "      <td>3560.0</td>\n",
       "      <td>3531.0</td>\n",
       "      <td>3794.0</td>\n",
       "      <td>4225.0</td>\n",
       "      <td>5468.0</td>\n",
       "      <td>6009.0</td>\n",
       "      <td>7134.0</td>\n",
       "    </tr>\n",
       "    <tr>\n",
       "      <td>Micronesia</td>\n",
       "      <td>5120.0</td>\n",
       "      <td>Oceania</td>\n",
       "      <td>False</td>\n",
       "      <td>🇫🇲</td>\n",
       "      <td>116486</td>\n",
       "      <td>NaN</td>\n",
       "      <td>NaN</td>\n",
       "      <td>NaN</td>\n",
       "      <td>NaN</td>\n",
       "      <td>NaN</td>\n",
       "      <td>NaN</td>\n",
       "      <td>NaN</td>\n",
       "      <td>NaN</td>\n",
       "      <td>NaN</td>\n",
       "      <td>NaN</td>\n",
       "    </tr>\n",
       "    <tr>\n",
       "      <td>Samoa</td>\n",
       "      <td>5048.0</td>\n",
       "      <td>Oceania</td>\n",
       "      <td>False</td>\n",
       "      <td>🇼🇸</td>\n",
       "      <td>215052</td>\n",
       "      <td>NaN</td>\n",
       "      <td>NaN</td>\n",
       "      <td>NaN</td>\n",
       "      <td>NaN</td>\n",
       "      <td>NaN</td>\n",
       "      <td>NaN</td>\n",
       "      <td>NaN</td>\n",
       "      <td>NaN</td>\n",
       "      <td>NaN</td>\n",
       "      <td>NaN</td>\n",
       "    </tr>\n",
       "    <tr>\n",
       "      <td>Indonesia</td>\n",
       "      <td>4981.0</td>\n",
       "      <td>Asia</td>\n",
       "      <td>False</td>\n",
       "      <td>🇮🇩</td>\n",
       "      <td>276361783</td>\n",
       "      <td>673.0</td>\n",
       "      <td>737.0</td>\n",
       "      <td>742.0</td>\n",
       "      <td>659.0</td>\n",
       "      <td>672.0</td>\n",
       "      <td>658.0</td>\n",
       "      <td>610.0</td>\n",
       "      <td>563.0</td>\n",
       "      <td>622.0</td>\n",
       "      <td>697.0</td>\n",
       "    </tr>\n",
       "    <tr>\n",
       "      <td>Tonga</td>\n",
       "      <td>4858.0</td>\n",
       "      <td>Oceania</td>\n",
       "      <td>False</td>\n",
       "      <td>🇹🇴</td>\n",
       "      <td>108225</td>\n",
       "      <td>770.0</td>\n",
       "      <td>851.0</td>\n",
       "      <td>843.0</td>\n",
       "      <td>818.0</td>\n",
       "      <td>854.0</td>\n",
       "      <td>803.0</td>\n",
       "      <td>959.0</td>\n",
       "      <td>1037.0</td>\n",
       "      <td>1213.0</td>\n",
       "      <td>1461.0</td>\n",
       "    </tr>\n",
       "    <tr>\n",
       "      <td>Cape Verde</td>\n",
       "      <td>4790.0</td>\n",
       "      <td>Africa</td>\n",
       "      <td>False</td>\n",
       "      <td>🇨🇻</td>\n",
       "      <td>593599</td>\n",
       "      <td>569.0</td>\n",
       "      <td>550.0</td>\n",
       "      <td>522.0</td>\n",
       "      <td>494.0</td>\n",
       "      <td>494.0</td>\n",
       "      <td>542.0</td>\n",
       "      <td>685.0</td>\n",
       "      <td>836.0</td>\n",
       "      <td>997.0</td>\n",
       "      <td>1007.0</td>\n",
       "    </tr>\n",
       "    <tr>\n",
       "      <td>Jordan</td>\n",
       "      <td>4682.0</td>\n",
       "      <td>Asia</td>\n",
       "      <td>False</td>\n",
       "      <td>🇯🇴</td>\n",
       "      <td>11048024</td>\n",
       "      <td>1774.0</td>\n",
       "      <td>1915.0</td>\n",
       "      <td>1959.0</td>\n",
       "      <td>1970.0</td>\n",
       "      <td>1902.0</td>\n",
       "      <td>1829.0</td>\n",
       "      <td>2238.0</td>\n",
       "      <td>2253.0</td>\n",
       "      <td>2016.0</td>\n",
       "      <td>1292.0</td>\n",
       "    </tr>\n",
       "    <tr>\n",
       "      <td>Vietnam</td>\n",
       "      <td>4649.0</td>\n",
       "      <td>Asia</td>\n",
       "      <td>False</td>\n",
       "      <td>🇻🇳</td>\n",
       "      <td>99600310</td>\n",
       "      <td>653.0</td>\n",
       "      <td>319.0</td>\n",
       "      <td>414.0</td>\n",
       "      <td>613.0</td>\n",
       "      <td>1044.0</td>\n",
       "      <td>319.0</td>\n",
       "      <td>706.0</td>\n",
       "      <td>857.0</td>\n",
       "      <td>465.0</td>\n",
       "      <td>123.0</td>\n",
       "    </tr>\n",
       "    <tr>\n",
       "      <td>Lebanon</td>\n",
       "      <td>4487.0</td>\n",
       "      <td>Asia</td>\n",
       "      <td>False</td>\n",
       "      <td>🇱🇧</td>\n",
       "      <td>5486745</td>\n",
       "      <td>1356.0</td>\n",
       "      <td>1269.0</td>\n",
       "      <td>854.0</td>\n",
       "      <td>1162.0</td>\n",
       "      <td>1349.0</td>\n",
       "      <td>1105.0</td>\n",
       "      <td>840.0</td>\n",
       "      <td>960.0</td>\n",
       "      <td>946.0</td>\n",
       "      <td>761.0</td>\n",
       "    </tr>\n",
       "    <tr>\n",
       "      <td>Namibia</td>\n",
       "      <td>4410.0</td>\n",
       "      <td>Africa</td>\n",
       "      <td>False</td>\n",
       "      <td>🇳🇦</td>\n",
       "      <td>2538917</td>\n",
       "      <td>NaN</td>\n",
       "      <td>NaN</td>\n",
       "      <td>NaN</td>\n",
       "      <td>NaN</td>\n",
       "      <td>NaN</td>\n",
       "      <td>NaN</td>\n",
       "      <td>NaN</td>\n",
       "      <td>NaN</td>\n",
       "      <td>NaN</td>\n",
       "      <td>NaN</td>\n",
       "    </tr>\n",
       "    <tr>\n",
       "      <td>Eswatini</td>\n",
       "      <td>4375.0</td>\n",
       "      <td>Africa</td>\n",
       "      <td>False</td>\n",
       "      <td>🇸🇿</td>\n",
       "      <td>1216618</td>\n",
       "      <td>1330.0</td>\n",
       "      <td>1359.0</td>\n",
       "      <td>1174.0</td>\n",
       "      <td>1167.0</td>\n",
       "      <td>964.0</td>\n",
       "      <td>736.0</td>\n",
       "      <td>910.0</td>\n",
       "      <td>1150.0</td>\n",
       "      <td>1321.0</td>\n",
       "      <td>1306.0</td>\n",
       "    </tr>\n",
       "    <tr>\n",
       "      <td>Tunisia</td>\n",
       "      <td>4267.0</td>\n",
       "      <td>Africa</td>\n",
       "      <td>False</td>\n",
       "      <td>🇹🇳</td>\n",
       "      <td>12629477</td>\n",
       "      <td>1483.0</td>\n",
       "      <td>1390.0</td>\n",
       "      <td>1310.0</td>\n",
       "      <td>1323.0</td>\n",
       "      <td>1287.0</td>\n",
       "      <td>1272.0</td>\n",
       "      <td>1312.0</td>\n",
       "      <td>1382.0</td>\n",
       "      <td>1412.0</td>\n",
       "      <td>1386.0</td>\n",
       "    </tr>\n",
       "    <tr>\n",
       "      <td>Morocco</td>\n",
       "      <td>4204.0</td>\n",
       "      <td>Africa</td>\n",
       "      <td>False</td>\n",
       "      <td>🇲🇦</td>\n",
       "      <td>38071287</td>\n",
       "      <td>1225.0</td>\n",
       "      <td>969.0</td>\n",
       "      <td>954.0</td>\n",
       "      <td>842.0</td>\n",
       "      <td>752.0</td>\n",
       "      <td>742.0</td>\n",
       "      <td>957.0</td>\n",
       "      <td>1031.0</td>\n",
       "      <td>1193.0</td>\n",
       "      <td>1200.0</td>\n",
       "    </tr>\n",
       "    <tr>\n",
       "      <td>Djibouti</td>\n",
       "      <td>4155.0</td>\n",
       "      <td>Africa</td>\n",
       "      <td>False</td>\n",
       "      <td>🇩🇯</td>\n",
       "      <td>1067651</td>\n",
       "      <td>NaN</td>\n",
       "      <td>NaN</td>\n",
       "      <td>NaN</td>\n",
       "      <td>NaN</td>\n",
       "      <td>NaN</td>\n",
       "      <td>NaN</td>\n",
       "      <td>NaN</td>\n",
       "      <td>NaN</td>\n",
       "      <td>NaN</td>\n",
       "      <td>NaN</td>\n",
       "    </tr>\n",
       "    <tr>\n",
       "      <td>Philippines</td>\n",
       "      <td>4154.0</td>\n",
       "      <td>Asia</td>\n",
       "      <td>False</td>\n",
       "      <td>🇵🇭</td>\n",
       "      <td>118147347</td>\n",
       "      <td>774.0</td>\n",
       "      <td>830.0</td>\n",
       "      <td>843.0</td>\n",
       "      <td>736.0</td>\n",
       "      <td>678.0</td>\n",
       "      <td>646.0</td>\n",
       "      <td>615.0</td>\n",
       "      <td>667.0</td>\n",
       "      <td>744.0</td>\n",
       "      <td>817.0</td>\n",
       "    </tr>\n",
       "    <tr>\n",
       "      <td>Bhutan</td>\n",
       "      <td>4068.0</td>\n",
       "      <td>Asia</td>\n",
       "      <td>False</td>\n",
       "      <td>🇧🇹</td>\n",
       "      <td>782455</td>\n",
       "      <td>324.0</td>\n",
       "      <td>341.0</td>\n",
       "      <td>350.0</td>\n",
       "      <td>369.0</td>\n",
       "      <td>373.0</td>\n",
       "      <td>375.0</td>\n",
       "      <td>411.0</td>\n",
       "      <td>481.0</td>\n",
       "      <td>534.0</td>\n",
       "      <td>520.0</td>\n",
       "    </tr>\n",
       "    <tr>\n",
       "      <td>Venezuela</td>\n",
       "      <td>4019.0</td>\n",
       "      <td>South America</td>\n",
       "      <td>False</td>\n",
       "      <td>🇻🇪</td>\n",
       "      <td>30770584</td>\n",
       "      <td>4671.0</td>\n",
       "      <td>5086.0</td>\n",
       "      <td>5042.0</td>\n",
       "      <td>4883.0</td>\n",
       "      <td>3447.0</td>\n",
       "      <td>3472.0</td>\n",
       "      <td>3489.0</td>\n",
       "      <td>2619.0</td>\n",
       "      <td>3293.0</td>\n",
       "      <td>2378.0</td>\n",
       "    </tr>\n",
       "    <tr>\n",
       "      <td>Bolivia</td>\n",
       "      <td>3920.0</td>\n",
       "      <td>South America</td>\n",
       "      <td>False</td>\n",
       "      <td>🇧🇴</td>\n",
       "      <td>12713735</td>\n",
       "      <td>696.0</td>\n",
       "      <td>616.0</td>\n",
       "      <td>669.0</td>\n",
       "      <td>620.0</td>\n",
       "      <td>631.0</td>\n",
       "      <td>669.0</td>\n",
       "      <td>641.0</td>\n",
       "      <td>684.0</td>\n",
       "      <td>712.0</td>\n",
       "      <td>716.0</td>\n",
       "    </tr>\n",
       "    <tr>\n",
       "      <td>Egypt</td>\n",
       "      <td>3542.0</td>\n",
       "      <td>Africa</td>\n",
       "      <td>False</td>\n",
       "      <td>🇪🇬</td>\n",
       "      <td>110228123</td>\n",
       "      <td>580.0</td>\n",
       "      <td>618.0</td>\n",
       "      <td>711.0</td>\n",
       "      <td>846.0</td>\n",
       "      <td>926.0</td>\n",
       "      <td>1049.0</td>\n",
       "      <td>1132.0</td>\n",
       "      <td>1585.0</td>\n",
       "      <td>1858.0</td>\n",
       "      <td>2266.0</td>\n",
       "    </tr>\n",
       "    <tr>\n",
       "      <td>Honduras</td>\n",
       "      <td>3446.0</td>\n",
       "      <td>North America</td>\n",
       "      <td>False</td>\n",
       "      <td>🇭🇳</td>\n",
       "      <td>10363772</td>\n",
       "      <td>1080.0</td>\n",
       "      <td>1067.0</td>\n",
       "      <td>1092.0</td>\n",
       "      <td>1111.0</td>\n",
       "      <td>1183.0</td>\n",
       "      <td>1232.0</td>\n",
       "      <td>1287.0</td>\n",
       "      <td>1362.0</td>\n",
       "      <td>1469.0</td>\n",
       "      <td>1636.0</td>\n",
       "    </tr>\n",
       "    <tr>\n",
       "      <td>São Tomé and Príncipe</td>\n",
       "      <td>3425.0</td>\n",
       "      <td>Africa</td>\n",
       "      <td>False</td>\n",
       "      <td>🇸🇹</td>\n",
       "      <td>238812</td>\n",
       "      <td>776.0</td>\n",
       "      <td>931.0</td>\n",
       "      <td>876.0</td>\n",
       "      <td>800.0</td>\n",
       "      <td>813.0</td>\n",
       "      <td>838.0</td>\n",
       "      <td>1143.0</td>\n",
       "      <td>1112.0</td>\n",
       "      <td>923.0</td>\n",
       "      <td>892.0</td>\n",
       "    </tr>\n",
       "    <tr>\n",
       "      <td>Vanuatu</td>\n",
       "      <td>3387.0</td>\n",
       "      <td>Oceania</td>\n",
       "      <td>False</td>\n",
       "      <td>🇻🇺</td>\n",
       "      <td>333508</td>\n",
       "      <td>1054.0</td>\n",
       "      <td>956.0</td>\n",
       "      <td>931.0</td>\n",
       "      <td>932.0</td>\n",
       "      <td>1111.0</td>\n",
       "      <td>977.0</td>\n",
       "      <td>919.0</td>\n",
       "      <td>989.0</td>\n",
       "      <td>1092.0</td>\n",
       "      <td>1055.0</td>\n",
       "    </tr>\n",
       "    <tr>\n",
       "      <td>Uzbekistan</td>\n",
       "      <td>3051.0</td>\n",
       "      <td>Asia</td>\n",
       "      <td>False</td>\n",
       "      <td>🇺🇿</td>\n",
       "      <td>36624303</td>\n",
       "      <td>NaN</td>\n",
       "      <td>NaN</td>\n",
       "      <td>NaN</td>\n",
       "      <td>NaN</td>\n",
       "      <td>NaN</td>\n",
       "      <td>NaN</td>\n",
       "      <td>NaN</td>\n",
       "      <td>NaN</td>\n",
       "      <td>NaN</td>\n",
       "      <td>NaN</td>\n",
       "    </tr>\n",
       "    <tr>\n",
       "      <td>Angola</td>\n",
       "      <td>2961.0</td>\n",
       "      <td>Africa</td>\n",
       "      <td>False</td>\n",
       "      <td>🇦🇴</td>\n",
       "      <td>36871284</td>\n",
       "      <td>1055.0</td>\n",
       "      <td>962.0</td>\n",
       "      <td>937.0</td>\n",
       "      <td>952.0</td>\n",
       "      <td>983.0</td>\n",
       "      <td>1074.0</td>\n",
       "      <td>978.0</td>\n",
       "      <td>1090.0</td>\n",
       "      <td>1151.0</td>\n",
       "      <td>1303.0</td>\n",
       "    </tr>\n",
       "    <tr>\n",
       "      <td>Nicaragua</td>\n",
       "      <td>2878.0</td>\n",
       "      <td>North America</td>\n",
       "      <td>False</td>\n",
       "      <td>🇳🇮</td>\n",
       "      <td>6937015</td>\n",
       "      <td>NaN</td>\n",
       "      <td>NaN</td>\n",
       "      <td>NaN</td>\n",
       "      <td>NaN</td>\n",
       "      <td>NaN</td>\n",
       "      <td>NaN</td>\n",
       "      <td>NaN</td>\n",
       "      <td>NaN</td>\n",
       "      <td>NaN</td>\n",
       "      <td>NaN</td>\n",
       "    </tr>\n",
       "    <tr>\n",
       "      <td>Cambodia</td>\n",
       "      <td>2744.0</td>\n",
       "      <td>Asia</td>\n",
       "      <td>False</td>\n",
       "      <td>🇰🇭</td>\n",
       "      <td>16938736</td>\n",
       "      <td>NaN</td>\n",
       "      <td>NaN</td>\n",
       "      <td>NaN</td>\n",
       "      <td>NaN</td>\n",
       "      <td>NaN</td>\n",
       "      <td>NaN</td>\n",
       "      <td>27.0</td>\n",
       "      <td>18.0</td>\n",
       "      <td>34.0</td>\n",
       "      <td>41.0</td>\n",
       "    </tr>\n",
       "    <tr>\n",
       "      <td>Ivory Coast</td>\n",
       "      <td>2720.0</td>\n",
       "      <td>Africa</td>\n",
       "      <td>False</td>\n",
       "      <td>🇨🇮</td>\n",
       "      <td>28648558</td>\n",
       "      <td>1765.0</td>\n",
       "      <td>1430.0</td>\n",
       "      <td>1235.0</td>\n",
       "      <td>1061.0</td>\n",
       "      <td>1029.0</td>\n",
       "      <td>1010.0</td>\n",
       "      <td>1301.0</td>\n",
       "      <td>1378.0</td>\n",
       "      <td>1380.0</td>\n",
       "      <td>1269.0</td>\n",
       "    </tr>\n",
       "    <tr>\n",
       "      <td>India</td>\n",
       "      <td>2698.0</td>\n",
       "      <td>Asia</td>\n",
       "      <td>False</td>\n",
       "      <td>🇮🇳</td>\n",
       "      <td>1428627663</td>\n",
       "      <td>267.0</td>\n",
       "      <td>271.0</td>\n",
       "      <td>274.0</td>\n",
       "      <td>293.0</td>\n",
       "      <td>278.0</td>\n",
       "      <td>299.0</td>\n",
       "      <td>311.0</td>\n",
       "      <td>342.0</td>\n",
       "      <td>353.0</td>\n",
       "      <td>347.0</td>\n",
       "    </tr>\n",
       "    <tr>\n",
       "      <td>Bangladesh</td>\n",
       "      <td>2625.0</td>\n",
       "      <td>Asia</td>\n",
       "      <td>False</td>\n",
       "      <td>🇧🇩</td>\n",
       "      <td>173707768</td>\n",
       "      <td>311.0</td>\n",
       "      <td>322.0</td>\n",
       "      <td>294.0</td>\n",
       "      <td>277.0</td>\n",
       "      <td>303.0</td>\n",
       "      <td>318.0</td>\n",
       "      <td>318.0</td>\n",
       "      <td>339.0</td>\n",
       "      <td>356.0</td>\n",
       "      <td>378.0</td>\n",
       "    </tr>\n",
       "    <tr>\n",
       "      <td>Papua New Guinea</td>\n",
       "      <td>2544.0</td>\n",
       "      <td>Oceania</td>\n",
       "      <td>False</td>\n",
       "      <td>🇵🇬</td>\n",
       "      <td>10131828</td>\n",
       "      <td>1381.0</td>\n",
       "      <td>1319.0</td>\n",
       "      <td>1223.0</td>\n",
       "      <td>1195.0</td>\n",
       "      <td>1080.0</td>\n",
       "      <td>976.0</td>\n",
       "      <td>1040.0</td>\n",
       "      <td>1160.0</td>\n",
       "      <td>1565.0</td>\n",
       "      <td>1455.0</td>\n",
       "    </tr>\n",
       "    <tr>\n",
       "      <td>Kiribati</td>\n",
       "      <td>2455.0</td>\n",
       "      <td>Oceania</td>\n",
       "      <td>False</td>\n",
       "      <td>🇰🇮</td>\n",
       "      <td>125648</td>\n",
       "      <td>568.0</td>\n",
       "      <td>591.0</td>\n",
       "      <td>527.0</td>\n",
       "      <td>511.0</td>\n",
       "      <td>556.0</td>\n",
       "      <td>410.0</td>\n",
       "      <td>398.0</td>\n",
       "      <td>441.0</td>\n",
       "      <td>558.0</td>\n",
       "      <td>535.0</td>\n",
       "    </tr>\n",
       "    <tr>\n",
       "      <td>Congo</td>\n",
       "      <td>2384.0</td>\n",
       "      <td>Africa</td>\n",
       "      <td>False</td>\n",
       "      <td>🇨🇬</td>\n",
       "      <td>6279431</td>\n",
       "      <td>1268.0</td>\n",
       "      <td>1009.0</td>\n",
       "      <td>853.0</td>\n",
       "      <td>752.0</td>\n",
       "      <td>671.0</td>\n",
       "      <td>668.0</td>\n",
       "      <td>886.0</td>\n",
       "      <td>1044.0</td>\n",
       "      <td>1077.0</td>\n",
       "      <td>1071.0</td>\n",
       "    </tr>\n",
       "    <tr>\n",
       "      <td>Mauritania</td>\n",
       "      <td>2376.0</td>\n",
       "      <td>Africa</td>\n",
       "      <td>False</td>\n",
       "      <td>🇲🇷</td>\n",
       "      <td>4769446</td>\n",
       "      <td>NaN</td>\n",
       "      <td>NaN</td>\n",
       "      <td>NaN</td>\n",
       "      <td>NaN</td>\n",
       "      <td>NaN</td>\n",
       "      <td>NaN</td>\n",
       "      <td>NaN</td>\n",
       "      <td>NaN</td>\n",
       "      <td>NaN</td>\n",
       "      <td>NaN</td>\n",
       "    </tr>\n",
       "    <tr>\n",
       "      <td>Ghana</td>\n",
       "      <td>2232.0</td>\n",
       "      <td>Africa</td>\n",
       "      <td>False</td>\n",
       "      <td>🇬🇭</td>\n",
       "      <td>34737269</td>\n",
       "      <td>3489.0</td>\n",
       "      <td>5537.0</td>\n",
       "      <td>6272.0</td>\n",
       "      <td>4114.0</td>\n",
       "      <td>1392.0</td>\n",
       "      <td>1213.0</td>\n",
       "      <td>1094.0</td>\n",
       "      <td>895.0</td>\n",
       "      <td>930.0</td>\n",
       "      <td>924.0</td>\n",
       "    </tr>\n",
       "    <tr>\n",
       "      <td>Kyrgyzstan</td>\n",
       "      <td>2229.0</td>\n",
       "      <td>Asia</td>\n",
       "      <td>False</td>\n",
       "      <td>🇰🇬</td>\n",
       "      <td>6731837</td>\n",
       "      <td>NaN</td>\n",
       "      <td>NaN</td>\n",
       "      <td>NaN</td>\n",
       "      <td>NaN</td>\n",
       "      <td>NaN</td>\n",
       "      <td>NaN</td>\n",
       "      <td>NaN</td>\n",
       "      <td>NaN</td>\n",
       "      <td>NaN</td>\n",
       "      <td>NaN</td>\n",
       "    </tr>\n",
       "    <tr>\n",
       "      <td>Kenya</td>\n",
       "      <td>2218.0</td>\n",
       "      <td>Africa</td>\n",
       "      <td>False</td>\n",
       "      <td>🇰🇪</td>\n",
       "      <td>55554998</td>\n",
       "      <td>855.0</td>\n",
       "      <td>777.0</td>\n",
       "      <td>722.0</td>\n",
       "      <td>644.0</td>\n",
       "      <td>647.0</td>\n",
       "      <td>623.0</td>\n",
       "      <td>717.0</td>\n",
       "      <td>758.0</td>\n",
       "      <td>759.0</td>\n",
       "      <td>728.0</td>\n",
       "    </tr>\n",
       "    <tr>\n",
       "      <td>Solomon Islands</td>\n",
       "      <td>2209.0</td>\n",
       "      <td>Oceania</td>\n",
       "      <td>False</td>\n",
       "      <td>🇸🇧</td>\n",
       "      <td>740854</td>\n",
       "      <td>793.0</td>\n",
       "      <td>813.0</td>\n",
       "      <td>783.0</td>\n",
       "      <td>712.0</td>\n",
       "      <td>691.0</td>\n",
       "      <td>611.0</td>\n",
       "      <td>529.0</td>\n",
       "      <td>541.0</td>\n",
       "      <td>598.0</td>\n",
       "      <td>570.0</td>\n",
       "    </tr>\n",
       "    <tr>\n",
       "      <td>Haiti</td>\n",
       "      <td>2120.0</td>\n",
       "      <td>North America</td>\n",
       "      <td>False</td>\n",
       "      <td>🇭🇹</td>\n",
       "      <td>12237657</td>\n",
       "      <td>448.0</td>\n",
       "      <td>484.0</td>\n",
       "      <td>495.0</td>\n",
       "      <td>522.0</td>\n",
       "      <td>568.0</td>\n",
       "      <td>619.0</td>\n",
       "      <td>676.0</td>\n",
       "      <td>327.0</td>\n",
       "      <td>213.0</td>\n",
       "      <td>193.0</td>\n",
       "    </tr>\n",
       "    <tr>\n",
       "      <td>Zimbabwe</td>\n",
       "      <td>2114.0</td>\n",
       "      <td>Africa</td>\n",
       "      <td>False</td>\n",
       "      <td>🇿🇼</td>\n",
       "      <td>16150362</td>\n",
       "      <td>NaN</td>\n",
       "      <td>NaN</td>\n",
       "      <td>NaN</td>\n",
       "      <td>NaN</td>\n",
       "      <td>NaN</td>\n",
       "      <td>NaN</td>\n",
       "      <td>NaN</td>\n",
       "      <td>NaN</td>\n",
       "      <td>NaN</td>\n",
       "      <td>NaN</td>\n",
       "    </tr>\n",
       "    <tr>\n",
       "      <td>Laos</td>\n",
       "      <td>1945.0</td>\n",
       "      <td>Asia</td>\n",
       "      <td>False</td>\n",
       "      <td>🇱🇦</td>\n",
       "      <td>7691210</td>\n",
       "      <td>585.0</td>\n",
       "      <td>335.0</td>\n",
       "      <td>328.0</td>\n",
       "      <td>585.0</td>\n",
       "      <td>815.0</td>\n",
       "      <td>998.0</td>\n",
       "      <td>678.0</td>\n",
       "      <td>465.0</td>\n",
       "      <td>294.0</td>\n",
       "      <td>353.0</td>\n",
       "    </tr>\n",
       "    <tr>\n",
       "      <td>Cameroon</td>\n",
       "      <td>1821.0</td>\n",
       "      <td>Africa</td>\n",
       "      <td>False</td>\n",
       "      <td>🇨🇲</td>\n",
       "      <td>28583827</td>\n",
       "      <td>1005.0</td>\n",
       "      <td>1106.0</td>\n",
       "      <td>1032.0</td>\n",
       "      <td>1012.0</td>\n",
       "      <td>1042.0</td>\n",
       "      <td>1060.0</td>\n",
       "      <td>1345.0</td>\n",
       "      <td>1514.0</td>\n",
       "      <td>1494.0</td>\n",
       "      <td>1293.0</td>\n",
       "    </tr>\n",
       "    <tr>\n",
       "      <td>Senegal</td>\n",
       "      <td>1805.0</td>\n",
       "      <td>Africa</td>\n",
       "      <td>False</td>\n",
       "      <td>🇸🇳</td>\n",
       "      <td>18067670</td>\n",
       "      <td>768.0</td>\n",
       "      <td>678.0</td>\n",
       "      <td>645.0</td>\n",
       "      <td>560.0</td>\n",
       "      <td>530.0</td>\n",
       "      <td>563.0</td>\n",
       "      <td>773.0</td>\n",
       "      <td>902.0</td>\n",
       "      <td>866.0</td>\n",
       "      <td>828.0</td>\n",
       "    </tr>\n",
       "    <tr>\n",
       "      <td>Guinea</td>\n",
       "      <td>1652.0</td>\n",
       "      <td>Africa</td>\n",
       "      <td>False</td>\n",
       "      <td>🇬🇳</td>\n",
       "      <td>13963169</td>\n",
       "      <td>NaN</td>\n",
       "      <td>NaN</td>\n",
       "      <td>NaN</td>\n",
       "      <td>NaN</td>\n",
       "      <td>NaN</td>\n",
       "      <td>NaN</td>\n",
       "      <td>NaN</td>\n",
       "      <td>NaN</td>\n",
       "      <td>NaN</td>\n",
       "      <td>NaN</td>\n",
       "    </tr>\n",
       "    <tr>\n",
       "      <td>Comoros</td>\n",
       "      <td>1630.0</td>\n",
       "      <td>Africa</td>\n",
       "      <td>False</td>\n",
       "      <td>🇰🇲</td>\n",
       "      <td>865329</td>\n",
       "      <td>722.0</td>\n",
       "      <td>617.0</td>\n",
       "      <td>571.0</td>\n",
       "      <td>542.0</td>\n",
       "      <td>517.0</td>\n",
       "      <td>511.0</td>\n",
       "      <td>669.0</td>\n",
       "      <td>789.0</td>\n",
       "      <td>824.0</td>\n",
       "      <td>783.0</td>\n",
       "    </tr>\n",
       "    <tr>\n",
       "      <td>Pakistan</td>\n",
       "      <td>1588.0</td>\n",
       "      <td>Asia</td>\n",
       "      <td>False</td>\n",
       "      <td>🇵🇰</td>\n",
       "      <td>248261481</td>\n",
       "      <td>479.0</td>\n",
       "      <td>550.0</td>\n",
       "      <td>584.0</td>\n",
       "      <td>530.0</td>\n",
       "      <td>560.0</td>\n",
       "      <td>545.0</td>\n",
       "      <td>544.0</td>\n",
       "      <td>553.0</td>\n",
       "      <td>621.0</td>\n",
       "      <td>631.0</td>\n",
       "    </tr>\n",
       "    <tr>\n",
       "      <td>Benin</td>\n",
       "      <td>1510.0</td>\n",
       "      <td>Africa</td>\n",
       "      <td>False</td>\n",
       "      <td>🇧🇯</td>\n",
       "      <td>13607484</td>\n",
       "      <td>614.0</td>\n",
       "      <td>401.0</td>\n",
       "      <td>386.0</td>\n",
       "      <td>331.0</td>\n",
       "      <td>342.0</td>\n",
       "      <td>359.0</td>\n",
       "      <td>448.0</td>\n",
       "      <td>519.0</td>\n",
       "      <td>528.0</td>\n",
       "      <td>476.0</td>\n",
       "    </tr>\n",
       "    <tr>\n",
       "      <td>East Timor</td>\n",
       "      <td>1454.0</td>\n",
       "      <td>Asia</td>\n",
       "      <td>False</td>\n",
       "      <td>🇹🇱</td>\n",
       "      <td>1391293</td>\n",
       "      <td>NaN</td>\n",
       "      <td>NaN</td>\n",
       "      <td>NaN</td>\n",
       "      <td>NaN</td>\n",
       "      <td>NaN</td>\n",
       "      <td>NaN</td>\n",
       "      <td>NaN</td>\n",
       "      <td>NaN</td>\n",
       "      <td>NaN</td>\n",
       "      <td>NaN</td>\n",
       "    </tr>\n",
       "    <tr>\n",
       "      <td>Nepal</td>\n",
       "      <td>1381.0</td>\n",
       "      <td>Asia</td>\n",
       "      <td>False</td>\n",
       "      <td>🇳🇵</td>\n",
       "      <td>30575612</td>\n",
       "      <td>144.0</td>\n",
       "      <td>165.0</td>\n",
       "      <td>163.0</td>\n",
       "      <td>174.0</td>\n",
       "      <td>180.0</td>\n",
       "      <td>183.0</td>\n",
       "      <td>195.0</td>\n",
       "      <td>198.0</td>\n",
       "      <td>228.0</td>\n",
       "      <td>225.0</td>\n",
       "    </tr>\n",
       "    <tr>\n",
       "      <td>Ethiopia</td>\n",
       "      <td>1350.0</td>\n",
       "      <td>Africa</td>\n",
       "      <td>False</td>\n",
       "      <td>🇪🇹</td>\n",
       "      <td>127719825</td>\n",
       "      <td>228.0</td>\n",
       "      <td>228.0</td>\n",
       "      <td>233.0</td>\n",
       "      <td>251.0</td>\n",
       "      <td>230.0</td>\n",
       "      <td>261.0</td>\n",
       "      <td>262.0</td>\n",
       "      <td>272.0</td>\n",
       "      <td>272.0</td>\n",
       "      <td>277.0</td>\n",
       "    </tr>\n",
       "    <tr>\n",
       "      <td>Tajikistan</td>\n",
       "      <td>1276.0</td>\n",
       "      <td>Asia</td>\n",
       "      <td>False</td>\n",
       "      <td>🇹🇯</td>\n",
       "      <td>10626354</td>\n",
       "      <td>NaN</td>\n",
       "      <td>NaN</td>\n",
       "      <td>NaN</td>\n",
       "      <td>NaN</td>\n",
       "      <td>NaN</td>\n",
       "      <td>NaN</td>\n",
       "      <td>NaN</td>\n",
       "      <td>NaN</td>\n",
       "      <td>NaN</td>\n",
       "      <td>NaN</td>\n",
       "    </tr>\n",
       "    <tr>\n",
       "      <td>Zambia</td>\n",
       "      <td>1226.0</td>\n",
       "      <td>Africa</td>\n",
       "      <td>False</td>\n",
       "      <td>🇿🇲</td>\n",
       "      <td>20373819</td>\n",
       "      <td>765.0</td>\n",
       "      <td>765.0</td>\n",
       "      <td>715.0</td>\n",
       "      <td>599.0</td>\n",
       "      <td>477.0</td>\n",
       "      <td>439.0</td>\n",
       "      <td>294.0</td>\n",
       "      <td>354.0</td>\n",
       "      <td>578.0</td>\n",
       "      <td>598.0</td>\n",
       "    </tr>\n",
       "    <tr>\n",
       "      <td>Tanzania</td>\n",
       "      <td>1224.0</td>\n",
       "      <td>Africa</td>\n",
       "      <td>False</td>\n",
       "      <td>🇹🇿</td>\n",
       "      <td>67454879</td>\n",
       "      <td>603.0</td>\n",
       "      <td>699.0</td>\n",
       "      <td>778.0</td>\n",
       "      <td>773.0</td>\n",
       "      <td>682.0</td>\n",
       "      <td>597.0</td>\n",
       "      <td>732.0</td>\n",
       "      <td>350.0</td>\n",
       "      <td>325.0</td>\n",
       "      <td>271.0</td>\n",
       "    </tr>\n",
       "    <tr>\n",
       "      <td>Uganda</td>\n",
       "      <td>1187.0</td>\n",
       "      <td>Africa</td>\n",
       "      <td>False</td>\n",
       "      <td>🇺🇬</td>\n",
       "      <td>47703835</td>\n",
       "      <td>665.0</td>\n",
       "      <td>1044.0</td>\n",
       "      <td>703.0</td>\n",
       "      <td>780.0</td>\n",
       "      <td>581.0</td>\n",
       "      <td>514.0</td>\n",
       "      <td>495.0</td>\n",
       "      <td>769.0</td>\n",
       "      <td>768.0</td>\n",
       "      <td>600.0</td>\n",
       "    </tr>\n",
       "    <tr>\n",
       "      <td>Myanmar</td>\n",
       "      <td>1179.0</td>\n",
       "      <td>Asia</td>\n",
       "      <td>False</td>\n",
       "      <td>🇲🇲</td>\n",
       "      <td>54507280</td>\n",
       "      <td>NaN</td>\n",
       "      <td>NaN</td>\n",
       "      <td>NaN</td>\n",
       "      <td>NaN</td>\n",
       "      <td>NaN</td>\n",
       "      <td>NaN</td>\n",
       "      <td>NaN</td>\n",
       "      <td>NaN</td>\n",
       "      <td>NaN</td>\n",
       "      <td>NaN</td>\n",
       "    </tr>\n",
       "    <tr>\n",
       "      <td>Guinea-Bissau</td>\n",
       "      <td>1106.0</td>\n",
       "      <td>Africa</td>\n",
       "      <td>False</td>\n",
       "      <td>🇬🇼</td>\n",
       "      <td>2187988</td>\n",
       "      <td>370.0</td>\n",
       "      <td>464.0</td>\n",
       "      <td>517.0</td>\n",
       "      <td>571.0</td>\n",
       "      <td>389.0</td>\n",
       "      <td>559.0</td>\n",
       "      <td>535.0</td>\n",
       "      <td>445.0</td>\n",
       "      <td>406.0</td>\n",
       "      <td>478.0</td>\n",
       "    </tr>\n",
       "    <tr>\n",
       "      <td>Lesotho</td>\n",
       "      <td>1062.0</td>\n",
       "      <td>Africa</td>\n",
       "      <td>False</td>\n",
       "      <td>🇱🇸</td>\n",
       "      <td>2292683</td>\n",
       "      <td>334.0</td>\n",
       "      <td>331.0</td>\n",
       "      <td>268.0</td>\n",
       "      <td>290.0</td>\n",
       "      <td>265.0</td>\n",
       "      <td>207.0</td>\n",
       "      <td>233.0</td>\n",
       "      <td>291.0</td>\n",
       "      <td>324.0</td>\n",
       "      <td>329.0</td>\n",
       "    </tr>\n",
       "    <tr>\n",
       "      <td>Togo</td>\n",
       "      <td>1051.0</td>\n",
       "      <td>Africa</td>\n",
       "      <td>False</td>\n",
       "      <td>🇹🇬</td>\n",
       "      <td>8701744</td>\n",
       "      <td>707.0</td>\n",
       "      <td>568.0</td>\n",
       "      <td>462.0</td>\n",
       "      <td>426.0</td>\n",
       "      <td>378.0</td>\n",
       "      <td>384.0</td>\n",
       "      <td>522.0</td>\n",
       "      <td>594.0</td>\n",
       "      <td>642.0</td>\n",
       "      <td>612.0</td>\n",
       "    </tr>\n",
       "    <tr>\n",
       "      <td>Chad</td>\n",
       "      <td>1013.0</td>\n",
       "      <td>Africa</td>\n",
       "      <td>False</td>\n",
       "      <td>🇹🇩</td>\n",
       "      <td>18823540</td>\n",
       "      <td>223.0</td>\n",
       "      <td>258.0</td>\n",
       "      <td>244.0</td>\n",
       "      <td>238.0</td>\n",
       "      <td>249.0</td>\n",
       "      <td>263.0</td>\n",
       "      <td>314.0</td>\n",
       "      <td>345.0</td>\n",
       "      <td>391.0</td>\n",
       "      <td>358.0</td>\n",
       "    </tr>\n",
       "    <tr>\n",
       "      <td>Gambia</td>\n",
       "      <td>989.0</td>\n",
       "      <td>Africa</td>\n",
       "      <td>False</td>\n",
       "      <td>🇬🇲</td>\n",
       "      <td>2722177</td>\n",
       "      <td>1008.0</td>\n",
       "      <td>908.0</td>\n",
       "      <td>828.0</td>\n",
       "      <td>801.0</td>\n",
       "      <td>553.0</td>\n",
       "      <td>646.0</td>\n",
       "      <td>484.0</td>\n",
       "      <td>624.0</td>\n",
       "      <td>695.0</td>\n",
       "      <td>702.0</td>\n",
       "    </tr>\n",
       "    <tr>\n",
       "      <td>Rwanda</td>\n",
       "      <td>986.0</td>\n",
       "      <td>Africa</td>\n",
       "      <td>False</td>\n",
       "      <td>🇷🇼</td>\n",
       "      <td>14467997</td>\n",
       "      <td>293.0</td>\n",
       "      <td>321.0</td>\n",
       "      <td>330.0</td>\n",
       "      <td>339.0</td>\n",
       "      <td>317.0</td>\n",
       "      <td>365.0</td>\n",
       "      <td>399.0</td>\n",
       "      <td>428.0</td>\n",
       "      <td>443.0</td>\n",
       "      <td>447.0</td>\n",
       "    </tr>\n",
       "    <tr>\n",
       "      <td>Burkina Faso</td>\n",
       "      <td>908.0</td>\n",
       "      <td>Africa</td>\n",
       "      <td>False</td>\n",
       "      <td>🇧🇫</td>\n",
       "      <td>22875991</td>\n",
       "      <td>339.0</td>\n",
       "      <td>288.0</td>\n",
       "      <td>262.0</td>\n",
       "      <td>233.0</td>\n",
       "      <td>203.0</td>\n",
       "      <td>219.0</td>\n",
       "      <td>279.0</td>\n",
       "      <td>316.0</td>\n",
       "      <td>340.0</td>\n",
       "      <td>331.0</td>\n",
       "    </tr>\n",
       "    <tr>\n",
       "      <td>Mali</td>\n",
       "      <td>898.0</td>\n",
       "      <td>Africa</td>\n",
       "      <td>False</td>\n",
       "      <td>🇲🇱</td>\n",
       "      <td>24578325</td>\n",
       "      <td>275.0</td>\n",
       "      <td>220.0</td>\n",
       "      <td>191.0</td>\n",
       "      <td>180.0</td>\n",
       "      <td>176.0</td>\n",
       "      <td>174.0</td>\n",
       "      <td>238.0</td>\n",
       "      <td>272.0</td>\n",
       "      <td>269.0</td>\n",
       "      <td>322.0</td>\n",
       "    </tr>\n",
       "    <tr>\n",
       "      <td>Nigeria</td>\n",
       "      <td>877.0</td>\n",
       "      <td>Africa</td>\n",
       "      <td>False</td>\n",
       "      <td>🇳🇬</td>\n",
       "      <td>223804632</td>\n",
       "      <td>NaN</td>\n",
       "      <td>NaN</td>\n",
       "      <td>NaN</td>\n",
       "      <td>NaN</td>\n",
       "      <td>NaN</td>\n",
       "      <td>NaN</td>\n",
       "      <td>NaN</td>\n",
       "      <td>NaN</td>\n",
       "      <td>NaN</td>\n",
       "      <td>NaN</td>\n",
       "    </tr>\n",
       "    <tr>\n",
       "      <td>Sierra Leone</td>\n",
       "      <td>856.0</td>\n",
       "      <td>Africa</td>\n",
       "      <td>False</td>\n",
       "      <td>🇸🇱</td>\n",
       "      <td>9189792</td>\n",
       "      <td>764.0</td>\n",
       "      <td>799.0</td>\n",
       "      <td>880.0</td>\n",
       "      <td>747.0</td>\n",
       "      <td>860.0</td>\n",
       "      <td>717.0</td>\n",
       "      <td>525.0</td>\n",
       "      <td>448.0</td>\n",
       "      <td>719.0</td>\n",
       "      <td>645.0</td>\n",
       "    </tr>\n",
       "    <tr>\n",
       "      <td>Liberia</td>\n",
       "      <td>855.0</td>\n",
       "      <td>Africa</td>\n",
       "      <td>False</td>\n",
       "      <td>🇱🇷</td>\n",
       "      <td>5503604</td>\n",
       "      <td>NaN</td>\n",
       "      <td>NaN</td>\n",
       "      <td>NaN</td>\n",
       "      <td>NaN</td>\n",
       "      <td>NaN</td>\n",
       "      <td>NaN</td>\n",
       "      <td>NaN</td>\n",
       "      <td>NaN</td>\n",
       "      <td>NaN</td>\n",
       "      <td>NaN</td>\n",
       "    </tr>\n",
       "    <tr>\n",
       "      <td>Somalia</td>\n",
       "      <td>771.0</td>\n",
       "      <td>Africa</td>\n",
       "      <td>False</td>\n",
       "      <td>🇸🇴</td>\n",
       "      <td>18041815</td>\n",
       "      <td>NaN</td>\n",
       "      <td>NaN</td>\n",
       "      <td>NaN</td>\n",
       "      <td>NaN</td>\n",
       "      <td>NaN</td>\n",
       "      <td>NaN</td>\n",
       "      <td>NaN</td>\n",
       "      <td>NaN</td>\n",
       "      <td>NaN</td>\n",
       "      <td>NaN</td>\n",
       "    </tr>\n",
       "    <tr>\n",
       "      <td>DR Congo</td>\n",
       "      <td>702.0</td>\n",
       "      <td>Africa</td>\n",
       "      <td>False</td>\n",
       "      <td>🇨🇩</td>\n",
       "      <td>108407721</td>\n",
       "      <td>2731.0</td>\n",
       "      <td>2301.0</td>\n",
       "      <td>2422.0</td>\n",
       "      <td>1891.0</td>\n",
       "      <td>1222.0</td>\n",
       "      <td>1081.0</td>\n",
       "      <td>1174.0</td>\n",
       "      <td>1076.0</td>\n",
       "      <td>1207.0</td>\n",
       "      <td>1189.0</td>\n",
       "    </tr>\n",
       "    <tr>\n",
       "      <td>Niger</td>\n",
       "      <td>698.0</td>\n",
       "      <td>Africa</td>\n",
       "      <td>False</td>\n",
       "      <td>🇳🇪</td>\n",
       "      <td>28478351</td>\n",
       "      <td>609.0</td>\n",
       "      <td>510.0</td>\n",
       "      <td>458.0</td>\n",
       "      <td>396.0</td>\n",
       "      <td>310.0</td>\n",
       "      <td>296.0</td>\n",
       "      <td>379.0</td>\n",
       "      <td>430.0</td>\n",
       "      <td>426.0</td>\n",
       "      <td>395.0</td>\n",
       "    </tr>\n",
       "    <tr>\n",
       "      <td>Mozambique</td>\n",
       "      <td>645.0</td>\n",
       "      <td>Africa</td>\n",
       "      <td>False</td>\n",
       "      <td>🇲🇿</td>\n",
       "      <td>35277379</td>\n",
       "      <td>397.0</td>\n",
       "      <td>301.0</td>\n",
       "      <td>300.0</td>\n",
       "      <td>264.0</td>\n",
       "      <td>270.0</td>\n",
       "      <td>354.0</td>\n",
       "      <td>414.0</td>\n",
       "      <td>187.0</td>\n",
       "      <td>165.0</td>\n",
       "      <td>172.0</td>\n",
       "    </tr>\n",
       "    <tr>\n",
       "      <td>Sudan</td>\n",
       "      <td>606.0</td>\n",
       "      <td>Africa</td>\n",
       "      <td>False</td>\n",
       "      <td>🇸🇩</td>\n",
       "      <td>49446220</td>\n",
       "      <td>487.0</td>\n",
       "      <td>339.0</td>\n",
       "      <td>240.0</td>\n",
       "      <td>319.0</td>\n",
       "      <td>375.0</td>\n",
       "      <td>253.0</td>\n",
       "      <td>329.0</td>\n",
       "      <td>517.0</td>\n",
       "      <td>405.0</td>\n",
       "      <td>696.0</td>\n",
       "    </tr>\n",
       "    <tr>\n",
       "      <td>Madagascar</td>\n",
       "      <td>563.0</td>\n",
       "      <td>Africa</td>\n",
       "      <td>False</td>\n",
       "      <td>🇲🇬</td>\n",
       "      <td>29865747</td>\n",
       "      <td>599.0</td>\n",
       "      <td>534.0</td>\n",
       "      <td>523.0</td>\n",
       "      <td>499.0</td>\n",
       "      <td>405.0</td>\n",
       "      <td>384.0</td>\n",
       "      <td>427.0</td>\n",
       "      <td>308.0</td>\n",
       "      <td>297.0</td>\n",
       "      <td>288.0</td>\n",
       "    </tr>\n",
       "    <tr>\n",
       "      <td>Central African Republic</td>\n",
       "      <td>529.0</td>\n",
       "      <td>Africa</td>\n",
       "      <td>False</td>\n",
       "      <td>🇨🇫</td>\n",
       "      <td>5481790</td>\n",
       "      <td>322.0</td>\n",
       "      <td>325.0</td>\n",
       "      <td>307.0</td>\n",
       "      <td>287.0</td>\n",
       "      <td>273.0</td>\n",
       "      <td>349.0</td>\n",
       "      <td>443.0</td>\n",
       "      <td>478.0</td>\n",
       "      <td>506.0</td>\n",
       "      <td>486.0</td>\n",
       "    </tr>\n",
       "    <tr>\n",
       "      <td>Yemen</td>\n",
       "      <td>465.0</td>\n",
       "      <td>Asia</td>\n",
       "      <td>False</td>\n",
       "      <td>🇾🇪</td>\n",
       "      <td>33812252</td>\n",
       "      <td>NaN</td>\n",
       "      <td>NaN</td>\n",
       "      <td>NaN</td>\n",
       "      <td>NaN</td>\n",
       "      <td>NaN</td>\n",
       "      <td>NaN</td>\n",
       "      <td>NaN</td>\n",
       "      <td>NaN</td>\n",
       "      <td>NaN</td>\n",
       "      <td>NaN</td>\n",
       "    </tr>\n",
       "    <tr>\n",
       "      <td>Malawi</td>\n",
       "      <td>464.0</td>\n",
       "      <td>Africa</td>\n",
       "      <td>False</td>\n",
       "      <td>🇲🇼</td>\n",
       "      <td>21164628</td>\n",
       "      <td>460.0</td>\n",
       "      <td>448.0</td>\n",
       "      <td>416.0</td>\n",
       "      <td>420.0</td>\n",
       "      <td>400.0</td>\n",
       "      <td>359.0</td>\n",
       "      <td>354.0</td>\n",
       "      <td>328.0</td>\n",
       "      <td>355.0</td>\n",
       "      <td>384.0</td>\n",
       "    </tr>\n",
       "    <tr>\n",
       "      <td>South Sudan</td>\n",
       "      <td>341.0</td>\n",
       "      <td>Africa</td>\n",
       "      <td>False</td>\n",
       "      <td>🇸🇸</td>\n",
       "      <td>12924732</td>\n",
       "      <td>NaN</td>\n",
       "      <td>NaN</td>\n",
       "      <td>NaN</td>\n",
       "      <td>NaN</td>\n",
       "      <td>NaN</td>\n",
       "      <td>NaN</td>\n",
       "      <td>NaN</td>\n",
       "      <td>NaN</td>\n",
       "      <td>NaN</td>\n",
       "      <td>NaN</td>\n",
       "    </tr>\n",
       "    <tr>\n",
       "      <td>Burundi</td>\n",
       "      <td>321.0</td>\n",
       "      <td>Africa</td>\n",
       "      <td>False</td>\n",
       "      <td>🇧🇮</td>\n",
       "      <td>13306768</td>\n",
       "      <td>232.0</td>\n",
       "      <td>235.0</td>\n",
       "      <td>241.0</td>\n",
       "      <td>248.0</td>\n",
       "      <td>219.0</td>\n",
       "      <td>248.0</td>\n",
       "      <td>253.0</td>\n",
       "      <td>232.0</td>\n",
       "      <td>211.0</td>\n",
       "      <td>213.0</td>\n",
       "    </tr>\n",
       "  </tbody>\n",
       "</table>\n",
       "    </div>\n",
       "    "
      ],
      "text/plain": [
       "<IPython.core.display.HTML object>"
      ]
     },
     "metadata": {},
     "output_type": "display_data"
    }
   ],
   "source": [
    "import pandas as pd\n",
    "from IPython.display import display, HTML\n",
    "\n",
    "# Load the two CSV files\n",
    "d_gdp_per_capita = pd.read_csv(\"d_gdp_per_capita.csv\")\n",
    "d_gdp_per_capita_history = pd.read_csv(\"d_gdp_per_capita_history.csv\")\n",
    "\n",
    "# Join the two DataFrames on the 'Country' column\n",
    "d_gdp_per_capita_merged = pd.merge(d_gdp_per_capita, d_gdp_per_capita_history, on=\"Country\", how=\"inner\")\n",
    "\n",
    "# Display the merged data as a fully scrollable table\n",
    "def display_full_scrollable_table(dataframe):\n",
    "    # Convert the DataFrame to HTML with full content\n",
    "    html = dataframe.to_html(index=False, escape=False)\n",
    "    # Add scrollable styling\n",
    "    styled_html = f\"\"\"\n",
    "    <div style=\"overflow-y: scroll; max-height: 500px; border: 1px solid #ccc; padding: 10px;\">\n",
    "        {html}\n",
    "    </div>\n",
    "    \"\"\"\n",
    "    display(HTML(styled_html))\n",
    "\n",
    "# Call the function to display the merged data\n",
    "display_full_scrollable_table(d_gdp_per_capita_merged)\n"
   ]
  },
  {
   "cell_type": "code",
   "execution_count": 25,
   "metadata": {},
   "outputs": [
    {
     "data": {
      "application/vnd.plotly.v1+json": {
       "config": {
        "plotlyServerURL": "https://plot.ly"
       },
       "data": [
        {
         "hoverinfo": "text",
         "hovertemplate": "x=%{x}<br>y=%{y}<br>text=%{text}<extra></extra>",
         "legendgroup": "",
         "marker": {
          "color": "#470945",
          "symbol": "circle"
         },
         "mode": "markers+text",
         "name": "",
         "orientation": "v",
         "showlegend": false,
         "text": [
          "🇱🇺"
         ],
         "textfont": {
          "size": 50
         },
         "textposition": "middle center",
         "type": "scatter",
         "x": [
          135321
         ],
         "xaxis": "x",
         "y": [
          645397
         ],
         "yaxis": "y"
        },
        {
         "hoverinfo": "text",
         "hovertemplate": "x=%{x}<br>y=%{y}<br>text=%{text}<extra></extra>",
         "legendgroup": "",
         "marker": {
          "color": "#470945",
          "symbol": "circle"
         },
         "mode": "markers+text",
         "name": "",
         "orientation": "v",
         "showlegend": false,
         "text": [
          "🇨🇭"
         ],
         "textfont": {
          "size": 50
         },
         "textposition": "middle center",
         "type": "scatter",
         "x": [
          106098
         ],
         "xaxis": "x",
         "y": [
          8758971
         ],
         "yaxis": "y"
        },
        {
         "hoverinfo": "text",
         "hovertemplate": "x=%{x}<br>y=%{y}<br>text=%{text}<extra></extra>",
         "legendgroup": "",
         "marker": {
          "color": "#470945",
          "symbol": "circle"
         },
         "mode": "markers+text",
         "name": "",
         "orientation": "v",
         "showlegend": false,
         "text": [
          "🇮🇪"
         ],
         "textfont": {
          "size": 50
         },
         "textposition": "middle center",
         "type": "scatter",
         "x": [
          103500
         ],
         "xaxis": "x",
         "y": [
          5093520
         ],
         "yaxis": "y"
        },
        {
         "hoverinfo": "text",
         "hovertemplate": "x=%{x}<br>y=%{y}<br>text=%{text}<extra></extra>",
         "legendgroup": "",
         "marker": {
          "color": "#470945",
          "symbol": "circle"
         },
         "mode": "markers+text",
         "name": "",
         "orientation": "v",
         "showlegend": false,
         "text": [
          "🇳🇴"
         ],
         "textfont": {
          "size": 50
         },
         "textposition": "middle center",
         "type": "scatter",
         "x": [
          90434
         ],
         "xaxis": "x",
         "y": [
          5432701
         ],
         "yaxis": "y"
        },
        {
         "hoverinfo": "text",
         "hovertemplate": "x=%{x}<br>y=%{y}<br>text=%{text}<extra></extra>",
         "legendgroup": "",
         "marker": {
          "color": "#470945",
          "symbol": "circle"
         },
         "mode": "markers+text",
         "name": "",
         "orientation": "v",
         "showlegend": false,
         "text": [
          "🇸🇬"
         ],
         "textfont": {
          "size": 50
         },
         "textposition": "middle center",
         "type": "scatter",
         "x": [
          89370
         ],
         "xaxis": "x",
         "y": [
          5847649
         ],
         "yaxis": "y"
        },
        {
         "hoverinfo": "text",
         "hovertemplate": "x=%{x}<br>y=%{y}<br>text=%{text}<extra></extra>",
         "legendgroup": "",
         "marker": {
          "color": "#470945",
          "symbol": "circle"
         },
         "mode": "markers+text",
         "name": "",
         "orientation": "v",
         "showlegend": false,
         "text": [
          "🇺🇸"
         ],
         "textfont": {
          "size": 50
         },
         "textposition": "middle center",
         "type": "scatter",
         "x": [
          86601
         ],
         "xaxis": "x",
         "y": [
          332403650
         ],
         "yaxis": "y"
        },
        {
         "hoverinfo": "text",
         "hovertemplate": "x=%{x}<br>y=%{y}<br>text=%{text}<extra></extra>",
         "legendgroup": "",
         "marker": {
          "color": "#470945",
          "symbol": "circle"
         },
         "mode": "markers+text",
         "name": "",
         "orientation": "v",
         "showlegend": false,
         "text": [
          "🇮🇸"
         ],
         "textfont": {
          "size": 50
         },
         "textposition": "middle center",
         "type": "scatter",
         "x": [
          85787
         ],
         "xaxis": "x",
         "y": [
          375318
         ],
         "yaxis": "y"
        },
        {
         "hoverinfo": "text",
         "hovertemplate": "x=%{x}<br>y=%{y}<br>text=%{text}<extra></extra>",
         "legendgroup": "",
         "marker": {
          "color": "#470945",
          "symbol": "circle"
         },
         "mode": "markers+text",
         "name": "",
         "orientation": "v",
         "showlegend": false,
         "text": [
          "🇲🇴"
         ],
         "textfont": {
          "size": 50
         },
         "textposition": "middle center",
         "type": "scatter",
         "x": [
          77186
         ],
         "xaxis": "x",
         "y": [
          682100
         ],
         "yaxis": "y"
        },
        {
         "hoverinfo": "text",
         "hovertemplate": "x=%{x}<br>y=%{y}<br>text=%{text}<extra></extra>",
         "legendgroup": "",
         "marker": {
          "color": "#470945",
          "symbol": "circle"
         },
         "mode": "markers+text",
         "name": "",
         "orientation": "v",
         "showlegend": false,
         "text": [
          "🇶🇦"
         ],
         "textfont": {
          "size": 50
         },
         "textposition": "middle center",
         "type": "scatter",
         "x": [
          71568
         ],
         "xaxis": "x",
         "y": [
          2889287
         ],
         "yaxis": "y"
        },
        {
         "hoverinfo": "text",
         "hovertemplate": "x=%{x}<br>y=%{y}<br>text=%{text}<extra></extra>",
         "legendgroup": "",
         "marker": {
          "color": "#470945",
          "symbol": "circle"
         },
         "mode": "markers+text",
         "name": "",
         "orientation": "v",
         "showlegend": false,
         "text": [
          "🇩🇰"
         ],
         "textfont": {
          "size": 50
         },
         "textposition": "middle center",
         "type": "scatter",
         "x": [
          69273
         ],
         "xaxis": "x",
         "y": [
          5860707
         ],
         "yaxis": "y"
        },
        {
         "hoverinfo": "text",
         "hovertemplate": "x=%{x}<br>y=%{y}<br>text=%{text}<extra></extra>",
         "legendgroup": "",
         "marker": {
          "color": "#470945",
          "symbol": "circle"
         },
         "mode": "markers+text",
         "name": "",
         "orientation": "v",
         "showlegend": false,
         "text": [
          "🇳🇱"
         ],
         "textfont": {
          "size": 50
         },
         "textposition": "middle center",
         "type": "scatter",
         "x": [
          67984
         ],
         "xaxis": "x",
         "y": [
          17665602
         ],
         "yaxis": "y"
        },
        {
         "hoverinfo": "text",
         "hovertemplate": "x=%{x}<br>y=%{y}<br>text=%{text}<extra></extra>",
         "legendgroup": "",
         "marker": {
          "color": "#470945",
          "symbol": "circle"
         },
         "mode": "markers+text",
         "name": "",
         "orientation": "v",
         "showlegend": false,
         "text": [
          "🇦🇺"
         ],
         "textfont": {
          "size": 50
         },
         "textposition": "middle center",
         "type": "scatter",
         "x": [
          65966
         ],
         "xaxis": "x",
         "y": [
          26160180
         ],
         "yaxis": "y"
        },
        {
         "hoverinfo": "text",
         "hovertemplate": "x=%{x}<br>y=%{y}<br>text=%{text}<extra></extra>",
         "legendgroup": "",
         "marker": {
          "color": "#470945",
          "symbol": "circle"
         },
         "mode": "markers+text",
         "name": "",
         "orientation": "v",
         "showlegend": false,
         "text": [
          "🇸🇲"
         ],
         "textfont": {
          "size": 50
         },
         "textposition": "middle center",
         "type": "scatter",
         "x": [
          59841
         ],
         "xaxis": "x",
         "y": [
          34471
         ],
         "yaxis": "y"
        },
        {
         "hoverinfo": "text",
         "hovertemplate": "x=%{x}<br>y=%{y}<br>text=%{text}<extra></extra>",
         "legendgroup": "",
         "marker": {
          "color": "#470945",
          "symbol": "circle"
         },
         "mode": "markers+text",
         "name": "",
         "orientation": "v",
         "showlegend": false,
         "text": [
          "🇦🇹"
         ],
         "textfont": {
          "size": 50
         },
         "textposition": "middle center",
         "type": "scatter",
         "x": [
          58669
         ],
         "xaxis": "x",
         "y": [
          9093950
         ],
         "yaxis": "y"
        },
        {
         "hoverinfo": "text",
         "hovertemplate": "x=%{x}<br>y=%{y}<br>text=%{text}<extra></extra>",
         "legendgroup": "",
         "marker": {
          "color": "#470945",
          "symbol": "circle"
         },
         "mode": "markers+text",
         "name": "",
         "orientation": "v",
         "showlegend": false,
         "text": [
          "🇸🇪"
         ],
         "textfont": {
          "size": 50
         },
         "textposition": "middle center",
         "type": "scatter",
         "x": [
          57213
         ],
         "xaxis": "x",
         "y": [
          10468138
         ],
         "yaxis": "y"
        },
        {
         "hoverinfo": "text",
         "hovertemplate": "x=%{x}<br>y=%{y}<br>text=%{text}<extra></extra>",
         "legendgroup": "",
         "marker": {
          "color": "#470945",
          "symbol": "circle"
         },
         "mode": "markers+text",
         "name": "",
         "orientation": "v",
         "showlegend": false,
         "text": [
          "🇧🇪"
         ],
         "textfont": {
          "size": 50
         },
         "textposition": "middle center",
         "type": "scatter",
         "x": [
          56129
         ],
         "xaxis": "x",
         "y": [
          11592625
         ],
         "yaxis": "y"
        },
        {
         "hoverinfo": "text",
         "hovertemplate": "x=%{x}<br>y=%{y}<br>text=%{text}<extra></extra>",
         "legendgroup": "",
         "marker": {
          "color": "#470945",
          "symbol": "circle"
         },
         "mode": "markers+text",
         "name": "",
         "orientation": "v",
         "showlegend": false,
         "text": [
          "🇩🇪"
         ],
         "textfont": {
          "size": 50
         },
         "textposition": "middle center",
         "type": "scatter",
         "x": [
          55521
         ],
         "xaxis": "x",
         "y": [
          83149300
         ],
         "yaxis": "y"
        },
        {
         "hoverinfo": "text",
         "hovertemplate": "x=%{x}<br>y=%{y}<br>text=%{text}<extra></extra>",
         "legendgroup": "",
         "marker": {
          "color": "#470945",
          "symbol": "circle"
         },
         "mode": "markers+text",
         "name": "",
         "orientation": "v",
         "showlegend": false,
         "text": [
          "🇫🇮"
         ],
         "textfont": {
          "size": 50
         },
         "textposition": "middle center",
         "type": "scatter",
         "x": [
          54774
         ],
         "xaxis": "x",
         "y": [
          5536190
         ],
         "yaxis": "y"
        },
        {
         "hoverinfo": "text",
         "hovertemplate": "x=%{x}<br>y=%{y}<br>text=%{text}<extra></extra>",
         "legendgroup": "",
         "marker": {
          "color": "#470945",
          "symbol": "circle"
         },
         "mode": "markers+text",
         "name": "",
         "orientation": "v",
         "showlegend": false,
         "text": [
          "🇨🇦"
         ],
         "textfont": {
          "size": 50
         },
         "textposition": "middle center",
         "type": "scatter",
         "x": [
          53834
         ],
         "xaxis": "x",
         "y": [
          38418619
         ],
         "yaxis": "y"
        },
        {
         "hoverinfo": "text",
         "hovertemplate": "x=%{x}<br>y=%{y}<br>text=%{text}<extra></extra>",
         "legendgroup": "",
         "marker": {
          "color": "#470945",
          "symbol": "circle"
         },
         "mode": "markers+text",
         "name": "",
         "orientation": "v",
         "showlegend": false,
         "text": [
          "🇭🇰"
         ],
         "textfont": {
          "size": 50
         },
         "textposition": "middle center",
         "type": "scatter",
         "x": [
          53165
         ],
         "xaxis": "x",
         "y": [
          7431021
         ],
         "yaxis": "y"
        },
        {
         "hoverinfo": "text",
         "hovertemplate": "x=%{x}<br>y=%{y}<br>text=%{text}<extra></extra>",
         "legendgroup": "",
         "marker": {
          "color": "#470945",
          "symbol": "circle"
         },
         "mode": "markers+text",
         "name": "",
         "orientation": "v",
         "showlegend": false,
         "text": [
          "🇮🇱"
         ],
         "textfont": {
          "size": 50
         },
         "textposition": "middle center",
         "type": "scatter",
         "x": [
          53111
         ],
         "xaxis": "x",
         "y": [
          9845500
         ],
         "yaxis": "y"
        },
        {
         "hoverinfo": "text",
         "hovertemplate": "x=%{x}<br>y=%{y}<br>text=%{text}<extra></extra>",
         "legendgroup": "",
         "marker": {
          "color": "#470945",
          "symbol": "circle"
         },
         "mode": "markers+text",
         "name": "",
         "orientation": "v",
         "showlegend": false,
         "text": [
          "🇬🇧"
         ],
         "textfont": {
          "size": 50
         },
         "textposition": "middle center",
         "type": "scatter",
         "x": [
          52423
         ],
         "xaxis": "x",
         "y": [
          67322169
         ],
         "yaxis": "y"
        },
        {
         "hoverinfo": "text",
         "hovertemplate": "x=%{x}<br>y=%{y}<br>text=%{text}<extra></extra>",
         "legendgroup": "",
         "marker": {
          "color": "#470945",
          "symbol": "circle"
         },
         "mode": "markers+text",
         "name": "",
         "orientation": "v",
         "showlegend": false,
         "text": [
          "🇦🇪"
         ],
         "textfont": {
          "size": 50
         },
         "textposition": "middle center",
         "type": "scatter",
         "x": [
          49550
         ],
         "xaxis": "x",
         "y": [
          9948395
         ],
         "yaxis": "y"
        },
        {
         "hoverinfo": "text",
         "hovertemplate": "x=%{x}<br>y=%{y}<br>text=%{text}<extra></extra>",
         "legendgroup": "",
         "marker": {
          "color": "#470945",
          "symbol": "circle"
         },
         "mode": "markers+text",
         "name": "",
         "orientation": "v",
         "showlegend": false,
         "text": [
          "🇫🇷"
         ],
         "textfont": {
          "size": 50
         },
         "textposition": "middle center",
         "type": "scatter",
         "x": [
          48012
         ],
         "xaxis": "x",
         "y": [
          65468855
         ],
         "yaxis": "y"
        },
        {
         "hoverinfo": "text",
         "hovertemplate": "x=%{x}<br>y=%{y}<br>text=%{text}<extra></extra>",
         "legendgroup": "",
         "marker": {
          "color": "#470945",
          "symbol": "circle"
         },
         "mode": "markers+text",
         "name": "",
         "orientation": "v",
         "showlegend": false,
         "text": [
          "🇳🇿"
         ],
         "textfont": {
          "size": 50
         },
         "textposition": "middle center",
         "type": "scatter",
         "x": [
          47072
         ],
         "xaxis": "x",
         "y": [
          5254610
         ],
         "yaxis": "y"
        },
        {
         "hoverinfo": "text",
         "hovertemplate": "x=%{x}<br>y=%{y}<br>text=%{text}<extra></extra>",
         "legendgroup": "",
         "marker": {
          "color": "#470945",
          "symbol": "circle"
         },
         "mode": "markers+text",
         "name": "",
         "orientation": "v",
         "showlegend": false,
         "text": [
          "🇦🇩"
         ],
         "textfont": {
          "size": 50
         },
         "textposition": "middle center",
         "type": "scatter",
         "x": [
          45279
         ],
         "xaxis": "x",
         "y": [
          79245
         ],
         "yaxis": "y"
        },
        {
         "hoverinfo": "text",
         "hovertemplate": "x=%{x}<br>y=%{y}<br>text=%{text}<extra></extra>",
         "legendgroup": "",
         "marker": {
          "color": "#470945",
          "symbol": "circle"
         },
         "mode": "markers+text",
         "name": "",
         "orientation": "v",
         "showlegend": false,
         "text": [
          "🇲🇹"
         ],
         "textfont": {
          "size": 50
         },
         "textposition": "middle center",
         "type": "scatter",
         "x": [
          44140
         ],
         "xaxis": "x",
         "y": [
          535800
         ],
         "yaxis": "y"
        },
        {
         "hoverinfo": "text",
         "hovertemplate": "x=%{x}<br>y=%{y}<br>text=%{text}<extra></extra>",
         "legendgroup": "",
         "marker": {
          "color": "#470945",
          "symbol": "circle"
         },
         "mode": "markers+text",
         "name": "",
         "orientation": "v",
         "showlegend": false,
         "text": [
          "🇮🇹"
         ],
         "textfont": {
          "size": 50
         },
         "textposition": "middle center",
         "type": "scatter",
         "x": [
          40287
         ],
         "xaxis": "x",
         "y": [
          58871980
         ],
         "yaxis": "y"
        },
        {
         "hoverinfo": "text",
         "hovertemplate": "x=%{x}<br>y=%{y}<br>text=%{text}<extra></extra>",
         "legendgroup": "",
         "marker": {
          "color": "#470945",
          "symbol": "circle"
         },
         "mode": "markers+text",
         "name": "",
         "orientation": "v",
         "showlegend": false,
         "text": [
          "🇦🇼"
         ],
         "textfont": {
          "size": 50
         },
         "textposition": "middle center",
         "type": "scatter",
         "x": [
          39697
         ],
         "xaxis": "x",
         "y": [
          107609
         ],
         "yaxis": "y"
        },
        {
         "hoverinfo": "text",
         "hovertemplate": "x=%{x}<br>y=%{y}<br>text=%{text}<extra></extra>",
         "legendgroup": "",
         "marker": {
          "color": "#470945",
          "symbol": "circle"
         },
         "mode": "markers+text",
         "name": "",
         "orientation": "v",
         "showlegend": false,
         "text": [
          "🇵🇷"
         ],
         "textfont": {
          "size": 50
         },
         "textposition": "middle center",
         "type": "scatter",
         "x": [
          37926
         ],
         "xaxis": "x",
         "y": [
          3193694
         ],
         "yaxis": "y"
        },
        {
         "hoverinfo": "text",
         "hovertemplate": "x=%{x}<br>y=%{y}<br>text=%{text}<extra></extra>",
         "legendgroup": "",
         "marker": {
          "color": "#470945",
          "symbol": "circle"
         },
         "mode": "markers+text",
         "name": "",
         "orientation": "v",
         "showlegend": false,
         "text": [
          "🇨🇾"
         ],
         "textfont": {
          "size": 50
         },
         "textposition": "middle center",
         "type": "scatter",
         "x": [
          37767
         ],
         "xaxis": "x",
         "y": [
          1208045
         ],
         "yaxis": "y"
        },
        {
         "hoverinfo": "text",
         "hovertemplate": "x=%{x}<br>y=%{y}<br>text=%{text}<extra></extra>",
         "legendgroup": "",
         "marker": {
          "color": "#470945",
          "symbol": "circle"
         },
         "mode": "markers+text",
         "name": "",
         "orientation": "v",
         "showlegend": false,
         "text": [
          "🇧🇸"
         ],
         "textfont": {
          "size": 50
         },
         "textposition": "middle center",
         "type": "scatter",
         "x": [
          36322
         ],
         "xaxis": "x",
         "y": [
          409984
         ],
         "yaxis": "y"
        },
        {
         "hoverinfo": "text",
         "hovertemplate": "x=%{x}<br>y=%{y}<br>text=%{text}<extra></extra>",
         "legendgroup": "",
         "marker": {
          "color": "#470945",
          "symbol": "circle"
         },
         "mode": "markers+text",
         "name": "",
         "orientation": "v",
         "showlegend": false,
         "text": [
          "🇰🇷"
         ],
         "textfont": {
          "size": 50
         },
         "textposition": "middle center",
         "type": "scatter",
         "x": [
          36132
         ],
         "xaxis": "x",
         "y": [
          51835351
         ],
         "yaxis": "y"
        },
        {
         "hoverinfo": "text",
         "hovertemplate": "x=%{x}<br>y=%{y}<br>text=%{text}<extra></extra>",
         "legendgroup": "",
         "marker": {
          "color": "#470945",
          "symbol": "circle"
         },
         "mode": "markers+text",
         "name": "",
         "orientation": "v",
         "showlegend": false,
         "text": [
          "🇪🇸"
         ],
         "textfont": {
          "size": 50
         },
         "textposition": "middle center",
         "type": "scatter",
         "x": [
          35789
         ],
         "xaxis": "x",
         "y": [
          47423841
         ],
         "yaxis": "y"
        },
        {
         "hoverinfo": "text",
         "hovertemplate": "x=%{x}<br>y=%{y}<br>text=%{text}<extra></extra>",
         "legendgroup": "",
         "marker": {
          "color": "#470945",
          "symbol": "circle"
         },
         "mode": "markers+text",
         "name": "",
         "orientation": "v",
         "showlegend": false,
         "text": [
          "🇧🇳"
         ],
         "textfont": {
          "size": 50
         },
         "textposition": "middle center",
         "type": "scatter",
         "x": [
          34872
         ],
         "xaxis": "x",
         "y": [
          445439
         ],
         "yaxis": "y"
        },
        {
         "hoverinfo": "text",
         "hovertemplate": "x=%{x}<br>y=%{y}<br>text=%{text}<extra></extra>",
         "legendgroup": "",
         "marker": {
          "color": "#470945",
          "symbol": "circle"
         },
         "mode": "markers+text",
         "name": "",
         "orientation": "v",
         "showlegend": false,
         "text": [
          "🇸🇮"
         ],
         "textfont": {
          "size": 50
         },
         "textposition": "middle center",
         "type": "scatter",
         "x": [
          34544
         ],
         "xaxis": "x",
         "y": [
          2117726
         ],
         "yaxis": "y"
        },
        {
         "hoverinfo": "text",
         "hovertemplate": "x=%{x}<br>y=%{y}<br>text=%{text}<extra></extra>",
         "legendgroup": "",
         "marker": {
          "color": "#470945",
          "symbol": "circle"
         },
         "mode": "markers+text",
         "name": "",
         "orientation": "v",
         "showlegend": false,
         "text": [
          "🇹🇼"
         ],
         "textfont": {
          "size": 50
         },
         "textposition": "middle center",
         "type": "scatter",
         "x": [
          33234
         ],
         "xaxis": "x",
         "y": [
          23894238
         ],
         "yaxis": "y"
        },
        {
         "hoverinfo": "text",
         "hovertemplate": "x=%{x}<br>y=%{y}<br>text=%{text}<extra></extra>",
         "legendgroup": "",
         "marker": {
          "color": "#470945",
          "symbol": "circle"
         },
         "mode": "markers+text",
         "name": "",
         "orientation": "v",
         "showlegend": false,
         "text": [
          "🇸🇦"
         ],
         "textfont": {
          "size": 50
         },
         "textposition": "middle center",
         "type": "scatter",
         "x": [
          32881
         ],
         "xaxis": "x",
         "y": [
          35837747
         ],
         "yaxis": "y"
        },
        {
         "hoverinfo": "text",
         "hovertemplate": "x=%{x}<br>y=%{y}<br>text=%{text}<extra></extra>",
         "legendgroup": "",
         "marker": {
          "color": "#470945",
          "symbol": "circle"
         },
         "mode": "markers+text",
         "name": "",
         "orientation": "v",
         "showlegend": false,
         "text": [
          "🇯🇵"
         ],
         "textfont": {
          "size": 50
         },
         "textposition": "middle center",
         "type": "scatter",
         "x": [
          32859
         ],
         "xaxis": "x",
         "y": [
          124214719
         ],
         "yaxis": "y"
        },
        {
         "hoverinfo": "text",
         "hovertemplate": "x=%{x}<br>y=%{y}<br>text=%{text}<extra></extra>",
         "legendgroup": "",
         "marker": {
          "color": "#470945",
          "symbol": "circle"
         },
         "mode": "markers+text",
         "name": "",
         "orientation": "v",
         "showlegend": false,
         "text": [
          "🇰🇼"
         ],
         "textfont": {
          "size": 50
         },
         "textposition": "middle center",
         "type": "scatter",
         "x": [
          32290
         ],
         "xaxis": "x",
         "y": [
          4573532
         ],
         "yaxis": "y"
        },
        {
         "hoverinfo": "text",
         "hovertemplate": "x=%{x}<br>y=%{y}<br>text=%{text}<extra></extra>",
         "legendgroup": "",
         "marker": {
          "color": "#470945",
          "symbol": "circle"
         },
         "mode": "markers+text",
         "name": "",
         "orientation": "v",
         "showlegend": false,
         "text": [
          "🇪🇪"
         ],
         "textfont": {
          "size": 50
         },
         "textposition": "middle center",
         "type": "scatter",
         "x": [
          31531
         ],
         "xaxis": "x",
         "y": [
          1327579
         ],
         "yaxis": "y"
        },
        {
         "hoverinfo": "text",
         "hovertemplate": "x=%{x}<br>y=%{y}<br>text=%{text}<extra></extra>",
         "legendgroup": "",
         "marker": {
          "color": "#470945",
          "symbol": "circle"
         },
         "mode": "markers+text",
         "name": "",
         "orientation": "v",
         "showlegend": false,
         "text": [
          "🇨🇿"
         ],
         "textfont": {
          "size": 50
         },
         "textposition": "middle center",
         "type": "scatter",
         "x": [
          31366
         ],
         "xaxis": "x",
         "y": [
          10693939
         ],
         "yaxis": "y"
        },
        {
         "hoverinfo": "text",
         "hovertemplate": "x=%{x}<br>y=%{y}<br>text=%{text}<extra></extra>",
         "legendgroup": "",
         "marker": {
          "color": "#470945",
          "symbol": "circle"
         },
         "mode": "markers+text",
         "name": "",
         "orientation": "v",
         "showlegend": false,
         "text": [
          "🇧🇭"
         ],
         "textfont": {
          "size": 50
         },
         "textposition": "middle center",
         "type": "scatter",
         "x": [
          29573
         ],
         "xaxis": "x",
         "y": [
          1518412
         ],
         "yaxis": "y"
        },
        {
         "hoverinfo": "text",
         "hovertemplate": "x=%{x}<br>y=%{y}<br>text=%{text}<extra></extra>",
         "legendgroup": "",
         "marker": {
          "color": "#470945",
          "symbol": "circle"
         },
         "mode": "markers+text",
         "name": "",
         "orientation": "v",
         "showlegend": false,
         "text": [
          "🇵🇹"
         ],
         "textfont": {
          "size": 50
         },
         "textposition": "middle center",
         "type": "scatter",
         "x": [
          29341
         ],
         "xaxis": "x",
         "y": [
          10287999
         ],
         "yaxis": "y"
        },
        {
         "hoverinfo": "text",
         "hovertemplate": "x=%{x}<br>y=%{y}<br>text=%{text}<extra></extra>",
         "legendgroup": "",
         "marker": {
          "color": "#470945",
          "symbol": "circle"
         },
         "mode": "markers+text",
         "name": "",
         "orientation": "v",
         "showlegend": false,
         "text": [
          "🇬🇾"
         ],
         "textfont": {
          "size": 50
         },
         "textposition": "middle center",
         "type": "scatter",
         "x": [
          28921
         ],
         "xaxis": "x",
         "y": [
          800584
         ],
         "yaxis": "y"
        },
        {
         "hoverinfo": "text",
         "hovertemplate": "x=%{x}<br>y=%{y}<br>text=%{text}<extra></extra>",
         "legendgroup": "",
         "marker": {
          "color": "#470945",
          "symbol": "circle"
         },
         "mode": "markers+text",
         "name": "",
         "orientation": "v",
         "showlegend": false,
         "text": [
          "🇱🇹"
         ],
         "textfont": {
          "size": 50
         },
         "textposition": "middle center",
         "type": "scatter",
         "x": [
          28713
         ],
         "xaxis": "x",
         "y": [
          2607287
         ],
         "yaxis": "y"
        },
        {
         "hoverinfo": "text",
         "hovertemplate": "x=%{x}<br>y=%{y}<br>text=%{text}<extra></extra>",
         "legendgroup": "",
         "marker": {
          "color": "#470945",
          "symbol": "circle"
         },
         "mode": "markers+text",
         "name": "",
         "orientation": "v",
         "showlegend": false,
         "text": [
          "🇸🇰"
         ],
         "textfont": {
          "size": 50
         },
         "textposition": "middle center",
         "type": "scatter",
         "x": [
          26290
         ],
         "xaxis": "x",
         "y": [
          5442288
         ],
         "yaxis": "y"
        },
        {
         "hoverinfo": "text",
         "hovertemplate": "x=%{x}<br>y=%{y}<br>text=%{text}<extra></extra>",
         "legendgroup": "",
         "marker": {
          "color": "#470945",
          "symbol": "circle"
         },
         "mode": "markers+text",
         "name": "",
         "orientation": "v",
         "showlegend": false,
         "text": [
          "🇧🇧"
         ],
         "textfont": {
          "size": 50
         },
         "textposition": "middle center",
         "type": "scatter",
         "x": [
          24759
         ],
         "xaxis": "x",
         "y": [
          281197
         ],
         "yaxis": "y"
        },
        {
         "hoverinfo": "text",
         "hovertemplate": "x=%{x}<br>y=%{y}<br>text=%{text}<extra></extra>",
         "legendgroup": "",
         "marker": {
          "color": "#470945",
          "symbol": "circle"
         },
         "mode": "markers+text",
         "name": "",
         "orientation": "v",
         "showlegend": false,
         "text": [
          "🇬🇷"
         ],
         "textfont": {
          "size": 50
         },
         "textposition": "middle center",
         "type": "scatter",
         "x": [
          24342
         ],
         "xaxis": "x",
         "y": [
          10228183
         ],
         "yaxis": "y"
        },
        {
         "hoverinfo": "text",
         "hovertemplate": "x=%{x}<br>y=%{y}<br>text=%{text}<extra></extra>",
         "legendgroup": "",
         "marker": {
          "color": "#470945",
          "symbol": "circle"
         },
         "mode": "markers+text",
         "name": "",
         "orientation": "v",
         "showlegend": false,
         "text": [
          "🇱🇻"
         ],
         "textfont": {
          "size": 50
         },
         "textposition": "middle center",
         "type": "scatter",
         "x": [
          24223
         ],
         "xaxis": "x",
         "y": [
          1830145
         ],
         "yaxis": "y"
        },
        {
         "hoverinfo": "text",
         "hovertemplate": "x=%{x}<br>y=%{y}<br>text=%{text}<extra></extra>",
         "legendgroup": "",
         "marker": {
          "color": "#470945",
          "symbol": "circle"
         },
         "mode": "markers+text",
         "name": "",
         "orientation": "v",
         "showlegend": false,
         "text": [
          "🇰🇳"
         ],
         "textfont": {
          "size": 50
         },
         "textposition": "middle center",
         "type": "scatter",
         "x": [
          24203
         ],
         "xaxis": "x",
         "y": [
          47800
         ],
         "yaxis": "y"
        },
        {
         "hoverinfo": "text",
         "hovertemplate": "x=%{x}<br>y=%{y}<br>text=%{text}<extra></extra>",
         "legendgroup": "",
         "marker": {
          "color": "#470945",
          "symbol": "circle"
         },
         "mode": "markers+text",
         "name": "",
         "orientation": "v",
         "showlegend": false,
         "text": [
          "🇭🇺"
         ],
         "textfont": {
          "size": 50
         },
         "textposition": "middle center",
         "type": "scatter",
         "x": [
          23881
         ],
         "xaxis": "x",
         "y": [
          9750440
         ],
         "yaxis": "y"
        },
        {
         "hoverinfo": "text",
         "hovertemplate": "x=%{x}<br>y=%{y}<br>text=%{text}<extra></extra>",
         "legendgroup": "",
         "marker": {
          "color": "#470945",
          "symbol": "circle"
         },
         "mode": "markers+text",
         "name": "",
         "orientation": "v",
         "showlegend": false,
         "text": [
          "🇵🇱"
         ],
         "textfont": {
          "size": 50
         },
         "textposition": "middle center",
         "type": "scatter",
         "x": [
          23563
         ],
         "xaxis": "x",
         "y": [
          37779798
         ],
         "yaxis": "y"
        },
        {
         "hoverinfo": "text",
         "hovertemplate": "x=%{x}<br>y=%{y}<br>text=%{text}<extra></extra>",
         "legendgroup": "",
         "marker": {
          "color": "#470945",
          "symbol": "circle"
         },
         "mode": "markers+text",
         "name": "",
         "orientation": "v",
         "showlegend": false,
         "text": [
          "🇭🇷"
         ],
         "textfont": {
          "size": 50
         },
         "textposition": "middle center",
         "type": "scatter",
         "x": [
          23380
         ],
         "xaxis": "x",
         "y": [
          3711754
         ],
         "yaxis": "y"
        },
        {
         "hoverinfo": "text",
         "hovertemplate": "x=%{x}<br>y=%{y}<br>text=%{text}<extra></extra>",
         "legendgroup": "",
         "marker": {
          "color": "#470945",
          "symbol": "circle"
         },
         "mode": "markers+text",
         "name": "",
         "orientation": "v",
         "showlegend": false,
         "text": [
          "🇺🇾"
         ],
         "textfont": {
          "size": 50
         },
         "textposition": "middle center",
         "type": "scatter",
         "x": [
          23053
         ],
         "xaxis": "x",
         "y": [
          3438010
         ],
         "yaxis": "y"
        },
        {
         "hoverinfo": "text",
         "hovertemplate": "x=%{x}<br>y=%{y}<br>text=%{text}<extra></extra>",
         "legendgroup": "",
         "marker": {
          "color": "#470945",
          "symbol": "circle"
         },
         "mode": "markers+text",
         "name": "",
         "orientation": "v",
         "showlegend": false,
         "text": [
          "🇦🇬"
         ],
         "textfont": {
          "size": 50
         },
         "textposition": "middle center",
         "type": "scatter",
         "x": [
          22118
         ],
         "xaxis": "x",
         "y": [
          93900
         ],
         "yaxis": "y"
        },
        {
         "hoverinfo": "text",
         "hovertemplate": "x=%{x}<br>y=%{y}<br>text=%{text}<extra></extra>",
         "legendgroup": "",
         "marker": {
          "color": "#470945",
          "symbol": "circle"
         },
         "mode": "markers+text",
         "name": "",
         "orientation": "v",
         "showlegend": false,
         "text": [
          "🇸🇨"
         ],
         "textfont": {
          "size": 50
         },
         "textposition": "middle center",
         "type": "scatter",
         "x": [
          21290
         ],
         "xaxis": "x",
         "y": [
          107118
         ],
         "yaxis": "y"
        },
        {
         "hoverinfo": "text",
         "hovertemplate": "x=%{x}<br>y=%{y}<br>text=%{text}<extra></extra>",
         "legendgroup": "",
         "marker": {
          "color": "#470945",
          "symbol": "circle"
         },
         "mode": "markers+text",
         "name": "",
         "orientation": "v",
         "showlegend": false,
         "text": [
          "🇴🇲"
         ],
         "textfont": {
          "size": 50
         },
         "textposition": "middle center",
         "type": "scatter",
         "x": [
          20631
         ],
         "xaxis": "x",
         "y": [
          4765815
         ],
         "yaxis": "y"
        },
        {
         "hoverinfo": "text",
         "hovertemplate": "x=%{x}<br>y=%{y}<br>text=%{text}<extra></extra>",
         "legendgroup": "",
         "marker": {
          "color": "#470945",
          "symbol": "circle"
         },
         "mode": "markers+text",
         "name": "",
         "orientation": "v",
         "showlegend": false,
         "text": [
          "🇷🇴"
         ],
         "textfont": {
          "size": 50
         },
         "textposition": "middle center",
         "type": "scatter",
         "x": [
          20089
         ],
         "xaxis": "x",
         "y": [
          19186270
         ],
         "yaxis": "y"
        },
        {
         "hoverinfo": "text",
         "hovertemplate": "x=%{x}<br>y=%{y}<br>text=%{text}<extra></extra>",
         "legendgroup": "",
         "marker": {
          "color": "#470945",
          "symbol": "circle"
         },
         "mode": "markers+text",
         "name": "",
         "orientation": "v",
         "showlegend": false,
         "text": [
          "🇹🇹"
         ],
         "textfont": {
          "size": 50
         },
         "textposition": "middle center",
         "type": "scatter",
         "x": [
          19703
         ],
         "xaxis": "x",
         "y": [
          1443800
         ],
         "yaxis": "y"
        },
        {
         "hoverinfo": "text",
         "hovertemplate": "x=%{x}<br>y=%{y}<br>text=%{text}<extra></extra>",
         "legendgroup": "",
         "marker": {
          "color": "#470945",
          "symbol": "circle"
         },
         "mode": "markers+text",
         "name": "",
         "orientation": "v",
         "showlegend": false,
         "text": [
          "🇵🇦"
         ],
         "textfont": {
          "size": 50
         },
         "textposition": "middle center",
         "type": "scatter",
         "x": [
          19369
         ],
         "xaxis": "x",
         "y": [
          4538489
         ],
         "yaxis": "y"
        },
        {
         "hoverinfo": "text",
         "hovertemplate": "x=%{x}<br>y=%{y}<br>text=%{text}<extra></extra>",
         "legendgroup": "",
         "marker": {
          "color": "#470945",
          "symbol": "circle"
         },
         "mode": "markers+text",
         "name": "",
         "orientation": "v",
         "showlegend": false,
         "text": [
          "🇵🇼"
         ],
         "textfont": {
          "size": 50
         },
         "textposition": "middle center",
         "type": "scatter",
         "x": [
          17978
         ],
         "xaxis": "x",
         "y": [
          18300
         ],
         "yaxis": "y"
        },
        {
         "hoverinfo": "text",
         "hovertemplate": "x=%{x}<br>y=%{y}<br>text=%{text}<extra></extra>",
         "legendgroup": "",
         "marker": {
          "color": "#470945",
          "symbol": "circle"
         },
         "mode": "markers+text",
         "name": "",
         "orientation": "v",
         "showlegend": false,
         "text": [
          "🇨🇷"
         ],
         "textfont": {
          "size": 50
         },
         "textposition": "middle center",
         "type": "scatter",
         "x": [
          17860
         ],
         "xaxis": "x",
         "y": [
          5247597
         ],
         "yaxis": "y"
        },
        {
         "hoverinfo": "text",
         "hovertemplate": "x=%{x}<br>y=%{y}<br>text=%{text}<extra></extra>",
         "legendgroup": "",
         "marker": {
          "color": "#470945",
          "symbol": "circle"
         },
         "mode": "markers+text",
         "name": "",
         "orientation": "v",
         "showlegend": false,
         "text": [
          "🇲🇻"
         ],
         "textfont": {
          "size": 50
         },
         "textposition": "middle center",
         "type": "scatter",
         "x": [
          17287
         ],
         "xaxis": "x",
         "y": [
          521021
         ],
         "yaxis": "y"
        },
        {
         "hoverinfo": "text",
         "hovertemplate": "x=%{x}<br>y=%{y}<br>text=%{text}<extra></extra>",
         "legendgroup": "",
         "marker": {
          "color": "#470945",
          "symbol": "circle"
         },
         "mode": "markers+text",
         "name": "",
         "orientation": "v",
         "showlegend": false,
         "text": [
          "🇧🇬"
         ],
         "textfont": {
          "size": 50
         },
         "textposition": "middle center",
         "type": "scatter",
         "x": [
          17069
         ],
         "xaxis": "x",
         "y": [
          6831547
         ],
         "yaxis": "y"
        },
        {
         "hoverinfo": "text",
         "hovertemplate": "x=%{x}<br>y=%{y}<br>text=%{text}<extra></extra>",
         "legendgroup": "",
         "marker": {
          "color": "#470945",
          "symbol": "circle"
         },
         "mode": "markers+text",
         "name": "",
         "orientation": "v",
         "showlegend": false,
         "text": [
          "🇨🇱"
         ],
         "textfont": {
          "size": 50
         },
         "textposition": "middle center",
         "type": "scatter",
         "x": [
          16365
         ],
         "xaxis": "x",
         "y": [
          19493653
         ],
         "yaxis": "y"
        },
        {
         "hoverinfo": "text",
         "hovertemplate": "x=%{x}<br>y=%{y}<br>text=%{text}<extra></extra>",
         "legendgroup": "",
         "marker": {
          "color": "#470945",
          "symbol": "circle"
         },
         "mode": "markers+text",
         "name": "",
         "orientation": "v",
         "showlegend": false,
         "text": [
          "🇹🇷"
         ],
         "textfont": {
          "size": 50
         },
         "textposition": "middle center",
         "type": "scatter",
         "x": [
          15666
         ],
         "xaxis": "x",
         "y": [
          86381148
         ],
         "yaxis": "y"
        },
        {
         "hoverinfo": "text",
         "hovertemplate": "x=%{x}<br>y=%{y}<br>text=%{text}<extra></extra>",
         "legendgroup": "",
         "marker": {
          "color": "#470945",
          "symbol": "circle"
         },
         "mode": "markers+text",
         "name": "",
         "orientation": "v",
         "showlegend": false,
         "text": [
          "🇷🇺"
         ],
         "textfont": {
          "size": 50
         },
         "textposition": "middle center",
         "type": "scatter",
         "x": [
          14953
         ],
         "xaxis": "x",
         "y": [
          143377713
         ],
         "yaxis": "y"
        },
        {
         "hoverinfo": "text",
         "hovertemplate": "x=%{x}<br>y=%{y}<br>text=%{text}<extra></extra>",
         "legendgroup": "",
         "marker": {
          "color": "#470945",
          "symbol": "circle"
         },
         "mode": "markers+text",
         "name": "",
         "orientation": "v",
         "showlegend": false,
         "text": [
          "🇰🇿"
         ],
         "textfont": {
          "size": 50
         },
         "textposition": "middle center",
         "type": "scatter",
         "x": [
          14570
         ],
         "xaxis": "x",
         "y": [
          19414835
         ],
         "yaxis": "y"
        },
        {
         "hoverinfo": "text",
         "hovertemplate": "x=%{x}<br>y=%{y}<br>text=%{text}<extra></extra>",
         "legendgroup": "",
         "marker": {
          "color": "#470945",
          "symbol": "circle"
         },
         "mode": "markers+text",
         "name": "",
         "orientation": "v",
         "showlegend": false,
         "text": [
          "🇱🇨"
         ],
         "textfont": {
          "size": 50
         },
         "textposition": "middle center",
         "type": "scatter",
         "x": [
          14034
         ],
         "xaxis": "x",
         "y": [
          184400
         ],
         "yaxis": "y"
        },
        {
         "hoverinfo": "text",
         "hovertemplate": "x=%{x}<br>y=%{y}<br>text=%{text}<extra></extra>",
         "legendgroup": "",
         "marker": {
          "color": "#470945",
          "symbol": "circle"
         },
         "mode": "markers+text",
         "name": "",
         "orientation": "v",
         "showlegend": false,
         "text": [
          "🇲🇽"
         ],
         "textfont": {
          "size": 50
         },
         "textposition": "middle center",
         "type": "scatter",
         "x": [
          13972
         ],
         "xaxis": "x",
         "y": [
          129259637
         ],
         "yaxis": "y"
        },
        {
         "hoverinfo": "text",
         "hovertemplate": "x=%{x}<br>y=%{y}<br>text=%{text}<extra></extra>",
         "legendgroup": "",
         "marker": {
          "color": "#470945",
          "symbol": "circle"
         },
         "mode": "markers+text",
         "name": "",
         "orientation": "v",
         "showlegend": false,
         "text": [
          "🇲🇾"
         ],
         "textfont": {
          "size": 50
         },
         "textposition": "middle center",
         "type": "scatter",
         "x": [
          13142
         ],
         "xaxis": "x",
         "y": [
          33068491
         ],
         "yaxis": "y"
        },
        {
         "hoverinfo": "text",
         "hovertemplate": "x=%{x}<br>y=%{y}<br>text=%{text}<extra></extra>",
         "legendgroup": "",
         "marker": {
          "color": "#470945",
          "symbol": "circle"
         },
         "mode": "markers+text",
         "name": "",
         "orientation": "v",
         "showlegend": false,
         "text": [
          "🇨🇳"
         ],
         "textfont": {
          "size": 50
         },
         "textposition": "middle center",
         "type": "scatter",
         "x": [
          12969
         ],
         "xaxis": "x",
         "y": [
          1404261667
         ],
         "yaxis": "y"
        },
        {
         "hoverinfo": "text",
         "hovertemplate": "x=%{x}<br>y=%{y}<br>text=%{text}<extra></extra>",
         "legendgroup": "",
         "marker": {
          "color": "#470945",
          "symbol": "circle"
         },
         "mode": "markers+text",
         "name": "",
         "orientation": "v",
         "showlegend": false,
         "text": [
          "🇦🇷"
         ],
         "textfont": {
          "size": 50
         },
         "textposition": "middle center",
         "type": "scatter",
         "x": [
          12814
         ],
         "xaxis": "x",
         "y": [
          46674672
         ],
         "yaxis": "y"
        },
        {
         "hoverinfo": "text",
         "hovertemplate": "x=%{x}<br>y=%{y}<br>text=%{text}<extra></extra>",
         "legendgroup": "",
         "marker": {
          "color": "#470945",
          "symbol": "circle"
         },
         "mode": "markers+text",
         "name": "",
         "orientation": "v",
         "showlegend": false,
         "text": [
          "🇲🇪"
         ],
         "textfont": {
          "size": 50
         },
         "textposition": "middle center",
         "type": "scatter",
         "x": [
          12802
         ],
         "xaxis": "x",
         "y": [
          617540
         ],
         "yaxis": "y"
        },
        {
         "hoverinfo": "text",
         "hovertemplate": "x=%{x}<br>y=%{y}<br>text=%{text}<extra></extra>",
         "legendgroup": "",
         "marker": {
          "color": "#470945",
          "symbol": "circle"
         },
         "mode": "markers+text",
         "name": "",
         "orientation": "v",
         "showlegend": false,
         "text": [
          "🇹🇲"
         ],
         "textfont": {
          "size": 50
         },
         "textposition": "middle center",
         "type": "scatter",
         "x": [
          12713
         ],
         "xaxis": "x",
         "y": [
          6489600
         ],
         "yaxis": "y"
        },
        {
         "hoverinfo": "text",
         "hovertemplate": "x=%{x}<br>y=%{y}<br>text=%{text}<extra></extra>",
         "legendgroup": "",
         "marker": {
          "color": "#470945",
          "symbol": "circle"
         },
         "mode": "markers+text",
         "name": "",
         "orientation": "v",
         "showlegend": false,
         "text": [
          "🇲🇺"
         ],
         "textfont": {
          "size": 50
         },
         "textposition": "middle center",
         "type": "scatter",
         "x": [
          12601
         ],
         "xaxis": "x",
         "y": [
          1265984
         ],
         "yaxis": "y"
        },
        {
         "hoverinfo": "text",
         "hovertemplate": "x=%{x}<br>y=%{y}<br>text=%{text}<extra></extra>",
         "legendgroup": "",
         "marker": {
          "color": "#470945",
          "symbol": "circle"
         },
         "mode": "markers+text",
         "name": "",
         "orientation": "v",
         "showlegend": false,
         "text": [
          "🇷🇸"
         ],
         "textfont": {
          "size": 50
         },
         "textposition": "middle center",
         "type": "scatter",
         "x": [
          12514
         ],
         "xaxis": "x",
         "y": [
          6921270
         ],
         "yaxis": "y"
        },
        {
         "hoverinfo": "text",
         "hovertemplate": "x=%{x}<br>y=%{y}<br>text=%{text}<extra></extra>",
         "legendgroup": "",
         "marker": {
          "color": "#470945",
          "symbol": "circle"
         },
         "mode": "markers+text",
         "name": "",
         "orientation": "v",
         "showlegend": false,
         "text": [
          "🇳🇷"
         ],
         "textfont": {
          "size": 50
         },
         "textposition": "middle center",
         "type": "scatter",
         "x": [
          12285
         ],
         "xaxis": "x",
         "y": [
          10800
         ],
         "yaxis": "y"
        },
        {
         "hoverinfo": "text",
         "hovertemplate": "x=%{x}<br>y=%{y}<br>text=%{text}<extra></extra>",
         "legendgroup": "",
         "marker": {
          "color": "#470945",
          "symbol": "circle"
         },
         "mode": "markers+text",
         "name": "",
         "orientation": "v",
         "showlegend": false,
         "text": [
          "🇬🇩"
         ],
         "textfont": {
          "size": 50
         },
         "textposition": "middle center",
         "type": "scatter",
         "x": [
          12050
         ],
         "xaxis": "x",
         "y": [
          126920
         ],
         "yaxis": "y"
        },
        {
         "hoverinfo": "text",
         "hovertemplate": "x=%{x}<br>y=%{y}<br>text=%{text}<extra></extra>",
         "legendgroup": "",
         "marker": {
          "color": "#470945",
          "symbol": "circle"
         },
         "mode": "markers+text",
         "name": "",
         "orientation": "v",
         "showlegend": false,
         "text": [
          "🇩🇴"
         ],
         "textfont": {
          "size": 50
         },
         "textposition": "middle center",
         "type": "scatter",
         "x": [
          11692
         ],
         "xaxis": "x",
         "y": [
          11006562
         ],
         "yaxis": "y"
        },
        {
         "hoverinfo": "text",
         "hovertemplate": "x=%{x}<br>y=%{y}<br>text=%{text}<extra></extra>",
         "legendgroup": "",
         "marker": {
          "color": "#470945",
          "symbol": "circle"
         },
         "mode": "markers+text",
         "name": "",
         "orientation": "v",
         "showlegend": false,
         "text": [
          "🇻🇨"
         ],
         "textfont": {
          "size": 50
         },
         "textposition": "middle center",
         "type": "scatter",
         "x": [
          10558
         ],
         "xaxis": "x",
         "y": [
          101296
         ],
         "yaxis": "y"
        },
        {
         "hoverinfo": "text",
         "hovertemplate": "x=%{x}<br>y=%{y}<br>text=%{text}<extra></extra>",
         "legendgroup": "",
         "marker": {
          "color": "#470945",
          "symbol": "circle"
         },
         "mode": "markers+text",
         "name": "",
         "orientation": "v",
         "showlegend": false,
         "text": [
          "🇧🇷"
         ],
         "textfont": {
          "size": 50
         },
         "textposition": "middle center",
         "type": "scatter",
         "x": [
          10296
         ],
         "xaxis": "x",
         "y": [
          214349717
         ],
         "yaxis": "y"
        },
        {
         "hoverinfo": "text",
         "hovertemplate": "x=%{x}<br>y=%{y}<br>text=%{text}<extra></extra>",
         "legendgroup": "",
         "marker": {
          "color": "#470945",
          "symbol": "circle"
         },
         "mode": "markers+text",
         "name": "",
         "orientation": "v",
         "showlegend": false,
         "text": [
          "🇦🇱"
         ],
         "textfont": {
          "size": 50
         },
         "textposition": "middle center",
         "type": "scatter",
         "x": [
          9598
         ],
         "xaxis": "x",
         "y": [
          2815800
         ],
         "yaxis": "y"
        },
        {
         "hoverinfo": "text",
         "hovertemplate": "x=%{x}<br>y=%{y}<br>text=%{text}<extra></extra>",
         "legendgroup": "",
         "marker": {
          "color": "#470945",
          "symbol": "circle"
         },
         "mode": "markers+text",
         "name": "",
         "orientation": "v",
         "showlegend": false,
         "text": [
          "🇩🇲"
         ],
         "textfont": {
          "size": 50
         },
         "textposition": "middle center",
         "type": "scatter",
         "x": [
          9392
         ],
         "xaxis": "x",
         "y": [
          71991
         ],
         "yaxis": "y"
        },
        {
         "hoverinfo": "text",
         "hovertemplate": "x=%{x}<br>y=%{y}<br>text=%{text}<extra></extra>",
         "legendgroup": "",
         "marker": {
          "color": "#470945",
          "symbol": "circle"
         },
         "mode": "markers+text",
         "name": "",
         "orientation": "v",
         "showlegend": false,
         "text": [
          "🇬🇦"
         ],
         "textfont": {
          "size": 50
         },
         "textposition": "middle center",
         "type": "scatter",
         "x": [
          9257
         ],
         "xaxis": "x",
         "y": [
          2346690
         ],
         "yaxis": "y"
        },
        {
         "hoverinfo": "text",
         "hovertemplate": "x=%{x}<br>y=%{y}<br>text=%{text}<extra></extra>",
         "legendgroup": "",
         "marker": {
          "color": "#470945",
          "symbol": "circle"
         },
         "mode": "markers+text",
         "name": "",
         "orientation": "v",
         "showlegend": false,
         "text": [
          "🇬🇪"
         ],
         "textfont": {
          "size": 50
         },
         "textposition": "middle center",
         "type": "scatter",
         "x": [
          8883
         ],
         "xaxis": "x",
         "y": [
          3645254
         ],
         "yaxis": "y"
        },
        {
         "hoverinfo": "text",
         "hovertemplate": "x=%{x}<br>y=%{y}<br>text=%{text}<extra></extra>",
         "legendgroup": "",
         "marker": {
          "color": "#470945",
          "symbol": "circle"
         },
         "mode": "markers+text",
         "name": "",
         "orientation": "v",
         "showlegend": false,
         "text": [
          "🇲🇰"
         ],
         "textfont": {
          "size": 50
         },
         "textposition": "middle center",
         "type": "scatter",
         "x": [
          8659
         ],
         "xaxis": "x",
         "y": [
          2069200
         ],
         "yaxis": "y"
        },
        {
         "hoverinfo": "text",
         "hovertemplate": "x=%{x}<br>y=%{y}<br>text=%{text}<extra></extra>",
         "legendgroup": "",
         "marker": {
          "color": "#470945",
          "symbol": "circle"
         },
         "mode": "markers+text",
         "name": "",
         "orientation": "v",
         "showlegend": false,
         "text": [
          "🇦🇲"
         ],
         "textfont": {
          "size": 50
         },
         "textposition": "middle center",
         "type": "scatter",
         "x": [
          8518
         ],
         "xaxis": "x",
         "y": [
          2880500
         ],
         "yaxis": "y"
        },
        {
         "hoverinfo": "text",
         "hovertemplate": "x=%{x}<br>y=%{y}<br>text=%{text}<extra></extra>",
         "legendgroup": "",
         "marker": {
          "color": "#470945",
          "symbol": "circle"
         },
         "mode": "markers+text",
         "name": "",
         "orientation": "v",
         "showlegend": false,
         "text": [
          "🇵🇪"
         ],
         "textfont": {
          "size": 50
         },
         "textposition": "middle center",
         "type": "scatter",
         "x": [
          8316
         ],
         "xaxis": "x",
         "y": [
          33902325
         ],
         "yaxis": "y"
        },
        {
         "hoverinfo": "text",
         "hovertemplate": "x=%{x}<br>y=%{y}<br>text=%{text}<extra></extra>",
         "legendgroup": "",
         "marker": {
          "color": "#470945",
          "symbol": "circle"
         },
         "mode": "markers+text",
         "name": "",
         "orientation": "v",
         "showlegend": false,
         "text": [
          "🇧🇦"
         ],
         "textfont": {
          "size": 50
         },
         "textposition": "middle center",
         "type": "scatter",
         "x": [
          8221
         ],
         "xaxis": "x",
         "y": [
          3289156
         ],
         "yaxis": "y"
        },
        {
         "hoverinfo": "text",
         "hovertemplate": "x=%{x}<br>y=%{y}<br>text=%{text}<extra></extra>",
         "legendgroup": "",
         "marker": {
          "color": "#470945",
          "symbol": "circle"
         },
         "mode": "markers+text",
         "name": "",
         "orientation": "v",
         "showlegend": false,
         "text": [
          "🇧🇿"
         ],
         "textfont": {
          "size": 50
         },
         "textposition": "middle center",
         "type": "scatter",
         "x": [
          8133
         ],
         "xaxis": "x",
         "y": [
          438336
         ],
         "yaxis": "y"
        },
        {
         "hoverinfo": "text",
         "hovertemplate": "x=%{x}<br>y=%{y}<br>text=%{text}<extra></extra>",
         "legendgroup": "",
         "marker": {
          "color": "#470945",
          "symbol": "circle"
         },
         "mode": "markers+text",
         "name": "",
         "orientation": "v",
         "showlegend": false,
         "text": [
          "🇬🇶"
         ],
         "textfont": {
          "size": 50
         },
         "textposition": "middle center",
         "type": "scatter",
         "x": [
          8102
         ],
         "xaxis": "x",
         "y": [
          1523344
         ],
         "yaxis": "y"
        },
        {
         "hoverinfo": "text",
         "hovertemplate": "x=%{x}<br>y=%{y}<br>text=%{text}<extra></extra>",
         "legendgroup": "",
         "marker": {
          "color": "#470945",
          "symbol": "circle"
         },
         "mode": "markers+text",
         "name": "",
         "orientation": "v",
         "showlegend": false,
         "text": [
          "🇧🇾"
         ],
         "textfont": {
          "size": 50
         },
         "textposition": "middle center",
         "type": "scatter",
         "x": [
          8008
         ],
         "xaxis": "x",
         "y": [
          9389680
         ],
         "yaxis": "y"
        },
        {
         "hoverinfo": "text",
         "hovertemplate": "x=%{x}<br>y=%{y}<br>text=%{text}<extra></extra>",
         "legendgroup": "",
         "marker": {
          "color": "#470945",
          "symbol": "circle"
         },
         "mode": "markers+text",
         "name": "",
         "orientation": "v",
         "showlegend": false,
         "text": [
          "🇨🇴"
         ],
         "textfont": {
          "size": 50
         },
         "textposition": "middle center",
         "type": "scatter",
         "x": [
          7917
         ],
         "xaxis": "x",
         "y": [
          53122953
         ],
         "yaxis": "y"
        },
        {
         "hoverinfo": "text",
         "hovertemplate": "x=%{x}<br>y=%{y}<br>text=%{text}<extra></extra>",
         "legendgroup": "",
         "marker": {
          "color": "#470945",
          "symbol": "circle"
         },
         "mode": "markers+text",
         "name": "",
         "orientation": "v",
         "showlegend": false,
         "text": [
          "🇸🇷"
         ],
         "textfont": {
          "size": 50
         },
         "textposition": "middle center",
         "type": "scatter",
         "x": [
          7600
         ],
         "xaxis": "x",
         "y": [
          618040
         ],
         "yaxis": "y"
        },
        {
         "hoverinfo": "text",
         "hovertemplate": "x=%{x}<br>y=%{y}<br>text=%{text}<extra></extra>",
         "legendgroup": "",
         "marker": {
          "color": "#470945",
          "symbol": "circle"
         },
         "mode": "markers+text",
         "name": "",
         "orientation": "v",
         "showlegend": false,
         "text": [
          "🇹🇭"
         ],
         "textfont": {
          "size": 50
         },
         "textposition": "middle center",
         "type": "scatter",
         "x": [
          7527
         ],
         "xaxis": "x",
         "y": [
          71509344
         ],
         "yaxis": "y"
        },
        {
         "hoverinfo": "text",
         "hovertemplate": "x=%{x}<br>y=%{y}<br>text=%{text}<extra></extra>",
         "legendgroup": "",
         "marker": {
          "color": "#470945",
          "symbol": "circle"
         },
         "mode": "markers+text",
         "name": "",
         "orientation": "v",
         "showlegend": false,
         "text": [
          "🇯🇲"
         ],
         "textfont": {
          "size": 50
         },
         "textposition": "middle center",
         "type": "scatter",
         "x": [
          7487
         ],
         "xaxis": "x",
         "y": [
          2826710
         ],
         "yaxis": "y"
        },
        {
         "hoverinfo": "text",
         "hovertemplate": "x=%{x}<br>y=%{y}<br>text=%{text}<extra></extra>",
         "legendgroup": "",
         "marker": {
          "color": "#470945",
          "symbol": "circle"
         },
         "mode": "markers+text",
         "name": "",
         "orientation": "v",
         "showlegend": false,
         "text": [
          "🇦🇿"
         ],
         "textfont": {
          "size": 50
         },
         "textposition": "middle center",
         "type": "scatter",
         "x": [
          7381
         ],
         "xaxis": "x",
         "y": [
          10217315
         ],
         "yaxis": "y"
        },
        {
         "hoverinfo": "text",
         "hovertemplate": "x=%{x}<br>y=%{y}<br>text=%{text}<extra></extra>",
         "legendgroup": "",
         "marker": {
          "color": "#470945",
          "symbol": "circle"
         },
         "mode": "markers+text",
         "name": "",
         "orientation": "v",
         "showlegend": false,
         "text": [
          "🇲🇩"
         ],
         "textfont": {
          "size": 50
         },
         "textposition": "middle center",
         "type": "scatter",
         "x": [
          7368
         ],
         "xaxis": "x",
         "y": [
          2618378
         ],
         "yaxis": "y"
        },
        {
         "hoverinfo": "text",
         "hovertemplate": "x=%{x}<br>y=%{y}<br>text=%{text}<extra></extra>",
         "legendgroup": "",
         "marker": {
          "color": "#470945",
          "symbol": "circle"
         },
         "mode": "markers+text",
         "name": "",
         "orientation": "v",
         "showlegend": false,
         "text": [
          "🇧🇼"
         ],
         "textfont": {
          "size": 50
         },
         "textposition": "middle center",
         "type": "scatter",
         "x": [
          7341
         ],
         "xaxis": "x",
         "y": [
          2614187
         ],
         "yaxis": "y"
        },
        {
         "hoverinfo": "text",
         "hovertemplate": "x=%{x}<br>y=%{y}<br>text=%{text}<extra></extra>",
         "legendgroup": "",
         "marker": {
          "color": "#470945",
          "symbol": "circle"
         },
         "mode": "markers+text",
         "name": "",
         "orientation": "v",
         "showlegend": false,
         "text": [
          "🇹🇻"
         ],
         "textfont": {
          "size": 50
         },
         "textposition": "middle center",
         "type": "scatter",
         "x": [
          7190
         ],
         "xaxis": "x",
         "y": [
          11192
         ],
         "yaxis": "y"
        },
        {
         "hoverinfo": "text",
         "hovertemplate": "x=%{x}<br>y=%{y}<br>text=%{text}<extra></extra>",
         "legendgroup": "",
         "marker": {
          "color": "#470945",
          "symbol": "circle"
         },
         "mode": "markers+text",
         "name": "",
         "orientation": "v",
         "showlegend": false,
         "text": [
          "🇲🇭"
         ],
         "textfont": {
          "size": 50
         },
         "textposition": "middle center",
         "type": "scatter",
         "x": [
          6850
         ],
         "xaxis": "x",
         "y": [
          59543
         ],
         "yaxis": "y"
        },
        {
         "hoverinfo": "text",
         "hovertemplate": "x=%{x}<br>y=%{y}<br>text=%{text}<extra></extra>",
         "legendgroup": "",
         "marker": {
          "color": "#470945",
          "symbol": "circle"
         },
         "mode": "markers+text",
         "name": "",
         "orientation": "v",
         "showlegend": false,
         "text": [
          "🇪🇨"
         ],
         "textfont": {
          "size": 50
         },
         "textposition": "middle center",
         "type": "scatter",
         "x": [
          6758
         ],
         "xaxis": "x",
         "y": [
          18533865
         ],
         "yaxis": "y"
        },
        {
         "hoverinfo": "text",
         "hovertemplate": "x=%{x}<br>y=%{y}<br>text=%{text}<extra></extra>",
         "legendgroup": "",
         "marker": {
          "color": "#470945",
          "symbol": "circle"
         },
         "mode": "markers+text",
         "name": "",
         "orientation": "v",
         "showlegend": false,
         "text": [
          "🇲🇳"
         ],
         "textfont": {
          "size": 50
         },
         "textposition": "middle center",
         "type": "scatter",
         "x": [
          6666
         ],
         "xaxis": "x",
         "y": [
          3383266
         ],
         "yaxis": "y"
        },
        {
         "hoverinfo": "text",
         "hovertemplate": "x=%{x}<br>y=%{y}<br>text=%{text}<extra></extra>",
         "legendgroup": "",
         "marker": {
          "color": "#470945",
          "symbol": "circle"
         },
         "mode": "markers+text",
         "name": "",
         "orientation": "v",
         "showlegend": false,
         "text": [
          "🇱🇾"
         ],
         "textfont": {
          "size": 50
         },
         "textposition": "middle center",
         "type": "scatter",
         "x": [
          6482
         ],
         "xaxis": "x",
         "y": [
          6998130
         ],
         "yaxis": "y"
        },
        {
         "hoverinfo": "text",
         "hovertemplate": "x=%{x}<br>y=%{y}<br>text=%{text}<extra></extra>",
         "legendgroup": "",
         "marker": {
          "color": "#470945",
          "symbol": "circle"
         },
         "mode": "markers+text",
         "name": "",
         "orientation": "v",
         "showlegend": false,
         "text": [
          "🇿🇦"
         ],
         "textfont": {
          "size": 50
         },
         "textposition": "middle center",
         "type": "scatter",
         "x": [
          6377
         ],
         "xaxis": "x",
         "y": [
          60142978
         ],
         "yaxis": "y"
        },
        {
         "hoverinfo": "text",
         "hovertemplate": "x=%{x}<br>y=%{y}<br>text=%{text}<extra></extra>",
         "legendgroup": "",
         "marker": {
          "color": "#470945",
          "symbol": "circle"
         },
         "mode": "markers+text",
         "name": "",
         "orientation": "v",
         "showlegend": false,
         "text": [
          "🇽🇰"
         ],
         "textfont": {
          "size": 50
         },
         "textposition": "middle center",
         "type": "scatter",
         "x": [
          6334
         ],
         "xaxis": "x",
         "y": [
          1831000
         ],
         "yaxis": "y"
        },
        {
         "hoverinfo": "text",
         "hovertemplate": "x=%{x}<br>y=%{y}<br>text=%{text}<extra></extra>",
         "legendgroup": "",
         "marker": {
          "color": "#470945",
          "symbol": "circle"
         },
         "mode": "markers+text",
         "name": "",
         "orientation": "v",
         "showlegend": false,
         "text": [
          "🇬🇹"
         ],
         "textfont": {
          "size": 50
         },
         "textposition": "middle center",
         "type": "scatter",
         "x": [
          6295
         ],
         "xaxis": "x",
         "y": [
          19544020
         ],
         "yaxis": "y"
        },
        {
         "hoverinfo": "text",
         "hovertemplate": "x=%{x}<br>y=%{y}<br>text=%{text}<extra></extra>",
         "legendgroup": "",
         "marker": {
          "color": "#470945",
          "symbol": "circle"
         },
         "mode": "markers+text",
         "name": "",
         "orientation": "v",
         "showlegend": false,
         "text": [
          "🇫🇯"
         ],
         "textfont": {
          "size": 50
         },
         "textposition": "middle center",
         "type": "scatter",
         "x": [
          6257
         ],
         "xaxis": "x",
         "y": [
          929460
         ],
         "yaxis": "y"
        },
        {
         "hoverinfo": "text",
         "hovertemplate": "x=%{x}<br>y=%{y}<br>text=%{text}<extra></extra>",
         "legendgroup": "",
         "marker": {
          "color": "#470945",
          "symbol": "circle"
         },
         "mode": "markers+text",
         "name": "",
         "orientation": "v",
         "showlegend": false,
         "text": [
          "🇮🇶"
         ],
         "textfont": {
          "size": 50
         },
         "textposition": "middle center",
         "type": "scatter",
         "x": [
          5947
         ],
         "xaxis": "x",
         "y": [
          44096020
         ],
         "yaxis": "y"
        },
        {
         "hoverinfo": "text",
         "hovertemplate": "x=%{x}<br>y=%{y}<br>text=%{text}<extra></extra>",
         "legendgroup": "",
         "marker": {
          "color": "#470945",
          "symbol": "circle"
         },
         "mode": "markers+text",
         "name": "",
         "orientation": "v",
         "showlegend": false,
         "text": [
          "🇵🇾"
         ],
         "textfont": {
          "size": 50
         },
         "textposition": "middle center",
         "type": "scatter",
         "x": [
          5869
         ],
         "xaxis": "x",
         "y": [
          7290024
         ],
         "yaxis": "y"
        },
        {
         "hoverinfo": "text",
         "hovertemplate": "x=%{x}<br>y=%{y}<br>text=%{text}<extra></extra>",
         "legendgroup": "",
         "marker": {
          "color": "#470945",
          "symbol": "circle"
         },
         "mode": "markers+text",
         "name": "",
         "orientation": "v",
         "showlegend": false,
         "text": [
          "🇸🇻"
         ],
         "textfont": {
          "size": 50
         },
         "textposition": "middle center",
         "type": "scatter",
         "x": [
          5607
         ],
         "xaxis": "x",
         "y": [
          6499630
         ],
         "yaxis": "y"
        },
        {
         "hoverinfo": "text",
         "hovertemplate": "x=%{x}<br>y=%{y}<br>text=%{text}<extra></extra>",
         "legendgroup": "",
         "marker": {
          "color": "#470945",
          "symbol": "circle"
         },
         "mode": "markers+text",
         "name": "",
         "orientation": "v",
         "showlegend": false,
         "text": [
          "🇩🇿"
         ],
         "textfont": {
          "size": 50
         },
         "textposition": "middle center",
         "type": "scatter",
         "x": [
          5579
         ],
         "xaxis": "x",
         "y": [
          45783440
         ],
         "yaxis": "y"
        },
        {
         "hoverinfo": "text",
         "hovertemplate": "x=%{x}<br>y=%{y}<br>text=%{text}<extra></extra>",
         "legendgroup": "",
         "marker": {
          "color": "#470945",
          "symbol": "circle"
         },
         "mode": "markers+text",
         "name": "",
         "orientation": "v",
         "showlegend": false,
         "text": [
          "🇺🇦"
         ],
         "textfont": {
          "size": 50
         },
         "textposition": "middle center",
         "type": "scatter",
         "x": [
          5505
         ],
         "xaxis": "x",
         "y": [
          36740000
         ],
         "yaxis": "y"
        },
        {
         "hoverinfo": "text",
         "hovertemplate": "x=%{x}<br>y=%{y}<br>text=%{text}<extra></extra>",
         "legendgroup": "",
         "marker": {
          "color": "#470945",
          "symbol": "circle"
         },
         "mode": "markers+text",
         "name": "",
         "orientation": "v",
         "showlegend": false,
         "text": [
          "🇮🇷"
         ],
         "textfont": {
          "size": 50
         },
         "textposition": "middle center",
         "type": "scatter",
         "x": [
          5300
         ],
         "xaxis": "x",
         "y": [
          88683850
         ],
         "yaxis": "y"
        },
        {
         "hoverinfo": "text",
         "hovertemplate": "x=%{x}<br>y=%{y}<br>text=%{text}<extra></extra>",
         "legendgroup": "",
         "marker": {
          "color": "#470945",
          "symbol": "circle"
         },
         "mode": "markers+text",
         "name": "",
         "orientation": "v",
         "showlegend": false,
         "text": [
          "🇫🇲"
         ],
         "textfont": {
          "size": 50
         },
         "textposition": "middle center",
         "type": "scatter",
         "x": [
          5120
         ],
         "xaxis": "x",
         "y": [
          116486
         ],
         "yaxis": "y"
        },
        {
         "hoverinfo": "text",
         "hovertemplate": "x=%{x}<br>y=%{y}<br>text=%{text}<extra></extra>",
         "legendgroup": "",
         "marker": {
          "color": "#470945",
          "symbol": "circle"
         },
         "mode": "markers+text",
         "name": "",
         "orientation": "v",
         "showlegend": false,
         "text": [
          "🇼🇸"
         ],
         "textfont": {
          "size": 50
         },
         "textposition": "middle center",
         "type": "scatter",
         "x": [
          5048
         ],
         "xaxis": "x",
         "y": [
          215052
         ],
         "yaxis": "y"
        },
        {
         "hoverinfo": "text",
         "hovertemplate": "x=%{x}<br>y=%{y}<br>text=%{text}<extra></extra>",
         "legendgroup": "",
         "marker": {
          "color": "#470945",
          "symbol": "circle"
         },
         "mode": "markers+text",
         "name": "",
         "orientation": "v",
         "showlegend": false,
         "text": [
          "🇮🇩"
         ],
         "textfont": {
          "size": 50
         },
         "textposition": "middle center",
         "type": "scatter",
         "x": [
          4981
         ],
         "xaxis": "x",
         "y": [
          276361783
         ],
         "yaxis": "y"
        },
        {
         "hoverinfo": "text",
         "hovertemplate": "x=%{x}<br>y=%{y}<br>text=%{text}<extra></extra>",
         "legendgroup": "",
         "marker": {
          "color": "#470945",
          "symbol": "circle"
         },
         "mode": "markers+text",
         "name": "",
         "orientation": "v",
         "showlegend": false,
         "text": [
          "🇹🇴"
         ],
         "textfont": {
          "size": 50
         },
         "textposition": "middle center",
         "type": "scatter",
         "x": [
          4858
         ],
         "xaxis": "x",
         "y": [
          108225
         ],
         "yaxis": "y"
        },
        {
         "hoverinfo": "text",
         "hovertemplate": "x=%{x}<br>y=%{y}<br>text=%{text}<extra></extra>",
         "legendgroup": "",
         "marker": {
          "color": "#470945",
          "symbol": "circle"
         },
         "mode": "markers+text",
         "name": "",
         "orientation": "v",
         "showlegend": false,
         "text": [
          "🇨🇻"
         ],
         "textfont": {
          "size": 50
         },
         "textposition": "middle center",
         "type": "scatter",
         "x": [
          4790
         ],
         "xaxis": "x",
         "y": [
          593599
         ],
         "yaxis": "y"
        },
        {
         "hoverinfo": "text",
         "hovertemplate": "x=%{x}<br>y=%{y}<br>text=%{text}<extra></extra>",
         "legendgroup": "",
         "marker": {
          "color": "#470945",
          "symbol": "circle"
         },
         "mode": "markers+text",
         "name": "",
         "orientation": "v",
         "showlegend": false,
         "text": [
          "🇯🇴"
         ],
         "textfont": {
          "size": 50
         },
         "textposition": "middle center",
         "type": "scatter",
         "x": [
          4682
         ],
         "xaxis": "x",
         "y": [
          11048024
         ],
         "yaxis": "y"
        },
        {
         "hoverinfo": "text",
         "hovertemplate": "x=%{x}<br>y=%{y}<br>text=%{text}<extra></extra>",
         "legendgroup": "",
         "marker": {
          "color": "#470945",
          "symbol": "circle"
         },
         "mode": "markers+text",
         "name": "",
         "orientation": "v",
         "showlegend": false,
         "text": [
          "🇻🇳"
         ],
         "textfont": {
          "size": 50
         },
         "textposition": "middle center",
         "type": "scatter",
         "x": [
          4649
         ],
         "xaxis": "x",
         "y": [
          99600310
         ],
         "yaxis": "y"
        },
        {
         "hoverinfo": "text",
         "hovertemplate": "x=%{x}<br>y=%{y}<br>text=%{text}<extra></extra>",
         "legendgroup": "",
         "marker": {
          "color": "#470945",
          "symbol": "circle"
         },
         "mode": "markers+text",
         "name": "",
         "orientation": "v",
         "showlegend": false,
         "text": [
          "🇱🇧"
         ],
         "textfont": {
          "size": 50
         },
         "textposition": "middle center",
         "type": "scatter",
         "x": [
          4487
         ],
         "xaxis": "x",
         "y": [
          5486745
         ],
         "yaxis": "y"
        },
        {
         "hoverinfo": "text",
         "hovertemplate": "x=%{x}<br>y=%{y}<br>text=%{text}<extra></extra>",
         "legendgroup": "",
         "marker": {
          "color": "#470945",
          "symbol": "circle"
         },
         "mode": "markers+text",
         "name": "",
         "orientation": "v",
         "showlegend": false,
         "text": [
          "🇳🇦"
         ],
         "textfont": {
          "size": 50
         },
         "textposition": "middle center",
         "type": "scatter",
         "x": [
          4410
         ],
         "xaxis": "x",
         "y": [
          2538917
         ],
         "yaxis": "y"
        },
        {
         "hoverinfo": "text",
         "hovertemplate": "x=%{x}<br>y=%{y}<br>text=%{text}<extra></extra>",
         "legendgroup": "",
         "marker": {
          "color": "#470945",
          "symbol": "circle"
         },
         "mode": "markers+text",
         "name": "",
         "orientation": "v",
         "showlegend": false,
         "text": [
          "🇸🇿"
         ],
         "textfont": {
          "size": 50
         },
         "textposition": "middle center",
         "type": "scatter",
         "x": [
          4375
         ],
         "xaxis": "x",
         "y": [
          1216618
         ],
         "yaxis": "y"
        },
        {
         "hoverinfo": "text",
         "hovertemplate": "x=%{x}<br>y=%{y}<br>text=%{text}<extra></extra>",
         "legendgroup": "",
         "marker": {
          "color": "#470945",
          "symbol": "circle"
         },
         "mode": "markers+text",
         "name": "",
         "orientation": "v",
         "showlegend": false,
         "text": [
          "🇹🇳"
         ],
         "textfont": {
          "size": 50
         },
         "textposition": "middle center",
         "type": "scatter",
         "x": [
          4267
         ],
         "xaxis": "x",
         "y": [
          12629477
         ],
         "yaxis": "y"
        },
        {
         "hoverinfo": "text",
         "hovertemplate": "x=%{x}<br>y=%{y}<br>text=%{text}<extra></extra>",
         "legendgroup": "",
         "marker": {
          "color": "#470945",
          "symbol": "circle"
         },
         "mode": "markers+text",
         "name": "",
         "orientation": "v",
         "showlegend": false,
         "text": [
          "🇲🇦"
         ],
         "textfont": {
          "size": 50
         },
         "textposition": "middle center",
         "type": "scatter",
         "x": [
          4204
         ],
         "xaxis": "x",
         "y": [
          38071287
         ],
         "yaxis": "y"
        },
        {
         "hoverinfo": "text",
         "hovertemplate": "x=%{x}<br>y=%{y}<br>text=%{text}<extra></extra>",
         "legendgroup": "",
         "marker": {
          "color": "#470945",
          "symbol": "circle"
         },
         "mode": "markers+text",
         "name": "",
         "orientation": "v",
         "showlegend": false,
         "text": [
          "🇩🇯"
         ],
         "textfont": {
          "size": 50
         },
         "textposition": "middle center",
         "type": "scatter",
         "x": [
          4155
         ],
         "xaxis": "x",
         "y": [
          1067651
         ],
         "yaxis": "y"
        },
        {
         "hoverinfo": "text",
         "hovertemplate": "x=%{x}<br>y=%{y}<br>text=%{text}<extra></extra>",
         "legendgroup": "",
         "marker": {
          "color": "#470945",
          "symbol": "circle"
         },
         "mode": "markers+text",
         "name": "",
         "orientation": "v",
         "showlegend": false,
         "text": [
          "🇵🇭"
         ],
         "textfont": {
          "size": 50
         },
         "textposition": "middle center",
         "type": "scatter",
         "x": [
          4154
         ],
         "xaxis": "x",
         "y": [
          118147347
         ],
         "yaxis": "y"
        },
        {
         "hoverinfo": "text",
         "hovertemplate": "x=%{x}<br>y=%{y}<br>text=%{text}<extra></extra>",
         "legendgroup": "",
         "marker": {
          "color": "#470945",
          "symbol": "circle"
         },
         "mode": "markers+text",
         "name": "",
         "orientation": "v",
         "showlegend": false,
         "text": [
          "🇧🇹"
         ],
         "textfont": {
          "size": 50
         },
         "textposition": "middle center",
         "type": "scatter",
         "x": [
          4068
         ],
         "xaxis": "x",
         "y": [
          782455
         ],
         "yaxis": "y"
        },
        {
         "hoverinfo": "text",
         "hovertemplate": "x=%{x}<br>y=%{y}<br>text=%{text}<extra></extra>",
         "legendgroup": "",
         "marker": {
          "color": "#470945",
          "symbol": "circle"
         },
         "mode": "markers+text",
         "name": "",
         "orientation": "v",
         "showlegend": false,
         "text": [
          "🇻🇪"
         ],
         "textfont": {
          "size": 50
         },
         "textposition": "middle center",
         "type": "scatter",
         "x": [
          4019
         ],
         "xaxis": "x",
         "y": [
          30770584
         ],
         "yaxis": "y"
        },
        {
         "hoverinfo": "text",
         "hovertemplate": "x=%{x}<br>y=%{y}<br>text=%{text}<extra></extra>",
         "legendgroup": "",
         "marker": {
          "color": "#470945",
          "symbol": "circle"
         },
         "mode": "markers+text",
         "name": "",
         "orientation": "v",
         "showlegend": false,
         "text": [
          "🇧🇴"
         ],
         "textfont": {
          "size": 50
         },
         "textposition": "middle center",
         "type": "scatter",
         "x": [
          3920
         ],
         "xaxis": "x",
         "y": [
          12713735
         ],
         "yaxis": "y"
        },
        {
         "hoverinfo": "text",
         "hovertemplate": "x=%{x}<br>y=%{y}<br>text=%{text}<extra></extra>",
         "legendgroup": "",
         "marker": {
          "color": "#470945",
          "symbol": "circle"
         },
         "mode": "markers+text",
         "name": "",
         "orientation": "v",
         "showlegend": false,
         "text": [
          "🇪🇬"
         ],
         "textfont": {
          "size": 50
         },
         "textposition": "middle center",
         "type": "scatter",
         "x": [
          3542
         ],
         "xaxis": "x",
         "y": [
          110228123
         ],
         "yaxis": "y"
        },
        {
         "hoverinfo": "text",
         "hovertemplate": "x=%{x}<br>y=%{y}<br>text=%{text}<extra></extra>",
         "legendgroup": "",
         "marker": {
          "color": "#470945",
          "symbol": "circle"
         },
         "mode": "markers+text",
         "name": "",
         "orientation": "v",
         "showlegend": false,
         "text": [
          "🇭🇳"
         ],
         "textfont": {
          "size": 50
         },
         "textposition": "middle center",
         "type": "scatter",
         "x": [
          3446
         ],
         "xaxis": "x",
         "y": [
          10363772
         ],
         "yaxis": "y"
        },
        {
         "hoverinfo": "text",
         "hovertemplate": "x=%{x}<br>y=%{y}<br>text=%{text}<extra></extra>",
         "legendgroup": "",
         "marker": {
          "color": "#470945",
          "symbol": "circle"
         },
         "mode": "markers+text",
         "name": "",
         "orientation": "v",
         "showlegend": false,
         "text": [
          "🇸🇹"
         ],
         "textfont": {
          "size": 50
         },
         "textposition": "middle center",
         "type": "scatter",
         "x": [
          3425
         ],
         "xaxis": "x",
         "y": [
          238812
         ],
         "yaxis": "y"
        },
        {
         "hoverinfo": "text",
         "hovertemplate": "x=%{x}<br>y=%{y}<br>text=%{text}<extra></extra>",
         "legendgroup": "",
         "marker": {
          "color": "#470945",
          "symbol": "circle"
         },
         "mode": "markers+text",
         "name": "",
         "orientation": "v",
         "showlegend": false,
         "text": [
          "🇻🇺"
         ],
         "textfont": {
          "size": 50
         },
         "textposition": "middle center",
         "type": "scatter",
         "x": [
          3387
         ],
         "xaxis": "x",
         "y": [
          333508
         ],
         "yaxis": "y"
        },
        {
         "hoverinfo": "text",
         "hovertemplate": "x=%{x}<br>y=%{y}<br>text=%{text}<extra></extra>",
         "legendgroup": "",
         "marker": {
          "color": "#470945",
          "symbol": "circle"
         },
         "mode": "markers+text",
         "name": "",
         "orientation": "v",
         "showlegend": false,
         "text": [
          "🇺🇿"
         ],
         "textfont": {
          "size": 50
         },
         "textposition": "middle center",
         "type": "scatter",
         "x": [
          3051
         ],
         "xaxis": "x",
         "y": [
          36624303
         ],
         "yaxis": "y"
        },
        {
         "hoverinfo": "text",
         "hovertemplate": "x=%{x}<br>y=%{y}<br>text=%{text}<extra></extra>",
         "legendgroup": "",
         "marker": {
          "color": "#470945",
          "symbol": "circle"
         },
         "mode": "markers+text",
         "name": "",
         "orientation": "v",
         "showlegend": false,
         "text": [
          "🇦🇴"
         ],
         "textfont": {
          "size": 50
         },
         "textposition": "middle center",
         "type": "scatter",
         "x": [
          2961
         ],
         "xaxis": "x",
         "y": [
          36871284
         ],
         "yaxis": "y"
        },
        {
         "hoverinfo": "text",
         "hovertemplate": "x=%{x}<br>y=%{y}<br>text=%{text}<extra></extra>",
         "legendgroup": "",
         "marker": {
          "color": "#470945",
          "symbol": "circle"
         },
         "mode": "markers+text",
         "name": "",
         "orientation": "v",
         "showlegend": false,
         "text": [
          "🇳🇮"
         ],
         "textfont": {
          "size": 50
         },
         "textposition": "middle center",
         "type": "scatter",
         "x": [
          2878
         ],
         "xaxis": "x",
         "y": [
          6937015
         ],
         "yaxis": "y"
        },
        {
         "hoverinfo": "text",
         "hovertemplate": "x=%{x}<br>y=%{y}<br>text=%{text}<extra></extra>",
         "legendgroup": "",
         "marker": {
          "color": "#470945",
          "symbol": "circle"
         },
         "mode": "markers+text",
         "name": "",
         "orientation": "v",
         "showlegend": false,
         "text": [
          "🇰🇭"
         ],
         "textfont": {
          "size": 50
         },
         "textposition": "middle center",
         "type": "scatter",
         "x": [
          2744
         ],
         "xaxis": "x",
         "y": [
          16938736
         ],
         "yaxis": "y"
        },
        {
         "hoverinfo": "text",
         "hovertemplate": "x=%{x}<br>y=%{y}<br>text=%{text}<extra></extra>",
         "legendgroup": "",
         "marker": {
          "color": "#470945",
          "symbol": "circle"
         },
         "mode": "markers+text",
         "name": "",
         "orientation": "v",
         "showlegend": false,
         "text": [
          "🇨🇮"
         ],
         "textfont": {
          "size": 50
         },
         "textposition": "middle center",
         "type": "scatter",
         "x": [
          2720
         ],
         "xaxis": "x",
         "y": [
          28648558
         ],
         "yaxis": "y"
        },
        {
         "hoverinfo": "text",
         "hovertemplate": "x=%{x}<br>y=%{y}<br>text=%{text}<extra></extra>",
         "legendgroup": "",
         "marker": {
          "color": "#470945",
          "symbol": "circle"
         },
         "mode": "markers+text",
         "name": "",
         "orientation": "v",
         "showlegend": false,
         "text": [
          "🇮🇳"
         ],
         "textfont": {
          "size": 50
         },
         "textposition": "middle center",
         "type": "scatter",
         "x": [
          2698
         ],
         "xaxis": "x",
         "y": [
          1428627663
         ],
         "yaxis": "y"
        },
        {
         "hoverinfo": "text",
         "hovertemplate": "x=%{x}<br>y=%{y}<br>text=%{text}<extra></extra>",
         "legendgroup": "",
         "marker": {
          "color": "#470945",
          "symbol": "circle"
         },
         "mode": "markers+text",
         "name": "",
         "orientation": "v",
         "showlegend": false,
         "text": [
          "🇧🇩"
         ],
         "textfont": {
          "size": 50
         },
         "textposition": "middle center",
         "type": "scatter",
         "x": [
          2625
         ],
         "xaxis": "x",
         "y": [
          173707768
         ],
         "yaxis": "y"
        },
        {
         "hoverinfo": "text",
         "hovertemplate": "x=%{x}<br>y=%{y}<br>text=%{text}<extra></extra>",
         "legendgroup": "",
         "marker": {
          "color": "#470945",
          "symbol": "circle"
         },
         "mode": "markers+text",
         "name": "",
         "orientation": "v",
         "showlegend": false,
         "text": [
          "🇵🇬"
         ],
         "textfont": {
          "size": 50
         },
         "textposition": "middle center",
         "type": "scatter",
         "x": [
          2544
         ],
         "xaxis": "x",
         "y": [
          10131828
         ],
         "yaxis": "y"
        },
        {
         "hoverinfo": "text",
         "hovertemplate": "x=%{x}<br>y=%{y}<br>text=%{text}<extra></extra>",
         "legendgroup": "",
         "marker": {
          "color": "#470945",
          "symbol": "circle"
         },
         "mode": "markers+text",
         "name": "",
         "orientation": "v",
         "showlegend": false,
         "text": [
          "🇰🇮"
         ],
         "textfont": {
          "size": 50
         },
         "textposition": "middle center",
         "type": "scatter",
         "x": [
          2455
         ],
         "xaxis": "x",
         "y": [
          125648
         ],
         "yaxis": "y"
        },
        {
         "hoverinfo": "text",
         "hovertemplate": "x=%{x}<br>y=%{y}<br>text=%{text}<extra></extra>",
         "legendgroup": "",
         "marker": {
          "color": "#470945",
          "symbol": "circle"
         },
         "mode": "markers+text",
         "name": "",
         "orientation": "v",
         "showlegend": false,
         "text": [
          "🇨🇬"
         ],
         "textfont": {
          "size": 50
         },
         "textposition": "middle center",
         "type": "scatter",
         "x": [
          2384
         ],
         "xaxis": "x",
         "y": [
          6279431
         ],
         "yaxis": "y"
        },
        {
         "hoverinfo": "text",
         "hovertemplate": "x=%{x}<br>y=%{y}<br>text=%{text}<extra></extra>",
         "legendgroup": "",
         "marker": {
          "color": "#470945",
          "symbol": "circle"
         },
         "mode": "markers+text",
         "name": "",
         "orientation": "v",
         "showlegend": false,
         "text": [
          "🇲🇷"
         ],
         "textfont": {
          "size": 50
         },
         "textposition": "middle center",
         "type": "scatter",
         "x": [
          2376
         ],
         "xaxis": "x",
         "y": [
          4769446
         ],
         "yaxis": "y"
        },
        {
         "hoverinfo": "text",
         "hovertemplate": "x=%{x}<br>y=%{y}<br>text=%{text}<extra></extra>",
         "legendgroup": "",
         "marker": {
          "color": "#470945",
          "symbol": "circle"
         },
         "mode": "markers+text",
         "name": "",
         "orientation": "v",
         "showlegend": false,
         "text": [
          "🇬🇭"
         ],
         "textfont": {
          "size": 50
         },
         "textposition": "middle center",
         "type": "scatter",
         "x": [
          2232
         ],
         "xaxis": "x",
         "y": [
          34737269
         ],
         "yaxis": "y"
        },
        {
         "hoverinfo": "text",
         "hovertemplate": "x=%{x}<br>y=%{y}<br>text=%{text}<extra></extra>",
         "legendgroup": "",
         "marker": {
          "color": "#470945",
          "symbol": "circle"
         },
         "mode": "markers+text",
         "name": "",
         "orientation": "v",
         "showlegend": false,
         "text": [
          "🇰🇬"
         ],
         "textfont": {
          "size": 50
         },
         "textposition": "middle center",
         "type": "scatter",
         "x": [
          2229
         ],
         "xaxis": "x",
         "y": [
          6731837
         ],
         "yaxis": "y"
        },
        {
         "hoverinfo": "text",
         "hovertemplate": "x=%{x}<br>y=%{y}<br>text=%{text}<extra></extra>",
         "legendgroup": "",
         "marker": {
          "color": "#470945",
          "symbol": "circle"
         },
         "mode": "markers+text",
         "name": "",
         "orientation": "v",
         "showlegend": false,
         "text": [
          "🇰🇪"
         ],
         "textfont": {
          "size": 50
         },
         "textposition": "middle center",
         "type": "scatter",
         "x": [
          2218
         ],
         "xaxis": "x",
         "y": [
          55554998
         ],
         "yaxis": "y"
        },
        {
         "hoverinfo": "text",
         "hovertemplate": "x=%{x}<br>y=%{y}<br>text=%{text}<extra></extra>",
         "legendgroup": "",
         "marker": {
          "color": "#470945",
          "symbol": "circle"
         },
         "mode": "markers+text",
         "name": "",
         "orientation": "v",
         "showlegend": false,
         "text": [
          "🇸🇧"
         ],
         "textfont": {
          "size": 50
         },
         "textposition": "middle center",
         "type": "scatter",
         "x": [
          2209
         ],
         "xaxis": "x",
         "y": [
          740854
         ],
         "yaxis": "y"
        },
        {
         "hoverinfo": "text",
         "hovertemplate": "x=%{x}<br>y=%{y}<br>text=%{text}<extra></extra>",
         "legendgroup": "",
         "marker": {
          "color": "#470945",
          "symbol": "circle"
         },
         "mode": "markers+text",
         "name": "",
         "orientation": "v",
         "showlegend": false,
         "text": [
          "🇭🇹"
         ],
         "textfont": {
          "size": 50
         },
         "textposition": "middle center",
         "type": "scatter",
         "x": [
          2120
         ],
         "xaxis": "x",
         "y": [
          12237657
         ],
         "yaxis": "y"
        },
        {
         "hoverinfo": "text",
         "hovertemplate": "x=%{x}<br>y=%{y}<br>text=%{text}<extra></extra>",
         "legendgroup": "",
         "marker": {
          "color": "#470945",
          "symbol": "circle"
         },
         "mode": "markers+text",
         "name": "",
         "orientation": "v",
         "showlegend": false,
         "text": [
          "🇿🇼"
         ],
         "textfont": {
          "size": 50
         },
         "textposition": "middle center",
         "type": "scatter",
         "x": [
          2114
         ],
         "xaxis": "x",
         "y": [
          16150362
         ],
         "yaxis": "y"
        },
        {
         "hoverinfo": "text",
         "hovertemplate": "x=%{x}<br>y=%{y}<br>text=%{text}<extra></extra>",
         "legendgroup": "",
         "marker": {
          "color": "#470945",
          "symbol": "circle"
         },
         "mode": "markers+text",
         "name": "",
         "orientation": "v",
         "showlegend": false,
         "text": [
          "🇱🇦"
         ],
         "textfont": {
          "size": 50
         },
         "textposition": "middle center",
         "type": "scatter",
         "x": [
          1945
         ],
         "xaxis": "x",
         "y": [
          7691210
         ],
         "yaxis": "y"
        },
        {
         "hoverinfo": "text",
         "hovertemplate": "x=%{x}<br>y=%{y}<br>text=%{text}<extra></extra>",
         "legendgroup": "",
         "marker": {
          "color": "#470945",
          "symbol": "circle"
         },
         "mode": "markers+text",
         "name": "",
         "orientation": "v",
         "showlegend": false,
         "text": [
          "🇨🇲"
         ],
         "textfont": {
          "size": 50
         },
         "textposition": "middle center",
         "type": "scatter",
         "x": [
          1821
         ],
         "xaxis": "x",
         "y": [
          28583827
         ],
         "yaxis": "y"
        },
        {
         "hoverinfo": "text",
         "hovertemplate": "x=%{x}<br>y=%{y}<br>text=%{text}<extra></extra>",
         "legendgroup": "",
         "marker": {
          "color": "#470945",
          "symbol": "circle"
         },
         "mode": "markers+text",
         "name": "",
         "orientation": "v",
         "showlegend": false,
         "text": [
          "🇸🇳"
         ],
         "textfont": {
          "size": 50
         },
         "textposition": "middle center",
         "type": "scatter",
         "x": [
          1805
         ],
         "xaxis": "x",
         "y": [
          18067670
         ],
         "yaxis": "y"
        },
        {
         "hoverinfo": "text",
         "hovertemplate": "x=%{x}<br>y=%{y}<br>text=%{text}<extra></extra>",
         "legendgroup": "",
         "marker": {
          "color": "#470945",
          "symbol": "circle"
         },
         "mode": "markers+text",
         "name": "",
         "orientation": "v",
         "showlegend": false,
         "text": [
          "🇬🇳"
         ],
         "textfont": {
          "size": 50
         },
         "textposition": "middle center",
         "type": "scatter",
         "x": [
          1652
         ],
         "xaxis": "x",
         "y": [
          13963169
         ],
         "yaxis": "y"
        },
        {
         "hoverinfo": "text",
         "hovertemplate": "x=%{x}<br>y=%{y}<br>text=%{text}<extra></extra>",
         "legendgroup": "",
         "marker": {
          "color": "#470945",
          "symbol": "circle"
         },
         "mode": "markers+text",
         "name": "",
         "orientation": "v",
         "showlegend": false,
         "text": [
          "🇰🇲"
         ],
         "textfont": {
          "size": 50
         },
         "textposition": "middle center",
         "type": "scatter",
         "x": [
          1630
         ],
         "xaxis": "x",
         "y": [
          865329
         ],
         "yaxis": "y"
        },
        {
         "hoverinfo": "text",
         "hovertemplate": "x=%{x}<br>y=%{y}<br>text=%{text}<extra></extra>",
         "legendgroup": "",
         "marker": {
          "color": "#470945",
          "symbol": "circle"
         },
         "mode": "markers+text",
         "name": "",
         "orientation": "v",
         "showlegend": false,
         "text": [
          "🇵🇰"
         ],
         "textfont": {
          "size": 50
         },
         "textposition": "middle center",
         "type": "scatter",
         "x": [
          1588
         ],
         "xaxis": "x",
         "y": [
          248261481
         ],
         "yaxis": "y"
        },
        {
         "hoverinfo": "text",
         "hovertemplate": "x=%{x}<br>y=%{y}<br>text=%{text}<extra></extra>",
         "legendgroup": "",
         "marker": {
          "color": "#470945",
          "symbol": "circle"
         },
         "mode": "markers+text",
         "name": "",
         "orientation": "v",
         "showlegend": false,
         "text": [
          "🇧🇯"
         ],
         "textfont": {
          "size": 50
         },
         "textposition": "middle center",
         "type": "scatter",
         "x": [
          1510
         ],
         "xaxis": "x",
         "y": [
          13607484
         ],
         "yaxis": "y"
        },
        {
         "hoverinfo": "text",
         "hovertemplate": "x=%{x}<br>y=%{y}<br>text=%{text}<extra></extra>",
         "legendgroup": "",
         "marker": {
          "color": "#470945",
          "symbol": "circle"
         },
         "mode": "markers+text",
         "name": "",
         "orientation": "v",
         "showlegend": false,
         "text": [
          "🇹🇱"
         ],
         "textfont": {
          "size": 50
         },
         "textposition": "middle center",
         "type": "scatter",
         "x": [
          1454
         ],
         "xaxis": "x",
         "y": [
          1391293
         ],
         "yaxis": "y"
        },
        {
         "hoverinfo": "text",
         "hovertemplate": "x=%{x}<br>y=%{y}<br>text=%{text}<extra></extra>",
         "legendgroup": "",
         "marker": {
          "color": "#470945",
          "symbol": "circle"
         },
         "mode": "markers+text",
         "name": "",
         "orientation": "v",
         "showlegend": false,
         "text": [
          "🇳🇵"
         ],
         "textfont": {
          "size": 50
         },
         "textposition": "middle center",
         "type": "scatter",
         "x": [
          1381
         ],
         "xaxis": "x",
         "y": [
          30575612
         ],
         "yaxis": "y"
        },
        {
         "hoverinfo": "text",
         "hovertemplate": "x=%{x}<br>y=%{y}<br>text=%{text}<extra></extra>",
         "legendgroup": "",
         "marker": {
          "color": "#470945",
          "symbol": "circle"
         },
         "mode": "markers+text",
         "name": "",
         "orientation": "v",
         "showlegend": false,
         "text": [
          "🇪🇹"
         ],
         "textfont": {
          "size": 50
         },
         "textposition": "middle center",
         "type": "scatter",
         "x": [
          1350
         ],
         "xaxis": "x",
         "y": [
          127719825
         ],
         "yaxis": "y"
        },
        {
         "hoverinfo": "text",
         "hovertemplate": "x=%{x}<br>y=%{y}<br>text=%{text}<extra></extra>",
         "legendgroup": "",
         "marker": {
          "color": "#470945",
          "symbol": "circle"
         },
         "mode": "markers+text",
         "name": "",
         "orientation": "v",
         "showlegend": false,
         "text": [
          "🇹🇯"
         ],
         "textfont": {
          "size": 50
         },
         "textposition": "middle center",
         "type": "scatter",
         "x": [
          1276
         ],
         "xaxis": "x",
         "y": [
          10626354
         ],
         "yaxis": "y"
        },
        {
         "hoverinfo": "text",
         "hovertemplate": "x=%{x}<br>y=%{y}<br>text=%{text}<extra></extra>",
         "legendgroup": "",
         "marker": {
          "color": "#470945",
          "symbol": "circle"
         },
         "mode": "markers+text",
         "name": "",
         "orientation": "v",
         "showlegend": false,
         "text": [
          "🇿🇲"
         ],
         "textfont": {
          "size": 50
         },
         "textposition": "middle center",
         "type": "scatter",
         "x": [
          1226
         ],
         "xaxis": "x",
         "y": [
          20373819
         ],
         "yaxis": "y"
        },
        {
         "hoverinfo": "text",
         "hovertemplate": "x=%{x}<br>y=%{y}<br>text=%{text}<extra></extra>",
         "legendgroup": "",
         "marker": {
          "color": "#470945",
          "symbol": "circle"
         },
         "mode": "markers+text",
         "name": "",
         "orientation": "v",
         "showlegend": false,
         "text": [
          "🇹🇿"
         ],
         "textfont": {
          "size": 50
         },
         "textposition": "middle center",
         "type": "scatter",
         "x": [
          1224
         ],
         "xaxis": "x",
         "y": [
          67454879
         ],
         "yaxis": "y"
        },
        {
         "hoverinfo": "text",
         "hovertemplate": "x=%{x}<br>y=%{y}<br>text=%{text}<extra></extra>",
         "legendgroup": "",
         "marker": {
          "color": "#470945",
          "symbol": "circle"
         },
         "mode": "markers+text",
         "name": "",
         "orientation": "v",
         "showlegend": false,
         "text": [
          "🇺🇬"
         ],
         "textfont": {
          "size": 50
         },
         "textposition": "middle center",
         "type": "scatter",
         "x": [
          1187
         ],
         "xaxis": "x",
         "y": [
          47703835
         ],
         "yaxis": "y"
        },
        {
         "hoverinfo": "text",
         "hovertemplate": "x=%{x}<br>y=%{y}<br>text=%{text}<extra></extra>",
         "legendgroup": "",
         "marker": {
          "color": "#470945",
          "symbol": "circle"
         },
         "mode": "markers+text",
         "name": "",
         "orientation": "v",
         "showlegend": false,
         "text": [
          "🇲🇲"
         ],
         "textfont": {
          "size": 50
         },
         "textposition": "middle center",
         "type": "scatter",
         "x": [
          1179
         ],
         "xaxis": "x",
         "y": [
          54507280
         ],
         "yaxis": "y"
        },
        {
         "hoverinfo": "text",
         "hovertemplate": "x=%{x}<br>y=%{y}<br>text=%{text}<extra></extra>",
         "legendgroup": "",
         "marker": {
          "color": "#470945",
          "symbol": "circle"
         },
         "mode": "markers+text",
         "name": "",
         "orientation": "v",
         "showlegend": false,
         "text": [
          "🇬🇼"
         ],
         "textfont": {
          "size": 50
         },
         "textposition": "middle center",
         "type": "scatter",
         "x": [
          1106
         ],
         "xaxis": "x",
         "y": [
          2187988
         ],
         "yaxis": "y"
        },
        {
         "hoverinfo": "text",
         "hovertemplate": "x=%{x}<br>y=%{y}<br>text=%{text}<extra></extra>",
         "legendgroup": "",
         "marker": {
          "color": "#470945",
          "symbol": "circle"
         },
         "mode": "markers+text",
         "name": "",
         "orientation": "v",
         "showlegend": false,
         "text": [
          "🇱🇸"
         ],
         "textfont": {
          "size": 50
         },
         "textposition": "middle center",
         "type": "scatter",
         "x": [
          1062
         ],
         "xaxis": "x",
         "y": [
          2292683
         ],
         "yaxis": "y"
        },
        {
         "hoverinfo": "text",
         "hovertemplate": "x=%{x}<br>y=%{y}<br>text=%{text}<extra></extra>",
         "legendgroup": "",
         "marker": {
          "color": "#470945",
          "symbol": "circle"
         },
         "mode": "markers+text",
         "name": "",
         "orientation": "v",
         "showlegend": false,
         "text": [
          "🇹🇬"
         ],
         "textfont": {
          "size": 50
         },
         "textposition": "middle center",
         "type": "scatter",
         "x": [
          1051
         ],
         "xaxis": "x",
         "y": [
          8701744
         ],
         "yaxis": "y"
        },
        {
         "hoverinfo": "text",
         "hovertemplate": "x=%{x}<br>y=%{y}<br>text=%{text}<extra></extra>",
         "legendgroup": "",
         "marker": {
          "color": "#470945",
          "symbol": "circle"
         },
         "mode": "markers+text",
         "name": "",
         "orientation": "v",
         "showlegend": false,
         "text": [
          "🇹🇩"
         ],
         "textfont": {
          "size": 50
         },
         "textposition": "middle center",
         "type": "scatter",
         "x": [
          1013
         ],
         "xaxis": "x",
         "y": [
          18823540
         ],
         "yaxis": "y"
        },
        {
         "hoverinfo": "text",
         "hovertemplate": "x=%{x}<br>y=%{y}<br>text=%{text}<extra></extra>",
         "legendgroup": "",
         "marker": {
          "color": "#470945",
          "symbol": "circle"
         },
         "mode": "markers+text",
         "name": "",
         "orientation": "v",
         "showlegend": false,
         "text": [
          "🇬🇲"
         ],
         "textfont": {
          "size": 50
         },
         "textposition": "middle center",
         "type": "scatter",
         "x": [
          989
         ],
         "xaxis": "x",
         "y": [
          2722177
         ],
         "yaxis": "y"
        },
        {
         "hoverinfo": "text",
         "hovertemplate": "x=%{x}<br>y=%{y}<br>text=%{text}<extra></extra>",
         "legendgroup": "",
         "marker": {
          "color": "#470945",
          "symbol": "circle"
         },
         "mode": "markers+text",
         "name": "",
         "orientation": "v",
         "showlegend": false,
         "text": [
          "🇷🇼"
         ],
         "textfont": {
          "size": 50
         },
         "textposition": "middle center",
         "type": "scatter",
         "x": [
          986
         ],
         "xaxis": "x",
         "y": [
          14467997
         ],
         "yaxis": "y"
        },
        {
         "hoverinfo": "text",
         "hovertemplate": "x=%{x}<br>y=%{y}<br>text=%{text}<extra></extra>",
         "legendgroup": "",
         "marker": {
          "color": "#470945",
          "symbol": "circle"
         },
         "mode": "markers+text",
         "name": "",
         "orientation": "v",
         "showlegend": false,
         "text": [
          "🇧🇫"
         ],
         "textfont": {
          "size": 50
         },
         "textposition": "middle center",
         "type": "scatter",
         "x": [
          908
         ],
         "xaxis": "x",
         "y": [
          22875991
         ],
         "yaxis": "y"
        },
        {
         "hoverinfo": "text",
         "hovertemplate": "x=%{x}<br>y=%{y}<br>text=%{text}<extra></extra>",
         "legendgroup": "",
         "marker": {
          "color": "#470945",
          "symbol": "circle"
         },
         "mode": "markers+text",
         "name": "",
         "orientation": "v",
         "showlegend": false,
         "text": [
          "🇲🇱"
         ],
         "textfont": {
          "size": 50
         },
         "textposition": "middle center",
         "type": "scatter",
         "x": [
          898
         ],
         "xaxis": "x",
         "y": [
          24578325
         ],
         "yaxis": "y"
        },
        {
         "hoverinfo": "text",
         "hovertemplate": "x=%{x}<br>y=%{y}<br>text=%{text}<extra></extra>",
         "legendgroup": "",
         "marker": {
          "color": "#470945",
          "symbol": "circle"
         },
         "mode": "markers+text",
         "name": "",
         "orientation": "v",
         "showlegend": false,
         "text": [
          "🇳🇬"
         ],
         "textfont": {
          "size": 50
         },
         "textposition": "middle center",
         "type": "scatter",
         "x": [
          877
         ],
         "xaxis": "x",
         "y": [
          223804632
         ],
         "yaxis": "y"
        },
        {
         "hoverinfo": "text",
         "hovertemplate": "x=%{x}<br>y=%{y}<br>text=%{text}<extra></extra>",
         "legendgroup": "",
         "marker": {
          "color": "#470945",
          "symbol": "circle"
         },
         "mode": "markers+text",
         "name": "",
         "orientation": "v",
         "showlegend": false,
         "text": [
          "🇸🇱"
         ],
         "textfont": {
          "size": 50
         },
         "textposition": "middle center",
         "type": "scatter",
         "x": [
          856
         ],
         "xaxis": "x",
         "y": [
          9189792
         ],
         "yaxis": "y"
        },
        {
         "hoverinfo": "text",
         "hovertemplate": "x=%{x}<br>y=%{y}<br>text=%{text}<extra></extra>",
         "legendgroup": "",
         "marker": {
          "color": "#470945",
          "symbol": "circle"
         },
         "mode": "markers+text",
         "name": "",
         "orientation": "v",
         "showlegend": false,
         "text": [
          "🇱🇷"
         ],
         "textfont": {
          "size": 50
         },
         "textposition": "middle center",
         "type": "scatter",
         "x": [
          855
         ],
         "xaxis": "x",
         "y": [
          5503604
         ],
         "yaxis": "y"
        },
        {
         "hoverinfo": "text",
         "hovertemplate": "x=%{x}<br>y=%{y}<br>text=%{text}<extra></extra>",
         "legendgroup": "",
         "marker": {
          "color": "#470945",
          "symbol": "circle"
         },
         "mode": "markers+text",
         "name": "",
         "orientation": "v",
         "showlegend": false,
         "text": [
          "🇸🇴"
         ],
         "textfont": {
          "size": 50
         },
         "textposition": "middle center",
         "type": "scatter",
         "x": [
          771
         ],
         "xaxis": "x",
         "y": [
          18041815
         ],
         "yaxis": "y"
        },
        {
         "hoverinfo": "text",
         "hovertemplate": "x=%{x}<br>y=%{y}<br>text=%{text}<extra></extra>",
         "legendgroup": "",
         "marker": {
          "color": "#470945",
          "symbol": "circle"
         },
         "mode": "markers+text",
         "name": "",
         "orientation": "v",
         "showlegend": false,
         "text": [
          "🇨🇩"
         ],
         "textfont": {
          "size": 50
         },
         "textposition": "middle center",
         "type": "scatter",
         "x": [
          702
         ],
         "xaxis": "x",
         "y": [
          108407721
         ],
         "yaxis": "y"
        },
        {
         "hoverinfo": "text",
         "hovertemplate": "x=%{x}<br>y=%{y}<br>text=%{text}<extra></extra>",
         "legendgroup": "",
         "marker": {
          "color": "#470945",
          "symbol": "circle"
         },
         "mode": "markers+text",
         "name": "",
         "orientation": "v",
         "showlegend": false,
         "text": [
          "🇳🇪"
         ],
         "textfont": {
          "size": 50
         },
         "textposition": "middle center",
         "type": "scatter",
         "x": [
          698
         ],
         "xaxis": "x",
         "y": [
          28478351
         ],
         "yaxis": "y"
        },
        {
         "hoverinfo": "text",
         "hovertemplate": "x=%{x}<br>y=%{y}<br>text=%{text}<extra></extra>",
         "legendgroup": "",
         "marker": {
          "color": "#470945",
          "symbol": "circle"
         },
         "mode": "markers+text",
         "name": "",
         "orientation": "v",
         "showlegend": false,
         "text": [
          "🇲🇿"
         ],
         "textfont": {
          "size": 50
         },
         "textposition": "middle center",
         "type": "scatter",
         "x": [
          645
         ],
         "xaxis": "x",
         "y": [
          35277379
         ],
         "yaxis": "y"
        },
        {
         "hoverinfo": "text",
         "hovertemplate": "x=%{x}<br>y=%{y}<br>text=%{text}<extra></extra>",
         "legendgroup": "",
         "marker": {
          "color": "#470945",
          "symbol": "circle"
         },
         "mode": "markers+text",
         "name": "",
         "orientation": "v",
         "showlegend": false,
         "text": [
          "🇸🇩"
         ],
         "textfont": {
          "size": 50
         },
         "textposition": "middle center",
         "type": "scatter",
         "x": [
          606
         ],
         "xaxis": "x",
         "y": [
          49446220
         ],
         "yaxis": "y"
        },
        {
         "hoverinfo": "text",
         "hovertemplate": "x=%{x}<br>y=%{y}<br>text=%{text}<extra></extra>",
         "legendgroup": "",
         "marker": {
          "color": "#470945",
          "symbol": "circle"
         },
         "mode": "markers+text",
         "name": "",
         "orientation": "v",
         "showlegend": false,
         "text": [
          "🇲🇬"
         ],
         "textfont": {
          "size": 50
         },
         "textposition": "middle center",
         "type": "scatter",
         "x": [
          563
         ],
         "xaxis": "x",
         "y": [
          29865747
         ],
         "yaxis": "y"
        },
        {
         "hoverinfo": "text",
         "hovertemplate": "x=%{x}<br>y=%{y}<br>text=%{text}<extra></extra>",
         "legendgroup": "",
         "marker": {
          "color": "#470945",
          "symbol": "circle"
         },
         "mode": "markers+text",
         "name": "",
         "orientation": "v",
         "showlegend": false,
         "text": [
          "🇨🇫"
         ],
         "textfont": {
          "size": 50
         },
         "textposition": "middle center",
         "type": "scatter",
         "x": [
          529
         ],
         "xaxis": "x",
         "y": [
          5481790
         ],
         "yaxis": "y"
        },
        {
         "hoverinfo": "text",
         "hovertemplate": "x=%{x}<br>y=%{y}<br>text=%{text}<extra></extra>",
         "legendgroup": "",
         "marker": {
          "color": "#470945",
          "symbol": "circle"
         },
         "mode": "markers+text",
         "name": "",
         "orientation": "v",
         "showlegend": false,
         "text": [
          "🇾🇪"
         ],
         "textfont": {
          "size": 50
         },
         "textposition": "middle center",
         "type": "scatter",
         "x": [
          465
         ],
         "xaxis": "x",
         "y": [
          33812252
         ],
         "yaxis": "y"
        },
        {
         "hoverinfo": "text",
         "hovertemplate": "x=%{x}<br>y=%{y}<br>text=%{text}<extra></extra>",
         "legendgroup": "",
         "marker": {
          "color": "#470945",
          "symbol": "circle"
         },
         "mode": "markers+text",
         "name": "",
         "orientation": "v",
         "showlegend": false,
         "text": [
          "🇲🇼"
         ],
         "textfont": {
          "size": 50
         },
         "textposition": "middle center",
         "type": "scatter",
         "x": [
          464
         ],
         "xaxis": "x",
         "y": [
          21164628
         ],
         "yaxis": "y"
        },
        {
         "hoverinfo": "text",
         "hovertemplate": "x=%{x}<br>y=%{y}<br>text=%{text}<extra></extra>",
         "legendgroup": "",
         "marker": {
          "color": "#470945",
          "symbol": "circle"
         },
         "mode": "markers+text",
         "name": "",
         "orientation": "v",
         "showlegend": false,
         "text": [
          "🇸🇸"
         ],
         "textfont": {
          "size": 50
         },
         "textposition": "middle center",
         "type": "scatter",
         "x": [
          341
         ],
         "xaxis": "x",
         "y": [
          12924732
         ],
         "yaxis": "y"
        },
        {
         "hoverinfo": "text",
         "hovertemplate": "x=%{x}<br>y=%{y}<br>text=%{text}<extra></extra>",
         "legendgroup": "",
         "marker": {
          "color": "#470945",
          "symbol": "circle"
         },
         "mode": "markers+text",
         "name": "",
         "orientation": "v",
         "showlegend": false,
         "text": [
          "🇧🇮"
         ],
         "textfont": {
          "size": 50
         },
         "textposition": "middle center",
         "type": "scatter",
         "x": [
          321
         ],
         "xaxis": "x",
         "y": [
          13306768
         ],
         "yaxis": "y"
        }
       ],
       "layout": {
        "height": 1080,
        "legend": {
         "tracegroupgap": 0
        },
        "showlegend": false,
        "template": {
         "data": {
          "scatter": [
           {
            "line": {
             "width": 3
            },
            "type": "scatter"
           }
          ]
         },
         "layout": {
          "colorway": [
           "#470945",
           "#E67E5A",
           "#297FB9",
           "#163748",
           "#4F1787",
           "#EFE04E",
           "#214F70",
           "#DF14AA",
           "#100B1A",
           "#12C4CF",
           "#14193D",
           "#CC5500"
          ],
          "font": {
           "color": "#333333",
           "family": "Open Sans, sans-serif",
           "size": 28
          },
          "height": 800,
          "paper_bgcolor": "#FFF5CC",
          "plot_bgcolor": "#FFF5CC",
          "title": {
           "font": {
            "color": "#333333",
            "family": "Open Sans, sans-serif",
            "size": 34
           },
           "text": "",
           "x": 0.05
          },
          "width": 1294.4,
          "xaxis": {
           "anchor": "y",
           "gridcolor": "#888888",
           "linecolor": "#333333",
           "linewidth": 2,
           "showgrid": true,
           "tickfont": {
            "family": "Open Sans, sans-serif",
            "size": 24
           },
           "title": {
            "font": {
             "family": "Open Sans, sans-serif",
             "size": 26
            }
           }
          },
          "yaxis": {
           "anchor": "x",
           "gridcolor": "#888888",
           "linecolor": "#333333",
           "linewidth": 2,
           "showgrid": true,
           "tickfont": {
            "family": "Open Sans, sans-serif",
            "size": 24
           },
           "title": {
            "font": {
             "family": "Open Sans, sans-serif",
             "size": 26
            }
           }
          }
         }
        },
        "title": {
         "text": "Scatterplot of GDP per Capita vs Population"
        },
        "width": 1920,
        "xaxis": {
         "anchor": "y",
         "domain": [
          0,
          1
         ],
         "title": {
          "text": "GDP per Capita (USD)"
         }
        },
        "yaxis": {
         "anchor": "x",
         "domain": [
          0,
          1
         ],
         "showticklabels": false,
         "ticks": "",
         "title": {
          "text": "Population (Log Scale)"
         },
         "type": "log"
        }
       }
      }
     },
     "metadata": {},
     "output_type": "display_data"
    }
   ],
   "source": [
    "import plotly.express as px\n",
    "\n",
    "# Create the scatterplot without default markers\n",
    "fig = px.scatter(\n",
    "    d_gdp_per_capita_merged,\n",
    "    x=\"gdp_per_capita\",\n",
    "    y=\"Population\",\n",
    "    title=\"Scatterplot of GDP per Capita vs Population\",\n",
    "    template=\"base\"\n",
    ")\n",
    "\n",
    "# Remove default markers\n",
    "fig.data = []\n",
    "\n",
    "# Add flags as text annotations with larger font\n",
    "for i, row in d_gdp_per_capita_merged.iterrows():\n",
    "    fig.add_trace(\n",
    "        px.scatter(\n",
    "            x=[row[\"gdp_per_capita\"]],\n",
    "            y=[row[\"Population\"]],\n",
    "            text=[row[\"Flag\"]],\n",
    "        ).data[0]\n",
    "    )\n",
    "\n",
    "# Update layout for YouTube aspect ratio and other customizations\n",
    "fig.update_layout(\n",
    "    xaxis_title=\"GDP per Capita (USD)\",\n",
    "    yaxis_title=\"Population (Log Scale)\",\n",
    "    yaxis=dict(\n",
    "        type=\"log\",  # Logarithmic scale\n",
    "        showticklabels=False,  # Remove tick marks\n",
    "        ticks=\"\",  # Remove ticks\n",
    "    ),\n",
    "    width=1920,  # Aspect ratio for YouTube\n",
    "    height=1080,\n",
    "    showlegend=False\n",
    ")\n",
    "\n",
    "# Customize marker size and text position for flags\n",
    "fig.update_traces(\n",
    "    textfont=dict(size=50),  # Larger font size for flags\n",
    "    textposition=\"middle center\",\n",
    "    hoverinfo=\"text\"  # Show only text (flag) on hover\n",
    ")\n",
    "\n",
    "# Show the plot\n",
    "fig.show()\n"
   ]
  },
  {
   "cell_type": "code",
   "execution_count": 27,
   "metadata": {},
   "outputs": [
    {
     "data": {
      "application/vnd.plotly.v1+json": {
       "config": {
        "plotlyServerURL": "https://plot.ly"
       },
       "data": [
        {
         "hoverinfo": "text",
         "hovertemplate": "x=%{x}<br>y=%{y}<br>text=%{text}<extra></extra>",
         "legendgroup": "",
         "marker": {
          "color": "#470945",
          "symbol": "circle"
         },
         "mode": "markers+text",
         "name": "",
         "orientation": "v",
         "showlegend": false,
         "text": [
          "🏳️"
         ],
         "textfont": {
          "color": "grey",
          "size": 50
         },
         "textposition": "middle center",
         "type": "scatter",
         "x": [
          135321
         ],
         "xaxis": "x",
         "y": [
          645397
         ],
         "yaxis": "y"
        },
        {
         "hoverinfo": "text",
         "hovertemplate": "x=%{x}<br>y=%{y}<br>text=%{text}<extra></extra>",
         "legendgroup": "",
         "marker": {
          "color": "#470945",
          "symbol": "circle"
         },
         "mode": "markers+text",
         "name": "",
         "orientation": "v",
         "showlegend": false,
         "text": [
          "🏳️"
         ],
         "textfont": {
          "color": "grey",
          "size": 50
         },
         "textposition": "middle center",
         "type": "scatter",
         "x": [
          106098
         ],
         "xaxis": "x",
         "y": [
          8758971
         ],
         "yaxis": "y"
        },
        {
         "hoverinfo": "text",
         "hovertemplate": "x=%{x}<br>y=%{y}<br>text=%{text}<extra></extra>",
         "legendgroup": "",
         "marker": {
          "color": "#470945",
          "symbol": "circle"
         },
         "mode": "markers+text",
         "name": "",
         "orientation": "v",
         "showlegend": false,
         "text": [
          "🏳️"
         ],
         "textfont": {
          "color": "grey",
          "size": 50
         },
         "textposition": "middle center",
         "type": "scatter",
         "x": [
          103500
         ],
         "xaxis": "x",
         "y": [
          5093520
         ],
         "yaxis": "y"
        },
        {
         "hoverinfo": "text",
         "hovertemplate": "x=%{x}<br>y=%{y}<br>text=%{text}<extra></extra>",
         "legendgroup": "",
         "marker": {
          "color": "#470945",
          "symbol": "circle"
         },
         "mode": "markers+text",
         "name": "",
         "orientation": "v",
         "showlegend": false,
         "text": [
          "🏳️"
         ],
         "textfont": {
          "color": "grey",
          "size": 50
         },
         "textposition": "middle center",
         "type": "scatter",
         "x": [
          90434
         ],
         "xaxis": "x",
         "y": [
          5432701
         ],
         "yaxis": "y"
        },
        {
         "hoverinfo": "text",
         "hovertemplate": "x=%{x}<br>y=%{y}<br>text=%{text}<extra></extra>",
         "legendgroup": "",
         "marker": {
          "color": "#470945",
          "symbol": "circle"
         },
         "mode": "markers+text",
         "name": "",
         "orientation": "v",
         "showlegend": false,
         "text": [
          "🏳️"
         ],
         "textfont": {
          "color": "grey",
          "size": 50
         },
         "textposition": "middle center",
         "type": "scatter",
         "x": [
          89370
         ],
         "xaxis": "x",
         "y": [
          5847649
         ],
         "yaxis": "y"
        },
        {
         "hoverinfo": "text",
         "hovertemplate": "x=%{x}<br>y=%{y}<br>text=%{text}<extra></extra>",
         "legendgroup": "",
         "marker": {
          "color": "#470945",
          "symbol": "circle"
         },
         "mode": "markers+text",
         "name": "",
         "orientation": "v",
         "showlegend": false,
         "text": [
          "🏳️"
         ],
         "textfont": {
          "color": "grey",
          "size": 50
         },
         "textposition": "middle center",
         "type": "scatter",
         "x": [
          86601
         ],
         "xaxis": "x",
         "y": [
          332403650
         ],
         "yaxis": "y"
        },
        {
         "hoverinfo": "text",
         "hovertemplate": "x=%{x}<br>y=%{y}<br>text=%{text}<extra></extra>",
         "legendgroup": "",
         "marker": {
          "color": "#470945",
          "symbol": "circle"
         },
         "mode": "markers+text",
         "name": "",
         "orientation": "v",
         "showlegend": false,
         "text": [
          "🏳️"
         ],
         "textfont": {
          "color": "grey",
          "size": 50
         },
         "textposition": "middle center",
         "type": "scatter",
         "x": [
          85787
         ],
         "xaxis": "x",
         "y": [
          375318
         ],
         "yaxis": "y"
        },
        {
         "hoverinfo": "text",
         "hovertemplate": "x=%{x}<br>y=%{y}<br>text=%{text}<extra></extra>",
         "legendgroup": "",
         "marker": {
          "color": "#470945",
          "symbol": "circle"
         },
         "mode": "markers+text",
         "name": "",
         "orientation": "v",
         "showlegend": false,
         "text": [
          "🏳️"
         ],
         "textfont": {
          "color": "grey",
          "size": 50
         },
         "textposition": "middle center",
         "type": "scatter",
         "x": [
          77186
         ],
         "xaxis": "x",
         "y": [
          682100
         ],
         "yaxis": "y"
        },
        {
         "hoverinfo": "text",
         "hovertemplate": "x=%{x}<br>y=%{y}<br>text=%{text}<extra></extra>",
         "legendgroup": "",
         "marker": {
          "color": "#470945",
          "symbol": "circle"
         },
         "mode": "markers+text",
         "name": "",
         "orientation": "v",
         "showlegend": false,
         "text": [
          "🏳️"
         ],
         "textfont": {
          "color": "grey",
          "size": 50
         },
         "textposition": "middle center",
         "type": "scatter",
         "x": [
          71568
         ],
         "xaxis": "x",
         "y": [
          2889287
         ],
         "yaxis": "y"
        },
        {
         "hoverinfo": "text",
         "hovertemplate": "x=%{x}<br>y=%{y}<br>text=%{text}<extra></extra>",
         "legendgroup": "",
         "marker": {
          "color": "#470945",
          "symbol": "circle"
         },
         "mode": "markers+text",
         "name": "",
         "orientation": "v",
         "showlegend": false,
         "text": [
          "🏳️"
         ],
         "textfont": {
          "color": "grey",
          "size": 50
         },
         "textposition": "middle center",
         "type": "scatter",
         "x": [
          69273
         ],
         "xaxis": "x",
         "y": [
          5860707
         ],
         "yaxis": "y"
        },
        {
         "hoverinfo": "text",
         "hovertemplate": "x=%{x}<br>y=%{y}<br>text=%{text}<extra></extra>",
         "legendgroup": "",
         "marker": {
          "color": "#470945",
          "symbol": "circle"
         },
         "mode": "markers+text",
         "name": "",
         "orientation": "v",
         "showlegend": false,
         "text": [
          "🏳️"
         ],
         "textfont": {
          "color": "grey",
          "size": 50
         },
         "textposition": "middle center",
         "type": "scatter",
         "x": [
          67984
         ],
         "xaxis": "x",
         "y": [
          17665602
         ],
         "yaxis": "y"
        },
        {
         "hoverinfo": "text",
         "hovertemplate": "x=%{x}<br>y=%{y}<br>text=%{text}<extra></extra>",
         "legendgroup": "",
         "marker": {
          "color": "#470945",
          "symbol": "circle"
         },
         "mode": "markers+text",
         "name": "",
         "orientation": "v",
         "showlegend": false,
         "text": [
          "🏳️"
         ],
         "textfont": {
          "color": "grey",
          "size": 50
         },
         "textposition": "middle center",
         "type": "scatter",
         "x": [
          65966
         ],
         "xaxis": "x",
         "y": [
          26160180
         ],
         "yaxis": "y"
        },
        {
         "hoverinfo": "text",
         "hovertemplate": "x=%{x}<br>y=%{y}<br>text=%{text}<extra></extra>",
         "legendgroup": "",
         "marker": {
          "color": "#470945",
          "symbol": "circle"
         },
         "mode": "markers+text",
         "name": "",
         "orientation": "v",
         "showlegend": false,
         "text": [
          "🏳️"
         ],
         "textfont": {
          "color": "grey",
          "size": 50
         },
         "textposition": "middle center",
         "type": "scatter",
         "x": [
          59841
         ],
         "xaxis": "x",
         "y": [
          34471
         ],
         "yaxis": "y"
        },
        {
         "hoverinfo": "text",
         "hovertemplate": "x=%{x}<br>y=%{y}<br>text=%{text}<extra></extra>",
         "legendgroup": "",
         "marker": {
          "color": "#470945",
          "symbol": "circle"
         },
         "mode": "markers+text",
         "name": "",
         "orientation": "v",
         "showlegend": false,
         "text": [
          "🏳️"
         ],
         "textfont": {
          "color": "grey",
          "size": 50
         },
         "textposition": "middle center",
         "type": "scatter",
         "x": [
          58669
         ],
         "xaxis": "x",
         "y": [
          9093950
         ],
         "yaxis": "y"
        },
        {
         "hoverinfo": "text",
         "hovertemplate": "x=%{x}<br>y=%{y}<br>text=%{text}<extra></extra>",
         "legendgroup": "",
         "marker": {
          "color": "#470945",
          "symbol": "circle"
         },
         "mode": "markers+text",
         "name": "",
         "orientation": "v",
         "showlegend": false,
         "text": [
          "🏳️"
         ],
         "textfont": {
          "color": "grey",
          "size": 50
         },
         "textposition": "middle center",
         "type": "scatter",
         "x": [
          57213
         ],
         "xaxis": "x",
         "y": [
          10468138
         ],
         "yaxis": "y"
        },
        {
         "hoverinfo": "text",
         "hovertemplate": "x=%{x}<br>y=%{y}<br>text=%{text}<extra></extra>",
         "legendgroup": "",
         "marker": {
          "color": "#470945",
          "symbol": "circle"
         },
         "mode": "markers+text",
         "name": "",
         "orientation": "v",
         "showlegend": false,
         "text": [
          "🏳️"
         ],
         "textfont": {
          "color": "grey",
          "size": 50
         },
         "textposition": "middle center",
         "type": "scatter",
         "x": [
          56129
         ],
         "xaxis": "x",
         "y": [
          11592625
         ],
         "yaxis": "y"
        },
        {
         "hoverinfo": "text",
         "hovertemplate": "x=%{x}<br>y=%{y}<br>text=%{text}<extra></extra>",
         "legendgroup": "",
         "marker": {
          "color": "#470945",
          "symbol": "circle"
         },
         "mode": "markers+text",
         "name": "",
         "orientation": "v",
         "showlegend": false,
         "text": [
          "🏳️"
         ],
         "textfont": {
          "color": "grey",
          "size": 50
         },
         "textposition": "middle center",
         "type": "scatter",
         "x": [
          55521
         ],
         "xaxis": "x",
         "y": [
          83149300
         ],
         "yaxis": "y"
        },
        {
         "hoverinfo": "text",
         "hovertemplate": "x=%{x}<br>y=%{y}<br>text=%{text}<extra></extra>",
         "legendgroup": "",
         "marker": {
          "color": "#470945",
          "symbol": "circle"
         },
         "mode": "markers+text",
         "name": "",
         "orientation": "v",
         "showlegend": false,
         "text": [
          "🏳️"
         ],
         "textfont": {
          "color": "grey",
          "size": 50
         },
         "textposition": "middle center",
         "type": "scatter",
         "x": [
          54774
         ],
         "xaxis": "x",
         "y": [
          5536190
         ],
         "yaxis": "y"
        },
        {
         "hoverinfo": "text",
         "hovertemplate": "x=%{x}<br>y=%{y}<br>text=%{text}<extra></extra>",
         "legendgroup": "",
         "marker": {
          "color": "#470945",
          "symbol": "circle"
         },
         "mode": "markers+text",
         "name": "",
         "orientation": "v",
         "showlegend": false,
         "text": [
          "🏳️"
         ],
         "textfont": {
          "color": "grey",
          "size": 50
         },
         "textposition": "middle center",
         "type": "scatter",
         "x": [
          53834
         ],
         "xaxis": "x",
         "y": [
          38418619
         ],
         "yaxis": "y"
        },
        {
         "hoverinfo": "text",
         "hovertemplate": "x=%{x}<br>y=%{y}<br>text=%{text}<extra></extra>",
         "legendgroup": "",
         "marker": {
          "color": "#470945",
          "symbol": "circle"
         },
         "mode": "markers+text",
         "name": "",
         "orientation": "v",
         "showlegend": false,
         "text": [
          "🏳️"
         ],
         "textfont": {
          "color": "grey",
          "size": 50
         },
         "textposition": "middle center",
         "type": "scatter",
         "x": [
          53165
         ],
         "xaxis": "x",
         "y": [
          7431021
         ],
         "yaxis": "y"
        },
        {
         "hoverinfo": "text",
         "hovertemplate": "x=%{x}<br>y=%{y}<br>text=%{text}<extra></extra>",
         "legendgroup": "",
         "marker": {
          "color": "#470945",
          "symbol": "circle"
         },
         "mode": "markers+text",
         "name": "",
         "orientation": "v",
         "showlegend": false,
         "text": [
          "🏳️"
         ],
         "textfont": {
          "color": "grey",
          "size": 50
         },
         "textposition": "middle center",
         "type": "scatter",
         "x": [
          53111
         ],
         "xaxis": "x",
         "y": [
          9845500
         ],
         "yaxis": "y"
        },
        {
         "hoverinfo": "text",
         "hovertemplate": "x=%{x}<br>y=%{y}<br>text=%{text}<extra></extra>",
         "legendgroup": "",
         "marker": {
          "color": "#470945",
          "symbol": "circle"
         },
         "mode": "markers+text",
         "name": "",
         "orientation": "v",
         "showlegend": false,
         "text": [
          "🏳️"
         ],
         "textfont": {
          "color": "grey",
          "size": 50
         },
         "textposition": "middle center",
         "type": "scatter",
         "x": [
          52423
         ],
         "xaxis": "x",
         "y": [
          67322169
         ],
         "yaxis": "y"
        },
        {
         "hoverinfo": "text",
         "hovertemplate": "x=%{x}<br>y=%{y}<br>text=%{text}<extra></extra>",
         "legendgroup": "",
         "marker": {
          "color": "#470945",
          "symbol": "circle"
         },
         "mode": "markers+text",
         "name": "",
         "orientation": "v",
         "showlegend": false,
         "text": [
          "🏳️"
         ],
         "textfont": {
          "color": "grey",
          "size": 50
         },
         "textposition": "middle center",
         "type": "scatter",
         "x": [
          49550
         ],
         "xaxis": "x",
         "y": [
          9948395
         ],
         "yaxis": "y"
        },
        {
         "hoverinfo": "text",
         "hovertemplate": "x=%{x}<br>y=%{y}<br>text=%{text}<extra></extra>",
         "legendgroup": "",
         "marker": {
          "color": "#470945",
          "symbol": "circle"
         },
         "mode": "markers+text",
         "name": "",
         "orientation": "v",
         "showlegend": false,
         "text": [
          "🏳️"
         ],
         "textfont": {
          "color": "grey",
          "size": 50
         },
         "textposition": "middle center",
         "type": "scatter",
         "x": [
          48012
         ],
         "xaxis": "x",
         "y": [
          65468855
         ],
         "yaxis": "y"
        },
        {
         "hoverinfo": "text",
         "hovertemplate": "x=%{x}<br>y=%{y}<br>text=%{text}<extra></extra>",
         "legendgroup": "",
         "marker": {
          "color": "#470945",
          "symbol": "circle"
         },
         "mode": "markers+text",
         "name": "",
         "orientation": "v",
         "showlegend": false,
         "text": [
          "🏳️"
         ],
         "textfont": {
          "color": "grey",
          "size": 50
         },
         "textposition": "middle center",
         "type": "scatter",
         "x": [
          47072
         ],
         "xaxis": "x",
         "y": [
          5254610
         ],
         "yaxis": "y"
        },
        {
         "hoverinfo": "text",
         "hovertemplate": "x=%{x}<br>y=%{y}<br>text=%{text}<extra></extra>",
         "legendgroup": "",
         "marker": {
          "color": "#470945",
          "symbol": "circle"
         },
         "mode": "markers+text",
         "name": "",
         "orientation": "v",
         "showlegend": false,
         "text": [
          "🏳️"
         ],
         "textfont": {
          "color": "grey",
          "size": 50
         },
         "textposition": "middle center",
         "type": "scatter",
         "x": [
          45279
         ],
         "xaxis": "x",
         "y": [
          79245
         ],
         "yaxis": "y"
        },
        {
         "hoverinfo": "text",
         "hovertemplate": "x=%{x}<br>y=%{y}<br>text=%{text}<extra></extra>",
         "legendgroup": "",
         "marker": {
          "color": "#470945",
          "symbol": "circle"
         },
         "mode": "markers+text",
         "name": "",
         "orientation": "v",
         "showlegend": false,
         "text": [
          "🏳️"
         ],
         "textfont": {
          "color": "grey",
          "size": 50
         },
         "textposition": "middle center",
         "type": "scatter",
         "x": [
          44140
         ],
         "xaxis": "x",
         "y": [
          535800
         ],
         "yaxis": "y"
        },
        {
         "hoverinfo": "text",
         "hovertemplate": "x=%{x}<br>y=%{y}<br>text=%{text}<extra></extra>",
         "legendgroup": "",
         "marker": {
          "color": "#470945",
          "symbol": "circle"
         },
         "mode": "markers+text",
         "name": "",
         "orientation": "v",
         "showlegend": false,
         "text": [
          "🏳️"
         ],
         "textfont": {
          "color": "grey",
          "size": 50
         },
         "textposition": "middle center",
         "type": "scatter",
         "x": [
          40287
         ],
         "xaxis": "x",
         "y": [
          58871980
         ],
         "yaxis": "y"
        },
        {
         "hoverinfo": "text",
         "hovertemplate": "x=%{x}<br>y=%{y}<br>text=%{text}<extra></extra>",
         "legendgroup": "",
         "marker": {
          "color": "#470945",
          "symbol": "circle"
         },
         "mode": "markers+text",
         "name": "",
         "orientation": "v",
         "showlegend": false,
         "text": [
          "🏳️"
         ],
         "textfont": {
          "color": "grey",
          "size": 50
         },
         "textposition": "middle center",
         "type": "scatter",
         "x": [
          39697
         ],
         "xaxis": "x",
         "y": [
          107609
         ],
         "yaxis": "y"
        },
        {
         "hoverinfo": "text",
         "hovertemplate": "x=%{x}<br>y=%{y}<br>text=%{text}<extra></extra>",
         "legendgroup": "",
         "marker": {
          "color": "#470945",
          "symbol": "circle"
         },
         "mode": "markers+text",
         "name": "",
         "orientation": "v",
         "showlegend": false,
         "text": [
          "🏳️"
         ],
         "textfont": {
          "color": "grey",
          "size": 50
         },
         "textposition": "middle center",
         "type": "scatter",
         "x": [
          37926
         ],
         "xaxis": "x",
         "y": [
          3193694
         ],
         "yaxis": "y"
        },
        {
         "hoverinfo": "text",
         "hovertemplate": "x=%{x}<br>y=%{y}<br>text=%{text}<extra></extra>",
         "legendgroup": "",
         "marker": {
          "color": "#470945",
          "symbol": "circle"
         },
         "mode": "markers+text",
         "name": "",
         "orientation": "v",
         "showlegend": false,
         "text": [
          "🏳️"
         ],
         "textfont": {
          "color": "grey",
          "size": 50
         },
         "textposition": "middle center",
         "type": "scatter",
         "x": [
          37767
         ],
         "xaxis": "x",
         "y": [
          1208045
         ],
         "yaxis": "y"
        },
        {
         "hoverinfo": "text",
         "hovertemplate": "x=%{x}<br>y=%{y}<br>text=%{text}<extra></extra>",
         "legendgroup": "",
         "marker": {
          "color": "#470945",
          "symbol": "circle"
         },
         "mode": "markers+text",
         "name": "",
         "orientation": "v",
         "showlegend": false,
         "text": [
          "🏳️"
         ],
         "textfont": {
          "color": "grey",
          "size": 50
         },
         "textposition": "middle center",
         "type": "scatter",
         "x": [
          36322
         ],
         "xaxis": "x",
         "y": [
          409984
         ],
         "yaxis": "y"
        },
        {
         "hoverinfo": "text",
         "hovertemplate": "x=%{x}<br>y=%{y}<br>text=%{text}<extra></extra>",
         "legendgroup": "",
         "marker": {
          "color": "#470945",
          "symbol": "circle"
         },
         "mode": "markers+text",
         "name": "",
         "orientation": "v",
         "showlegend": false,
         "text": [
          "🏳️"
         ],
         "textfont": {
          "color": "grey",
          "size": 50
         },
         "textposition": "middle center",
         "type": "scatter",
         "x": [
          36132
         ],
         "xaxis": "x",
         "y": [
          51835351
         ],
         "yaxis": "y"
        },
        {
         "hoverinfo": "text",
         "hovertemplate": "x=%{x}<br>y=%{y}<br>text=%{text}<extra></extra>",
         "legendgroup": "",
         "marker": {
          "color": "#470945",
          "symbol": "circle"
         },
         "mode": "markers+text",
         "name": "",
         "orientation": "v",
         "showlegend": false,
         "text": [
          "🏳️"
         ],
         "textfont": {
          "color": "grey",
          "size": 50
         },
         "textposition": "middle center",
         "type": "scatter",
         "x": [
          35789
         ],
         "xaxis": "x",
         "y": [
          47423841
         ],
         "yaxis": "y"
        },
        {
         "hoverinfo": "text",
         "hovertemplate": "x=%{x}<br>y=%{y}<br>text=%{text}<extra></extra>",
         "legendgroup": "",
         "marker": {
          "color": "#470945",
          "symbol": "circle"
         },
         "mode": "markers+text",
         "name": "",
         "orientation": "v",
         "showlegend": false,
         "text": [
          "🏳️"
         ],
         "textfont": {
          "color": "grey",
          "size": 50
         },
         "textposition": "middle center",
         "type": "scatter",
         "x": [
          34872
         ],
         "xaxis": "x",
         "y": [
          445439
         ],
         "yaxis": "y"
        },
        {
         "hoverinfo": "text",
         "hovertemplate": "x=%{x}<br>y=%{y}<br>text=%{text}<extra></extra>",
         "legendgroup": "",
         "marker": {
          "color": "#470945",
          "symbol": "circle"
         },
         "mode": "markers+text",
         "name": "",
         "orientation": "v",
         "showlegend": false,
         "text": [
          "🏳️"
         ],
         "textfont": {
          "color": "grey",
          "size": 50
         },
         "textposition": "middle center",
         "type": "scatter",
         "x": [
          34544
         ],
         "xaxis": "x",
         "y": [
          2117726
         ],
         "yaxis": "y"
        },
        {
         "hoverinfo": "text",
         "hovertemplate": "x=%{x}<br>y=%{y}<br>text=%{text}<extra></extra>",
         "legendgroup": "",
         "marker": {
          "color": "#470945",
          "symbol": "circle"
         },
         "mode": "markers+text",
         "name": "",
         "orientation": "v",
         "showlegend": false,
         "text": [
          "🏳️"
         ],
         "textfont": {
          "color": "grey",
          "size": 50
         },
         "textposition": "middle center",
         "type": "scatter",
         "x": [
          33234
         ],
         "xaxis": "x",
         "y": [
          23894238
         ],
         "yaxis": "y"
        },
        {
         "hoverinfo": "text",
         "hovertemplate": "x=%{x}<br>y=%{y}<br>text=%{text}<extra></extra>",
         "legendgroup": "",
         "marker": {
          "color": "#470945",
          "symbol": "circle"
         },
         "mode": "markers+text",
         "name": "",
         "orientation": "v",
         "showlegend": false,
         "text": [
          "🏳️"
         ],
         "textfont": {
          "color": "grey",
          "size": 50
         },
         "textposition": "middle center",
         "type": "scatter",
         "x": [
          32881
         ],
         "xaxis": "x",
         "y": [
          35837747
         ],
         "yaxis": "y"
        },
        {
         "hoverinfo": "text",
         "hovertemplate": "x=%{x}<br>y=%{y}<br>text=%{text}<extra></extra>",
         "legendgroup": "",
         "marker": {
          "color": "#470945",
          "symbol": "circle"
         },
         "mode": "markers+text",
         "name": "",
         "orientation": "v",
         "showlegend": false,
         "text": [
          "🏳️"
         ],
         "textfont": {
          "color": "grey",
          "size": 50
         },
         "textposition": "middle center",
         "type": "scatter",
         "x": [
          32859
         ],
         "xaxis": "x",
         "y": [
          124214719
         ],
         "yaxis": "y"
        },
        {
         "hoverinfo": "text",
         "hovertemplate": "x=%{x}<br>y=%{y}<br>text=%{text}<extra></extra>",
         "legendgroup": "",
         "marker": {
          "color": "#470945",
          "symbol": "circle"
         },
         "mode": "markers+text",
         "name": "",
         "orientation": "v",
         "showlegend": false,
         "text": [
          "🏳️"
         ],
         "textfont": {
          "color": "grey",
          "size": 50
         },
         "textposition": "middle center",
         "type": "scatter",
         "x": [
          32290
         ],
         "xaxis": "x",
         "y": [
          4573532
         ],
         "yaxis": "y"
        },
        {
         "hoverinfo": "text",
         "hovertemplate": "x=%{x}<br>y=%{y}<br>text=%{text}<extra></extra>",
         "legendgroup": "",
         "marker": {
          "color": "#470945",
          "symbol": "circle"
         },
         "mode": "markers+text",
         "name": "",
         "orientation": "v",
         "showlegend": false,
         "text": [
          "🏳️"
         ],
         "textfont": {
          "color": "grey",
          "size": 50
         },
         "textposition": "middle center",
         "type": "scatter",
         "x": [
          31531
         ],
         "xaxis": "x",
         "y": [
          1327579
         ],
         "yaxis": "y"
        },
        {
         "hoverinfo": "text",
         "hovertemplate": "x=%{x}<br>y=%{y}<br>text=%{text}<extra></extra>",
         "legendgroup": "",
         "marker": {
          "color": "#470945",
          "symbol": "circle"
         },
         "mode": "markers+text",
         "name": "",
         "orientation": "v",
         "showlegend": false,
         "text": [
          "🏳️"
         ],
         "textfont": {
          "color": "grey",
          "size": 50
         },
         "textposition": "middle center",
         "type": "scatter",
         "x": [
          31366
         ],
         "xaxis": "x",
         "y": [
          10693939
         ],
         "yaxis": "y"
        },
        {
         "hoverinfo": "text",
         "hovertemplate": "x=%{x}<br>y=%{y}<br>text=%{text}<extra></extra>",
         "legendgroup": "",
         "marker": {
          "color": "#470945",
          "symbol": "circle"
         },
         "mode": "markers+text",
         "name": "",
         "orientation": "v",
         "showlegend": false,
         "text": [
          "🏳️"
         ],
         "textfont": {
          "color": "grey",
          "size": 50
         },
         "textposition": "middle center",
         "type": "scatter",
         "x": [
          29573
         ],
         "xaxis": "x",
         "y": [
          1518412
         ],
         "yaxis": "y"
        },
        {
         "hoverinfo": "text",
         "hovertemplate": "x=%{x}<br>y=%{y}<br>text=%{text}<extra></extra>",
         "legendgroup": "",
         "marker": {
          "color": "#470945",
          "symbol": "circle"
         },
         "mode": "markers+text",
         "name": "",
         "orientation": "v",
         "showlegend": false,
         "text": [
          "🏳️"
         ],
         "textfont": {
          "color": "grey",
          "size": 50
         },
         "textposition": "middle center",
         "type": "scatter",
         "x": [
          29341
         ],
         "xaxis": "x",
         "y": [
          10287999
         ],
         "yaxis": "y"
        },
        {
         "hoverinfo": "text",
         "hovertemplate": "x=%{x}<br>y=%{y}<br>text=%{text}<extra></extra>",
         "legendgroup": "",
         "marker": {
          "color": "#470945",
          "symbol": "circle"
         },
         "mode": "markers+text",
         "name": "",
         "orientation": "v",
         "showlegend": false,
         "text": [
          "🏳️"
         ],
         "textfont": {
          "color": "grey",
          "size": 50
         },
         "textposition": "middle center",
         "type": "scatter",
         "x": [
          28921
         ],
         "xaxis": "x",
         "y": [
          800584
         ],
         "yaxis": "y"
        },
        {
         "hoverinfo": "text",
         "hovertemplate": "x=%{x}<br>y=%{y}<br>text=%{text}<extra></extra>",
         "legendgroup": "",
         "marker": {
          "color": "#470945",
          "symbol": "circle"
         },
         "mode": "markers+text",
         "name": "",
         "orientation": "v",
         "showlegend": false,
         "text": [
          "🏳️"
         ],
         "textfont": {
          "color": "grey",
          "size": 50
         },
         "textposition": "middle center",
         "type": "scatter",
         "x": [
          28713
         ],
         "xaxis": "x",
         "y": [
          2607287
         ],
         "yaxis": "y"
        },
        {
         "hoverinfo": "text",
         "hovertemplate": "x=%{x}<br>y=%{y}<br>text=%{text}<extra></extra>",
         "legendgroup": "",
         "marker": {
          "color": "#470945",
          "symbol": "circle"
         },
         "mode": "markers+text",
         "name": "",
         "orientation": "v",
         "showlegend": false,
         "text": [
          "🏳️"
         ],
         "textfont": {
          "color": "grey",
          "size": 50
         },
         "textposition": "middle center",
         "type": "scatter",
         "x": [
          26290
         ],
         "xaxis": "x",
         "y": [
          5442288
         ],
         "yaxis": "y"
        },
        {
         "hoverinfo": "text",
         "hovertemplate": "x=%{x}<br>y=%{y}<br>text=%{text}<extra></extra>",
         "legendgroup": "",
         "marker": {
          "color": "#470945",
          "symbol": "circle"
         },
         "mode": "markers+text",
         "name": "",
         "orientation": "v",
         "showlegend": false,
         "text": [
          "🏳️"
         ],
         "textfont": {
          "color": "grey",
          "size": 50
         },
         "textposition": "middle center",
         "type": "scatter",
         "x": [
          24759
         ],
         "xaxis": "x",
         "y": [
          281197
         ],
         "yaxis": "y"
        },
        {
         "hoverinfo": "text",
         "hovertemplate": "x=%{x}<br>y=%{y}<br>text=%{text}<extra></extra>",
         "legendgroup": "",
         "marker": {
          "color": "#470945",
          "symbol": "circle"
         },
         "mode": "markers+text",
         "name": "",
         "orientation": "v",
         "showlegend": false,
         "text": [
          "🏳️"
         ],
         "textfont": {
          "color": "grey",
          "size": 50
         },
         "textposition": "middle center",
         "type": "scatter",
         "x": [
          24342
         ],
         "xaxis": "x",
         "y": [
          10228183
         ],
         "yaxis": "y"
        },
        {
         "hoverinfo": "text",
         "hovertemplate": "x=%{x}<br>y=%{y}<br>text=%{text}<extra></extra>",
         "legendgroup": "",
         "marker": {
          "color": "#470945",
          "symbol": "circle"
         },
         "mode": "markers+text",
         "name": "",
         "orientation": "v",
         "showlegend": false,
         "text": [
          "🏳️"
         ],
         "textfont": {
          "color": "grey",
          "size": 50
         },
         "textposition": "middle center",
         "type": "scatter",
         "x": [
          24223
         ],
         "xaxis": "x",
         "y": [
          1830145
         ],
         "yaxis": "y"
        },
        {
         "hoverinfo": "text",
         "hovertemplate": "x=%{x}<br>y=%{y}<br>text=%{text}<extra></extra>",
         "legendgroup": "",
         "marker": {
          "color": "#470945",
          "symbol": "circle"
         },
         "mode": "markers+text",
         "name": "",
         "orientation": "v",
         "showlegend": false,
         "text": [
          "🏳️"
         ],
         "textfont": {
          "color": "grey",
          "size": 50
         },
         "textposition": "middle center",
         "type": "scatter",
         "x": [
          24203
         ],
         "xaxis": "x",
         "y": [
          47800
         ],
         "yaxis": "y"
        },
        {
         "hoverinfo": "text",
         "hovertemplate": "x=%{x}<br>y=%{y}<br>text=%{text}<extra></extra>",
         "legendgroup": "",
         "marker": {
          "color": "#470945",
          "symbol": "circle"
         },
         "mode": "markers+text",
         "name": "",
         "orientation": "v",
         "showlegend": false,
         "text": [
          "🏳️"
         ],
         "textfont": {
          "color": "grey",
          "size": 50
         },
         "textposition": "middle center",
         "type": "scatter",
         "x": [
          23881
         ],
         "xaxis": "x",
         "y": [
          9750440
         ],
         "yaxis": "y"
        },
        {
         "hoverinfo": "text",
         "hovertemplate": "x=%{x}<br>y=%{y}<br>text=%{text}<extra></extra>",
         "legendgroup": "",
         "marker": {
          "color": "#470945",
          "symbol": "circle"
         },
         "mode": "markers+text",
         "name": "",
         "orientation": "v",
         "showlegend": false,
         "text": [
          "🏳️"
         ],
         "textfont": {
          "color": "grey",
          "size": 50
         },
         "textposition": "middle center",
         "type": "scatter",
         "x": [
          23563
         ],
         "xaxis": "x",
         "y": [
          37779798
         ],
         "yaxis": "y"
        },
        {
         "hoverinfo": "text",
         "hovertemplate": "x=%{x}<br>y=%{y}<br>text=%{text}<extra></extra>",
         "legendgroup": "",
         "marker": {
          "color": "#470945",
          "symbol": "circle"
         },
         "mode": "markers+text",
         "name": "",
         "orientation": "v",
         "showlegend": false,
         "text": [
          "🏳️"
         ],
         "textfont": {
          "color": "grey",
          "size": 50
         },
         "textposition": "middle center",
         "type": "scatter",
         "x": [
          23380
         ],
         "xaxis": "x",
         "y": [
          3711754
         ],
         "yaxis": "y"
        },
        {
         "hoverinfo": "text",
         "hovertemplate": "x=%{x}<br>y=%{y}<br>text=%{text}<extra></extra>",
         "legendgroup": "",
         "marker": {
          "color": "#470945",
          "symbol": "circle"
         },
         "mode": "markers+text",
         "name": "",
         "orientation": "v",
         "showlegend": false,
         "text": [
          "🏳️"
         ],
         "textfont": {
          "color": "grey",
          "size": 50
         },
         "textposition": "middle center",
         "type": "scatter",
         "x": [
          23053
         ],
         "xaxis": "x",
         "y": [
          3438010
         ],
         "yaxis": "y"
        },
        {
         "hoverinfo": "text",
         "hovertemplate": "x=%{x}<br>y=%{y}<br>text=%{text}<extra></extra>",
         "legendgroup": "",
         "marker": {
          "color": "#470945",
          "symbol": "circle"
         },
         "mode": "markers+text",
         "name": "",
         "orientation": "v",
         "showlegend": false,
         "text": [
          "🏳️"
         ],
         "textfont": {
          "color": "grey",
          "size": 50
         },
         "textposition": "middle center",
         "type": "scatter",
         "x": [
          22118
         ],
         "xaxis": "x",
         "y": [
          93900
         ],
         "yaxis": "y"
        },
        {
         "hoverinfo": "text",
         "hovertemplate": "x=%{x}<br>y=%{y}<br>text=%{text}<extra></extra>",
         "legendgroup": "",
         "marker": {
          "color": "#470945",
          "symbol": "circle"
         },
         "mode": "markers+text",
         "name": "",
         "orientation": "v",
         "showlegend": false,
         "text": [
          "🏳️"
         ],
         "textfont": {
          "color": "grey",
          "size": 50
         },
         "textposition": "middle center",
         "type": "scatter",
         "x": [
          21290
         ],
         "xaxis": "x",
         "y": [
          107118
         ],
         "yaxis": "y"
        },
        {
         "hoverinfo": "text",
         "hovertemplate": "x=%{x}<br>y=%{y}<br>text=%{text}<extra></extra>",
         "legendgroup": "",
         "marker": {
          "color": "#470945",
          "symbol": "circle"
         },
         "mode": "markers+text",
         "name": "",
         "orientation": "v",
         "showlegend": false,
         "text": [
          "🏳️"
         ],
         "textfont": {
          "color": "grey",
          "size": 50
         },
         "textposition": "middle center",
         "type": "scatter",
         "x": [
          20631
         ],
         "xaxis": "x",
         "y": [
          4765815
         ],
         "yaxis": "y"
        },
        {
         "hoverinfo": "text",
         "hovertemplate": "x=%{x}<br>y=%{y}<br>text=%{text}<extra></extra>",
         "legendgroup": "",
         "marker": {
          "color": "#470945",
          "symbol": "circle"
         },
         "mode": "markers+text",
         "name": "",
         "orientation": "v",
         "showlegend": false,
         "text": [
          "🏳️"
         ],
         "textfont": {
          "color": "grey",
          "size": 50
         },
         "textposition": "middle center",
         "type": "scatter",
         "x": [
          20089
         ],
         "xaxis": "x",
         "y": [
          19186270
         ],
         "yaxis": "y"
        },
        {
         "hoverinfo": "text",
         "hovertemplate": "x=%{x}<br>y=%{y}<br>text=%{text}<extra></extra>",
         "legendgroup": "",
         "marker": {
          "color": "#470945",
          "symbol": "circle"
         },
         "mode": "markers+text",
         "name": "",
         "orientation": "v",
         "showlegend": false,
         "text": [
          "🏳️"
         ],
         "textfont": {
          "color": "grey",
          "size": 50
         },
         "textposition": "middle center",
         "type": "scatter",
         "x": [
          19703
         ],
         "xaxis": "x",
         "y": [
          1443800
         ],
         "yaxis": "y"
        },
        {
         "hoverinfo": "text",
         "hovertemplate": "x=%{x}<br>y=%{y}<br>text=%{text}<extra></extra>",
         "legendgroup": "",
         "marker": {
          "color": "#470945",
          "symbol": "circle"
         },
         "mode": "markers+text",
         "name": "",
         "orientation": "v",
         "showlegend": false,
         "text": [
          "🏳️"
         ],
         "textfont": {
          "color": "grey",
          "size": 50
         },
         "textposition": "middle center",
         "type": "scatter",
         "x": [
          19369
         ],
         "xaxis": "x",
         "y": [
          4538489
         ],
         "yaxis": "y"
        },
        {
         "hoverinfo": "text",
         "hovertemplate": "x=%{x}<br>y=%{y}<br>text=%{text}<extra></extra>",
         "legendgroup": "",
         "marker": {
          "color": "#470945",
          "symbol": "circle"
         },
         "mode": "markers+text",
         "name": "",
         "orientation": "v",
         "showlegend": false,
         "text": [
          "🏳️"
         ],
         "textfont": {
          "color": "grey",
          "size": 50
         },
         "textposition": "middle center",
         "type": "scatter",
         "x": [
          17978
         ],
         "xaxis": "x",
         "y": [
          18300
         ],
         "yaxis": "y"
        },
        {
         "hoverinfo": "text",
         "hovertemplate": "x=%{x}<br>y=%{y}<br>text=%{text}<extra></extra>",
         "legendgroup": "",
         "marker": {
          "color": "#470945",
          "symbol": "circle"
         },
         "mode": "markers+text",
         "name": "",
         "orientation": "v",
         "showlegend": false,
         "text": [
          "🏳️"
         ],
         "textfont": {
          "color": "grey",
          "size": 50
         },
         "textposition": "middle center",
         "type": "scatter",
         "x": [
          17860
         ],
         "xaxis": "x",
         "y": [
          5247597
         ],
         "yaxis": "y"
        },
        {
         "hoverinfo": "text",
         "hovertemplate": "x=%{x}<br>y=%{y}<br>text=%{text}<extra></extra>",
         "legendgroup": "",
         "marker": {
          "color": "#470945",
          "symbol": "circle"
         },
         "mode": "markers+text",
         "name": "",
         "orientation": "v",
         "showlegend": false,
         "text": [
          "🏳️"
         ],
         "textfont": {
          "color": "grey",
          "size": 50
         },
         "textposition": "middle center",
         "type": "scatter",
         "x": [
          17287
         ],
         "xaxis": "x",
         "y": [
          521021
         ],
         "yaxis": "y"
        },
        {
         "hoverinfo": "text",
         "hovertemplate": "x=%{x}<br>y=%{y}<br>text=%{text}<extra></extra>",
         "legendgroup": "",
         "marker": {
          "color": "#470945",
          "symbol": "circle"
         },
         "mode": "markers+text",
         "name": "",
         "orientation": "v",
         "showlegend": false,
         "text": [
          "🏳️"
         ],
         "textfont": {
          "color": "grey",
          "size": 50
         },
         "textposition": "middle center",
         "type": "scatter",
         "x": [
          17069
         ],
         "xaxis": "x",
         "y": [
          6831547
         ],
         "yaxis": "y"
        },
        {
         "hoverinfo": "text",
         "hovertemplate": "x=%{x}<br>y=%{y}<br>text=%{text}<extra></extra>",
         "legendgroup": "",
         "marker": {
          "color": "#470945",
          "symbol": "circle"
         },
         "mode": "markers+text",
         "name": "",
         "orientation": "v",
         "showlegend": false,
         "text": [
          "🏳️"
         ],
         "textfont": {
          "color": "grey",
          "size": 50
         },
         "textposition": "middle center",
         "type": "scatter",
         "x": [
          16365
         ],
         "xaxis": "x",
         "y": [
          19493653
         ],
         "yaxis": "y"
        },
        {
         "hoverinfo": "text",
         "hovertemplate": "x=%{x}<br>y=%{y}<br>text=%{text}<extra></extra>",
         "legendgroup": "",
         "marker": {
          "color": "#470945",
          "symbol": "circle"
         },
         "mode": "markers+text",
         "name": "",
         "orientation": "v",
         "showlegend": false,
         "text": [
          "🏳️"
         ],
         "textfont": {
          "color": "grey",
          "size": 50
         },
         "textposition": "middle center",
         "type": "scatter",
         "x": [
          15666
         ],
         "xaxis": "x",
         "y": [
          86381148
         ],
         "yaxis": "y"
        },
        {
         "hoverinfo": "text",
         "hovertemplate": "x=%{x}<br>y=%{y}<br>text=%{text}<extra></extra>",
         "legendgroup": "",
         "marker": {
          "color": "#470945",
          "symbol": "circle"
         },
         "mode": "markers+text",
         "name": "",
         "orientation": "v",
         "showlegend": false,
         "text": [
          "🏳️"
         ],
         "textfont": {
          "color": "grey",
          "size": 50
         },
         "textposition": "middle center",
         "type": "scatter",
         "x": [
          14953
         ],
         "xaxis": "x",
         "y": [
          143377713
         ],
         "yaxis": "y"
        },
        {
         "hoverinfo": "text",
         "hovertemplate": "x=%{x}<br>y=%{y}<br>text=%{text}<extra></extra>",
         "legendgroup": "",
         "marker": {
          "color": "#470945",
          "symbol": "circle"
         },
         "mode": "markers+text",
         "name": "",
         "orientation": "v",
         "showlegend": false,
         "text": [
          "🏳️"
         ],
         "textfont": {
          "color": "grey",
          "size": 50
         },
         "textposition": "middle center",
         "type": "scatter",
         "x": [
          14570
         ],
         "xaxis": "x",
         "y": [
          19414835
         ],
         "yaxis": "y"
        },
        {
         "hoverinfo": "text",
         "hovertemplate": "x=%{x}<br>y=%{y}<br>text=%{text}<extra></extra>",
         "legendgroup": "",
         "marker": {
          "color": "#470945",
          "symbol": "circle"
         },
         "mode": "markers+text",
         "name": "",
         "orientation": "v",
         "showlegend": false,
         "text": [
          "🏳️"
         ],
         "textfont": {
          "color": "grey",
          "size": 50
         },
         "textposition": "middle center",
         "type": "scatter",
         "x": [
          14034
         ],
         "xaxis": "x",
         "y": [
          184400
         ],
         "yaxis": "y"
        },
        {
         "hoverinfo": "text",
         "hovertemplate": "x=%{x}<br>y=%{y}<br>text=%{text}<extra></extra>",
         "legendgroup": "",
         "marker": {
          "color": "#470945",
          "symbol": "circle"
         },
         "mode": "markers+text",
         "name": "",
         "orientation": "v",
         "showlegend": false,
         "text": [
          "🏳️"
         ],
         "textfont": {
          "color": "grey",
          "size": 50
         },
         "textposition": "middle center",
         "type": "scatter",
         "x": [
          13972
         ],
         "xaxis": "x",
         "y": [
          129259637
         ],
         "yaxis": "y"
        },
        {
         "hoverinfo": "text",
         "hovertemplate": "x=%{x}<br>y=%{y}<br>text=%{text}<extra></extra>",
         "legendgroup": "",
         "marker": {
          "color": "#470945",
          "symbol": "circle"
         },
         "mode": "markers+text",
         "name": "",
         "orientation": "v",
         "showlegend": false,
         "text": [
          "🏳️"
         ],
         "textfont": {
          "color": "grey",
          "size": 50
         },
         "textposition": "middle center",
         "type": "scatter",
         "x": [
          13142
         ],
         "xaxis": "x",
         "y": [
          33068491
         ],
         "yaxis": "y"
        },
        {
         "hoverinfo": "text",
         "hovertemplate": "x=%{x}<br>y=%{y}<br>text=%{text}<extra></extra>",
         "legendgroup": "",
         "marker": {
          "color": "#470945",
          "symbol": "circle"
         },
         "mode": "markers+text",
         "name": "",
         "orientation": "v",
         "showlegend": false,
         "text": [
          "🏳️"
         ],
         "textfont": {
          "color": "grey",
          "size": 50
         },
         "textposition": "middle center",
         "type": "scatter",
         "x": [
          12969
         ],
         "xaxis": "x",
         "y": [
          1404261667
         ],
         "yaxis": "y"
        },
        {
         "hoverinfo": "text",
         "hovertemplate": "x=%{x}<br>y=%{y}<br>text=%{text}<extra></extra>",
         "legendgroup": "",
         "marker": {
          "color": "#470945",
          "symbol": "circle"
         },
         "mode": "markers+text",
         "name": "",
         "orientation": "v",
         "showlegend": false,
         "text": [
          "🏳️"
         ],
         "textfont": {
          "color": "grey",
          "size": 50
         },
         "textposition": "middle center",
         "type": "scatter",
         "x": [
          12814
         ],
         "xaxis": "x",
         "y": [
          46674672
         ],
         "yaxis": "y"
        },
        {
         "hoverinfo": "text",
         "hovertemplate": "x=%{x}<br>y=%{y}<br>text=%{text}<extra></extra>",
         "legendgroup": "",
         "marker": {
          "color": "#470945",
          "symbol": "circle"
         },
         "mode": "markers+text",
         "name": "",
         "orientation": "v",
         "showlegend": false,
         "text": [
          "🏳️"
         ],
         "textfont": {
          "color": "grey",
          "size": 50
         },
         "textposition": "middle center",
         "type": "scatter",
         "x": [
          12802
         ],
         "xaxis": "x",
         "y": [
          617540
         ],
         "yaxis": "y"
        },
        {
         "hoverinfo": "text",
         "hovertemplate": "x=%{x}<br>y=%{y}<br>text=%{text}<extra></extra>",
         "legendgroup": "",
         "marker": {
          "color": "#470945",
          "symbol": "circle"
         },
         "mode": "markers+text",
         "name": "",
         "orientation": "v",
         "showlegend": false,
         "text": [
          "🏳️"
         ],
         "textfont": {
          "color": "grey",
          "size": 50
         },
         "textposition": "middle center",
         "type": "scatter",
         "x": [
          12713
         ],
         "xaxis": "x",
         "y": [
          6489600
         ],
         "yaxis": "y"
        },
        {
         "hoverinfo": "text",
         "hovertemplate": "x=%{x}<br>y=%{y}<br>text=%{text}<extra></extra>",
         "legendgroup": "",
         "marker": {
          "color": "#470945",
          "symbol": "circle"
         },
         "mode": "markers+text",
         "name": "",
         "orientation": "v",
         "showlegend": false,
         "text": [
          "🏳️"
         ],
         "textfont": {
          "color": "grey",
          "size": 50
         },
         "textposition": "middle center",
         "type": "scatter",
         "x": [
          12601
         ],
         "xaxis": "x",
         "y": [
          1265984
         ],
         "yaxis": "y"
        },
        {
         "hoverinfo": "text",
         "hovertemplate": "x=%{x}<br>y=%{y}<br>text=%{text}<extra></extra>",
         "legendgroup": "",
         "marker": {
          "color": "#470945",
          "symbol": "circle"
         },
         "mode": "markers+text",
         "name": "",
         "orientation": "v",
         "showlegend": false,
         "text": [
          "🏳️"
         ],
         "textfont": {
          "color": "grey",
          "size": 50
         },
         "textposition": "middle center",
         "type": "scatter",
         "x": [
          12514
         ],
         "xaxis": "x",
         "y": [
          6921270
         ],
         "yaxis": "y"
        },
        {
         "hoverinfo": "text",
         "hovertemplate": "x=%{x}<br>y=%{y}<br>text=%{text}<extra></extra>",
         "legendgroup": "",
         "marker": {
          "color": "#470945",
          "symbol": "circle"
         },
         "mode": "markers+text",
         "name": "",
         "orientation": "v",
         "showlegend": false,
         "text": [
          "🏳️"
         ],
         "textfont": {
          "color": "grey",
          "size": 50
         },
         "textposition": "middle center",
         "type": "scatter",
         "x": [
          12285
         ],
         "xaxis": "x",
         "y": [
          10800
         ],
         "yaxis": "y"
        },
        {
         "hoverinfo": "text",
         "hovertemplate": "x=%{x}<br>y=%{y}<br>text=%{text}<extra></extra>",
         "legendgroup": "",
         "marker": {
          "color": "#470945",
          "symbol": "circle"
         },
         "mode": "markers+text",
         "name": "",
         "orientation": "v",
         "showlegend": false,
         "text": [
          "🏳️"
         ],
         "textfont": {
          "color": "grey",
          "size": 50
         },
         "textposition": "middle center",
         "type": "scatter",
         "x": [
          12050
         ],
         "xaxis": "x",
         "y": [
          126920
         ],
         "yaxis": "y"
        },
        {
         "hoverinfo": "text",
         "hovertemplate": "x=%{x}<br>y=%{y}<br>text=%{text}<extra></extra>",
         "legendgroup": "",
         "marker": {
          "color": "#470945",
          "symbol": "circle"
         },
         "mode": "markers+text",
         "name": "",
         "orientation": "v",
         "showlegend": false,
         "text": [
          "🏳️"
         ],
         "textfont": {
          "color": "grey",
          "size": 50
         },
         "textposition": "middle center",
         "type": "scatter",
         "x": [
          11692
         ],
         "xaxis": "x",
         "y": [
          11006562
         ],
         "yaxis": "y"
        },
        {
         "hoverinfo": "text",
         "hovertemplate": "x=%{x}<br>y=%{y}<br>text=%{text}<extra></extra>",
         "legendgroup": "",
         "marker": {
          "color": "#470945",
          "symbol": "circle"
         },
         "mode": "markers+text",
         "name": "",
         "orientation": "v",
         "showlegend": false,
         "text": [
          "🏳️"
         ],
         "textfont": {
          "color": "grey",
          "size": 50
         },
         "textposition": "middle center",
         "type": "scatter",
         "x": [
          10558
         ],
         "xaxis": "x",
         "y": [
          101296
         ],
         "yaxis": "y"
        },
        {
         "hoverinfo": "text",
         "hovertemplate": "x=%{x}<br>y=%{y}<br>text=%{text}<extra></extra>",
         "legendgroup": "",
         "marker": {
          "color": "#470945",
          "symbol": "circle"
         },
         "mode": "markers+text",
         "name": "",
         "orientation": "v",
         "showlegend": false,
         "text": [
          "🏳️"
         ],
         "textfont": {
          "color": "grey",
          "size": 50
         },
         "textposition": "middle center",
         "type": "scatter",
         "x": [
          10296
         ],
         "xaxis": "x",
         "y": [
          214349717
         ],
         "yaxis": "y"
        },
        {
         "hoverinfo": "text",
         "hovertemplate": "x=%{x}<br>y=%{y}<br>text=%{text}<extra></extra>",
         "legendgroup": "",
         "marker": {
          "color": "#470945",
          "symbol": "circle"
         },
         "mode": "markers+text",
         "name": "",
         "orientation": "v",
         "showlegend": false,
         "text": [
          "🏳️"
         ],
         "textfont": {
          "color": "grey",
          "size": 50
         },
         "textposition": "middle center",
         "type": "scatter",
         "x": [
          9598
         ],
         "xaxis": "x",
         "y": [
          2815800
         ],
         "yaxis": "y"
        },
        {
         "hoverinfo": "text",
         "hovertemplate": "x=%{x}<br>y=%{y}<br>text=%{text}<extra></extra>",
         "legendgroup": "",
         "marker": {
          "color": "#470945",
          "symbol": "circle"
         },
         "mode": "markers+text",
         "name": "",
         "orientation": "v",
         "showlegend": false,
         "text": [
          "🏳️"
         ],
         "textfont": {
          "color": "grey",
          "size": 50
         },
         "textposition": "middle center",
         "type": "scatter",
         "x": [
          9392
         ],
         "xaxis": "x",
         "y": [
          71991
         ],
         "yaxis": "y"
        },
        {
         "hoverinfo": "text",
         "hovertemplate": "x=%{x}<br>y=%{y}<br>text=%{text}<extra></extra>",
         "legendgroup": "",
         "marker": {
          "color": "#470945",
          "symbol": "circle"
         },
         "mode": "markers+text",
         "name": "",
         "orientation": "v",
         "showlegend": false,
         "text": [
          "🏳️"
         ],
         "textfont": {
          "color": "grey",
          "size": 50
         },
         "textposition": "middle center",
         "type": "scatter",
         "x": [
          9257
         ],
         "xaxis": "x",
         "y": [
          2346690
         ],
         "yaxis": "y"
        },
        {
         "hoverinfo": "text",
         "hovertemplate": "x=%{x}<br>y=%{y}<br>text=%{text}<extra></extra>",
         "legendgroup": "",
         "marker": {
          "color": "#470945",
          "symbol": "circle"
         },
         "mode": "markers+text",
         "name": "",
         "orientation": "v",
         "showlegend": false,
         "text": [
          "🏳️"
         ],
         "textfont": {
          "color": "grey",
          "size": 50
         },
         "textposition": "middle center",
         "type": "scatter",
         "x": [
          8883
         ],
         "xaxis": "x",
         "y": [
          3645254
         ],
         "yaxis": "y"
        },
        {
         "hoverinfo": "text",
         "hovertemplate": "x=%{x}<br>y=%{y}<br>text=%{text}<extra></extra>",
         "legendgroup": "",
         "marker": {
          "color": "#470945",
          "symbol": "circle"
         },
         "mode": "markers+text",
         "name": "",
         "orientation": "v",
         "showlegend": false,
         "text": [
          "🏳️"
         ],
         "textfont": {
          "color": "grey",
          "size": 50
         },
         "textposition": "middle center",
         "type": "scatter",
         "x": [
          8659
         ],
         "xaxis": "x",
         "y": [
          2069200
         ],
         "yaxis": "y"
        },
        {
         "hoverinfo": "text",
         "hovertemplate": "x=%{x}<br>y=%{y}<br>text=%{text}<extra></extra>",
         "legendgroup": "",
         "marker": {
          "color": "#470945",
          "symbol": "circle"
         },
         "mode": "markers+text",
         "name": "",
         "orientation": "v",
         "showlegend": false,
         "text": [
          "🏳️"
         ],
         "textfont": {
          "color": "grey",
          "size": 50
         },
         "textposition": "middle center",
         "type": "scatter",
         "x": [
          8518
         ],
         "xaxis": "x",
         "y": [
          2880500
         ],
         "yaxis": "y"
        },
        {
         "hoverinfo": "text",
         "hovertemplate": "x=%{x}<br>y=%{y}<br>text=%{text}<extra></extra>",
         "legendgroup": "",
         "marker": {
          "color": "#470945",
          "symbol": "circle"
         },
         "mode": "markers+text",
         "name": "",
         "orientation": "v",
         "showlegend": false,
         "text": [
          "🏳️"
         ],
         "textfont": {
          "color": "grey",
          "size": 50
         },
         "textposition": "middle center",
         "type": "scatter",
         "x": [
          8316
         ],
         "xaxis": "x",
         "y": [
          33902325
         ],
         "yaxis": "y"
        },
        {
         "hoverinfo": "text",
         "hovertemplate": "x=%{x}<br>y=%{y}<br>text=%{text}<extra></extra>",
         "legendgroup": "",
         "marker": {
          "color": "#470945",
          "symbol": "circle"
         },
         "mode": "markers+text",
         "name": "",
         "orientation": "v",
         "showlegend": false,
         "text": [
          "🏳️"
         ],
         "textfont": {
          "color": "grey",
          "size": 50
         },
         "textposition": "middle center",
         "type": "scatter",
         "x": [
          8221
         ],
         "xaxis": "x",
         "y": [
          3289156
         ],
         "yaxis": "y"
        },
        {
         "hoverinfo": "text",
         "hovertemplate": "x=%{x}<br>y=%{y}<br>text=%{text}<extra></extra>",
         "legendgroup": "",
         "marker": {
          "color": "#470945",
          "symbol": "circle"
         },
         "mode": "markers+text",
         "name": "",
         "orientation": "v",
         "showlegend": false,
         "text": [
          "🏳️"
         ],
         "textfont": {
          "color": "grey",
          "size": 50
         },
         "textposition": "middle center",
         "type": "scatter",
         "x": [
          8133
         ],
         "xaxis": "x",
         "y": [
          438336
         ],
         "yaxis": "y"
        },
        {
         "hoverinfo": "text",
         "hovertemplate": "x=%{x}<br>y=%{y}<br>text=%{text}<extra></extra>",
         "legendgroup": "",
         "marker": {
          "color": "#470945",
          "symbol": "circle"
         },
         "mode": "markers+text",
         "name": "",
         "orientation": "v",
         "showlegend": false,
         "text": [
          "🏳️"
         ],
         "textfont": {
          "color": "grey",
          "size": 50
         },
         "textposition": "middle center",
         "type": "scatter",
         "x": [
          8102
         ],
         "xaxis": "x",
         "y": [
          1523344
         ],
         "yaxis": "y"
        },
        {
         "hoverinfo": "text",
         "hovertemplate": "x=%{x}<br>y=%{y}<br>text=%{text}<extra></extra>",
         "legendgroup": "",
         "marker": {
          "color": "#470945",
          "symbol": "circle"
         },
         "mode": "markers+text",
         "name": "",
         "orientation": "v",
         "showlegend": false,
         "text": [
          "🏳️"
         ],
         "textfont": {
          "color": "grey",
          "size": 50
         },
         "textposition": "middle center",
         "type": "scatter",
         "x": [
          8008
         ],
         "xaxis": "x",
         "y": [
          9389680
         ],
         "yaxis": "y"
        },
        {
         "hoverinfo": "text",
         "hovertemplate": "x=%{x}<br>y=%{y}<br>text=%{text}<extra></extra>",
         "legendgroup": "",
         "marker": {
          "color": "#470945",
          "symbol": "circle"
         },
         "mode": "markers+text",
         "name": "",
         "orientation": "v",
         "showlegend": false,
         "text": [
          "🏳️"
         ],
         "textfont": {
          "color": "grey",
          "size": 50
         },
         "textposition": "middle center",
         "type": "scatter",
         "x": [
          7917
         ],
         "xaxis": "x",
         "y": [
          53122953
         ],
         "yaxis": "y"
        },
        {
         "hoverinfo": "text",
         "hovertemplate": "x=%{x}<br>y=%{y}<br>text=%{text}<extra></extra>",
         "legendgroup": "",
         "marker": {
          "color": "#470945",
          "symbol": "circle"
         },
         "mode": "markers+text",
         "name": "",
         "orientation": "v",
         "showlegend": false,
         "text": [
          "🏳️"
         ],
         "textfont": {
          "color": "grey",
          "size": 50
         },
         "textposition": "middle center",
         "type": "scatter",
         "x": [
          7600
         ],
         "xaxis": "x",
         "y": [
          618040
         ],
         "yaxis": "y"
        },
        {
         "hoverinfo": "text",
         "hovertemplate": "x=%{x}<br>y=%{y}<br>text=%{text}<extra></extra>",
         "legendgroup": "",
         "marker": {
          "color": "#470945",
          "symbol": "circle"
         },
         "mode": "markers+text",
         "name": "",
         "orientation": "v",
         "showlegend": false,
         "text": [
          "🏳️"
         ],
         "textfont": {
          "color": "grey",
          "size": 50
         },
         "textposition": "middle center",
         "type": "scatter",
         "x": [
          7527
         ],
         "xaxis": "x",
         "y": [
          71509344
         ],
         "yaxis": "y"
        },
        {
         "hoverinfo": "text",
         "hovertemplate": "x=%{x}<br>y=%{y}<br>text=%{text}<extra></extra>",
         "legendgroup": "",
         "marker": {
          "color": "#470945",
          "symbol": "circle"
         },
         "mode": "markers+text",
         "name": "",
         "orientation": "v",
         "showlegend": false,
         "text": [
          "🏳️"
         ],
         "textfont": {
          "color": "grey",
          "size": 50
         },
         "textposition": "middle center",
         "type": "scatter",
         "x": [
          7487
         ],
         "xaxis": "x",
         "y": [
          2826710
         ],
         "yaxis": "y"
        },
        {
         "hoverinfo": "text",
         "hovertemplate": "x=%{x}<br>y=%{y}<br>text=%{text}<extra></extra>",
         "legendgroup": "",
         "marker": {
          "color": "#470945",
          "symbol": "circle"
         },
         "mode": "markers+text",
         "name": "",
         "orientation": "v",
         "showlegend": false,
         "text": [
          "🏳️"
         ],
         "textfont": {
          "color": "grey",
          "size": 50
         },
         "textposition": "middle center",
         "type": "scatter",
         "x": [
          7381
         ],
         "xaxis": "x",
         "y": [
          10217315
         ],
         "yaxis": "y"
        },
        {
         "hoverinfo": "text",
         "hovertemplate": "x=%{x}<br>y=%{y}<br>text=%{text}<extra></extra>",
         "legendgroup": "",
         "marker": {
          "color": "#470945",
          "symbol": "circle"
         },
         "mode": "markers+text",
         "name": "",
         "orientation": "v",
         "showlegend": false,
         "text": [
          "🏳️"
         ],
         "textfont": {
          "color": "grey",
          "size": 50
         },
         "textposition": "middle center",
         "type": "scatter",
         "x": [
          7368
         ],
         "xaxis": "x",
         "y": [
          2618378
         ],
         "yaxis": "y"
        },
        {
         "hoverinfo": "text",
         "hovertemplate": "x=%{x}<br>y=%{y}<br>text=%{text}<extra></extra>",
         "legendgroup": "",
         "marker": {
          "color": "#470945",
          "symbol": "circle"
         },
         "mode": "markers+text",
         "name": "",
         "orientation": "v",
         "showlegend": false,
         "text": [
          "🏳️"
         ],
         "textfont": {
          "color": "grey",
          "size": 50
         },
         "textposition": "middle center",
         "type": "scatter",
         "x": [
          7341
         ],
         "xaxis": "x",
         "y": [
          2614187
         ],
         "yaxis": "y"
        },
        {
         "hoverinfo": "text",
         "hovertemplate": "x=%{x}<br>y=%{y}<br>text=%{text}<extra></extra>",
         "legendgroup": "",
         "marker": {
          "color": "#470945",
          "symbol": "circle"
         },
         "mode": "markers+text",
         "name": "",
         "orientation": "v",
         "showlegend": false,
         "text": [
          "🏳️"
         ],
         "textfont": {
          "color": "grey",
          "size": 50
         },
         "textposition": "middle center",
         "type": "scatter",
         "x": [
          7190
         ],
         "xaxis": "x",
         "y": [
          11192
         ],
         "yaxis": "y"
        },
        {
         "hoverinfo": "text",
         "hovertemplate": "x=%{x}<br>y=%{y}<br>text=%{text}<extra></extra>",
         "legendgroup": "",
         "marker": {
          "color": "#470945",
          "symbol": "circle"
         },
         "mode": "markers+text",
         "name": "",
         "orientation": "v",
         "showlegend": false,
         "text": [
          "🏳️"
         ],
         "textfont": {
          "color": "grey",
          "size": 50
         },
         "textposition": "middle center",
         "type": "scatter",
         "x": [
          6850
         ],
         "xaxis": "x",
         "y": [
          59543
         ],
         "yaxis": "y"
        },
        {
         "hoverinfo": "text",
         "hovertemplate": "x=%{x}<br>y=%{y}<br>text=%{text}<extra></extra>",
         "legendgroup": "",
         "marker": {
          "color": "#470945",
          "symbol": "circle"
         },
         "mode": "markers+text",
         "name": "",
         "orientation": "v",
         "showlegend": false,
         "text": [
          "🏳️"
         ],
         "textfont": {
          "color": "grey",
          "size": 50
         },
         "textposition": "middle center",
         "type": "scatter",
         "x": [
          6758
         ],
         "xaxis": "x",
         "y": [
          18533865
         ],
         "yaxis": "y"
        },
        {
         "hoverinfo": "text",
         "hovertemplate": "x=%{x}<br>y=%{y}<br>text=%{text}<extra></extra>",
         "legendgroup": "",
         "marker": {
          "color": "#470945",
          "symbol": "circle"
         },
         "mode": "markers+text",
         "name": "",
         "orientation": "v",
         "showlegend": false,
         "text": [
          "🏳️"
         ],
         "textfont": {
          "color": "grey",
          "size": 50
         },
         "textposition": "middle center",
         "type": "scatter",
         "x": [
          6666
         ],
         "xaxis": "x",
         "y": [
          3383266
         ],
         "yaxis": "y"
        },
        {
         "hoverinfo": "text",
         "hovertemplate": "x=%{x}<br>y=%{y}<br>text=%{text}<extra></extra>",
         "legendgroup": "",
         "marker": {
          "color": "#470945",
          "symbol": "circle"
         },
         "mode": "markers+text",
         "name": "",
         "orientation": "v",
         "showlegend": false,
         "text": [
          "🏳️"
         ],
         "textfont": {
          "color": "grey",
          "size": 50
         },
         "textposition": "middle center",
         "type": "scatter",
         "x": [
          6482
         ],
         "xaxis": "x",
         "y": [
          6998130
         ],
         "yaxis": "y"
        },
        {
         "hoverinfo": "text",
         "hovertemplate": "x=%{x}<br>y=%{y}<br>text=%{text}<extra></extra>",
         "legendgroup": "",
         "marker": {
          "color": "#470945",
          "symbol": "circle"
         },
         "mode": "markers+text",
         "name": "",
         "orientation": "v",
         "showlegend": false,
         "text": [
          "🏳️"
         ],
         "textfont": {
          "color": "grey",
          "size": 50
         },
         "textposition": "middle center",
         "type": "scatter",
         "x": [
          6377
         ],
         "xaxis": "x",
         "y": [
          60142978
         ],
         "yaxis": "y"
        },
        {
         "hoverinfo": "text",
         "hovertemplate": "x=%{x}<br>y=%{y}<br>text=%{text}<extra></extra>",
         "legendgroup": "",
         "marker": {
          "color": "#470945",
          "symbol": "circle"
         },
         "mode": "markers+text",
         "name": "",
         "orientation": "v",
         "showlegend": false,
         "text": [
          "🏳️"
         ],
         "textfont": {
          "color": "grey",
          "size": 50
         },
         "textposition": "middle center",
         "type": "scatter",
         "x": [
          6334
         ],
         "xaxis": "x",
         "y": [
          1831000
         ],
         "yaxis": "y"
        },
        {
         "hoverinfo": "text",
         "hovertemplate": "x=%{x}<br>y=%{y}<br>text=%{text}<extra></extra>",
         "legendgroup": "",
         "marker": {
          "color": "#470945",
          "symbol": "circle"
         },
         "mode": "markers+text",
         "name": "",
         "orientation": "v",
         "showlegend": false,
         "text": [
          "🏳️"
         ],
         "textfont": {
          "color": "grey",
          "size": 50
         },
         "textposition": "middle center",
         "type": "scatter",
         "x": [
          6295
         ],
         "xaxis": "x",
         "y": [
          19544020
         ],
         "yaxis": "y"
        },
        {
         "hoverinfo": "text",
         "hovertemplate": "x=%{x}<br>y=%{y}<br>text=%{text}<extra></extra>",
         "legendgroup": "",
         "marker": {
          "color": "#470945",
          "symbol": "circle"
         },
         "mode": "markers+text",
         "name": "",
         "orientation": "v",
         "showlegend": false,
         "text": [
          "🏳️"
         ],
         "textfont": {
          "color": "grey",
          "size": 50
         },
         "textposition": "middle center",
         "type": "scatter",
         "x": [
          6257
         ],
         "xaxis": "x",
         "y": [
          929460
         ],
         "yaxis": "y"
        },
        {
         "hoverinfo": "text",
         "hovertemplate": "x=%{x}<br>y=%{y}<br>text=%{text}<extra></extra>",
         "legendgroup": "",
         "marker": {
          "color": "#470945",
          "symbol": "circle"
         },
         "mode": "markers+text",
         "name": "",
         "orientation": "v",
         "showlegend": false,
         "text": [
          "🏳️"
         ],
         "textfont": {
          "color": "grey",
          "size": 50
         },
         "textposition": "middle center",
         "type": "scatter",
         "x": [
          5947
         ],
         "xaxis": "x",
         "y": [
          44096020
         ],
         "yaxis": "y"
        },
        {
         "hoverinfo": "text",
         "hovertemplate": "x=%{x}<br>y=%{y}<br>text=%{text}<extra></extra>",
         "legendgroup": "",
         "marker": {
          "color": "#470945",
          "symbol": "circle"
         },
         "mode": "markers+text",
         "name": "",
         "orientation": "v",
         "showlegend": false,
         "text": [
          "🏳️"
         ],
         "textfont": {
          "color": "grey",
          "size": 50
         },
         "textposition": "middle center",
         "type": "scatter",
         "x": [
          5869
         ],
         "xaxis": "x",
         "y": [
          7290024
         ],
         "yaxis": "y"
        },
        {
         "hoverinfo": "text",
         "hovertemplate": "x=%{x}<br>y=%{y}<br>text=%{text}<extra></extra>",
         "legendgroup": "",
         "marker": {
          "color": "#470945",
          "symbol": "circle"
         },
         "mode": "markers+text",
         "name": "",
         "orientation": "v",
         "showlegend": false,
         "text": [
          "🏳️"
         ],
         "textfont": {
          "color": "grey",
          "size": 50
         },
         "textposition": "middle center",
         "type": "scatter",
         "x": [
          5607
         ],
         "xaxis": "x",
         "y": [
          6499630
         ],
         "yaxis": "y"
        },
        {
         "hoverinfo": "text",
         "hovertemplate": "x=%{x}<br>y=%{y}<br>text=%{text}<extra></extra>",
         "legendgroup": "",
         "marker": {
          "color": "#470945",
          "symbol": "circle"
         },
         "mode": "markers+text",
         "name": "",
         "orientation": "v",
         "showlegend": false,
         "text": [
          "🏳️"
         ],
         "textfont": {
          "color": "grey",
          "size": 50
         },
         "textposition": "middle center",
         "type": "scatter",
         "x": [
          5579
         ],
         "xaxis": "x",
         "y": [
          45783440
         ],
         "yaxis": "y"
        },
        {
         "hoverinfo": "text",
         "hovertemplate": "x=%{x}<br>y=%{y}<br>text=%{text}<extra></extra>",
         "legendgroup": "",
         "marker": {
          "color": "#470945",
          "symbol": "circle"
         },
         "mode": "markers+text",
         "name": "",
         "orientation": "v",
         "showlegend": false,
         "text": [
          "🏳️"
         ],
         "textfont": {
          "color": "grey",
          "size": 50
         },
         "textposition": "middle center",
         "type": "scatter",
         "x": [
          5505
         ],
         "xaxis": "x",
         "y": [
          36740000
         ],
         "yaxis": "y"
        },
        {
         "hoverinfo": "text",
         "hovertemplate": "x=%{x}<br>y=%{y}<br>text=%{text}<extra></extra>",
         "legendgroup": "",
         "marker": {
          "color": "#470945",
          "symbol": "circle"
         },
         "mode": "markers+text",
         "name": "",
         "orientation": "v",
         "showlegend": false,
         "text": [
          "🏳️"
         ],
         "textfont": {
          "color": "grey",
          "size": 50
         },
         "textposition": "middle center",
         "type": "scatter",
         "x": [
          5300
         ],
         "xaxis": "x",
         "y": [
          88683850
         ],
         "yaxis": "y"
        },
        {
         "hoverinfo": "text",
         "hovertemplate": "x=%{x}<br>y=%{y}<br>text=%{text}<extra></extra>",
         "legendgroup": "",
         "marker": {
          "color": "#470945",
          "symbol": "circle"
         },
         "mode": "markers+text",
         "name": "",
         "orientation": "v",
         "showlegend": false,
         "text": [
          "🏳️"
         ],
         "textfont": {
          "color": "grey",
          "size": 50
         },
         "textposition": "middle center",
         "type": "scatter",
         "x": [
          5120
         ],
         "xaxis": "x",
         "y": [
          116486
         ],
         "yaxis": "y"
        },
        {
         "hoverinfo": "text",
         "hovertemplate": "x=%{x}<br>y=%{y}<br>text=%{text}<extra></extra>",
         "legendgroup": "",
         "marker": {
          "color": "#470945",
          "symbol": "circle"
         },
         "mode": "markers+text",
         "name": "",
         "orientation": "v",
         "showlegend": false,
         "text": [
          "🏳️"
         ],
         "textfont": {
          "color": "grey",
          "size": 50
         },
         "textposition": "middle center",
         "type": "scatter",
         "x": [
          5048
         ],
         "xaxis": "x",
         "y": [
          215052
         ],
         "yaxis": "y"
        },
        {
         "hoverinfo": "text",
         "hovertemplate": "x=%{x}<br>y=%{y}<br>text=%{text}<extra></extra>",
         "legendgroup": "",
         "marker": {
          "color": "#470945",
          "symbol": "circle"
         },
         "mode": "markers+text",
         "name": "",
         "orientation": "v",
         "showlegend": false,
         "text": [
          "🏳️"
         ],
         "textfont": {
          "color": "grey",
          "size": 50
         },
         "textposition": "middle center",
         "type": "scatter",
         "x": [
          4981
         ],
         "xaxis": "x",
         "y": [
          276361783
         ],
         "yaxis": "y"
        },
        {
         "hoverinfo": "text",
         "hovertemplate": "x=%{x}<br>y=%{y}<br>text=%{text}<extra></extra>",
         "legendgroup": "",
         "marker": {
          "color": "#470945",
          "symbol": "circle"
         },
         "mode": "markers+text",
         "name": "",
         "orientation": "v",
         "showlegend": false,
         "text": [
          "🏳️"
         ],
         "textfont": {
          "color": "grey",
          "size": 50
         },
         "textposition": "middle center",
         "type": "scatter",
         "x": [
          4858
         ],
         "xaxis": "x",
         "y": [
          108225
         ],
         "yaxis": "y"
        },
        {
         "hoverinfo": "text",
         "hovertemplate": "x=%{x}<br>y=%{y}<br>text=%{text}<extra></extra>",
         "legendgroup": "",
         "marker": {
          "color": "#470945",
          "symbol": "circle"
         },
         "mode": "markers+text",
         "name": "",
         "orientation": "v",
         "showlegend": false,
         "text": [
          "🏳️"
         ],
         "textfont": {
          "color": "grey",
          "size": 50
         },
         "textposition": "middle center",
         "type": "scatter",
         "x": [
          4790
         ],
         "xaxis": "x",
         "y": [
          593599
         ],
         "yaxis": "y"
        },
        {
         "hoverinfo": "text",
         "hovertemplate": "x=%{x}<br>y=%{y}<br>text=%{text}<extra></extra>",
         "legendgroup": "",
         "marker": {
          "color": "#470945",
          "symbol": "circle"
         },
         "mode": "markers+text",
         "name": "",
         "orientation": "v",
         "showlegend": false,
         "text": [
          "🏳️"
         ],
         "textfont": {
          "color": "grey",
          "size": 50
         },
         "textposition": "middle center",
         "type": "scatter",
         "x": [
          4682
         ],
         "xaxis": "x",
         "y": [
          11048024
         ],
         "yaxis": "y"
        },
        {
         "hoverinfo": "text",
         "hovertemplate": "x=%{x}<br>y=%{y}<br>text=%{text}<extra></extra>",
         "legendgroup": "",
         "marker": {
          "color": "#470945",
          "symbol": "circle"
         },
         "mode": "markers+text",
         "name": "",
         "orientation": "v",
         "showlegend": false,
         "text": [
          "🏳️"
         ],
         "textfont": {
          "color": "grey",
          "size": 50
         },
         "textposition": "middle center",
         "type": "scatter",
         "x": [
          4649
         ],
         "xaxis": "x",
         "y": [
          99600310
         ],
         "yaxis": "y"
        },
        {
         "hoverinfo": "text",
         "hovertemplate": "x=%{x}<br>y=%{y}<br>text=%{text}<extra></extra>",
         "legendgroup": "",
         "marker": {
          "color": "#470945",
          "symbol": "circle"
         },
         "mode": "markers+text",
         "name": "",
         "orientation": "v",
         "showlegend": false,
         "text": [
          "🏳️"
         ],
         "textfont": {
          "color": "grey",
          "size": 50
         },
         "textposition": "middle center",
         "type": "scatter",
         "x": [
          4487
         ],
         "xaxis": "x",
         "y": [
          5486745
         ],
         "yaxis": "y"
        },
        {
         "hoverinfo": "text",
         "hovertemplate": "x=%{x}<br>y=%{y}<br>text=%{text}<extra></extra>",
         "legendgroup": "",
         "marker": {
          "color": "#470945",
          "symbol": "circle"
         },
         "mode": "markers+text",
         "name": "",
         "orientation": "v",
         "showlegend": false,
         "text": [
          "🏳️"
         ],
         "textfont": {
          "color": "grey",
          "size": 50
         },
         "textposition": "middle center",
         "type": "scatter",
         "x": [
          4410
         ],
         "xaxis": "x",
         "y": [
          2538917
         ],
         "yaxis": "y"
        },
        {
         "hoverinfo": "text",
         "hovertemplate": "x=%{x}<br>y=%{y}<br>text=%{text}<extra></extra>",
         "legendgroup": "",
         "marker": {
          "color": "#470945",
          "symbol": "circle"
         },
         "mode": "markers+text",
         "name": "",
         "orientation": "v",
         "showlegend": false,
         "text": [
          "🏳️"
         ],
         "textfont": {
          "color": "grey",
          "size": 50
         },
         "textposition": "middle center",
         "type": "scatter",
         "x": [
          4375
         ],
         "xaxis": "x",
         "y": [
          1216618
         ],
         "yaxis": "y"
        },
        {
         "hoverinfo": "text",
         "hovertemplate": "x=%{x}<br>y=%{y}<br>text=%{text}<extra></extra>",
         "legendgroup": "",
         "marker": {
          "color": "#470945",
          "symbol": "circle"
         },
         "mode": "markers+text",
         "name": "",
         "orientation": "v",
         "showlegend": false,
         "text": [
          "🏳️"
         ],
         "textfont": {
          "color": "grey",
          "size": 50
         },
         "textposition": "middle center",
         "type": "scatter",
         "x": [
          4267
         ],
         "xaxis": "x",
         "y": [
          12629477
         ],
         "yaxis": "y"
        },
        {
         "hoverinfo": "text",
         "hovertemplate": "x=%{x}<br>y=%{y}<br>text=%{text}<extra></extra>",
         "legendgroup": "",
         "marker": {
          "color": "#470945",
          "symbol": "circle"
         },
         "mode": "markers+text",
         "name": "",
         "orientation": "v",
         "showlegend": false,
         "text": [
          "🏳️"
         ],
         "textfont": {
          "color": "grey",
          "size": 50
         },
         "textposition": "middle center",
         "type": "scatter",
         "x": [
          4204
         ],
         "xaxis": "x",
         "y": [
          38071287
         ],
         "yaxis": "y"
        },
        {
         "hoverinfo": "text",
         "hovertemplate": "x=%{x}<br>y=%{y}<br>text=%{text}<extra></extra>",
         "legendgroup": "",
         "marker": {
          "color": "#470945",
          "symbol": "circle"
         },
         "mode": "markers+text",
         "name": "",
         "orientation": "v",
         "showlegend": false,
         "text": [
          "🏳️"
         ],
         "textfont": {
          "color": "grey",
          "size": 50
         },
         "textposition": "middle center",
         "type": "scatter",
         "x": [
          4155
         ],
         "xaxis": "x",
         "y": [
          1067651
         ],
         "yaxis": "y"
        },
        {
         "hoverinfo": "text",
         "hovertemplate": "x=%{x}<br>y=%{y}<br>text=%{text}<extra></extra>",
         "legendgroup": "",
         "marker": {
          "color": "#470945",
          "symbol": "circle"
         },
         "mode": "markers+text",
         "name": "",
         "orientation": "v",
         "showlegend": false,
         "text": [
          "🏳️"
         ],
         "textfont": {
          "color": "grey",
          "size": 50
         },
         "textposition": "middle center",
         "type": "scatter",
         "x": [
          4154
         ],
         "xaxis": "x",
         "y": [
          118147347
         ],
         "yaxis": "y"
        },
        {
         "hoverinfo": "text",
         "hovertemplate": "x=%{x}<br>y=%{y}<br>text=%{text}<extra></extra>",
         "legendgroup": "",
         "marker": {
          "color": "#470945",
          "symbol": "circle"
         },
         "mode": "markers+text",
         "name": "",
         "orientation": "v",
         "showlegend": false,
         "text": [
          "🏳️"
         ],
         "textfont": {
          "color": "grey",
          "size": 50
         },
         "textposition": "middle center",
         "type": "scatter",
         "x": [
          4068
         ],
         "xaxis": "x",
         "y": [
          782455
         ],
         "yaxis": "y"
        },
        {
         "hoverinfo": "text",
         "hovertemplate": "x=%{x}<br>y=%{y}<br>text=%{text}<extra></extra>",
         "legendgroup": "",
         "marker": {
          "color": "#470945",
          "symbol": "circle"
         },
         "mode": "markers+text",
         "name": "",
         "orientation": "v",
         "showlegend": false,
         "text": [
          "🏳️"
         ],
         "textfont": {
          "color": "grey",
          "size": 50
         },
         "textposition": "middle center",
         "type": "scatter",
         "x": [
          4019
         ],
         "xaxis": "x",
         "y": [
          30770584
         ],
         "yaxis": "y"
        },
        {
         "hoverinfo": "text",
         "hovertemplate": "x=%{x}<br>y=%{y}<br>text=%{text}<extra></extra>",
         "legendgroup": "",
         "marker": {
          "color": "#470945",
          "symbol": "circle"
         },
         "mode": "markers+text",
         "name": "",
         "orientation": "v",
         "showlegend": false,
         "text": [
          "🏳️"
         ],
         "textfont": {
          "color": "grey",
          "size": 50
         },
         "textposition": "middle center",
         "type": "scatter",
         "x": [
          3920
         ],
         "xaxis": "x",
         "y": [
          12713735
         ],
         "yaxis": "y"
        },
        {
         "hoverinfo": "text",
         "hovertemplate": "x=%{x}<br>y=%{y}<br>text=%{text}<extra></extra>",
         "legendgroup": "",
         "marker": {
          "color": "#470945",
          "symbol": "circle"
         },
         "mode": "markers+text",
         "name": "",
         "orientation": "v",
         "showlegend": false,
         "text": [
          "🏳️"
         ],
         "textfont": {
          "color": "grey",
          "size": 50
         },
         "textposition": "middle center",
         "type": "scatter",
         "x": [
          3542
         ],
         "xaxis": "x",
         "y": [
          110228123
         ],
         "yaxis": "y"
        },
        {
         "hoverinfo": "text",
         "hovertemplate": "x=%{x}<br>y=%{y}<br>text=%{text}<extra></extra>",
         "legendgroup": "",
         "marker": {
          "color": "#470945",
          "symbol": "circle"
         },
         "mode": "markers+text",
         "name": "",
         "orientation": "v",
         "showlegend": false,
         "text": [
          "🏳️"
         ],
         "textfont": {
          "color": "grey",
          "size": 50
         },
         "textposition": "middle center",
         "type": "scatter",
         "x": [
          3446
         ],
         "xaxis": "x",
         "y": [
          10363772
         ],
         "yaxis": "y"
        },
        {
         "hoverinfo": "text",
         "hovertemplate": "x=%{x}<br>y=%{y}<br>text=%{text}<extra></extra>",
         "legendgroup": "",
         "marker": {
          "color": "#470945",
          "symbol": "circle"
         },
         "mode": "markers+text",
         "name": "",
         "orientation": "v",
         "showlegend": false,
         "text": [
          "🏳️"
         ],
         "textfont": {
          "color": "grey",
          "size": 50
         },
         "textposition": "middle center",
         "type": "scatter",
         "x": [
          3425
         ],
         "xaxis": "x",
         "y": [
          238812
         ],
         "yaxis": "y"
        },
        {
         "hoverinfo": "text",
         "hovertemplate": "x=%{x}<br>y=%{y}<br>text=%{text}<extra></extra>",
         "legendgroup": "",
         "marker": {
          "color": "#470945",
          "symbol": "circle"
         },
         "mode": "markers+text",
         "name": "",
         "orientation": "v",
         "showlegend": false,
         "text": [
          "🏳️"
         ],
         "textfont": {
          "color": "grey",
          "size": 50
         },
         "textposition": "middle center",
         "type": "scatter",
         "x": [
          3387
         ],
         "xaxis": "x",
         "y": [
          333508
         ],
         "yaxis": "y"
        },
        {
         "hoverinfo": "text",
         "hovertemplate": "x=%{x}<br>y=%{y}<br>text=%{text}<extra></extra>",
         "legendgroup": "",
         "marker": {
          "color": "#470945",
          "symbol": "circle"
         },
         "mode": "markers+text",
         "name": "",
         "orientation": "v",
         "showlegend": false,
         "text": [
          "🏳️"
         ],
         "textfont": {
          "color": "grey",
          "size": 50
         },
         "textposition": "middle center",
         "type": "scatter",
         "x": [
          3051
         ],
         "xaxis": "x",
         "y": [
          36624303
         ],
         "yaxis": "y"
        },
        {
         "hoverinfo": "text",
         "hovertemplate": "x=%{x}<br>y=%{y}<br>text=%{text}<extra></extra>",
         "legendgroup": "",
         "marker": {
          "color": "#470945",
          "symbol": "circle"
         },
         "mode": "markers+text",
         "name": "",
         "orientation": "v",
         "showlegend": false,
         "text": [
          "🏳️"
         ],
         "textfont": {
          "color": "grey",
          "size": 50
         },
         "textposition": "middle center",
         "type": "scatter",
         "x": [
          2961
         ],
         "xaxis": "x",
         "y": [
          36871284
         ],
         "yaxis": "y"
        },
        {
         "hoverinfo": "text",
         "hovertemplate": "x=%{x}<br>y=%{y}<br>text=%{text}<extra></extra>",
         "legendgroup": "",
         "marker": {
          "color": "#470945",
          "symbol": "circle"
         },
         "mode": "markers+text",
         "name": "",
         "orientation": "v",
         "showlegend": false,
         "text": [
          "🏳️"
         ],
         "textfont": {
          "color": "grey",
          "size": 50
         },
         "textposition": "middle center",
         "type": "scatter",
         "x": [
          2878
         ],
         "xaxis": "x",
         "y": [
          6937015
         ],
         "yaxis": "y"
        },
        {
         "hoverinfo": "text",
         "hovertemplate": "x=%{x}<br>y=%{y}<br>text=%{text}<extra></extra>",
         "legendgroup": "",
         "marker": {
          "color": "#470945",
          "symbol": "circle"
         },
         "mode": "markers+text",
         "name": "",
         "orientation": "v",
         "showlegend": false,
         "text": [
          "🏳️"
         ],
         "textfont": {
          "color": "grey",
          "size": 50
         },
         "textposition": "middle center",
         "type": "scatter",
         "x": [
          2744
         ],
         "xaxis": "x",
         "y": [
          16938736
         ],
         "yaxis": "y"
        },
        {
         "hoverinfo": "text",
         "hovertemplate": "x=%{x}<br>y=%{y}<br>text=%{text}<extra></extra>",
         "legendgroup": "",
         "marker": {
          "color": "#470945",
          "symbol": "circle"
         },
         "mode": "markers+text",
         "name": "",
         "orientation": "v",
         "showlegend": false,
         "text": [
          "🏳️"
         ],
         "textfont": {
          "color": "grey",
          "size": 50
         },
         "textposition": "middle center",
         "type": "scatter",
         "x": [
          2720
         ],
         "xaxis": "x",
         "y": [
          28648558
         ],
         "yaxis": "y"
        },
        {
         "hoverinfo": "text",
         "hovertemplate": "x=%{x}<br>y=%{y}<br>text=%{text}<extra></extra>",
         "legendgroup": "",
         "marker": {
          "color": "#470945",
          "symbol": "circle"
         },
         "mode": "markers+text",
         "name": "",
         "orientation": "v",
         "showlegend": false,
         "text": [
          "🏳️"
         ],
         "textfont": {
          "color": "grey",
          "size": 50
         },
         "textposition": "middle center",
         "type": "scatter",
         "x": [
          2698
         ],
         "xaxis": "x",
         "y": [
          1428627663
         ],
         "yaxis": "y"
        },
        {
         "hoverinfo": "text",
         "hovertemplate": "x=%{x}<br>y=%{y}<br>text=%{text}<extra></extra>",
         "legendgroup": "",
         "marker": {
          "color": "#470945",
          "symbol": "circle"
         },
         "mode": "markers+text",
         "name": "",
         "orientation": "v",
         "showlegend": false,
         "text": [
          "🏳️"
         ],
         "textfont": {
          "color": "grey",
          "size": 50
         },
         "textposition": "middle center",
         "type": "scatter",
         "x": [
          2625
         ],
         "xaxis": "x",
         "y": [
          173707768
         ],
         "yaxis": "y"
        },
        {
         "hoverinfo": "text",
         "hovertemplate": "x=%{x}<br>y=%{y}<br>text=%{text}<extra></extra>",
         "legendgroup": "",
         "marker": {
          "color": "#470945",
          "symbol": "circle"
         },
         "mode": "markers+text",
         "name": "",
         "orientation": "v",
         "showlegend": false,
         "text": [
          "🏳️"
         ],
         "textfont": {
          "color": "grey",
          "size": 50
         },
         "textposition": "middle center",
         "type": "scatter",
         "x": [
          2544
         ],
         "xaxis": "x",
         "y": [
          10131828
         ],
         "yaxis": "y"
        },
        {
         "hoverinfo": "text",
         "hovertemplate": "x=%{x}<br>y=%{y}<br>text=%{text}<extra></extra>",
         "legendgroup": "",
         "marker": {
          "color": "#470945",
          "symbol": "circle"
         },
         "mode": "markers+text",
         "name": "",
         "orientation": "v",
         "showlegend": false,
         "text": [
          "🏳️"
         ],
         "textfont": {
          "color": "grey",
          "size": 50
         },
         "textposition": "middle center",
         "type": "scatter",
         "x": [
          2455
         ],
         "xaxis": "x",
         "y": [
          125648
         ],
         "yaxis": "y"
        },
        {
         "hoverinfo": "text",
         "hovertemplate": "x=%{x}<br>y=%{y}<br>text=%{text}<extra></extra>",
         "legendgroup": "",
         "marker": {
          "color": "#470945",
          "symbol": "circle"
         },
         "mode": "markers+text",
         "name": "",
         "orientation": "v",
         "showlegend": false,
         "text": [
          "🏳️"
         ],
         "textfont": {
          "color": "grey",
          "size": 50
         },
         "textposition": "middle center",
         "type": "scatter",
         "x": [
          2384
         ],
         "xaxis": "x",
         "y": [
          6279431
         ],
         "yaxis": "y"
        },
        {
         "hoverinfo": "text",
         "hovertemplate": "x=%{x}<br>y=%{y}<br>text=%{text}<extra></extra>",
         "legendgroup": "",
         "marker": {
          "color": "#470945",
          "symbol": "circle"
         },
         "mode": "markers+text",
         "name": "",
         "orientation": "v",
         "showlegend": false,
         "text": [
          "🏳️"
         ],
         "textfont": {
          "color": "grey",
          "size": 50
         },
         "textposition": "middle center",
         "type": "scatter",
         "x": [
          2376
         ],
         "xaxis": "x",
         "y": [
          4769446
         ],
         "yaxis": "y"
        },
        {
         "hoverinfo": "text",
         "hovertemplate": "x=%{x}<br>y=%{y}<br>text=%{text}<extra></extra>",
         "legendgroup": "",
         "marker": {
          "color": "#470945",
          "symbol": "circle"
         },
         "mode": "markers+text",
         "name": "",
         "orientation": "v",
         "showlegend": false,
         "text": [
          "🏳️"
         ],
         "textfont": {
          "color": "grey",
          "size": 50
         },
         "textposition": "middle center",
         "type": "scatter",
         "x": [
          2232
         ],
         "xaxis": "x",
         "y": [
          34737269
         ],
         "yaxis": "y"
        },
        {
         "hoverinfo": "text",
         "hovertemplate": "x=%{x}<br>y=%{y}<br>text=%{text}<extra></extra>",
         "legendgroup": "",
         "marker": {
          "color": "#470945",
          "symbol": "circle"
         },
         "mode": "markers+text",
         "name": "",
         "orientation": "v",
         "showlegend": false,
         "text": [
          "🏳️"
         ],
         "textfont": {
          "color": "grey",
          "size": 50
         },
         "textposition": "middle center",
         "type": "scatter",
         "x": [
          2229
         ],
         "xaxis": "x",
         "y": [
          6731837
         ],
         "yaxis": "y"
        },
        {
         "hoverinfo": "text",
         "hovertemplate": "x=%{x}<br>y=%{y}<br>text=%{text}<extra></extra>",
         "legendgroup": "",
         "marker": {
          "color": "#470945",
          "symbol": "circle"
         },
         "mode": "markers+text",
         "name": "",
         "orientation": "v",
         "showlegend": false,
         "text": [
          "🏳️"
         ],
         "textfont": {
          "color": "grey",
          "size": 50
         },
         "textposition": "middle center",
         "type": "scatter",
         "x": [
          2218
         ],
         "xaxis": "x",
         "y": [
          55554998
         ],
         "yaxis": "y"
        },
        {
         "hoverinfo": "text",
         "hovertemplate": "x=%{x}<br>y=%{y}<br>text=%{text}<extra></extra>",
         "legendgroup": "",
         "marker": {
          "color": "#470945",
          "symbol": "circle"
         },
         "mode": "markers+text",
         "name": "",
         "orientation": "v",
         "showlegend": false,
         "text": [
          "🏳️"
         ],
         "textfont": {
          "color": "grey",
          "size": 50
         },
         "textposition": "middle center",
         "type": "scatter",
         "x": [
          2209
         ],
         "xaxis": "x",
         "y": [
          740854
         ],
         "yaxis": "y"
        },
        {
         "hoverinfo": "text",
         "hovertemplate": "x=%{x}<br>y=%{y}<br>text=%{text}<extra></extra>",
         "legendgroup": "",
         "marker": {
          "color": "#470945",
          "symbol": "circle"
         },
         "mode": "markers+text",
         "name": "",
         "orientation": "v",
         "showlegend": false,
         "text": [
          "🏳️"
         ],
         "textfont": {
          "color": "grey",
          "size": 50
         },
         "textposition": "middle center",
         "type": "scatter",
         "x": [
          2120
         ],
         "xaxis": "x",
         "y": [
          12237657
         ],
         "yaxis": "y"
        },
        {
         "hoverinfo": "text",
         "hovertemplate": "x=%{x}<br>y=%{y}<br>text=%{text}<extra></extra>",
         "legendgroup": "",
         "marker": {
          "color": "#470945",
          "symbol": "circle"
         },
         "mode": "markers+text",
         "name": "",
         "orientation": "v",
         "showlegend": false,
         "text": [
          "🏳️"
         ],
         "textfont": {
          "color": "grey",
          "size": 50
         },
         "textposition": "middle center",
         "type": "scatter",
         "x": [
          2114
         ],
         "xaxis": "x",
         "y": [
          16150362
         ],
         "yaxis": "y"
        },
        {
         "hoverinfo": "text",
         "hovertemplate": "x=%{x}<br>y=%{y}<br>text=%{text}<extra></extra>",
         "legendgroup": "",
         "marker": {
          "color": "#470945",
          "symbol": "circle"
         },
         "mode": "markers+text",
         "name": "",
         "orientation": "v",
         "showlegend": false,
         "text": [
          "🏳️"
         ],
         "textfont": {
          "color": "grey",
          "size": 50
         },
         "textposition": "middle center",
         "type": "scatter",
         "x": [
          1945
         ],
         "xaxis": "x",
         "y": [
          7691210
         ],
         "yaxis": "y"
        },
        {
         "hoverinfo": "text",
         "hovertemplate": "x=%{x}<br>y=%{y}<br>text=%{text}<extra></extra>",
         "legendgroup": "",
         "marker": {
          "color": "#470945",
          "symbol": "circle"
         },
         "mode": "markers+text",
         "name": "",
         "orientation": "v",
         "showlegend": false,
         "text": [
          "🏳️"
         ],
         "textfont": {
          "color": "grey",
          "size": 50
         },
         "textposition": "middle center",
         "type": "scatter",
         "x": [
          1821
         ],
         "xaxis": "x",
         "y": [
          28583827
         ],
         "yaxis": "y"
        },
        {
         "hoverinfo": "text",
         "hovertemplate": "x=%{x}<br>y=%{y}<br>text=%{text}<extra></extra>",
         "legendgroup": "",
         "marker": {
          "color": "#470945",
          "symbol": "circle"
         },
         "mode": "markers+text",
         "name": "",
         "orientation": "v",
         "showlegend": false,
         "text": [
          "🏳️"
         ],
         "textfont": {
          "color": "grey",
          "size": 50
         },
         "textposition": "middle center",
         "type": "scatter",
         "x": [
          1805
         ],
         "xaxis": "x",
         "y": [
          18067670
         ],
         "yaxis": "y"
        },
        {
         "hoverinfo": "text",
         "hovertemplate": "x=%{x}<br>y=%{y}<br>text=%{text}<extra></extra>",
         "legendgroup": "",
         "marker": {
          "color": "#470945",
          "symbol": "circle"
         },
         "mode": "markers+text",
         "name": "",
         "orientation": "v",
         "showlegend": false,
         "text": [
          "🏳️"
         ],
         "textfont": {
          "color": "grey",
          "size": 50
         },
         "textposition": "middle center",
         "type": "scatter",
         "x": [
          1652
         ],
         "xaxis": "x",
         "y": [
          13963169
         ],
         "yaxis": "y"
        },
        {
         "hoverinfo": "text",
         "hovertemplate": "x=%{x}<br>y=%{y}<br>text=%{text}<extra></extra>",
         "legendgroup": "",
         "marker": {
          "color": "#470945",
          "symbol": "circle"
         },
         "mode": "markers+text",
         "name": "",
         "orientation": "v",
         "showlegend": false,
         "text": [
          "🏳️"
         ],
         "textfont": {
          "color": "grey",
          "size": 50
         },
         "textposition": "middle center",
         "type": "scatter",
         "x": [
          1630
         ],
         "xaxis": "x",
         "y": [
          865329
         ],
         "yaxis": "y"
        },
        {
         "hoverinfo": "text",
         "hovertemplate": "x=%{x}<br>y=%{y}<br>text=%{text}<extra></extra>",
         "legendgroup": "",
         "marker": {
          "color": "#470945",
          "symbol": "circle"
         },
         "mode": "markers+text",
         "name": "",
         "orientation": "v",
         "showlegend": false,
         "text": [
          "🏳️"
         ],
         "textfont": {
          "color": "grey",
          "size": 50
         },
         "textposition": "middle center",
         "type": "scatter",
         "x": [
          1588
         ],
         "xaxis": "x",
         "y": [
          248261481
         ],
         "yaxis": "y"
        },
        {
         "hoverinfo": "text",
         "hovertemplate": "x=%{x}<br>y=%{y}<br>text=%{text}<extra></extra>",
         "legendgroup": "",
         "marker": {
          "color": "#470945",
          "symbol": "circle"
         },
         "mode": "markers+text",
         "name": "",
         "orientation": "v",
         "showlegend": false,
         "text": [
          "🏳️"
         ],
         "textfont": {
          "color": "grey",
          "size": 50
         },
         "textposition": "middle center",
         "type": "scatter",
         "x": [
          1510
         ],
         "xaxis": "x",
         "y": [
          13607484
         ],
         "yaxis": "y"
        },
        {
         "hoverinfo": "text",
         "hovertemplate": "x=%{x}<br>y=%{y}<br>text=%{text}<extra></extra>",
         "legendgroup": "",
         "marker": {
          "color": "#470945",
          "symbol": "circle"
         },
         "mode": "markers+text",
         "name": "",
         "orientation": "v",
         "showlegend": false,
         "text": [
          "🏳️"
         ],
         "textfont": {
          "color": "grey",
          "size": 50
         },
         "textposition": "middle center",
         "type": "scatter",
         "x": [
          1454
         ],
         "xaxis": "x",
         "y": [
          1391293
         ],
         "yaxis": "y"
        },
        {
         "hoverinfo": "text",
         "hovertemplate": "x=%{x}<br>y=%{y}<br>text=%{text}<extra></extra>",
         "legendgroup": "",
         "marker": {
          "color": "#470945",
          "symbol": "circle"
         },
         "mode": "markers+text",
         "name": "",
         "orientation": "v",
         "showlegend": false,
         "text": [
          "🏳️"
         ],
         "textfont": {
          "color": "grey",
          "size": 50
         },
         "textposition": "middle center",
         "type": "scatter",
         "x": [
          1381
         ],
         "xaxis": "x",
         "y": [
          30575612
         ],
         "yaxis": "y"
        },
        {
         "hoverinfo": "text",
         "hovertemplate": "x=%{x}<br>y=%{y}<br>text=%{text}<extra></extra>",
         "legendgroup": "",
         "marker": {
          "color": "#470945",
          "symbol": "circle"
         },
         "mode": "markers+text",
         "name": "",
         "orientation": "v",
         "showlegend": false,
         "text": [
          "🏳️"
         ],
         "textfont": {
          "color": "grey",
          "size": 50
         },
         "textposition": "middle center",
         "type": "scatter",
         "x": [
          1350
         ],
         "xaxis": "x",
         "y": [
          127719825
         ],
         "yaxis": "y"
        },
        {
         "hoverinfo": "text",
         "hovertemplate": "x=%{x}<br>y=%{y}<br>text=%{text}<extra></extra>",
         "legendgroup": "",
         "marker": {
          "color": "#470945",
          "symbol": "circle"
         },
         "mode": "markers+text",
         "name": "",
         "orientation": "v",
         "showlegend": false,
         "text": [
          "🏳️"
         ],
         "textfont": {
          "color": "grey",
          "size": 50
         },
         "textposition": "middle center",
         "type": "scatter",
         "x": [
          1276
         ],
         "xaxis": "x",
         "y": [
          10626354
         ],
         "yaxis": "y"
        },
        {
         "hoverinfo": "text",
         "hovertemplate": "x=%{x}<br>y=%{y}<br>text=%{text}<extra></extra>",
         "legendgroup": "",
         "marker": {
          "color": "#470945",
          "symbol": "circle"
         },
         "mode": "markers+text",
         "name": "",
         "orientation": "v",
         "showlegend": false,
         "text": [
          "🏳️"
         ],
         "textfont": {
          "color": "grey",
          "size": 50
         },
         "textposition": "middle center",
         "type": "scatter",
         "x": [
          1226
         ],
         "xaxis": "x",
         "y": [
          20373819
         ],
         "yaxis": "y"
        },
        {
         "hoverinfo": "text",
         "hovertemplate": "x=%{x}<br>y=%{y}<br>text=%{text}<extra></extra>",
         "legendgroup": "",
         "marker": {
          "color": "#470945",
          "symbol": "circle"
         },
         "mode": "markers+text",
         "name": "",
         "orientation": "v",
         "showlegend": false,
         "text": [
          "🏳️"
         ],
         "textfont": {
          "color": "grey",
          "size": 50
         },
         "textposition": "middle center",
         "type": "scatter",
         "x": [
          1224
         ],
         "xaxis": "x",
         "y": [
          67454879
         ],
         "yaxis": "y"
        },
        {
         "hoverinfo": "text",
         "hovertemplate": "x=%{x}<br>y=%{y}<br>text=%{text}<extra></extra>",
         "legendgroup": "",
         "marker": {
          "color": "#470945",
          "symbol": "circle"
         },
         "mode": "markers+text",
         "name": "",
         "orientation": "v",
         "showlegend": false,
         "text": [
          "🏳️"
         ],
         "textfont": {
          "color": "grey",
          "size": 50
         },
         "textposition": "middle center",
         "type": "scatter",
         "x": [
          1187
         ],
         "xaxis": "x",
         "y": [
          47703835
         ],
         "yaxis": "y"
        },
        {
         "hoverinfo": "text",
         "hovertemplate": "x=%{x}<br>y=%{y}<br>text=%{text}<extra></extra>",
         "legendgroup": "",
         "marker": {
          "color": "#470945",
          "symbol": "circle"
         },
         "mode": "markers+text",
         "name": "",
         "orientation": "v",
         "showlegend": false,
         "text": [
          "🏳️"
         ],
         "textfont": {
          "color": "grey",
          "size": 50
         },
         "textposition": "middle center",
         "type": "scatter",
         "x": [
          1179
         ],
         "xaxis": "x",
         "y": [
          54507280
         ],
         "yaxis": "y"
        },
        {
         "hoverinfo": "text",
         "hovertemplate": "x=%{x}<br>y=%{y}<br>text=%{text}<extra></extra>",
         "legendgroup": "",
         "marker": {
          "color": "#470945",
          "symbol": "circle"
         },
         "mode": "markers+text",
         "name": "",
         "orientation": "v",
         "showlegend": false,
         "text": [
          "🏳️"
         ],
         "textfont": {
          "color": "grey",
          "size": 50
         },
         "textposition": "middle center",
         "type": "scatter",
         "x": [
          1106
         ],
         "xaxis": "x",
         "y": [
          2187988
         ],
         "yaxis": "y"
        },
        {
         "hoverinfo": "text",
         "hovertemplate": "x=%{x}<br>y=%{y}<br>text=%{text}<extra></extra>",
         "legendgroup": "",
         "marker": {
          "color": "#470945",
          "symbol": "circle"
         },
         "mode": "markers+text",
         "name": "",
         "orientation": "v",
         "showlegend": false,
         "text": [
          "🏳️"
         ],
         "textfont": {
          "color": "grey",
          "size": 50
         },
         "textposition": "middle center",
         "type": "scatter",
         "x": [
          1062
         ],
         "xaxis": "x",
         "y": [
          2292683
         ],
         "yaxis": "y"
        },
        {
         "hoverinfo": "text",
         "hovertemplate": "x=%{x}<br>y=%{y}<br>text=%{text}<extra></extra>",
         "legendgroup": "",
         "marker": {
          "color": "#470945",
          "symbol": "circle"
         },
         "mode": "markers+text",
         "name": "",
         "orientation": "v",
         "showlegend": false,
         "text": [
          "🏳️"
         ],
         "textfont": {
          "color": "grey",
          "size": 50
         },
         "textposition": "middle center",
         "type": "scatter",
         "x": [
          1051
         ],
         "xaxis": "x",
         "y": [
          8701744
         ],
         "yaxis": "y"
        },
        {
         "hoverinfo": "text",
         "hovertemplate": "x=%{x}<br>y=%{y}<br>text=%{text}<extra></extra>",
         "legendgroup": "",
         "marker": {
          "color": "#470945",
          "symbol": "circle"
         },
         "mode": "markers+text",
         "name": "",
         "orientation": "v",
         "showlegend": false,
         "text": [
          "🏳️"
         ],
         "textfont": {
          "color": "grey",
          "size": 50
         },
         "textposition": "middle center",
         "type": "scatter",
         "x": [
          1013
         ],
         "xaxis": "x",
         "y": [
          18823540
         ],
         "yaxis": "y"
        },
        {
         "hoverinfo": "text",
         "hovertemplate": "x=%{x}<br>y=%{y}<br>text=%{text}<extra></extra>",
         "legendgroup": "",
         "marker": {
          "color": "#470945",
          "symbol": "circle"
         },
         "mode": "markers+text",
         "name": "",
         "orientation": "v",
         "showlegend": false,
         "text": [
          "🏳️"
         ],
         "textfont": {
          "color": "grey",
          "size": 50
         },
         "textposition": "middle center",
         "type": "scatter",
         "x": [
          989
         ],
         "xaxis": "x",
         "y": [
          2722177
         ],
         "yaxis": "y"
        },
        {
         "hoverinfo": "text",
         "hovertemplate": "x=%{x}<br>y=%{y}<br>text=%{text}<extra></extra>",
         "legendgroup": "",
         "marker": {
          "color": "#470945",
          "symbol": "circle"
         },
         "mode": "markers+text",
         "name": "",
         "orientation": "v",
         "showlegend": false,
         "text": [
          "🏳️"
         ],
         "textfont": {
          "color": "grey",
          "size": 50
         },
         "textposition": "middle center",
         "type": "scatter",
         "x": [
          986
         ],
         "xaxis": "x",
         "y": [
          14467997
         ],
         "yaxis": "y"
        },
        {
         "hoverinfo": "text",
         "hovertemplate": "x=%{x}<br>y=%{y}<br>text=%{text}<extra></extra>",
         "legendgroup": "",
         "marker": {
          "color": "#470945",
          "symbol": "circle"
         },
         "mode": "markers+text",
         "name": "",
         "orientation": "v",
         "showlegend": false,
         "text": [
          "🏳️"
         ],
         "textfont": {
          "color": "grey",
          "size": 50
         },
         "textposition": "middle center",
         "type": "scatter",
         "x": [
          908
         ],
         "xaxis": "x",
         "y": [
          22875991
         ],
         "yaxis": "y"
        },
        {
         "hoverinfo": "text",
         "hovertemplate": "x=%{x}<br>y=%{y}<br>text=%{text}<extra></extra>",
         "legendgroup": "",
         "marker": {
          "color": "#470945",
          "symbol": "circle"
         },
         "mode": "markers+text",
         "name": "",
         "orientation": "v",
         "showlegend": false,
         "text": [
          "🏳️"
         ],
         "textfont": {
          "color": "grey",
          "size": 50
         },
         "textposition": "middle center",
         "type": "scatter",
         "x": [
          898
         ],
         "xaxis": "x",
         "y": [
          24578325
         ],
         "yaxis": "y"
        },
        {
         "hoverinfo": "text",
         "hovertemplate": "x=%{x}<br>y=%{y}<br>text=%{text}<extra></extra>",
         "legendgroup": "",
         "marker": {
          "color": "#470945",
          "symbol": "circle"
         },
         "mode": "markers+text",
         "name": "",
         "orientation": "v",
         "showlegend": false,
         "text": [
          "🏳️"
         ],
         "textfont": {
          "color": "grey",
          "size": 50
         },
         "textposition": "middle center",
         "type": "scatter",
         "x": [
          877
         ],
         "xaxis": "x",
         "y": [
          223804632
         ],
         "yaxis": "y"
        },
        {
         "hoverinfo": "text",
         "hovertemplate": "x=%{x}<br>y=%{y}<br>text=%{text}<extra></extra>",
         "legendgroup": "",
         "marker": {
          "color": "#470945",
          "symbol": "circle"
         },
         "mode": "markers+text",
         "name": "",
         "orientation": "v",
         "showlegend": false,
         "text": [
          "🏳️"
         ],
         "textfont": {
          "color": "grey",
          "size": 50
         },
         "textposition": "middle center",
         "type": "scatter",
         "x": [
          856
         ],
         "xaxis": "x",
         "y": [
          9189792
         ],
         "yaxis": "y"
        },
        {
         "hoverinfo": "text",
         "hovertemplate": "x=%{x}<br>y=%{y}<br>text=%{text}<extra></extra>",
         "legendgroup": "",
         "marker": {
          "color": "#470945",
          "symbol": "circle"
         },
         "mode": "markers+text",
         "name": "",
         "orientation": "v",
         "showlegend": false,
         "text": [
          "🏳️"
         ],
         "textfont": {
          "color": "grey",
          "size": 50
         },
         "textposition": "middle center",
         "type": "scatter",
         "x": [
          855
         ],
         "xaxis": "x",
         "y": [
          5503604
         ],
         "yaxis": "y"
        },
        {
         "hoverinfo": "text",
         "hovertemplate": "x=%{x}<br>y=%{y}<br>text=%{text}<extra></extra>",
         "legendgroup": "",
         "marker": {
          "color": "#470945",
          "symbol": "circle"
         },
         "mode": "markers+text",
         "name": "",
         "orientation": "v",
         "showlegend": false,
         "text": [
          "🏳️"
         ],
         "textfont": {
          "color": "grey",
          "size": 50
         },
         "textposition": "middle center",
         "type": "scatter",
         "x": [
          771
         ],
         "xaxis": "x",
         "y": [
          18041815
         ],
         "yaxis": "y"
        },
        {
         "hoverinfo": "text",
         "hovertemplate": "x=%{x}<br>y=%{y}<br>text=%{text}<extra></extra>",
         "legendgroup": "",
         "marker": {
          "color": "#470945",
          "symbol": "circle"
         },
         "mode": "markers+text",
         "name": "",
         "orientation": "v",
         "showlegend": false,
         "text": [
          "🏳️"
         ],
         "textfont": {
          "color": "grey",
          "size": 50
         },
         "textposition": "middle center",
         "type": "scatter",
         "x": [
          702
         ],
         "xaxis": "x",
         "y": [
          108407721
         ],
         "yaxis": "y"
        },
        {
         "hoverinfo": "text",
         "hovertemplate": "x=%{x}<br>y=%{y}<br>text=%{text}<extra></extra>",
         "legendgroup": "",
         "marker": {
          "color": "#470945",
          "symbol": "circle"
         },
         "mode": "markers+text",
         "name": "",
         "orientation": "v",
         "showlegend": false,
         "text": [
          "🏳️"
         ],
         "textfont": {
          "color": "grey",
          "size": 50
         },
         "textposition": "middle center",
         "type": "scatter",
         "x": [
          698
         ],
         "xaxis": "x",
         "y": [
          28478351
         ],
         "yaxis": "y"
        },
        {
         "hoverinfo": "text",
         "hovertemplate": "x=%{x}<br>y=%{y}<br>text=%{text}<extra></extra>",
         "legendgroup": "",
         "marker": {
          "color": "#470945",
          "symbol": "circle"
         },
         "mode": "markers+text",
         "name": "",
         "orientation": "v",
         "showlegend": false,
         "text": [
          "🏳️"
         ],
         "textfont": {
          "color": "grey",
          "size": 50
         },
         "textposition": "middle center",
         "type": "scatter",
         "x": [
          645
         ],
         "xaxis": "x",
         "y": [
          35277379
         ],
         "yaxis": "y"
        },
        {
         "hoverinfo": "text",
         "hovertemplate": "x=%{x}<br>y=%{y}<br>text=%{text}<extra></extra>",
         "legendgroup": "",
         "marker": {
          "color": "#470945",
          "symbol": "circle"
         },
         "mode": "markers+text",
         "name": "",
         "orientation": "v",
         "showlegend": false,
         "text": [
          "🏳️"
         ],
         "textfont": {
          "color": "grey",
          "size": 50
         },
         "textposition": "middle center",
         "type": "scatter",
         "x": [
          606
         ],
         "xaxis": "x",
         "y": [
          49446220
         ],
         "yaxis": "y"
        },
        {
         "hoverinfo": "text",
         "hovertemplate": "x=%{x}<br>y=%{y}<br>text=%{text}<extra></extra>",
         "legendgroup": "",
         "marker": {
          "color": "#470945",
          "symbol": "circle"
         },
         "mode": "markers+text",
         "name": "",
         "orientation": "v",
         "showlegend": false,
         "text": [
          "🏳️"
         ],
         "textfont": {
          "color": "grey",
          "size": 50
         },
         "textposition": "middle center",
         "type": "scatter",
         "x": [
          563
         ],
         "xaxis": "x",
         "y": [
          29865747
         ],
         "yaxis": "y"
        },
        {
         "hoverinfo": "text",
         "hovertemplate": "x=%{x}<br>y=%{y}<br>text=%{text}<extra></extra>",
         "legendgroup": "",
         "marker": {
          "color": "#470945",
          "symbol": "circle"
         },
         "mode": "markers+text",
         "name": "",
         "orientation": "v",
         "showlegend": false,
         "text": [
          "🏳️"
         ],
         "textfont": {
          "color": "grey",
          "size": 50
         },
         "textposition": "middle center",
         "type": "scatter",
         "x": [
          529
         ],
         "xaxis": "x",
         "y": [
          5481790
         ],
         "yaxis": "y"
        },
        {
         "hoverinfo": "text",
         "hovertemplate": "x=%{x}<br>y=%{y}<br>text=%{text}<extra></extra>",
         "legendgroup": "",
         "marker": {
          "color": "#470945",
          "symbol": "circle"
         },
         "mode": "markers+text",
         "name": "",
         "orientation": "v",
         "showlegend": false,
         "text": [
          "🏳️"
         ],
         "textfont": {
          "color": "grey",
          "size": 50
         },
         "textposition": "middle center",
         "type": "scatter",
         "x": [
          465
         ],
         "xaxis": "x",
         "y": [
          33812252
         ],
         "yaxis": "y"
        },
        {
         "hoverinfo": "text",
         "hovertemplate": "x=%{x}<br>y=%{y}<br>text=%{text}<extra></extra>",
         "legendgroup": "",
         "marker": {
          "color": "#470945",
          "symbol": "circle"
         },
         "mode": "markers+text",
         "name": "",
         "orientation": "v",
         "showlegend": false,
         "text": [
          "🏳️"
         ],
         "textfont": {
          "color": "grey",
          "size": 50
         },
         "textposition": "middle center",
         "type": "scatter",
         "x": [
          464
         ],
         "xaxis": "x",
         "y": [
          21164628
         ],
         "yaxis": "y"
        },
        {
         "hoverinfo": "text",
         "hovertemplate": "x=%{x}<br>y=%{y}<br>text=%{text}<extra></extra>",
         "legendgroup": "",
         "marker": {
          "color": "#470945",
          "symbol": "circle"
         },
         "mode": "markers+text",
         "name": "",
         "orientation": "v",
         "showlegend": false,
         "text": [
          "🏳️"
         ],
         "textfont": {
          "color": "grey",
          "size": 50
         },
         "textposition": "middle center",
         "type": "scatter",
         "x": [
          341
         ],
         "xaxis": "x",
         "y": [
          12924732
         ],
         "yaxis": "y"
        },
        {
         "hoverinfo": "text",
         "hovertemplate": "x=%{x}<br>y=%{y}<br>text=%{text}<extra></extra>",
         "legendgroup": "",
         "marker": {
          "color": "#470945",
          "symbol": "circle"
         },
         "mode": "markers+text",
         "name": "",
         "orientation": "v",
         "showlegend": false,
         "text": [
          "🏳️"
         ],
         "textfont": {
          "color": "grey",
          "size": 50
         },
         "textposition": "middle center",
         "type": "scatter",
         "x": [
          321
         ],
         "xaxis": "x",
         "y": [
          13306768
         ],
         "yaxis": "y"
        }
       ],
       "layout": {
        "height": 1080,
        "legend": {
         "tracegroupgap": 0
        },
        "showlegend": false,
        "template": {
         "data": {
          "scatter": [
           {
            "line": {
             "width": 3
            },
            "type": "scatter"
           }
          ]
         },
         "layout": {
          "colorway": [
           "#470945",
           "#E67E5A",
           "#297FB9",
           "#163748",
           "#4F1787",
           "#EFE04E",
           "#214F70",
           "#DF14AA",
           "#100B1A",
           "#12C4CF",
           "#14193D",
           "#CC5500"
          ],
          "font": {
           "color": "#333333",
           "family": "Open Sans, sans-serif",
           "size": 28
          },
          "height": 800,
          "paper_bgcolor": "#FFF5CC",
          "plot_bgcolor": "#FFF5CC",
          "title": {
           "font": {
            "color": "#333333",
            "family": "Open Sans, sans-serif",
            "size": 34
           },
           "text": "",
           "x": 0.05
          },
          "width": 1294.4,
          "xaxis": {
           "anchor": "y",
           "gridcolor": "#888888",
           "linecolor": "#333333",
           "linewidth": 2,
           "showgrid": true,
           "tickfont": {
            "family": "Open Sans, sans-serif",
            "size": 24
           },
           "title": {
            "font": {
             "family": "Open Sans, sans-serif",
             "size": 26
            }
           }
          },
          "yaxis": {
           "anchor": "x",
           "gridcolor": "#888888",
           "linecolor": "#333333",
           "linewidth": 2,
           "showgrid": true,
           "tickfont": {
            "family": "Open Sans, sans-serif",
            "size": 24
           },
           "title": {
            "font": {
             "family": "Open Sans, sans-serif",
             "size": 26
            }
           }
          }
         }
        },
        "title": {
         "text": "Scatterplot of GDP per Capita vs Population (Grey Flags)"
        },
        "width": 1920,
        "xaxis": {
         "anchor": "y",
         "domain": [
          0,
          1
         ],
         "title": {
          "text": "GDP per Capita (USD)"
         }
        },
        "yaxis": {
         "anchor": "x",
         "domain": [
          0,
          1
         ],
         "showticklabels": false,
         "ticks": "",
         "title": {
          "text": "Population (Log Scale)"
         },
         "type": "log"
        }
       }
      }
     },
     "metadata": {},
     "output_type": "display_data"
    }
   ],
   "source": [
    "import plotly.express as px\n",
    "\n",
    "# Create a new column with grey flags (using a grey circle emoji as a placeholder for all flags)\n",
    "d_gdp_per_capita_merged[\"Grey_Flag\"] = \"🏳️\"\n",
    "\n",
    "# Create the scatterplot without default markers\n",
    "fig = px.scatter(\n",
    "    d_gdp_per_capita_merged,\n",
    "    x=\"gdp_per_capita\",\n",
    "    y=\"Population\",\n",
    "    title=\"Scatterplot of GDP per Capita vs Population (Grey Flags)\",\n",
    "    template=\"base\"\n",
    ")\n",
    "\n",
    "# Remove default markers\n",
    "fig.data = []\n",
    "\n",
    "# Add grey flags as text annotations with larger font\n",
    "for i, row in d_gdp_per_capita_merged.iterrows():\n",
    "    fig.add_trace(\n",
    "        px.scatter(\n",
    "            x=[row[\"gdp_per_capita\"]],\n",
    "            y=[row[\"Population\"]],\n",
    "            text=[row[\"Grey_Flag\"]],\n",
    "        ).data[0]\n",
    "    )\n",
    "\n",
    "# Update layout for YouTube aspect ratio and other customizations\n",
    "fig.update_layout(\n",
    "    xaxis_title=\"GDP per Capita (USD)\",\n",
    "    yaxis_title=\"Population (Log Scale)\",\n",
    "    yaxis=dict(\n",
    "        type=\"log\",  # Logarithmic scale\n",
    "        showticklabels=False,  # Remove tick marks\n",
    "        ticks=\"\",  # Remove ticks\n",
    "    ),\n",
    "    width=1920,  # Aspect ratio for YouTube\n",
    "    height=1080,\n",
    "    showlegend=False\n",
    ")\n",
    "\n",
    "# Customize marker size and text position for flags\n",
    "fig.update_traces(\n",
    "    textfont=dict(size=50, color=\"grey\"),  # Larger font size and grey color for flags\n",
    "    textposition=\"middle center\",\n",
    "    hoverinfo=\"text\"  # Show only text (flag) on hover\n",
    ")\n",
    "\n",
    "# Show the plot\n",
    "fig.show()\n"
   ]
  },
  {
   "cell_type": "code",
   "execution_count": 46,
   "metadata": {},
   "outputs": [
    {
     "data": {
      "application/vnd.plotly.v1+json": {
       "config": {
        "plotlyServerURL": "https://plot.ly"
       },
       "data": [
        {
         "hoverinfo": "text",
         "hovertemplate": "gdp_per_capita=%{x}<br>Continent=%{y}<br>Flag=%{text}<extra></extra>",
         "legendgroup": "",
         "marker": {
          "color": "#470945",
          "symbol": "circle"
         },
         "mode": "markers+text",
         "name": "",
         "orientation": "h",
         "showlegend": false,
         "text": [
          "🇱🇺",
          "🇨🇭",
          "🇮🇪",
          "🇳🇴",
          "🇸🇬",
          "🇺🇸",
          "🇮🇸",
          "🇲🇴",
          "🇶🇦",
          "🇩🇰",
          "🇳🇱",
          "🇦🇺",
          "🇸🇲",
          "🇦🇹",
          "🇸🇪",
          "🇧🇪",
          "🇩🇪",
          "🇫🇮",
          "🇨🇦",
          "🇭🇰",
          "🇮🇱",
          "🇬🇧",
          "🇦🇪",
          "🇫🇷",
          "🇳🇿",
          "🇦🇩",
          "🇲🇹",
          "🇮🇹",
          "🇦🇼",
          "🇵🇷",
          "🇨🇾",
          "🇧🇸",
          "🇰🇷",
          "🇪🇸",
          "🇧🇳",
          "🇸🇮",
          "🇹🇼",
          "🇸🇦",
          "🇯🇵",
          "🇰🇼",
          "🇪🇪",
          "🇨🇿",
          "🇧🇭",
          "🇵🇹",
          "🇬🇾",
          "🇱🇹",
          "🇸🇰",
          "🇧🇧",
          "🇬🇷",
          "🇱🇻",
          "🇰🇳",
          "🇭🇺",
          "🇵🇱",
          "🇭🇷",
          "🇺🇾",
          "🇦🇬",
          "🇸🇨",
          "🇴🇲",
          "🇷🇴",
          "🇹🇹",
          "🇵🇦",
          "🇵🇼",
          "🇨🇷",
          "🇲🇻",
          "🇧🇬",
          "🇨🇱",
          "🇹🇷",
          "🇷🇺",
          "🇰🇿",
          "🇱🇨",
          "🇲🇽",
          "🇲🇾",
          "🇨🇳",
          "🇦🇷",
          "🇲🇪",
          "🇹🇲",
          "🇲🇺",
          "🇷🇸",
          "🇳🇷",
          "🇬🇩",
          "🇩🇴",
          "🇻🇨",
          "🇧🇷",
          "🇦🇱",
          "🇩🇲",
          "🇬🇦",
          "🇬🇪",
          "🇲🇰",
          "🇦🇲",
          "🇵🇪",
          "🇧🇦",
          "🇧🇿",
          "🇬🇶",
          "🇧🇾",
          "🇨🇴",
          "🇸🇷",
          "🇹🇭",
          "🇯🇲",
          "🇦🇿",
          "🇲🇩",
          "🇧🇼",
          "🇹🇻",
          "🇲🇭",
          "🇪🇨",
          "🇲🇳",
          "🇱🇾",
          "🇿🇦",
          "🇽🇰",
          "🇬🇹",
          "🇫🇯",
          "🇮🇶",
          "🇵🇾",
          "🇸🇻",
          "🇩🇿",
          "🇺🇦",
          "🇮🇷",
          "🇫🇲",
          "🇼🇸",
          "🇮🇩",
          "🇹🇴",
          "🇨🇻",
          "🇯🇴",
          "🇻🇳",
          "🇱🇧",
          "🇳🇦",
          "🇸🇿",
          "🇹🇳",
          "🇲🇦",
          "🇩🇯",
          "🇵🇭",
          "🇧🇹",
          "🇻🇪",
          "🇧🇴",
          "🇪🇬",
          "🇭🇳",
          "🇸🇹",
          "🇻🇺",
          "🇺🇿",
          "🇦🇴",
          "🇳🇮",
          "🇰🇭",
          "🇨🇮",
          "🇮🇳",
          "🇧🇩",
          "🇵🇬",
          "🇰🇮",
          "🇨🇬",
          "🇲🇷",
          "🇬🇭",
          "🇰🇬",
          "🇰🇪",
          "🇸🇧",
          "🇭🇹",
          "🇿🇼",
          "🇱🇦",
          "🇨🇲",
          "🇸🇳",
          "🇬🇳",
          "🇰🇲",
          "🇵🇰",
          "🇧🇯",
          "🇹🇱",
          "🇳🇵",
          "🇪🇹",
          "🇹🇯",
          "🇿🇲",
          "🇹🇿",
          "🇺🇬",
          "🇲🇲",
          "🇬🇼",
          "🇱🇸",
          "🇹🇬",
          "🇹🇩",
          "🇬🇲",
          "🇷🇼",
          "🇧🇫",
          "🇲🇱",
          "🇳🇬",
          "🇸🇱",
          "🇱🇷",
          "🇸🇴",
          "🇨🇩",
          "🇳🇪",
          "🇲🇿",
          "🇸🇩",
          "🇲🇬",
          "🇨🇫",
          "🇾🇪",
          "🇲🇼",
          "🇸🇸",
          "🇧🇮"
         ],
         "textfont": {
          "size": 50
         },
         "textposition": "middle center",
         "type": "scatter",
         "x": [
          135321,
          106098,
          103500,
          90434,
          89370,
          86601,
          85787,
          77186,
          71568,
          69273,
          67984,
          65966,
          59841,
          58669,
          57213,
          56129,
          55521,
          54774,
          53834,
          53165,
          53111,
          52423,
          49550,
          48012,
          47072,
          45279,
          44140,
          40287,
          39697,
          37926,
          37767,
          36322,
          36132,
          35789,
          34872,
          34544,
          33234,
          32881,
          32859,
          32290,
          31531,
          31366,
          29573,
          29341,
          28921,
          28713,
          26290,
          24759,
          24342,
          24223,
          24203,
          23881,
          23563,
          23380,
          23053,
          22118,
          21290,
          20631,
          20089,
          19703,
          19369,
          17978,
          17860,
          17287,
          17069,
          16365,
          15666,
          14953,
          14570,
          14034,
          13972,
          13142,
          12969,
          12814,
          12802,
          12713,
          12601,
          12514,
          12285,
          12050,
          11692,
          10558,
          10296,
          9598,
          9392,
          9257,
          8883,
          8659,
          8518,
          8316,
          8221,
          8133,
          8102,
          8008,
          7917,
          7600,
          7527,
          7487,
          7381,
          7368,
          7341,
          7190,
          6850,
          6758,
          6666,
          6482,
          6377,
          6334,
          6295,
          6257,
          5947,
          5869,
          5607,
          5579,
          5505,
          5300,
          5120,
          5048,
          4981,
          4858,
          4790,
          4682,
          4649,
          4487,
          4410,
          4375,
          4267,
          4204,
          4155,
          4154,
          4068,
          4019,
          3920,
          3542,
          3446,
          3425,
          3387,
          3051,
          2961,
          2878,
          2744,
          2720,
          2698,
          2625,
          2544,
          2455,
          2384,
          2376,
          2232,
          2229,
          2218,
          2209,
          2120,
          2114,
          1945,
          1821,
          1805,
          1652,
          1630,
          1588,
          1510,
          1454,
          1381,
          1350,
          1276,
          1226,
          1224,
          1187,
          1179,
          1106,
          1062,
          1051,
          1013,
          989,
          986,
          908,
          898,
          877,
          856,
          855,
          771,
          702,
          698,
          645,
          606,
          563,
          529,
          465,
          464,
          341,
          321
         ],
         "xaxis": "x",
         "y": [
          "Europe",
          "Europe",
          "Europe",
          "Europe",
          "Asia",
          "North America",
          "Europe",
          "Asia",
          "Asia",
          "Europe",
          "Europe",
          "Oceania",
          "Europe",
          "Europe",
          "Europe",
          "Europe",
          "Europe",
          "Europe",
          "North America",
          "Asia",
          "Asia",
          "Europe",
          "Asia",
          "Europe",
          "Oceania",
          "Europe",
          "Europe",
          "Europe",
          "North America",
          "North America",
          "Asia",
          "North America",
          "Asia",
          "Europe",
          "Asia",
          "Europe",
          "Asia",
          "Asia",
          "Asia",
          "Asia",
          "Europe",
          "Europe",
          "Asia",
          "Europe",
          "South America",
          "Europe",
          "Europe",
          "North America",
          "Europe",
          "Europe",
          "North America",
          "Europe",
          "Europe",
          "Europe",
          "South America",
          "North America",
          "Africa",
          "Asia",
          "Europe",
          "North America",
          "North America",
          "Oceania",
          "North America",
          "Asia",
          "Europe",
          "South America",
          "Asia",
          "Europe",
          "Asia",
          "North America",
          "North America",
          "Asia",
          "Asia",
          "South America",
          "Europe",
          "Asia",
          "Africa",
          "Europe",
          "Oceania",
          "North America",
          "North America",
          "North America",
          "South America",
          "Europe",
          "North America",
          "Africa",
          "Europe",
          "Europe",
          "Asia",
          "South America",
          "Europe",
          "North America",
          "Africa",
          "Europe",
          "South America",
          "South America",
          "Asia",
          "North America",
          "Asia",
          "Europe",
          "Africa",
          "Oceania",
          "Oceania",
          "South America",
          "Asia",
          "Africa",
          "Africa",
          "Europe",
          "North America",
          "Oceania",
          "Asia",
          "South America",
          "North America",
          "Africa",
          "Europe",
          "Asia",
          "Oceania",
          "Oceania",
          "Asia",
          "Oceania",
          "Africa",
          "Asia",
          "Asia",
          "Asia",
          "Africa",
          "Africa",
          "Africa",
          "Africa",
          "Africa",
          "Asia",
          "Asia",
          "South America",
          "South America",
          "Africa",
          "North America",
          "Africa",
          "Oceania",
          "Asia",
          "Africa",
          "North America",
          "Asia",
          "Africa",
          "Asia",
          "Asia",
          "Oceania",
          "Oceania",
          "Africa",
          "Africa",
          "Africa",
          "Asia",
          "Africa",
          "Oceania",
          "North America",
          "Africa",
          "Asia",
          "Africa",
          "Africa",
          "Africa",
          "Africa",
          "Asia",
          "Africa",
          "Asia",
          "Asia",
          "Africa",
          "Asia",
          "Africa",
          "Africa",
          "Africa",
          "Asia",
          "Africa",
          "Africa",
          "Africa",
          "Africa",
          "Africa",
          "Africa",
          "Africa",
          "Africa",
          "Africa",
          "Africa",
          "Africa",
          "Africa",
          "Africa",
          "Africa",
          "Africa",
          "Africa",
          "Africa",
          "Africa",
          "Asia",
          "Africa",
          "Africa",
          "Africa"
         ],
         "yaxis": "y"
        }
       ],
       "layout": {
        "height": 1080,
        "legend": {
         "tracegroupgap": 0
        },
        "showlegend": false,
        "template": {
         "data": {
          "scatter": [
           {
            "line": {
             "width": 3
            },
            "type": "scatter"
           }
          ]
         },
         "layout": {
          "colorway": [
           "#470945",
           "#E67E5A",
           "#297FB9",
           "#163748",
           "#4F1787",
           "#EFE04E",
           "#214F70",
           "#DF14AA",
           "#100B1A",
           "#12C4CF",
           "#14193D",
           "#CC5500"
          ],
          "font": {
           "color": "#333333",
           "family": "Open Sans, sans-serif",
           "size": 28
          },
          "height": 800,
          "paper_bgcolor": "#FFF5CC",
          "plot_bgcolor": "#FFF5CC",
          "title": {
           "font": {
            "color": "#333333",
            "family": "Open Sans, sans-serif",
            "size": 34
           },
           "text": "",
           "x": 0.05
          },
          "width": 1294.4,
          "xaxis": {
           "anchor": "y",
           "gridcolor": "#888888",
           "linecolor": "#333333",
           "linewidth": 2,
           "showgrid": true,
           "tickfont": {
            "family": "Open Sans, sans-serif",
            "size": 24
           },
           "title": {
            "font": {
             "family": "Open Sans, sans-serif",
             "size": 26
            }
           }
          },
          "yaxis": {
           "anchor": "x",
           "gridcolor": "#888888",
           "linecolor": "#333333",
           "linewidth": 2,
           "showgrid": true,
           "tickfont": {
            "family": "Open Sans, sans-serif",
            "size": 24
           },
           "title": {
            "font": {
             "family": "Open Sans, sans-serif",
             "size": 26
            }
           }
          }
         }
        },
        "title": {
         "text": "Scatterplot of GDP per Capita Grouped by Continent"
        },
        "width": 1920,
        "xaxis": {
         "anchor": "y",
         "domain": [
          0,
          1
         ],
         "showgrid": false,
         "showticklabels": false,
         "ticks": "",
         "title": {
          "text": "GDP per Capita (USD - log)"
         },
         "type": "log"
        },
        "yaxis": {
         "anchor": "x",
         "categoryarray": [
          "Europe",
          "South America",
          "Oceania",
          "North America",
          "Asia",
          "Africa"
         ],
         "categoryorder": "array",
         "domain": [
          0,
          1
         ],
         "showgrid": false,
         "title": {
          "text": "Continent"
         }
        }
       }
      }
     },
     "metadata": {},
     "output_type": "display_data"
    }
   ],
   "source": [
    "import plotly.express as px\n",
    "\n",
    "# Define the desired order for continents (reversed)\n",
    "continent_order = [\"Europe\", \"South America\", \"Oceania\", \"North America\", \"Asia\", \"Africa\"]\n",
    "\n",
    "# Create the scatterplot with continent as the y-axis\n",
    "fig = px.scatter(\n",
    "    d_gdp_per_capita_merged,\n",
    "    x=\"gdp_per_capita\",\n",
    "    y=\"Continent\",\n",
    "    text=\"Flag\",\n",
    "    title=\"Scatterplot of GDP per Capita Grouped by Continent\",\n",
    "    template=\"base\",\n",
    "    category_orders={\"Continent\": continent_order}  # Specify the order for continents\n",
    ")\n",
    "\n",
    "# Customize marker size and text position for flags\n",
    "fig.update_traces(\n",
    "    textfont=dict(size=50),  # Larger font size for flags\n",
    "    textposition=\"middle center\",\n",
    "    hoverinfo=\"text\"  # Show only text (flag) on hover\n",
    ")\n",
    "\n",
    "# Update layout for better readability and YouTube aspect ratio\n",
    "fig.update_layout(\n",
    "    xaxis_title=\"GDP per Capita (USD - log)\",\n",
    "    yaxis_title=\"Continent\",\n",
    "    xaxis=dict(\n",
    "        type=\"log\",  # Logarithmic scale\n",
    "        showticklabels=False,  # Remove tick marks\n",
    "        ticks=\"\",  # Remove ticks\n",
    "        showgrid=False  # Remove grid lines\n",
    "    ),\n",
    "    yaxis=dict(\n",
    "        categoryorder=\"array\",  # Order categories by the specified list\n",
    "        categoryarray=continent_order,  # Use the specified order\n",
    "        showgrid=False  # Remove grid lines\n",
    "    ),\n",
    "    width=1920,  # Aspect ratio for YouTube\n",
    "    height=1080,\n",
    "    showlegend=False\n",
    ")\n",
    "\n",
    "# Show the plot\n",
    "fig.show()\n"
   ]
  },
  {
   "cell_type": "code",
   "execution_count": 49,
   "metadata": {},
   "outputs": [
    {
     "name": "stdout",
     "output_type": "stream",
     "text": [
      "In 1980-1989, the West had 60.38% of global GDP.\n",
      "Today, the West has 53.32% of global GDP.\n"
     ]
    },
    {
     "name": "stderr",
     "output_type": "stream",
     "text": [
      "/var/folders/r0/4vr5j1517ggd5nvq86w27hhm0000gn/T/ipykernel_4835/2597315150.py:2: SettingWithCopyWarning:\n",
      "\n",
      "\n",
      "A value is trying to be set on a copy of a slice from a DataFrame.\n",
      "Try using .loc[row_indexer,col_indexer] = value instead\n",
      "\n",
      "See the caveats in the documentation: https://pandas.pydata.org/pandas-docs/stable/user_guide/indexing.html#returning-a-view-versus-a-copy\n",
      "\n",
      "/var/folders/r0/4vr5j1517ggd5nvq86w27hhm0000gn/T/ipykernel_4835/2597315150.py:3: SettingWithCopyWarning:\n",
      "\n",
      "\n",
      "A value is trying to be set on a copy of a slice from a DataFrame.\n",
      "Try using .loc[row_indexer,col_indexer] = value instead\n",
      "\n",
      "See the caveats in the documentation: https://pandas.pydata.org/pandas-docs/stable/user_guide/indexing.html#returning-a-view-versus-a-copy\n",
      "\n"
     ]
    }
   ],
   "source": [
    "# Calculate the total GDP for 1980–1989 for \"the West\" and globally\n",
    "data[\"avg_gdp_1980_1989\"] = data[[str(year) for year in range(1980, 1990)]].mean(axis=1)\n",
    "data[\"avg_total_gdp_1980_1989\"] = data[\"avg_gdp_1980_1989\"] * d_gdp_per_capita_merged[\"Population\"]\n",
    "\n",
    "# Calculate the current total GDP based on `gdp_per_capita`\n",
    "data[\"current_total_gdp\"] = data[\"gdp_per_capita\"] * d_gdp_per_capita_merged[\"Population\"]\n",
    "\n",
    "# Calculate shares for 1980–1989\n",
    "total_gdp_1980_1989 = data[\"avg_total_gdp_1980_1989\"].sum()\n",
    "west_gdp_1980_1989 = data[data[\"is_west\"]][\"avg_total_gdp_1980_1989\"].sum()\n",
    "west_share_1980_1989 = (west_gdp_1980_1989 / total_gdp_1980_1989) * 100\n",
    "\n",
    "# Calculate shares for current GDP\n",
    "total_gdp_current = data[\"current_total_gdp\"].sum()\n",
    "west_gdp_current = data[data[\"is_west\"]][\"current_total_gdp\"].sum()\n",
    "west_share_current = (west_gdp_current / total_gdp_current) * 100\n",
    "\n",
    "# Display the results\n",
    "print(f\"In 1980-1989, the West had {west_share_1980_1989:.2f}% of global GDP.\")\n",
    "print(f\"Today, the West has {west_share_current:.2f}% of global GDP.\")\n"
   ]
  },
  {
   "cell_type": "code",
   "execution_count": null,
   "metadata": {},
   "outputs": [],
   "source": []
  }
 ],
 "metadata": {
  "kernelspec": {
   "display_name": "Python 3",
   "language": "python",
   "name": "python3"
  },
  "language_info": {
   "codemirror_mode": {
    "name": "ipython",
    "version": 3
   },
   "file_extension": ".py",
   "mimetype": "text/x-python",
   "name": "python",
   "nbconvert_exporter": "python",
   "pygments_lexer": "ipython3",
   "version": "3.9.6"
  }
 },
 "nbformat": 4,
 "nbformat_minor": 2
}
